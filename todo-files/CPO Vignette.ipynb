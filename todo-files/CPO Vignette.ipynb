{
 "cells": [
  {
   "cell_type": "markdown",
   "metadata": {},
   "source": [
    "# CPO"
   ]
  },
  {
   "cell_type": "code",
   "execution_count": 24,
   "metadata": {},
   "outputs": [
    {
     "name": "stderr",
     "output_type": "stream",
     "text": [
      "Loading mlr\n"
     ]
    }
   ],
   "source": [
    "library(\"mlr\")\n",
    "devtools::load_all(\"..\")"
   ]
  },
  {
   "cell_type": "code",
   "execution_count": 25,
   "metadata": {
    "collapsed": true
   },
   "outputs": [],
   "source": [
    "df = data.frame(a = 1:3, b = -(1:3) * 10)"
   ]
  },
  {
   "cell_type": "markdown",
   "metadata": {},
   "source": [
    "**CPO**s are first-class objects in R that represent data manipulation. They can be combined to form networks of operation, they can be attached to `mlr` `Learner`s, and they have tunable Hyperparameters that influence their behaviour."
   ]
  },
  {
   "cell_type": "markdown",
   "metadata": {},
   "source": [
    "# Lifecycle of a CPO"
   ]
  },
  {
   "cell_type": "markdown",
   "metadata": {},
   "source": [
    "## CPO Constructor"
   ]
  },
  {
   "cell_type": "code",
   "execution_count": 26,
   "metadata": {},
   "outputs": [
    {
     "name": "stdout",
     "output_type": "stream",
     "text": [
      "<<CPO pca()>>\n"
     ]
    }
   ],
   "source": [
    "print(cpoPca)  # example CPOConstructor"
   ]
  },
  {
   "cell_type": "code",
   "execution_count": 27,
   "metadata": {},
   "outputs": [
    {
     "data": {
      "text/html": [
       "<ol class=list-inline>\n",
       "\t<li>'CPOConstructor'</li>\n",
       "\t<li>'function'</li>\n",
       "</ol>\n"
      ],
      "text/latex": [
       "\\begin{enumerate*}\n",
       "\\item 'CPOConstructor'\n",
       "\\item 'function'\n",
       "\\end{enumerate*}\n"
      ],
      "text/markdown": [
       "1. 'CPOConstructor'\n",
       "2. 'function'\n",
       "\n",
       "\n"
      ],
      "text/plain": [
       "[1] \"CPOConstructor\" \"function\"      "
      ]
     },
     "metadata": {},
     "output_type": "display_data"
    }
   ],
   "source": [
    "class(cpoPca)"
   ]
  },
  {
   "cell_type": "markdown",
   "metadata": {},
   "source": [
    "CPO constructors have parameters that\n",
    "* set the CPO Hyperparameters\n",
    "* set the CPO ID (default NULL)\n",
    "* resetrict the data columns a CPO operates on (`affect.*` parameters)"
   ]
  },
  {
   "cell_type": "code",
   "execution_count": 28,
   "metadata": {},
   "outputs": [
    {
     "data": {
      "text/html": [
       "<ol class=list-inline>\n",
       "\t<li>'id'</li>\n",
       "\t<li>'export'</li>\n",
       "\t<li>'affect.type'</li>\n",
       "\t<li>'affect.index'</li>\n",
       "\t<li>'affect.names'</li>\n",
       "\t<li>'affect.pattern'</li>\n",
       "\t<li>'affect.invert'</li>\n",
       "\t<li>'affect.pattern.ignore.case'</li>\n",
       "\t<li>'affect.pattern.perl'</li>\n",
       "\t<li>'affect.pattern.fixed'</li>\n",
       "</ol>\n"
      ],
      "text/latex": [
       "\\begin{enumerate*}\n",
       "\\item 'id'\n",
       "\\item 'export'\n",
       "\\item 'affect.type'\n",
       "\\item 'affect.index'\n",
       "\\item 'affect.names'\n",
       "\\item 'affect.pattern'\n",
       "\\item 'affect.invert'\n",
       "\\item 'affect.pattern.ignore.case'\n",
       "\\item 'affect.pattern.perl'\n",
       "\\item 'affect.pattern.fixed'\n",
       "\\end{enumerate*}\n"
      ],
      "text/markdown": [
       "1. 'id'\n",
       "2. 'export'\n",
       "3. 'affect.type'\n",
       "4. 'affect.index'\n",
       "5. 'affect.names'\n",
       "6. 'affect.pattern'\n",
       "7. 'affect.invert'\n",
       "8. 'affect.pattern.ignore.case'\n",
       "9. 'affect.pattern.perl'\n",
       "10. 'affect.pattern.fixed'\n",
       "\n",
       "\n"
      ],
      "text/plain": [
       " [1] \"id\"                         \"export\"                    \n",
       " [3] \"affect.type\"                \"affect.index\"              \n",
       " [5] \"affect.names\"               \"affect.pattern\"            \n",
       " [7] \"affect.invert\"              \"affect.pattern.ignore.case\"\n",
       " [9] \"affect.pattern.perl\"        \"affect.pattern.fixed\"      "
      ]
     },
     "metadata": {},
     "output_type": "display_data"
    }
   ],
   "source": [
    "names(formals(cpoPca))"
   ]
  },
  {
   "cell_type": "markdown",
   "metadata": {},
   "source": [
    "## CPO"
   ]
  },
  {
   "cell_type": "code",
   "execution_count": 29,
   "metadata": {},
   "outputs": [
    {
     "data": {
      "text/plain": [
       "scale(center = TRUE, scale = TRUE)"
      ]
     },
     "metadata": {},
     "output_type": "display_data"
    }
   ],
   "source": [
    "(cpo = cpoScale()) # construct CPO with default Hyperparameter values"
   ]
  },
  {
   "cell_type": "code",
   "execution_count": 30,
   "metadata": {},
   "outputs": [
    {
     "data": {
      "text/html": [
       "<ol class=list-inline>\n",
       "\t<li>'CPOPrimitive'</li>\n",
       "\t<li>'CPO'</li>\n",
       "</ol>\n"
      ],
      "text/latex": [
       "\\begin{enumerate*}\n",
       "\\item 'CPOPrimitive'\n",
       "\\item 'CPO'\n",
       "\\end{enumerate*}\n"
      ],
      "text/markdown": [
       "1. 'CPOPrimitive'\n",
       "2. 'CPO'\n",
       "\n",
       "\n"
      ],
      "text/plain": [
       "[1] \"CPOPrimitive\" \"CPO\"         "
      ]
     },
     "metadata": {},
     "output_type": "display_data"
    }
   ],
   "source": [
    "class(cpo)  # CPOs that are not compound are \"CPOPrimitive\""
   ]
  },
  {
   "cell_type": "code",
   "execution_count": 31,
   "metadata": {},
   "outputs": [
    {
     "data": {
      "text/plain": [
       "Retrafo chain of 1 elements:\n",
       "scale(center = TRUE, scale = TRUE)\n",
       "\n",
       "                Type len  Def Constr Req Tunable Trafo\n",
       "scale.center logical   - TRUE      -   -    TRUE     -\n",
       "scale.scale  logical   - TRUE      -   -    TRUE     -"
      ]
     },
     "metadata": {},
     "output_type": "display_data"
    }
   ],
   "source": [
    "summary(cpo)  # detailed printing"
   ]
  },
  {
   "cell_type": "code",
   "execution_count": 32,
   "metadata": {},
   "outputs": [
    {
     "data": {
      "text/plain": [
       "                Type len  Def Constr Req Tunable Trafo\n",
       "scale.center logical   - TRUE      -   -    TRUE     -\n",
       "scale.scale  logical   - TRUE      -   -    TRUE     -"
      ]
     },
     "metadata": {},
     "output_type": "display_data"
    }
   ],
   "source": [
    "# Functions that work on CPOs:\n",
    "getParamSet(cpo)"
   ]
  },
  {
   "cell_type": "code",
   "execution_count": 33,
   "metadata": {},
   "outputs": [
    {
     "data": {
      "text/html": [
       "<dl>\n",
       "\t<dt>$scale.center</dt>\n",
       "\t\t<dd>TRUE</dd>\n",
       "\t<dt>$scale.scale</dt>\n",
       "\t\t<dd>TRUE</dd>\n",
       "</dl>\n"
      ],
      "text/latex": [
       "\\begin{description}\n",
       "\\item[\\$scale.center] TRUE\n",
       "\\item[\\$scale.scale] TRUE\n",
       "\\end{description}\n"
      ],
      "text/markdown": [
       "$scale.center\n",
       ":   TRUE\n",
       "$scale.scale\n",
       ":   TRUE\n",
       "\n",
       "\n"
      ],
      "text/plain": [
       "$scale.center\n",
       "[1] TRUE\n",
       "\n",
       "$scale.scale\n",
       "[1] TRUE\n"
      ]
     },
     "metadata": {},
     "output_type": "display_data"
    }
   ],
   "source": [
    "getHyperPars(cpo)"
   ]
  },
  {
   "cell_type": "code",
   "execution_count": 34,
   "metadata": {},
   "outputs": [
    {
     "data": {
      "text/plain": [
       "scale(center = FALSE, scale = TRUE)"
      ]
     },
     "metadata": {},
     "output_type": "display_data"
    }
   ],
   "source": [
    "setHyperPars(cpo, scale.center = FALSE)"
   ]
  },
  {
   "cell_type": "code",
   "execution_count": 35,
   "metadata": {},
   "outputs": [
    {
     "data": {
      "text/html": [
       "'scale'"
      ],
      "text/latex": [
       "'scale'"
      ],
      "text/markdown": [
       "'scale'"
      ],
      "text/plain": [
       "[1] \"scale\""
      ]
     },
     "metadata": {},
     "output_type": "display_data"
    }
   ],
   "source": [
    "getCPOId(cpo)"
   ]
  },
  {
   "cell_type": "code",
   "execution_count": 36,
   "metadata": {},
   "outputs": [
    {
     "data": {
      "text/plain": [
       "MYID<scale>(center = TRUE, scale = TRUE)"
      ]
     },
     "metadata": {},
     "output_type": "display_data"
    }
   ],
   "source": [
    "setCPOId(cpo, \"MYID\")"
   ]
  },
  {
   "cell_type": "code",
   "execution_count": 37,
   "metadata": {},
   "outputs": [
    {
     "data": {
      "text/html": [
       "'scale'"
      ],
      "text/latex": [
       "'scale'"
      ],
      "text/markdown": [
       "'scale'"
      ],
      "text/plain": [
       "[1] \"scale\""
      ]
     },
     "metadata": {},
     "output_type": "display_data"
    },
    {
     "data": {
      "text/html": [
       "'MYID&lt;scale&gt;'"
      ],
      "text/latex": [
       "'MYID<scale>'"
      ],
      "text/markdown": [
       "'MYID&lt;scale&gt;'"
      ],
      "text/plain": [
       "[1] \"MYID<scale>\""
      ]
     },
     "metadata": {},
     "output_type": "display_data"
    }
   ],
   "source": [
    "getCPOName(cpo)\n",
    "getCPOName(setCPOId(cpo, \"MYID\"))  # the name includes the ID"
   ]
  },
  {
   "cell_type": "code",
   "execution_count": 38,
   "metadata": {},
   "outputs": [
    {
     "data": {
      "text/html": [
       "<dl>\n",
       "</dl>\n"
      ],
      "text/latex": [
       "\\begin{description}\n",
       "\\end{description}\n"
      ],
      "text/markdown": [
       "\n",
       "\n"
      ],
      "text/plain": [
       "named list()"
      ]
     },
     "metadata": {},
     "output_type": "display_data"
    },
    {
     "data": {
      "text/html": [
       "<strong>$pattern</strong> = 'Width$'"
      ],
      "text/latex": [
       "\\textbf{\\$pattern} = 'Width\\$'"
      ],
      "text/markdown": [
       "**$pattern** = 'Width$'"
      ],
      "text/plain": [
       "$pattern\n",
       "[1] \"Width$\"\n"
      ]
     },
     "metadata": {},
     "output_type": "display_data"
    }
   ],
   "source": [
    "getCPOAffect(cpo)  # empty, since no affect set\n",
    "getCPOAffect(cpoPca(affect.pattern = \"Width$\"))"
   ]
  },
  {
   "cell_type": "code",
   "execution_count": 39,
   "metadata": {},
   "outputs": [
    {
     "data": {
      "text/html": [
       "<dl>\n",
       "\t<dt>$properties</dt>\n",
       "\t\t<dd><ol class=list-inline>\n",
       "\t<li>'numerics'</li>\n",
       "\t<li>'factors'</li>\n",
       "\t<li>'ordered'</li>\n",
       "\t<li>'missings'</li>\n",
       "\t<li>'prob'</li>\n",
       "\t<li>'se'</li>\n",
       "\t<li>'cluster'</li>\n",
       "\t<li>'classif'</li>\n",
       "\t<li>'multilabel'</li>\n",
       "\t<li>'regr'</li>\n",
       "\t<li>'surv'</li>\n",
       "\t<li>'oneclass'</li>\n",
       "\t<li>'twoclass'</li>\n",
       "\t<li>'multiclass'</li>\n",
       "\t<li>'lcens'</li>\n",
       "\t<li>'rcens'</li>\n",
       "\t<li>'icens'</li>\n",
       "</ol>\n",
       "</dd>\n",
       "\t<dt>$properties.data</dt>\n",
       "\t\t<dd><ol class=list-inline>\n",
       "\t<li>'numerics'</li>\n",
       "\t<li>'factors'</li>\n",
       "\t<li>'ordered'</li>\n",
       "\t<li>'missings'</li>\n",
       "\t<li>'prob'</li>\n",
       "\t<li>'se'</li>\n",
       "\t<li>'cluster'</li>\n",
       "\t<li>'classif'</li>\n",
       "\t<li>'multilabel'</li>\n",
       "\t<li>'regr'</li>\n",
       "\t<li>'surv'</li>\n",
       "\t<li>'oneclass'</li>\n",
       "\t<li>'twoclass'</li>\n",
       "\t<li>'multiclass'</li>\n",
       "\t<li>'lcens'</li>\n",
       "\t<li>'rcens'</li>\n",
       "\t<li>'icens'</li>\n",
       "</ol>\n",
       "</dd>\n",
       "\t<dt>$properties.adding</dt>\n",
       "\t\t<dd></dd>\n",
       "\t<dt>$properties.needed</dt>\n",
       "\t\t<dd></dd>\n",
       "</dl>\n"
      ],
      "text/latex": [
       "\\begin{description}\n",
       "\\item[\\$properties] \\begin{enumerate*}\n",
       "\\item 'numerics'\n",
       "\\item 'factors'\n",
       "\\item 'ordered'\n",
       "\\item 'missings'\n",
       "\\item 'prob'\n",
       "\\item 'se'\n",
       "\\item 'cluster'\n",
       "\\item 'classif'\n",
       "\\item 'multilabel'\n",
       "\\item 'regr'\n",
       "\\item 'surv'\n",
       "\\item 'oneclass'\n",
       "\\item 'twoclass'\n",
       "\\item 'multiclass'\n",
       "\\item 'lcens'\n",
       "\\item 'rcens'\n",
       "\\item 'icens'\n",
       "\\end{enumerate*}\n",
       "\n",
       "\\item[\\$properties.data] \\begin{enumerate*}\n",
       "\\item 'numerics'\n",
       "\\item 'factors'\n",
       "\\item 'ordered'\n",
       "\\item 'missings'\n",
       "\\item 'prob'\n",
       "\\item 'se'\n",
       "\\item 'cluster'\n",
       "\\item 'classif'\n",
       "\\item 'multilabel'\n",
       "\\item 'regr'\n",
       "\\item 'surv'\n",
       "\\item 'oneclass'\n",
       "\\item 'twoclass'\n",
       "\\item 'multiclass'\n",
       "\\item 'lcens'\n",
       "\\item 'rcens'\n",
       "\\item 'icens'\n",
       "\\end{enumerate*}\n",
       "\n",
       "\\item[\\$properties.adding] \n",
       "\\item[\\$properties.needed] \n",
       "\\end{description}\n"
      ],
      "text/markdown": [
       "$properties\n",
       ":   1. 'numerics'\n",
       "2. 'factors'\n",
       "3. 'ordered'\n",
       "4. 'missings'\n",
       "5. 'prob'\n",
       "6. 'se'\n",
       "7. 'cluster'\n",
       "8. 'classif'\n",
       "9. 'multilabel'\n",
       "10. 'regr'\n",
       "11. 'surv'\n",
       "12. 'oneclass'\n",
       "13. 'twoclass'\n",
       "14. 'multiclass'\n",
       "15. 'lcens'\n",
       "16. 'rcens'\n",
       "17. 'icens'\n",
       "\n",
       "\n",
       "\n",
       "$properties.data\n",
       ":   1. 'numerics'\n",
       "2. 'factors'\n",
       "3. 'ordered'\n",
       "4. 'missings'\n",
       "5. 'prob'\n",
       "6. 'se'\n",
       "7. 'cluster'\n",
       "8. 'classif'\n",
       "9. 'multilabel'\n",
       "10. 'regr'\n",
       "11. 'surv'\n",
       "12. 'oneclass'\n",
       "13. 'twoclass'\n",
       "14. 'multiclass'\n",
       "15. 'lcens'\n",
       "16. 'rcens'\n",
       "17. 'icens'\n",
       "\n",
       "\n",
       "\n",
       "$properties.adding\n",
       ":   \n",
       "$properties.needed\n",
       ":   \n",
       "\n",
       "\n"
      ],
      "text/plain": [
       "$properties\n",
       " [1] \"numerics\"   \"factors\"    \"ordered\"    \"missings\"   \"prob\"      \n",
       " [6] \"se\"         \"cluster\"    \"classif\"    \"multilabel\" \"regr\"      \n",
       "[11] \"surv\"       \"oneclass\"   \"twoclass\"   \"multiclass\" \"lcens\"     \n",
       "[16] \"rcens\"      \"icens\"     \n",
       "\n",
       "$properties.data\n",
       " [1] \"numerics\"   \"factors\"    \"ordered\"    \"missings\"   \"prob\"      \n",
       " [6] \"se\"         \"cluster\"    \"classif\"    \"multilabel\" \"regr\"      \n",
       "[11] \"surv\"       \"oneclass\"   \"twoclass\"   \"multiclass\" \"lcens\"     \n",
       "[16] \"rcens\"      \"icens\"     \n",
       "\n",
       "$properties.adding\n",
       "character(0)\n",
       "\n",
       "$properties.needed\n",
       "character(0)\n"
      ]
     },
     "metadata": {},
     "output_type": "display_data"
    }
   ],
   "source": [
    "getCPOProperties(cpo)  # see properties explanation below"
   ]
  },
  {
   "cell_type": "code",
   "execution_count": 40,
   "metadata": {},
   "outputs": [
    {
     "data": {
      "text/html": [
       "'trafo'"
      ],
      "text/latex": [
       "'trafo'"
      ],
      "text/markdown": [
       "'trafo'"
      ],
      "text/plain": [
       "[1] \"trafo\""
      ]
     },
     "metadata": {},
     "output_type": "display_data"
    },
    {
     "data": {
      "text/html": [
       "'databound'"
      ],
      "text/latex": [
       "'databound'"
      ],
      "text/markdown": [
       "'databound'"
      ],
      "text/plain": [
       "[1] \"databound\""
      ]
     },
     "metadata": {},
     "output_type": "display_data"
    }
   ],
   "source": [
    "# these are internals\n",
    "getCPOKind(cpo)  # trafo, retrafo, inverter\n",
    "getCPOBound(cpo)  # databound, targetbound, both"
   ]
  },
  {
   "cell_type": "markdown",
   "metadata": {},
   "source": [
    "### Exporting Parameters\n",
    "Sometimes when using many CPOs, their hyperparameters may get messy. CPO enables the user to control which hyperparameter get exported. The parameter \"export\" can be one of \"export.default\", \"export.set\", \"export.unset\", \"export.default.set\", \"export.default.unset\", \"export.all\", \"export.none\". \"all\" and \"none\" do what one expects; \"default\" exports the \"recommended\" parameters; \"set\" and \"unset\" export the values that have not been set, or only the values that were set (and are not left as default). \"default.set\" and \"default.unset\" work as \"set\" and \"unset\", but restricted to the default exported parameters."
   ]
  },
  {
   "cell_type": "code",
   "execution_count": 162,
   "metadata": {},
   "outputs": [
    {
     "data": {
      "text/plain": [
       "scale(center = TRUE, scale = TRUE)"
      ]
     },
     "metadata": {},
     "output_type": "display_data"
    },
    {
     "data": {
      "text/plain": [
       "                Type len  Def Constr Req Tunable Trafo\n",
       "scale.center logical   - TRUE      -   -    TRUE     -\n",
       "scale.scale  logical   - TRUE      -   -    TRUE     -"
      ]
     },
     "metadata": {},
     "output_type": "display_data"
    },
    {
     "name": "stdout",
     "output_type": "stream",
     "text": [
      "---\n"
     ]
    },
    {
     "data": {
      "text/plain": [
       "scale()[not exp'd: center = TRUE, scale = TRUE]"
      ]
     },
     "metadata": {},
     "output_type": "display_data"
    },
    {
     "data": {
      "text/plain": [
       "[1] \"Empty parameter set.\""
      ]
     },
     "metadata": {},
     "output_type": "display_data"
    },
    {
     "name": "stdout",
     "output_type": "stream",
     "text": [
      "---\n"
     ]
    },
    {
     "data": {
      "text/plain": [
       "scale(center = TRUE)[not exp'd: scale = FALSE]"
      ]
     },
     "metadata": {},
     "output_type": "display_data"
    },
    {
     "data": {
      "text/plain": [
       "                Type len  Def Constr Req Tunable Trafo\n",
       "scale.center logical   - TRUE      -   -    TRUE     -"
      ]
     },
     "metadata": {},
     "output_type": "display_data"
    }
   ],
   "source": [
    "(sc = cpoScale())\n",
    "getParamSet(sc)\n",
    "cat(\"---\\n\")\n",
    "(sc = cpoScale(export = \"export.none\"))\n",
    "getParamSet(sc)\n",
    "cat(\"---\\n\")\n",
    "(sc = cpoScale(scale = FALSE, export = \"export.unset\"))\n",
    "getParamSet(sc)"
   ]
  },
  {
   "cell_type": "markdown",
   "metadata": {},
   "source": [
    "### CPO Application using `%>>%` or `applyCPO`\n",
    "`CPO`s can be applied to `data.frame` and `Task` objects."
   ]
  },
  {
   "cell_type": "code",
   "execution_count": 41,
   "metadata": {
    "scrolled": true
   },
   "outputs": [
    {
     "data": {
      "text/html": [
       "<table>\n",
       "<thead><tr><th scope=col>Species</th><th scope=col>PC1</th><th scope=col>PC2</th><th scope=col>PC3</th><th scope=col>PC4</th></tr></thead>\n",
       "<tbody>\n",
       "\t<tr><td>setosa       </td><td>-6.344251    </td><td> 3.699099e-05</td><td>-0.10237713  </td><td>-0.001527648 </td></tr>\n",
       "\t<tr><td>setosa       </td><td>-5.909522    </td><td>-2.939100e-01</td><td> 0.01398430  </td><td> 0.031126691 </td></tr>\n",
       "\t<tr><td>setosa       </td><td>-5.835572    </td><td>-1.780612e-02</td><td>-0.07507399  </td><td> 0.011978402 </td></tr>\n",
       "\t<tr><td>setosa       </td><td>-5.747518    </td><td>-5.192580e-02</td><td> 0.13484436  </td><td>-0.071787045 </td></tr>\n",
       "\t<tr><td>setosa       </td><td>-6.319018    </td><td> 1.359890e-01</td><td>-0.10270328  </td><td>-0.031196772 </td></tr>\n",
       "\t<tr><td>setosa       </td><td>-6.882318    </td><td> 1.859359e-01</td><td> 0.12770825  </td><td> 0.053118356 </td></tr>\n",
       "</tbody>\n",
       "</table>\n"
      ],
      "text/latex": [
       "\\begin{tabular}{r|lllll}\n",
       " Species & PC1 & PC2 & PC3 & PC4\\\\\n",
       "\\hline\n",
       "\t setosa        & -6.344251     &  3.699099e-05 & -0.10237713   & -0.001527648 \\\\\n",
       "\t setosa        & -5.909522     & -2.939100e-01 &  0.01398430   &  0.031126691 \\\\\n",
       "\t setosa        & -5.835572     & -1.780612e-02 & -0.07507399   &  0.011978402 \\\\\n",
       "\t setosa        & -5.747518     & -5.192580e-02 &  0.13484436   & -0.071787045 \\\\\n",
       "\t setosa        & -6.319018     &  1.359890e-01 & -0.10270328   & -0.031196772 \\\\\n",
       "\t setosa        & -6.882318     &  1.859359e-01 &  0.12770825   &  0.053118356 \\\\\n",
       "\\end{tabular}\n"
      ],
      "text/markdown": [
       "\n",
       "Species | PC1 | PC2 | PC3 | PC4 | \n",
       "|---|---|---|---|---|---|\n",
       "| setosa        | -6.344251     |  3.699099e-05 | -0.10237713   | -0.001527648  | \n",
       "| setosa        | -5.909522     | -2.939100e-01 |  0.01398430   |  0.031126691  | \n",
       "| setosa        | -5.835572     | -1.780612e-02 | -0.07507399   |  0.011978402  | \n",
       "| setosa        | -5.747518     | -5.192580e-02 |  0.13484436   | -0.071787045  | \n",
       "| setosa        | -6.319018     |  1.359890e-01 | -0.10270328   | -0.031196772  | \n",
       "| setosa        | -6.882318     |  1.859359e-01 |  0.12770825   |  0.053118356  | \n",
       "\n",
       "\n"
      ],
      "text/plain": [
       "  Species PC1       PC2           PC3         PC4         \n",
       "1 setosa  -6.344251  3.699099e-05 -0.10237713 -0.001527648\n",
       "2 setosa  -5.909522 -2.939100e-01  0.01398430  0.031126691\n",
       "3 setosa  -5.835572 -1.780612e-02 -0.07507399  0.011978402\n",
       "4 setosa  -5.747518 -5.192580e-02  0.13484436 -0.071787045\n",
       "5 setosa  -6.319018  1.359890e-01 -0.10270328 -0.031196772\n",
       "6 setosa  -6.882318  1.859359e-01  0.12770825  0.053118356"
      ]
     },
     "metadata": {},
     "output_type": "display_data"
    }
   ],
   "source": [
    "head(iris) %>>% cpoPca()\n",
    "# head(getTaskData(applyCPO(cpoPca(), iris.task)))"
   ]
  },
  {
   "cell_type": "markdown",
   "metadata": {},
   "source": [
    "### CPO Composition using `%>>%` or `composeCPO`\n",
    "`CPO` composition results in a new CPO which mostly behaves like a primitive CPO. Exceptions are:\n",
    "* Compound CPOs have no `id`\n",
    "* Affect of compound CPOs cannot be retrieved"
   ]
  },
  {
   "cell_type": "code",
   "execution_count": 42,
   "metadata": {},
   "outputs": [
    {
     "data": {
      "text/plain": [
       "(scale1<scale> >> scale2<scale>)(scale1.center = TRUE, scale1.scale = TRUE, scale2.center = TRUE, scale2.scale = TRUE)"
      ]
     },
     "metadata": {},
     "output_type": "display_data"
    }
   ],
   "source": [
    "scale1 = cpoScale()\n",
    "scale2 = cpoScale()\n",
    "# scale1 %>>% scale2  # error! parameters 'center' and 'scale' occur in both\n",
    "compound = setCPOId(scale1, \"scale1\") %>>% setCPOId(scale2, \"scale2\")\n",
    "composeCPO(setCPOId(scale1, \"scale1\"), setCPOId(scale2, \"scale2\"))  # same"
   ]
  },
  {
   "cell_type": "code",
   "execution_count": 43,
   "metadata": {},
   "outputs": [
    {
     "data": {
      "text/html": [
       "<ol class=list-inline>\n",
       "\t<li>'CPOTree'</li>\n",
       "\t<li>'CPO'</li>\n",
       "</ol>\n"
      ],
      "text/latex": [
       "\\begin{enumerate*}\n",
       "\\item 'CPOTree'\n",
       "\\item 'CPO'\n",
       "\\end{enumerate*}\n"
      ],
      "text/markdown": [
       "1. 'CPOTree'\n",
       "2. 'CPO'\n",
       "\n",
       "\n"
      ],
      "text/plain": [
       "[1] \"CPOTree\" \"CPO\"    "
      ]
     },
     "metadata": {},
     "output_type": "display_data"
    }
   ],
   "source": [
    "class(compound)"
   ]
  },
  {
   "cell_type": "code",
   "execution_count": 44,
   "metadata": {},
   "outputs": [
    {
     "data": {
      "text/plain": [
       "Retrafo chain of 2 elements:\n",
       "scale1<scale>(center = TRUE, scale = TRUE)\n",
       "\n",
       "                 Type len  Def Constr Req Tunable Trafo\n",
       "scale1.center logical   - TRUE      -   -    TRUE     -\n",
       "scale1.scale  logical   - TRUE      -   -    TRUE     -\n",
       "  ====>\n",
       "scale2<scale>(center = TRUE, scale = TRUE)\n",
       "\n",
       "                 Type len  Def Constr Req Tunable Trafo\n",
       "scale2.center logical   - TRUE      -   -    TRUE     -\n",
       "scale2.scale  logical   - TRUE      -   -    TRUE     -"
      ]
     },
     "metadata": {},
     "output_type": "display_data"
    }
   ],
   "source": [
    "summary(compound)"
   ]
  },
  {
   "cell_type": "code",
   "execution_count": 45,
   "metadata": {},
   "outputs": [
    {
     "data": {
      "text/html": [
       "'scale1&lt;scale&gt; &gt;&gt; scale2&lt;scale&gt;'"
      ],
      "text/latex": [
       "'scale1<scale> >> scale2<scale>'"
      ],
      "text/markdown": [
       "'scale1&lt;scale&gt; &gt;&gt; scale2&lt;scale&gt;'"
      ],
      "text/plain": [
       "[1] \"scale1<scale> >> scale2<scale>\""
      ]
     },
     "metadata": {},
     "output_type": "display_data"
    }
   ],
   "source": [
    "getCPOName(compound)"
   ]
  },
  {
   "cell_type": "code",
   "execution_count": 46,
   "metadata": {},
   "outputs": [
    {
     "ename": "ERROR",
     "evalue": "Error in getCPOId.CPO(compound): Compound CPOs have no IDs.\n",
     "output_type": "error",
     "traceback": [
      "Error in getCPOId.CPO(compound): Compound CPOs have no IDs.\nTraceback:\n",
      "1. getCPOId(compound)",
      "2. getCPOId.CPO(compound)   # at line 432 of file /home/mb706/lmu/master/mlr/R/CPOAuxiliary.R",
      "3. stop(\"Compound CPOs have no IDs.\")   # at line 437 of file /home/mb706/lmu/master/mlr/R/CPOAuxiliary.R"
     ]
    }
   ],
   "source": [
    "getCPOId(compound)  # error: no ID for compound CPOs\n",
    "getCPOAffect(compound)  # error: no affect for compound CPOs"
   ]
  },
  {
   "cell_type": "code",
   "execution_count": 47,
   "metadata": {},
   "outputs": [
    {
     "data": {
      "text/plain": [
       "                 Type len  Def Constr Req Tunable Trafo\n",
       "scale1.center logical   - TRUE      -   -    TRUE     -\n",
       "scale1.scale  logical   - TRUE      -   -    TRUE     -\n",
       "scale2.center logical   - TRUE      -   -    TRUE     -\n",
       "scale2.scale  logical   - TRUE      -   -    TRUE     -"
      ]
     },
     "metadata": {},
     "output_type": "display_data"
    }
   ],
   "source": [
    "getParamSet(compound)"
   ]
  },
  {
   "cell_type": "code",
   "execution_count": 48,
   "metadata": {},
   "outputs": [
    {
     "data": {
      "text/html": [
       "<dl>\n",
       "\t<dt>$scale1.center</dt>\n",
       "\t\t<dd>TRUE</dd>\n",
       "\t<dt>$scale1.scale</dt>\n",
       "\t\t<dd>TRUE</dd>\n",
       "\t<dt>$scale2.center</dt>\n",
       "\t\t<dd>TRUE</dd>\n",
       "\t<dt>$scale2.scale</dt>\n",
       "\t\t<dd>TRUE</dd>\n",
       "</dl>\n"
      ],
      "text/latex": [
       "\\begin{description}\n",
       "\\item[\\$scale1.center] TRUE\n",
       "\\item[\\$scale1.scale] TRUE\n",
       "\\item[\\$scale2.center] TRUE\n",
       "\\item[\\$scale2.scale] TRUE\n",
       "\\end{description}\n"
      ],
      "text/markdown": [
       "$scale1.center\n",
       ":   TRUE\n",
       "$scale1.scale\n",
       ":   TRUE\n",
       "$scale2.center\n",
       ":   TRUE\n",
       "$scale2.scale\n",
       ":   TRUE\n",
       "\n",
       "\n"
      ],
      "text/plain": [
       "$scale1.center\n",
       "[1] TRUE\n",
       "\n",
       "$scale1.scale\n",
       "[1] TRUE\n",
       "\n",
       "$scale2.center\n",
       "[1] TRUE\n",
       "\n",
       "$scale2.scale\n",
       "[1] TRUE\n"
      ]
     },
     "metadata": {},
     "output_type": "display_data"
    }
   ],
   "source": [
    "getHyperPars(compound)"
   ]
  },
  {
   "cell_type": "code",
   "execution_count": 49,
   "metadata": {},
   "outputs": [
    {
     "data": {
      "text/plain": [
       "(scale1<scale> >> scale2<scale>)(scale1.center = TRUE, scale1.scale = TRUE, scale2.center = FALSE, scale2.scale = TRUE)"
      ]
     },
     "metadata": {},
     "output_type": "display_data"
    }
   ],
   "source": [
    "setHyperPars(compound, scale1.center = TRUE, scale2.center = FALSE)"
   ]
  },
  {
   "cell_type": "markdown",
   "metadata": {},
   "source": [
    "### Compound CPO decomposition, CPO chaining"
   ]
  },
  {
   "cell_type": "code",
   "execution_count": 50,
   "metadata": {},
   "outputs": [
    {
     "data": {
      "text/plain": [
       "[[1]]\n",
       "scale1<scale>(center = TRUE, scale = TRUE)\n",
       "\n",
       "[[2]]\n",
       "scale2<scale>(center = TRUE, scale = TRUE)\n"
      ]
     },
     "metadata": {},
     "output_type": "display_data"
    }
   ],
   "source": [
    "as.list(compound)"
   ]
  },
  {
   "cell_type": "code",
   "execution_count": 51,
   "metadata": {},
   "outputs": [
    {
     "data": {
      "text/plain": [
       "(scale1<scale> >> scale2<scale>)(scale1.center = TRUE, scale1.scale = TRUE, scale2.center = TRUE, scale2.scale = TRUE)"
      ]
     },
     "metadata": {},
     "output_type": "display_data"
    }
   ],
   "source": [
    "chainCPO(as.list(compound))  # chainCPO: list CPO -> CPO"
   ]
  },
  {
   "cell_type": "markdown",
   "metadata": {},
   "source": [
    "### CPO - Learner attachment using `%>>%` or `attachCPO`"
   ]
  },
  {
   "cell_type": "code",
   "execution_count": 52,
   "metadata": {},
   "outputs": [],
   "source": [
    "lrn = makeLearner(\"classif.logreg\")"
   ]
  },
  {
   "cell_type": "code",
   "execution_count": 53,
   "metadata": {},
   "outputs": [
    {
     "data": {
      "text/plain": [
       "Learner classif.logreg.scale from package stats\n",
       "Type: classif\n",
       "Name: ; Short name: \n",
       "Class: CPOLearner\n",
       "Properties: numerics,factors,prob,twoclass\n",
       "Predict-Type: response\n",
       "Hyperparameters: model=FALSE,scale.center=TRUE,scale.scale=TRUE\n"
      ]
     },
     "metadata": {},
     "output_type": "display_data"
    }
   ],
   "source": [
    "(cpolrn = cpo %>>% lrn)  # the new learner has the CPO hyperparameters"
   ]
  },
  {
   "cell_type": "code",
   "execution_count": 54,
   "metadata": {},
   "outputs": [
    {
     "data": {
      "text/plain": [
       "Learner classif.logreg.scale.scale from package stats\n",
       "Type: classif\n",
       "Name: ; Short name: \n",
       "Class: CPOLearner\n",
       "Properties: numerics,factors,prob,twoclass\n",
       "Predict-Type: response\n",
       "Hyperparameters: model=FALSE,scale1.center=TRUE,scale1.scale=TRUE,scale2.center=TRUE,scale2.scale=TRUE\n"
      ]
     },
     "metadata": {},
     "output_type": "display_data"
    }
   ],
   "source": [
    "attachCPO(compound, lrn)  # attaching compound CPO"
   ]
  },
  {
   "cell_type": "code",
   "execution_count": 55,
   "metadata": {},
   "outputs": [
    {
     "data": {
      "text/plain": [
       "scale(center = TRUE, scale = TRUE)"
      ]
     },
     "metadata": {},
     "output_type": "display_data"
    },
    {
     "data": {
      "text/plain": [
       "Learner classif.logreg from package stats\n",
       "Type: classif\n",
       "Name: Logistic Regression; Short name: logreg\n",
       "Class: classif.logreg\n",
       "Properties: twoclass,numerics,factors,prob,weights\n",
       "Predict-Type: response\n",
       "Hyperparameters: model=FALSE\n"
      ]
     },
     "metadata": {},
     "output_type": "display_data"
    }
   ],
   "source": [
    "# CPO learner decomposition\n",
    "getLearnerCPO(cpolrn)  # the CPO\n",
    "getLearnerBare(cpolrn)  # the Learner"
   ]
  },
  {
   "cell_type": "markdown",
   "metadata": {},
   "source": [
    "## Retrafo\n",
    "CPOs perform data-dependent operation. However, when this operation becomes part of a machine-learning process, the operation on predict-data must depend only on the training data.\n",
    "\n",
    "The `Retrafo` object represents the re-application of a trained CPO"
   ]
  },
  {
   "cell_type": "code",
   "execution_count": 56,
   "metadata": {},
   "outputs": [
    {
     "data": {
      "text/html": [
       "<table>\n",
       "<thead><tr><th scope=col>Sepal.Length</th><th scope=col>Sepal.Width</th><th scope=col>Petal.Length</th><th scope=col>Petal.Width</th><th scope=col>Species</th></tr></thead>\n",
       "<tbody>\n",
       "\t<tr><td>-0.8976739 </td><td> 1.01560199</td><td>-1.335752  </td><td>-1.311052  </td><td>setosa     </td></tr>\n",
       "\t<tr><td>-1.1392005 </td><td>-0.13153881</td><td>-1.335752  </td><td>-1.311052  </td><td>setosa     </td></tr>\n",
       "\t<tr><td>-1.3807271 </td><td> 0.32731751</td><td>-1.392399  </td><td>-1.311052  </td><td>setosa     </td></tr>\n",
       "\t<tr><td>-1.5014904 </td><td> 0.09788935</td><td>-1.279104  </td><td>-1.311052  </td><td>setosa     </td></tr>\n",
       "\t<tr><td>-1.0184372 </td><td> 1.24503015</td><td>-1.335752  </td><td>-1.311052  </td><td>setosa     </td></tr>\n",
       "\t<tr><td>-0.5353840 </td><td> 1.93331463</td><td>-1.165809  </td><td>-1.048667  </td><td>setosa     </td></tr>\n",
       "</tbody>\n",
       "</table>\n"
      ],
      "text/latex": [
       "\\begin{tabular}{r|lllll}\n",
       " Sepal.Length & Sepal.Width & Petal.Length & Petal.Width & Species\\\\\n",
       "\\hline\n",
       "\t -0.8976739  &  1.01560199 & -1.335752   & -1.311052   & setosa     \\\\\n",
       "\t -1.1392005  & -0.13153881 & -1.335752   & -1.311052   & setosa     \\\\\n",
       "\t -1.3807271  &  0.32731751 & -1.392399   & -1.311052   & setosa     \\\\\n",
       "\t -1.5014904  &  0.09788935 & -1.279104   & -1.311052   & setosa     \\\\\n",
       "\t -1.0184372  &  1.24503015 & -1.335752   & -1.311052   & setosa     \\\\\n",
       "\t -0.5353840  &  1.93331463 & -1.165809   & -1.048667   & setosa     \\\\\n",
       "\\end{tabular}\n"
      ],
      "text/markdown": [
       "\n",
       "Sepal.Length | Sepal.Width | Petal.Length | Petal.Width | Species | \n",
       "|---|---|---|---|---|---|\n",
       "| -0.8976739  |  1.01560199 | -1.335752   | -1.311052   | setosa      | \n",
       "| -1.1392005  | -0.13153881 | -1.335752   | -1.311052   | setosa      | \n",
       "| -1.3807271  |  0.32731751 | -1.392399   | -1.311052   | setosa      | \n",
       "| -1.5014904  |  0.09788935 | -1.279104   | -1.311052   | setosa      | \n",
       "| -1.0184372  |  1.24503015 | -1.335752   | -1.311052   | setosa      | \n",
       "| -0.5353840  |  1.93331463 | -1.165809   | -1.048667   | setosa      | \n",
       "\n",
       "\n"
      ],
      "text/plain": [
       "  Sepal.Length Sepal.Width Petal.Length Petal.Width Species\n",
       "1 -0.8976739    1.01560199 -1.335752    -1.311052   setosa \n",
       "2 -1.1392005   -0.13153881 -1.335752    -1.311052   setosa \n",
       "3 -1.3807271    0.32731751 -1.392399    -1.311052   setosa \n",
       "4 -1.5014904    0.09788935 -1.279104    -1.311052   setosa \n",
       "5 -1.0184372    1.24503015 -1.335752    -1.311052   setosa \n",
       "6 -0.5353840    1.93331463 -1.165809    -1.048667   setosa "
      ]
     },
     "metadata": {},
     "output_type": "display_data"
    }
   ],
   "source": [
    "transformed = iris %>>% cpo\n",
    "head(transformed)"
   ]
  },
  {
   "cell_type": "code",
   "execution_count": 57,
   "metadata": {},
   "outputs": [
    {
     "data": {
      "text/plain": [
       "CPO Retrafo chain\n",
       "[RETRAFO scale(scale.center = TRUE, scale.scale = TRUE)]"
      ]
     },
     "metadata": {},
     "output_type": "display_data"
    }
   ],
   "source": [
    "retrafo(transformed)"
   ]
  },
  {
   "cell_type": "code",
   "execution_count": 58,
   "metadata": {},
   "outputs": [
    {
     "data": {
      "text/plain": [
       "$names\n",
       "[1] \"Sepal.Length\" \"Sepal.Width\"  \"Petal.Length\" \"Petal.Width\"  \"Species\"     \n",
       "\n",
       "$row.names\n",
       "  [1]   1   2   3   4   5   6   7   8   9  10  11  12  13  14  15  16  17  18\n",
       " [19]  19  20  21  22  23  24  25  26  27  28  29  30  31  32  33  34  35  36\n",
       " [37]  37  38  39  40  41  42  43  44  45  46  47  48  49  50  51  52  53  54\n",
       " [55]  55  56  57  58  59  60  61  62  63  64  65  66  67  68  69  70  71  72\n",
       " [73]  73  74  75  76  77  78  79  80  81  82  83  84  85  86  87  88  89  90\n",
       " [91]  91  92  93  94  95  96  97  98  99 100 101 102 103 104 105 106 107 108\n",
       "[109] 109 110 111 112 113 114 115 116 117 118 119 120 121 122 123 124 125 126\n",
       "[127] 127 128 129 130 131 132 133 134 135 136 137 138 139 140 141 142 143 144\n",
       "[145] 145 146 147 148 149 150\n",
       "\n",
       "$class\n",
       "[1] \"data.frame\"\n",
       "\n",
       "$retrafo\n",
       "CPO Retrafo chain\n",
       "[RETRAFO scale(scale.center = TRUE, scale.scale = TRUE)]\n"
      ]
     },
     "metadata": {},
     "output_type": "display_data"
    }
   ],
   "source": [
    "# retrafos are stored as attributes\n",
    "attributes(transformed)"
   ]
  },
  {
   "cell_type": "markdown",
   "metadata": {},
   "source": [
    "### Retrafo Inspection\n",
    "`Retrafo` objects can be inspected using `getRetrafoState`. The state contains the hyperparameters, the `control` object (CPO dependent data representing the data information needed to re-apply the operation), and information about the `Task` / `data.frame` layout used for training (column names, column types) in `data$shapeinfo.input` and `data$shapeinfo.output`.\n",
    "\n",
    "The state can be manipulated and used to create new `Retrafo`s, using `makeRetrafoFromState`."
   ]
  },
  {
   "cell_type": "code",
   "execution_count": 59,
   "metadata": {},
   "outputs": [
    {
     "data": {
      "text/plain": [
       "$scale.center\n",
       "[1] TRUE\n",
       "\n",
       "$scale.scale\n",
       "[1] TRUE\n",
       "\n",
       "$control\n",
       "$control$center\n",
       "Sepal.Length  Sepal.Width Petal.Length  Petal.Width \n",
       "    5.843333     3.057333     3.758000     1.199333 \n",
       "\n",
       "$control$scale\n",
       "Sepal.Length  Sepal.Width Petal.Length  Petal.Width \n",
       "   0.8280661    0.4358663    1.7652982    0.7622377 \n",
       "\n",
       "\n",
       "$data\n",
       "$data$shapeinfo.input\n",
       "<ShapeInfo (input) Sepal.Length: num, Sepal.Width: num, Petal.Length: num, Petal.Width: num, Species: fac>\n",
       "\n",
       "$data$shapeinfo.output\n",
       "<ShapeInfo (output)>:\n",
       "numeric:\n",
       "<ShapeInfo Sepal.Length: num, Sepal.Width: num, Petal.Length: num, Petal.Width: num>\n",
       "factor:\n",
       "<ShapeInfo Species: fac>\n",
       "other:\n",
       "<ShapeInfo (empty)>\n",
       "\n"
      ]
     },
     "metadata": {},
     "output_type": "display_data"
    }
   ],
   "source": [
    "(state = getRetrafoState(retrafo(iris %>>% cpoScale())))"
   ]
  },
  {
   "cell_type": "code",
   "execution_count": 60,
   "metadata": {},
   "outputs": [
    {
     "ename": "ERROR",
     "evalue": "Error in IRkernel::main(): Assertion on 'names(bare$par.vals)' failed: Must be a subset of {'center','scale'}.\n",
     "output_type": "error",
     "traceback": [
      "Error in IRkernel::main(): Assertion on 'names(bare$par.vals)' failed: Must be a subset of {'center','scale'}.\nTraceback:\n",
      "1. makeRetrafoFromState(cpoScale, state)",
      "2. makeRetrafoFromState.CPOConstructor(cpoScale, state)   # at line 356 of file /home/mb706/lmu/master/mlr/R/CPOAuxiliary.R",
      "3. assertSubset(names(bare$par.vals), names(bare$bare.par.set$pars))   # at line 1217 of file /home/mb706/lmu/master/mlr/R/CPO.R",
      "4. makeAssertion(x, res, .var.name, add)",
      "5. mstop(\"Assertion on '%s' failed: %s.\", var.name, res)"
     ]
    }
   ],
   "source": [
    "state$control$center[1] = 1000  # will now subtract 1000 from the first column\n",
    "new.retrafo = makeRetrafoFromState(cpoScale, state)\n",
    "head(iris %>>% new.retrafo)"
   ]
  },
  {
   "cell_type": "markdown",
   "metadata": {},
   "source": [
    "### Application of Retrafo using `%>>%`, `applyCPO`, or `predict`"
   ]
  },
  {
   "cell_type": "code",
   "execution_count": 62,
   "metadata": {},
   "outputs": [
    {
     "data": {
      "text/html": [
       "<table>\n",
       "<thead><tr><th scope=col>Sepal.Length</th><th scope=col>Sepal.Width</th><th scope=col>Petal.Length</th><th scope=col>Petal.Width</th><th scope=col>Species</th></tr></thead>\n",
       "<tbody>\n",
       "\t<tr><td>-0.8976739 </td><td> 1.01560199</td><td>-1.335752  </td><td>-1.311052  </td><td>setosa     </td></tr>\n",
       "\t<tr><td>-1.1392005 </td><td>-0.13153881</td><td>-1.335752  </td><td>-1.311052  </td><td>setosa     </td></tr>\n",
       "\t<tr><td>-1.3807271 </td><td> 0.32731751</td><td>-1.392399  </td><td>-1.311052  </td><td>setosa     </td></tr>\n",
       "\t<tr><td>-1.5014904 </td><td> 0.09788935</td><td>-1.279104  </td><td>-1.311052  </td><td>setosa     </td></tr>\n",
       "\t<tr><td>-1.0184372 </td><td> 1.24503015</td><td>-1.335752  </td><td>-1.311052  </td><td>setosa     </td></tr>\n",
       "\t<tr><td>-0.5353840 </td><td> 1.93331463</td><td>-1.165809  </td><td>-1.048667  </td><td>setosa     </td></tr>\n",
       "</tbody>\n",
       "</table>\n"
      ],
      "text/latex": [
       "\\begin{tabular}{r|lllll}\n",
       " Sepal.Length & Sepal.Width & Petal.Length & Petal.Width & Species\\\\\n",
       "\\hline\n",
       "\t -0.8976739  &  1.01560199 & -1.335752   & -1.311052   & setosa     \\\\\n",
       "\t -1.1392005  & -0.13153881 & -1.335752   & -1.311052   & setosa     \\\\\n",
       "\t -1.3807271  &  0.32731751 & -1.392399   & -1.311052   & setosa     \\\\\n",
       "\t -1.5014904  &  0.09788935 & -1.279104   & -1.311052   & setosa     \\\\\n",
       "\t -1.0184372  &  1.24503015 & -1.335752   & -1.311052   & setosa     \\\\\n",
       "\t -0.5353840  &  1.93331463 & -1.165809   & -1.048667   & setosa     \\\\\n",
       "\\end{tabular}\n"
      ],
      "text/markdown": [
       "\n",
       "Sepal.Length | Sepal.Width | Petal.Length | Petal.Width | Species | \n",
       "|---|---|---|---|---|---|\n",
       "| -0.8976739  |  1.01560199 | -1.335752   | -1.311052   | setosa      | \n",
       "| -1.1392005  | -0.13153881 | -1.335752   | -1.311052   | setosa      | \n",
       "| -1.3807271  |  0.32731751 | -1.392399   | -1.311052   | setosa      | \n",
       "| -1.5014904  |  0.09788935 | -1.279104   | -1.311052   | setosa      | \n",
       "| -1.0184372  |  1.24503015 | -1.335752   | -1.311052   | setosa      | \n",
       "| -0.5353840  |  1.93331463 | -1.165809   | -1.048667   | setosa      | \n",
       "\n",
       "\n"
      ],
      "text/plain": [
       "  Sepal.Length Sepal.Width Petal.Length Petal.Width Species\n",
       "1 -0.8976739    1.01560199 -1.335752    -1.311052   setosa \n",
       "2 -1.1392005   -0.13153881 -1.335752    -1.311052   setosa \n",
       "3 -1.3807271    0.32731751 -1.392399    -1.311052   setosa \n",
       "4 -1.5014904    0.09788935 -1.279104    -1.311052   setosa \n",
       "5 -1.0184372    1.24503015 -1.335752    -1.311052   setosa \n",
       "6 -0.5353840    1.93331463 -1.165809    -1.048667   setosa "
      ]
     },
     "metadata": {},
     "output_type": "display_data"
    }
   ],
   "source": [
    "head(iris) %>>% retrafo(transformed)\n",
    "# should give the same as head(transformed), since the same data was used.\n",
    "# same:\n",
    "invisible(applyCPO(retrafo(transformed), head(iris)))\n",
    "invisible(predict(retrafo(transformed), head(iris)))"
   ]
  },
  {
   "cell_type": "markdown",
   "metadata": {},
   "source": [
    "### Retrafos from CPO Learners"
   ]
  },
  {
   "cell_type": "code",
   "execution_count": 63,
   "metadata": {
    "collapsed": true
   },
   "outputs": [],
   "source": [
    "cpomodel = train(cpolrn, pid.task)"
   ]
  },
  {
   "cell_type": "code",
   "execution_count": 64,
   "metadata": {},
   "outputs": [
    {
     "data": {
      "text/plain": [
       "CPO Retrafo chain\n",
       "[RETRAFO scale(scale.center = TRUE, scale.scale = TRUE)]"
      ]
     },
     "metadata": {},
     "output_type": "display_data"
    }
   ],
   "source": [
    "retrafo(cpomodel)"
   ]
  },
  {
   "cell_type": "code",
   "execution_count": 65,
   "metadata": {},
   "outputs": [
    {
     "data": {
      "text/html": [
       "<table>\n",
       "<thead><tr><th scope=col>pregnant</th><th scope=col>glucose</th><th scope=col>pressure</th><th scope=col>triceps</th><th scope=col>insulin</th><th scope=col>mass</th><th scope=col>pedigree</th><th scope=col>age</th><th scope=col>diabetes</th></tr></thead>\n",
       "<tbody>\n",
       "\t<tr><td> 0.6395305 </td><td> 0.8477713 </td><td> 0.1495433 </td><td> 0.9066791 </td><td>-0.6924393 </td><td> 0.2038799 </td><td> 0.4681869 </td><td> 1.42506672</td><td>pos        </td></tr>\n",
       "\t<tr><td>-0.8443348 </td><td>-1.1226647 </td><td>-0.1604412 </td><td> 0.5305558 </td><td>-0.6924393 </td><td>-0.6839762 </td><td>-0.3648230 </td><td>-0.19054773</td><td>neg        </td></tr>\n",
       "\t<tr><td> 1.2330766 </td><td> 1.9424580 </td><td>-0.2637694 </td><td>-1.2873733 </td><td>-0.6924393 </td><td>-1.1025370 </td><td> 0.6040037 </td><td>-0.10551539</td><td>pos        </td></tr>\n",
       "\t<tr><td>-0.8443348 </td><td>-0.9975577 </td><td>-0.1604412 </td><td> 0.1544326 </td><td> 0.1232213 </td><td>-0.4937213 </td><td>-0.9201630 </td><td>-1.04087112</td><td>neg        </td></tr>\n",
       "\t<tr><td>-1.1411079 </td><td> 0.5037269 </td><td>-1.5037073 </td><td> 0.9066791 </td><td> 0.7653372 </td><td> 1.4088275 </td><td> 5.4813370 </td><td>-0.02048305</td><td>pos        </td></tr>\n",
       "\t<tr><td> 0.3427574 </td><td>-0.1530851 </td><td> 0.2528715 </td><td>-1.2873733 </td><td>-0.6924393 </td><td>-0.8108128 </td><td>-0.8175458 </td><td>-0.27558007</td><td>neg        </td></tr>\n",
       "</tbody>\n",
       "</table>\n"
      ],
      "text/latex": [
       "\\begin{tabular}{r|lllllllll}\n",
       " pregnant & glucose & pressure & triceps & insulin & mass & pedigree & age & diabetes\\\\\n",
       "\\hline\n",
       "\t  0.6395305  &  0.8477713  &  0.1495433  &  0.9066791  & -0.6924393  &  0.2038799  &  0.4681869  &  1.42506672 & pos        \\\\\n",
       "\t -0.8443348  & -1.1226647  & -0.1604412  &  0.5305558  & -0.6924393  & -0.6839762  & -0.3648230  & -0.19054773 & neg        \\\\\n",
       "\t  1.2330766  &  1.9424580  & -0.2637694  & -1.2873733  & -0.6924393  & -1.1025370  &  0.6040037  & -0.10551539 & pos        \\\\\n",
       "\t -0.8443348  & -0.9975577  & -0.1604412  &  0.1544326  &  0.1232213  & -0.4937213  & -0.9201630  & -1.04087112 & neg        \\\\\n",
       "\t -1.1411079  &  0.5037269  & -1.5037073  &  0.9066791  &  0.7653372  &  1.4088275  &  5.4813370  & -0.02048305 & pos        \\\\\n",
       "\t  0.3427574  & -0.1530851  &  0.2528715  & -1.2873733  & -0.6924393  & -0.8108128  & -0.8175458  & -0.27558007 & neg        \\\\\n",
       "\\end{tabular}\n"
      ],
      "text/markdown": [
       "\n",
       "pregnant | glucose | pressure | triceps | insulin | mass | pedigree | age | diabetes | \n",
       "|---|---|---|---|---|---|\n",
       "|  0.6395305  |  0.8477713  |  0.1495433  |  0.9066791  | -0.6924393  |  0.2038799  |  0.4681869  |  1.42506672 | pos         | \n",
       "| -0.8443348  | -1.1226647  | -0.1604412  |  0.5305558  | -0.6924393  | -0.6839762  | -0.3648230  | -0.19054773 | neg         | \n",
       "|  1.2330766  |  1.9424580  | -0.2637694  | -1.2873733  | -0.6924393  | -1.1025370  |  0.6040037  | -0.10551539 | pos         | \n",
       "| -0.8443348  | -0.9975577  | -0.1604412  |  0.1544326  |  0.1232213  | -0.4937213  | -0.9201630  | -1.04087112 | neg         | \n",
       "| -1.1411079  |  0.5037269  | -1.5037073  |  0.9066791  |  0.7653372  |  1.4088275  |  5.4813370  | -0.02048305 | pos         | \n",
       "|  0.3427574  | -0.1530851  |  0.2528715  | -1.2873733  | -0.6924393  | -0.8108128  | -0.8175458  | -0.27558007 | neg         | \n",
       "\n",
       "\n"
      ],
      "text/plain": [
       "  pregnant   glucose    pressure   triceps    insulin    mass       pedigree  \n",
       "1  0.6395305  0.8477713  0.1495433  0.9066791 -0.6924393  0.2038799  0.4681869\n",
       "2 -0.8443348 -1.1226647 -0.1604412  0.5305558 -0.6924393 -0.6839762 -0.3648230\n",
       "3  1.2330766  1.9424580 -0.2637694 -1.2873733 -0.6924393 -1.1025370  0.6040037\n",
       "4 -0.8443348 -0.9975577 -0.1604412  0.1544326  0.1232213 -0.4937213 -0.9201630\n",
       "5 -1.1411079  0.5037269 -1.5037073  0.9066791  0.7653372  1.4088275  5.4813370\n",
       "6  0.3427574 -0.1530851  0.2528715 -1.2873733 -0.6924393 -0.8108128 -0.8175458\n",
       "  age         diabetes\n",
       "1  1.42506672 pos     \n",
       "2 -0.19054773 neg     \n",
       "3 -0.10551539 pos     \n",
       "4 -1.04087112 neg     \n",
       "5 -0.02048305 pos     \n",
       "6 -0.27558007 neg     "
      ]
     },
     "metadata": {},
     "output_type": "display_data"
    }
   ],
   "source": [
    "head(getTaskData(pid.task %>>% retrafo(cpomodel)))\n",
    "# this is what the model would see, if we predict() it with the model"
   ]
  },
  {
   "cell_type": "markdown",
   "metadata": {},
   "source": [
    "### Retrafos are automatically chained when applying CPOs (!!!)\n",
    "When executing `data %>>% CPO`, the result has an associated `Retrafo` object. When applying another `CPO`, the `Retrafo` will be the chained operation. This is to make `data %>>% CPO1 %>>% CPO2` the way one expects it to work."
   ]
  },
  {
   "cell_type": "code",
   "execution_count": 66,
   "metadata": {},
   "outputs": [
    {
     "ename": "ERROR",
     "evalue": "Error in \"NULLCPO\" %in% class(cpo): object 'pca' not found\n",
     "output_type": "error",
     "traceback": [
      "Error in \"NULLCPO\" %in% class(cpo): object 'pca' not found\nTraceback:\n",
      "1. head(iris) %>>% pca",
      "2. `%>>%.data.frame`(head(iris), pca)   # at line 63 of file /home/mb706/lmu/master/mlr/R/CPOAuxiliary.R",
      "3. `%>>%.Task`(cpo1, cpo2)   # at line 81 of file /home/mb706/lmu/master/mlr/R/CPOAuxiliary.R",
      "4. is.nullcpo(cpo2)   # at line 86-100 of file /home/mb706/lmu/master/mlr/R/CPOAuxiliary.R",
      "5. \"NULLCPO\" %in% class(cpo)   # at line 1118 of file /home/mb706/lmu/master/mlr/R/CPOAuxiliary.R"
     ]
    }
   ],
   "source": [
    "data = head(iris) %>>% pca\n",
    "retrafo(data)"
   ]
  },
  {
   "cell_type": "code",
   "execution_count": 68,
   "metadata": {},
   "outputs": [
    {
     "data": {
      "text/plain": [
       "CPO Retrafo chain\n",
       "[RETRAFO scale(scale.center = TRUE, scale.scale = TRUE)]"
      ]
     },
     "metadata": {},
     "output_type": "display_data"
    }
   ],
   "source": [
    "data2 = data %>>% cpoScale()\n",
    "# retrafo(data2) is the same as retrafo(data %>>% pca %>>% scale)\n",
    "retrafo(data2)"
   ]
  },
  {
   "cell_type": "code",
   "execution_count": 70,
   "metadata": {},
   "outputs": [
    {
     "data": {
      "text/plain": [
       "CPO Retrafo chain\n",
       "[RETRAFO scale(scale.center = TRUE, scale.scale = TRUE)]"
      ]
     },
     "metadata": {},
     "output_type": "display_data"
    }
   ],
   "source": [
    "# to interrupt this chain, set retrafo to NULL\n",
    "retrafo(data) = NULL\n",
    "data2 = data %>>% cpoScale()\n",
    "retrafo(data2)"
   ]
  },
  {
   "cell_type": "markdown",
   "metadata": {},
   "source": [
    "### Retrafo Composition, Decomposition, Chaining"
   ]
  },
  {
   "cell_type": "code",
   "execution_count": 71,
   "metadata": {},
   "outputs": [
    {
     "data": {
      "text/plain": [
       "CPO Retrafo chain\n",
       "[RETRAFO scale(scale.center = TRUE, scale.scale = TRUE)]=>[RETRAFO scale(scale.center = TRUE, scale.scale = TRUE)]"
      ]
     },
     "metadata": {},
     "output_type": "display_data"
    }
   ],
   "source": [
    "compound.retrafo = retrafo(head(iris) %>>% compound)\n",
    "compound.retrafo"
   ]
  },
  {
   "cell_type": "code",
   "execution_count": 72,
   "metadata": {},
   "outputs": [
    {
     "data": {
      "text/plain": [
       "[[1]]\n",
       "CPO Retrafo chain\n",
       "[RETRAFO scale(scale.center = TRUE, scale.scale = TRUE)]\n",
       "\n",
       "[[2]]\n",
       "CPO Retrafo chain\n",
       "[RETRAFO scale(scale.center = TRUE, scale.scale = TRUE)]\n"
      ]
     },
     "metadata": {},
     "output_type": "display_data"
    }
   ],
   "source": [
    "(retrafolist = as.list(compound.retrafo))"
   ]
  },
  {
   "cell_type": "code",
   "execution_count": 73,
   "metadata": {},
   "outputs": [
    {
     "data": {
      "text/plain": [
       "CPO Retrafo chain\n",
       "[RETRAFO scale(scale.center = TRUE, scale.scale = TRUE)]=>[RETRAFO scale(scale.center = TRUE, scale.scale = TRUE)]"
      ]
     },
     "metadata": {},
     "output_type": "display_data"
    }
   ],
   "source": [
    "retrafolist[[1]] %>>% retrafolist[[2]]"
   ]
  },
  {
   "cell_type": "code",
   "execution_count": 74,
   "metadata": {},
   "outputs": [
    {
     "data": {
      "text/plain": [
       "CPO Retrafo chain\n",
       "[RETRAFO scale(scale.center = TRUE, scale.scale = TRUE)]=>[RETRAFO scale(scale.center = TRUE, scale.scale = TRUE)]"
      ]
     },
     "metadata": {},
     "output_type": "display_data"
    }
   ],
   "source": [
    "chainCPO(retrafolist)"
   ]
  },
  {
   "cell_type": "markdown",
   "metadata": {},
   "source": [
    "## Inverter\n",
    "Inverters represent the operation of inverting transformations done to prediction columns. They are not usually exposed outside of `Learner` objects, but can be retrieved when retransformed data is tagged using `tagInverse`.\n",
    "\n",
    "Inverters are currently not fully functional."
   ]
  },
  {
   "cell_type": "code",
   "execution_count": null,
   "metadata": {},
   "outputs": [],
   "source": [
    "# there is currently no example targetbound cpo\n",
    "logtransform = makeCPOTargetOp(\"logtransform\", .data.dependent = FALSE,\n",
    "                               .stateless = TRUE, .type = \"regr\",\n",
    "  cpo.trafo = {\n",
    "    target[[1]] = log(target[[1]])\n",
    "    target\n",
    "  }, cpo.retrafo = { print(match.call()) })\n"
   ]
  },
  {
   "cell_type": "code",
   "execution_count": 50,
   "metadata": {},
   "outputs": [
    {
     "data": {
      "text/html": [
       "<ol class=list-inline>\n",
       "\t<li>'retrafo'</li>\n",
       "\t<li>'inverter'</li>\n",
       "</ol>\n"
      ],
      "text/latex": [
       "\\begin{enumerate*}\n",
       "\\item 'retrafo'\n",
       "\\item 'inverter'\n",
       "\\end{enumerate*}\n"
      ],
      "text/markdown": [
       "1. 'retrafo'\n",
       "2. 'inverter'\n",
       "\n",
       "\n"
      ],
      "text/plain": [
       "[1] \"retrafo\"  \"inverter\""
      ]
     },
     "metadata": {},
     "output_type": "display_data"
    },
    {
     "data": {
      "text/html": [
       "'targetbound'"
      ],
      "text/latex": [
       "'targetbound'"
      ],
      "text/markdown": [
       "'targetbound'"
      ],
      "text/plain": [
       "[1] \"targetbound\""
      ]
     },
     "metadata": {},
     "output_type": "display_data"
    }
   ],
   "source": [
    "log.retrafo = retrafo(bh.task %>>% logtransform())  # get a target-bound retrafo\n",
    "getCPOKind(log.retrafo)  # logtransform is *stateless*, so it is a retrafo *and* an inverter\n",
    "getCPOBound(log.retrafo)"
   ]
  },
  {
   "cell_type": "code",
   "execution_count": 51,
   "metadata": {},
   "outputs": [
    {
     "data": {
      "text/plain": [
       "NULLCPO"
      ]
     },
     "metadata": {},
     "output_type": "display_data"
    }
   ],
   "source": [
    "inverter(bh.task %>>% log.retrafo)"
   ]
  },
  {
   "cell_type": "code",
   "execution_count": 52,
   "metadata": {
    "collapsed": true
   },
   "outputs": [],
   "source": [
    "#inverter(tagInvert(bh.task) %>>% log.retrafo)\n",
    "# currently not implemented :-/"
   ]
  },
  {
   "cell_type": "markdown",
   "metadata": {},
   "source": [
    "Inverting is done with the `invert` function."
   ]
  },
  {
   "cell_type": "code",
   "execution_count": 53,
   "metadata": {},
   "outputs": [],
   "source": [
    "log.bh = bh.task %>>% logtransform()\n",
    "log.prediction = predict(train(\"regr.lm\", log.bh), log.bh)"
   ]
  },
  {
   "cell_type": "code",
   "execution_count": 54,
   "metadata": {
    "collapsed": true
   },
   "outputs": [],
   "source": [
    "# invert(retrafo(log.bh), log.prediction)  # not implemented :-/\n",
    "# invert(retrafo(log.bh), log.prediction$data[\"response\"])  # not implemented :-/\n"
   ]
  },
  {
   "cell_type": "markdown",
   "metadata": {},
   "source": [
    "# CPO Properties\n",
    "CPOs contain information about the kind of data they can work with, and what kind of data they produce. `getCPOProperties` returns a list with the slots `properties`, `properties.data`, `properties.needed`, `properties.adding`, indicating the kind of data a CPO can handle, the kind of data it needs the data receiver (e.g. attached learner) to have, and the properties it adds to a given learner. An example is a CPO that converts factors to numerics: The receiving learner needs to handle numerics, so `properties.needed = \"numerics\"`, but it *adds* the ability to handle factors (since they are converted), so `properties.adding = c(\"factors\", \"ordered\")`. `properties.data` is only different from `properties` if `affect.*` parameters are given. In that case, `properties.data` determines what properties the selected subset of columns must have."
   ]
  },
  {
   "cell_type": "code",
   "execution_count": 76,
   "metadata": {},
   "outputs": [
    {
     "data": {
      "text/html": [
       "<dl>\n",
       "\t<dt>$properties</dt>\n",
       "\t\t<dd><ol class=list-inline>\n",
       "\t<li>'numerics'</li>\n",
       "\t<li>'factors'</li>\n",
       "\t<li>'ordered'</li>\n",
       "\t<li>'missings'</li>\n",
       "\t<li>'prob'</li>\n",
       "\t<li>'se'</li>\n",
       "\t<li>'cluster'</li>\n",
       "\t<li>'classif'</li>\n",
       "\t<li>'multilabel'</li>\n",
       "\t<li>'regr'</li>\n",
       "\t<li>'surv'</li>\n",
       "\t<li>'oneclass'</li>\n",
       "\t<li>'twoclass'</li>\n",
       "\t<li>'multiclass'</li>\n",
       "\t<li>'lcens'</li>\n",
       "\t<li>'rcens'</li>\n",
       "\t<li>'icens'</li>\n",
       "</ol>\n",
       "</dd>\n",
       "\t<dt>$properties.data</dt>\n",
       "\t\t<dd><ol class=list-inline>\n",
       "\t<li>'numerics'</li>\n",
       "\t<li>'factors'</li>\n",
       "\t<li>'ordered'</li>\n",
       "\t<li>'missings'</li>\n",
       "\t<li>'prob'</li>\n",
       "\t<li>'se'</li>\n",
       "\t<li>'cluster'</li>\n",
       "\t<li>'classif'</li>\n",
       "\t<li>'multilabel'</li>\n",
       "\t<li>'regr'</li>\n",
       "\t<li>'surv'</li>\n",
       "\t<li>'oneclass'</li>\n",
       "\t<li>'twoclass'</li>\n",
       "\t<li>'multiclass'</li>\n",
       "\t<li>'lcens'</li>\n",
       "\t<li>'rcens'</li>\n",
       "\t<li>'icens'</li>\n",
       "</ol>\n",
       "</dd>\n",
       "\t<dt>$properties.adding</dt>\n",
       "\t\t<dd><ol class=list-inline>\n",
       "\t<li>'factors'</li>\n",
       "\t<li>'ordered'</li>\n",
       "</ol>\n",
       "</dd>\n",
       "\t<dt>$properties.needed</dt>\n",
       "\t\t<dd>'numerics'</dd>\n",
       "</dl>\n"
      ],
      "text/latex": [
       "\\begin{description}\n",
       "\\item[\\$properties] \\begin{enumerate*}\n",
       "\\item 'numerics'\n",
       "\\item 'factors'\n",
       "\\item 'ordered'\n",
       "\\item 'missings'\n",
       "\\item 'prob'\n",
       "\\item 'se'\n",
       "\\item 'cluster'\n",
       "\\item 'classif'\n",
       "\\item 'multilabel'\n",
       "\\item 'regr'\n",
       "\\item 'surv'\n",
       "\\item 'oneclass'\n",
       "\\item 'twoclass'\n",
       "\\item 'multiclass'\n",
       "\\item 'lcens'\n",
       "\\item 'rcens'\n",
       "\\item 'icens'\n",
       "\\end{enumerate*}\n",
       "\n",
       "\\item[\\$properties.data] \\begin{enumerate*}\n",
       "\\item 'numerics'\n",
       "\\item 'factors'\n",
       "\\item 'ordered'\n",
       "\\item 'missings'\n",
       "\\item 'prob'\n",
       "\\item 'se'\n",
       "\\item 'cluster'\n",
       "\\item 'classif'\n",
       "\\item 'multilabel'\n",
       "\\item 'regr'\n",
       "\\item 'surv'\n",
       "\\item 'oneclass'\n",
       "\\item 'twoclass'\n",
       "\\item 'multiclass'\n",
       "\\item 'lcens'\n",
       "\\item 'rcens'\n",
       "\\item 'icens'\n",
       "\\end{enumerate*}\n",
       "\n",
       "\\item[\\$properties.adding] \\begin{enumerate*}\n",
       "\\item 'factors'\n",
       "\\item 'ordered'\n",
       "\\end{enumerate*}\n",
       "\n",
       "\\item[\\$properties.needed] 'numerics'\n",
       "\\end{description}\n"
      ],
      "text/markdown": [
       "$properties\n",
       ":   1. 'numerics'\n",
       "2. 'factors'\n",
       "3. 'ordered'\n",
       "4. 'missings'\n",
       "5. 'prob'\n",
       "6. 'se'\n",
       "7. 'cluster'\n",
       "8. 'classif'\n",
       "9. 'multilabel'\n",
       "10. 'regr'\n",
       "11. 'surv'\n",
       "12. 'oneclass'\n",
       "13. 'twoclass'\n",
       "14. 'multiclass'\n",
       "15. 'lcens'\n",
       "16. 'rcens'\n",
       "17. 'icens'\n",
       "\n",
       "\n",
       "\n",
       "$properties.data\n",
       ":   1. 'numerics'\n",
       "2. 'factors'\n",
       "3. 'ordered'\n",
       "4. 'missings'\n",
       "5. 'prob'\n",
       "6. 'se'\n",
       "7. 'cluster'\n",
       "8. 'classif'\n",
       "9. 'multilabel'\n",
       "10. 'regr'\n",
       "11. 'surv'\n",
       "12. 'oneclass'\n",
       "13. 'twoclass'\n",
       "14. 'multiclass'\n",
       "15. 'lcens'\n",
       "16. 'rcens'\n",
       "17. 'icens'\n",
       "\n",
       "\n",
       "\n",
       "$properties.adding\n",
       ":   1. 'factors'\n",
       "2. 'ordered'\n",
       "\n",
       "\n",
       "\n",
       "$properties.needed\n",
       ":   'numerics'\n",
       "\n",
       "\n"
      ],
      "text/plain": [
       "$properties\n",
       " [1] \"numerics\"   \"factors\"    \"ordered\"    \"missings\"   \"prob\"      \n",
       " [6] \"se\"         \"cluster\"    \"classif\"    \"multilabel\" \"regr\"      \n",
       "[11] \"surv\"       \"oneclass\"   \"twoclass\"   \"multiclass\" \"lcens\"     \n",
       "[16] \"rcens\"      \"icens\"     \n",
       "\n",
       "$properties.data\n",
       " [1] \"numerics\"   \"factors\"    \"ordered\"    \"missings\"   \"prob\"      \n",
       " [6] \"se\"         \"cluster\"    \"classif\"    \"multilabel\" \"regr\"      \n",
       "[11] \"surv\"       \"oneclass\"   \"twoclass\"   \"multiclass\" \"lcens\"     \n",
       "[16] \"rcens\"      \"icens\"     \n",
       "\n",
       "$properties.adding\n",
       "[1] \"factors\" \"ordered\"\n",
       "\n",
       "$properties.needed\n",
       "[1] \"numerics\"\n"
      ]
     },
     "metadata": {},
     "output_type": "display_data"
    }
   ],
   "source": [
    "getCPOProperties(cpoDummyEncode())"
   ]
  },
  {
   "cell_type": "code",
   "execution_count": 77,
   "metadata": {},
   "outputs": [
    {
     "ename": "ERROR",
     "evalue": "Error in checkLearnerBeforeTrain(task, learner, weights): Task 'BreastCancer-example' has factor inputs in 'Cl.thickness, Cell.size, Cell.shape, Marg.adhes...', but learner 'classif.geoDA' does not support that!\n",
     "output_type": "error",
     "traceback": [
      "Error in checkLearnerBeforeTrain(task, learner, weights): Task 'BreastCancer-example' has factor inputs in 'Cl.thickness, Cell.size, Cell.shape, Marg.adhes...', but learner 'classif.geoDA' does not support that!\nTraceback:\n",
      "1. train(\"classif.geoDA\", bc.task)",
      "2. checkLearnerBeforeTrain(task, learner, weights)   # at line 58 of file /home/mb706/lmu/master/mlr/R/train.R",
      "3. stopf(\"Task '%s' has factor inputs in '%s', but learner '%s' does not support that!\", \n .     td$id, wrong.cols, learner$id)   # at line 26 of file /home/mb706/lmu/master/mlr/R/checkLearnerBeforeTrain.R"
     ]
    }
   ],
   "source": [
    "train(\"classif.geoDA\", bc.task)  # gives an error"
   ]
  },
  {
   "cell_type": "code",
   "execution_count": 78,
   "metadata": {},
   "outputs": [
    {
     "data": {
      "text/plain": [
       "Model for learner.id=classif.geoDA.dummyencode; learner.class=CPOLearner\n",
       "Trained on: task.id = BreastCancer-example; obs = 683; features = 9\n",
       "Hyperparameters: validation=NULL,dummyencode.reference.cat=TRUE"
      ]
     },
     "metadata": {},
     "output_type": "display_data"
    }
   ],
   "source": [
    "train(cpoDummyEncode(reference.cat = TRUE) %>>% makeLearner(\"classif.geoDA\"), bc.task)"
   ]
  },
  {
   "cell_type": "code",
   "execution_count": 79,
   "metadata": {},
   "outputs": [
    {
     "data": {
      "text/html": [
       "<ol class=list-inline>\n",
       "\t<li>'twoclass'</li>\n",
       "\t<li>'multiclass'</li>\n",
       "\t<li>'numerics'</li>\n",
       "</ol>\n"
      ],
      "text/latex": [
       "\\begin{enumerate*}\n",
       "\\item 'twoclass'\n",
       "\\item 'multiclass'\n",
       "\\item 'numerics'\n",
       "\\end{enumerate*}\n"
      ],
      "text/markdown": [
       "1. 'twoclass'\n",
       "2. 'multiclass'\n",
       "3. 'numerics'\n",
       "\n",
       "\n"
      ],
      "text/plain": [
       "[1] \"twoclass\"   \"multiclass\" \"numerics\"  "
      ]
     },
     "metadata": {},
     "output_type": "display_data"
    }
   ],
   "source": [
    "getLearnerProperties(\"classif.geoDA\")"
   ]
  },
  {
   "cell_type": "code",
   "execution_count": 80,
   "metadata": {},
   "outputs": [
    {
     "data": {
      "text/html": [
       "<ol class=list-inline>\n",
       "\t<li>'numerics'</li>\n",
       "\t<li>'factors'</li>\n",
       "\t<li>'ordered'</li>\n",
       "\t<li>'twoclass'</li>\n",
       "\t<li>'multiclass'</li>\n",
       "</ol>\n"
      ],
      "text/latex": [
       "\\begin{enumerate*}\n",
       "\\item 'numerics'\n",
       "\\item 'factors'\n",
       "\\item 'ordered'\n",
       "\\item 'twoclass'\n",
       "\\item 'multiclass'\n",
       "\\end{enumerate*}\n"
      ],
      "text/markdown": [
       "1. 'numerics'\n",
       "2. 'factors'\n",
       "3. 'ordered'\n",
       "4. 'twoclass'\n",
       "5. 'multiclass'\n",
       "\n",
       "\n"
      ],
      "text/plain": [
       "[1] \"numerics\"   \"factors\"    \"ordered\"    \"twoclass\"   \"multiclass\""
      ]
     },
     "metadata": {},
     "output_type": "display_data"
    }
   ],
   "source": [
    "getLearnerProperties(cpoDummyEncode(TRUE) %>>% makeLearner(\"classif.geoDA\"))"
   ]
  },
  {
   "cell_type": "markdown",
   "metadata": {},
   "source": [
    "# Special CPOs"
   ]
  },
  {
   "cell_type": "markdown",
   "metadata": {},
   "source": [
    "## NULLCPO\n",
    "`NULLCPO` is the neutral element of `%>>%`. It is returned by some functions when no other CPO or Retrafo is present."
   ]
  },
  {
   "cell_type": "code",
   "execution_count": 81,
   "metadata": {},
   "outputs": [
    {
     "data": {
      "text/plain": [
       "NULLCPO"
      ]
     },
     "metadata": {},
     "output_type": "display_data"
    }
   ],
   "source": [
    "NULLCPO"
   ]
  },
  {
   "cell_type": "code",
   "execution_count": 82,
   "metadata": {},
   "outputs": [
    {
     "data": {
      "text/html": [
       "TRUE"
      ],
      "text/latex": [
       "TRUE"
      ],
      "text/markdown": [
       "TRUE"
      ],
      "text/plain": [
       "[1] TRUE"
      ]
     },
     "metadata": {},
     "output_type": "display_data"
    }
   ],
   "source": [
    "is.nullcpo(NULLCPO)"
   ]
  },
  {
   "cell_type": "code",
   "execution_count": 83,
   "metadata": {},
   "outputs": [
    {
     "data": {
      "text/plain": [
       "scale(center = TRUE, scale = TRUE)"
      ]
     },
     "metadata": {},
     "output_type": "display_data"
    }
   ],
   "source": [
    "NULLCPO %>>% cpoScale()"
   ]
  },
  {
   "cell_type": "code",
   "execution_count": 84,
   "metadata": {},
   "outputs": [
    {
     "data": {
      "text/plain": [
       "NULLCPO"
      ]
     },
     "metadata": {},
     "output_type": "display_data"
    }
   ],
   "source": [
    "NULLCPO %>>% NULLCPO"
   ]
  },
  {
   "cell_type": "code",
   "execution_count": 85,
   "metadata": {},
   "outputs": [
    {
     "name": "stdout",
     "output_type": "stream",
     "text": [
      "list()\n"
     ]
    }
   ],
   "source": [
    "print(as.list(NULLCPO))"
   ]
  },
  {
   "cell_type": "code",
   "execution_count": 86,
   "metadata": {},
   "outputs": [
    {
     "data": {
      "text/plain": [
       "NULLCPO"
      ]
     },
     "metadata": {},
     "output_type": "display_data"
    }
   ],
   "source": [
    "chainCPO(list())"
   ]
  },
  {
   "cell_type": "markdown",
   "metadata": {},
   "source": [
    "## CPO Applicator\n",
    "A simple CPO with one parameter which gets applied to the data as CPO. This is different from a multiplexer in that its parameter is free and can take any value that behaves like a CPO. On the downside, this does not expose the argument's parameters to the outside."
   ]
  },
  {
   "cell_type": "code",
   "execution_count": 89,
   "metadata": {},
   "outputs": [
    {
     "data": {
      "text/plain": [
       "Retrafo chain of 1 elements:\n",
       "apply()\n",
       "\n",
       "             Type len Def Constr Req Tunable Trafo\n",
       "apply.cpo untyped   -   -      -   -    TRUE     -"
      ]
     },
     "metadata": {},
     "output_type": "display_data"
    }
   ],
   "source": [
    "cpa = cpoApply()\n",
    "summary(cpa)"
   ]
  },
  {
   "cell_type": "code",
   "execution_count": 91,
   "metadata": {},
   "outputs": [
    {
     "data": {
      "text/html": [
       "<table>\n",
       "<thead><tr><th scope=col>Sepal.Length</th><th scope=col>Sepal.Width</th><th scope=col>Petal.Length</th><th scope=col>Petal.Width</th><th scope=col>Species</th></tr></thead>\n",
       "<tbody>\n",
       "\t<tr><td>-0.8976739 </td><td> 1.01560199</td><td>-1.335752  </td><td>-1.311052  </td><td>setosa     </td></tr>\n",
       "\t<tr><td>-1.1392005 </td><td>-0.13153881</td><td>-1.335752  </td><td>-1.311052  </td><td>setosa     </td></tr>\n",
       "\t<tr><td>-1.3807271 </td><td> 0.32731751</td><td>-1.392399  </td><td>-1.311052  </td><td>setosa     </td></tr>\n",
       "\t<tr><td>-1.5014904 </td><td> 0.09788935</td><td>-1.279104  </td><td>-1.311052  </td><td>setosa     </td></tr>\n",
       "\t<tr><td>-1.0184372 </td><td> 1.24503015</td><td>-1.335752  </td><td>-1.311052  </td><td>setosa     </td></tr>\n",
       "\t<tr><td>-0.5353840 </td><td> 1.93331463</td><td>-1.165809  </td><td>-1.048667  </td><td>setosa     </td></tr>\n",
       "</tbody>\n",
       "</table>\n"
      ],
      "text/latex": [
       "\\begin{tabular}{r|lllll}\n",
       " Sepal.Length & Sepal.Width & Petal.Length & Petal.Width & Species\\\\\n",
       "\\hline\n",
       "\t -0.8976739  &  1.01560199 & -1.335752   & -1.311052   & setosa     \\\\\n",
       "\t -1.1392005  & -0.13153881 & -1.335752   & -1.311052   & setosa     \\\\\n",
       "\t -1.3807271  &  0.32731751 & -1.392399   & -1.311052   & setosa     \\\\\n",
       "\t -1.5014904  &  0.09788935 & -1.279104   & -1.311052   & setosa     \\\\\n",
       "\t -1.0184372  &  1.24503015 & -1.335752   & -1.311052   & setosa     \\\\\n",
       "\t -0.5353840  &  1.93331463 & -1.165809   & -1.048667   & setosa     \\\\\n",
       "\\end{tabular}\n"
      ],
      "text/markdown": [
       "\n",
       "Sepal.Length | Sepal.Width | Petal.Length | Petal.Width | Species | \n",
       "|---|---|---|---|---|---|\n",
       "| -0.8976739  |  1.01560199 | -1.335752   | -1.311052   | setosa      | \n",
       "| -1.1392005  | -0.13153881 | -1.335752   | -1.311052   | setosa      | \n",
       "| -1.3807271  |  0.32731751 | -1.392399   | -1.311052   | setosa      | \n",
       "| -1.5014904  |  0.09788935 | -1.279104   | -1.311052   | setosa      | \n",
       "| -1.0184372  |  1.24503015 | -1.335752   | -1.311052   | setosa      | \n",
       "| -0.5353840  |  1.93331463 | -1.165809   | -1.048667   | setosa      | \n",
       "\n",
       "\n"
      ],
      "text/plain": [
       "  Sepal.Length Sepal.Width Petal.Length Petal.Width Species\n",
       "1 -0.8976739    1.01560199 -1.335752    -1.311052   setosa \n",
       "2 -1.1392005   -0.13153881 -1.335752    -1.311052   setosa \n",
       "3 -1.3807271    0.32731751 -1.392399    -1.311052   setosa \n",
       "4 -1.5014904    0.09788935 -1.279104    -1.311052   setosa \n",
       "5 -1.0184372    1.24503015 -1.335752    -1.311052   setosa \n",
       "6 -0.5353840    1.93331463 -1.165809    -1.048667   setosa "
      ]
     },
     "metadata": {},
     "output_type": "display_data"
    }
   ],
   "source": [
    "head(iris %>>% setHyperPars(cpa, apply.cpo = cpoScale()))"
   ]
  },
  {
   "cell_type": "code",
   "execution_count": 93,
   "metadata": {},
   "outputs": [
    {
     "data": {
      "text/html": [
       "<table>\n",
       "<thead><tr><th scope=col>Species</th><th scope=col>PC1</th><th scope=col>PC2</th><th scope=col>PC3</th><th scope=col>PC4</th></tr></thead>\n",
       "<tbody>\n",
       "\t<tr><td>setosa      </td><td>-5.912747   </td><td>2.302033    </td><td> 0.007401536</td><td> 0.003087706</td></tr>\n",
       "\t<tr><td>setosa      </td><td>-5.572482   </td><td>1.971826    </td><td> 0.244592251</td><td> 0.097552888</td></tr>\n",
       "\t<tr><td>setosa      </td><td>-5.446977   </td><td>2.095206    </td><td> 0.015029262</td><td> 0.018013331</td></tr>\n",
       "\t<tr><td>setosa      </td><td>-5.436459   </td><td>1.870382    </td><td> 0.020504880</td><td>-0.078491501</td></tr>\n",
       "\t<tr><td>setosa      </td><td>-5.875645   </td><td>2.328290    </td><td>-0.110338269</td><td>-0.060719326</td></tr>\n",
       "\t<tr><td>setosa      </td><td>-6.477598   </td><td>2.324650    </td><td>-0.237202487</td><td>-0.021419633</td></tr>\n",
       "</tbody>\n",
       "</table>\n"
      ],
      "text/latex": [
       "\\begin{tabular}{r|lllll}\n",
       " Species & PC1 & PC2 & PC3 & PC4\\\\\n",
       "\\hline\n",
       "\t setosa       & -5.912747    & 2.302033     &  0.007401536 &  0.003087706\\\\\n",
       "\t setosa       & -5.572482    & 1.971826     &  0.244592251 &  0.097552888\\\\\n",
       "\t setosa       & -5.446977    & 2.095206     &  0.015029262 &  0.018013331\\\\\n",
       "\t setosa       & -5.436459    & 1.870382     &  0.020504880 & -0.078491501\\\\\n",
       "\t setosa       & -5.875645    & 2.328290     & -0.110338269 & -0.060719326\\\\\n",
       "\t setosa       & -6.477598    & 2.324650     & -0.237202487 & -0.021419633\\\\\n",
       "\\end{tabular}\n"
      ],
      "text/markdown": [
       "\n",
       "Species | PC1 | PC2 | PC3 | PC4 | \n",
       "|---|---|---|---|---|---|\n",
       "| setosa       | -5.912747    | 2.302033     |  0.007401536 |  0.003087706 | \n",
       "| setosa       | -5.572482    | 1.971826     |  0.244592251 |  0.097552888 | \n",
       "| setosa       | -5.446977    | 2.095206     |  0.015029262 |  0.018013331 | \n",
       "| setosa       | -5.436459    | 1.870382     |  0.020504880 | -0.078491501 | \n",
       "| setosa       | -5.875645    | 2.328290     | -0.110338269 | -0.060719326 | \n",
       "| setosa       | -6.477598    | 2.324650     | -0.237202487 | -0.021419633 | \n",
       "\n",
       "\n"
      ],
      "text/plain": [
       "  Species PC1       PC2      PC3          PC4         \n",
       "1 setosa  -5.912747 2.302033  0.007401536  0.003087706\n",
       "2 setosa  -5.572482 1.971826  0.244592251  0.097552888\n",
       "3 setosa  -5.446977 2.095206  0.015029262  0.018013331\n",
       "4 setosa  -5.436459 1.870382  0.020504880 -0.078491501\n",
       "5 setosa  -5.875645 2.328290 -0.110338269 -0.060719326\n",
       "6 setosa  -6.477598 2.324650 -0.237202487 -0.021419633"
      ]
     },
     "metadata": {},
     "output_type": "display_data"
    }
   ],
   "source": [
    "head(iris %>>% setHyperPars(cpa, apply.cpo = cpoPca()))"
   ]
  },
  {
   "cell_type": "code",
   "execution_count": 94,
   "metadata": {},
   "outputs": [
    {
     "data": {
      "text/plain": [
       "             Type len  Def Constr Req Tunable Trafo\n",
       "apply.cpo untyped   -    -      -   -    TRUE     -\n",
       "model     logical   - TRUE      -   -   FALSE     -"
      ]
     },
     "metadata": {},
     "output_type": "display_data"
    }
   ],
   "source": [
    "# attaching the cpo applicator to a learner gives this learner a \"cpo\" hyperparameter\n",
    "# that can be set to any CPO.\n",
    "getParamSet(cpoApply() %>>% makeLearner(\"classif.logreg\"))"
   ]
  },
  {
   "cell_type": "markdown",
   "metadata": {},
   "source": [
    "## CPO Multiplexer\n",
    "Combine many CPOs into one, with an extra `selected.cpo` parameter that chooses between them."
   ]
  },
  {
   "cell_type": "code",
   "execution_count": 95,
   "metadata": {},
   "outputs": [
    {
     "data": {
      "text/plain": [
       "Retrafo chain of 1 elements:\n",
       "multiplex(selected.cpo = scale, scale.center = TRUE, scale.scale = TRUE)\n",
       "\n",
       "                           Type len   Def    Constr Req Tunable Trafo\n",
       "multiplex.selected.cpo discrete   - scale scale,pca   -    TRUE     -\n",
       "multiplex.scale.center  logical   -  TRUE         -   Y    TRUE     -\n",
       "multiplex.scale.scale   logical   -  TRUE         -   Y    TRUE     -"
      ]
     },
     "metadata": {},
     "output_type": "display_data"
    }
   ],
   "source": [
    "cpm = cpoMultiplex(list(cpoScale, cpoPca))\n",
    "summary(cpm)"
   ]
  },
  {
   "cell_type": "code",
   "execution_count": 97,
   "metadata": {},
   "outputs": [
    {
     "data": {
      "text/html": [
       "<table>\n",
       "<thead><tr><th scope=col>Sepal.Length</th><th scope=col>Sepal.Width</th><th scope=col>Petal.Length</th><th scope=col>Petal.Width</th><th scope=col>Species</th></tr></thead>\n",
       "<tbody>\n",
       "\t<tr><td>-0.8976739 </td><td> 1.01560199</td><td>-1.335752  </td><td>-1.311052  </td><td>setosa     </td></tr>\n",
       "\t<tr><td>-1.1392005 </td><td>-0.13153881</td><td>-1.335752  </td><td>-1.311052  </td><td>setosa     </td></tr>\n",
       "\t<tr><td>-1.3807271 </td><td> 0.32731751</td><td>-1.392399  </td><td>-1.311052  </td><td>setosa     </td></tr>\n",
       "\t<tr><td>-1.5014904 </td><td> 0.09788935</td><td>-1.279104  </td><td>-1.311052  </td><td>setosa     </td></tr>\n",
       "\t<tr><td>-1.0184372 </td><td> 1.24503015</td><td>-1.335752  </td><td>-1.311052  </td><td>setosa     </td></tr>\n",
       "\t<tr><td>-0.5353840 </td><td> 1.93331463</td><td>-1.165809  </td><td>-1.048667  </td><td>setosa     </td></tr>\n",
       "</tbody>\n",
       "</table>\n"
      ],
      "text/latex": [
       "\\begin{tabular}{r|lllll}\n",
       " Sepal.Length & Sepal.Width & Petal.Length & Petal.Width & Species\\\\\n",
       "\\hline\n",
       "\t -0.8976739  &  1.01560199 & -1.335752   & -1.311052   & setosa     \\\\\n",
       "\t -1.1392005  & -0.13153881 & -1.335752   & -1.311052   & setosa     \\\\\n",
       "\t -1.3807271  &  0.32731751 & -1.392399   & -1.311052   & setosa     \\\\\n",
       "\t -1.5014904  &  0.09788935 & -1.279104   & -1.311052   & setosa     \\\\\n",
       "\t -1.0184372  &  1.24503015 & -1.335752   & -1.311052   & setosa     \\\\\n",
       "\t -0.5353840  &  1.93331463 & -1.165809   & -1.048667   & setosa     \\\\\n",
       "\\end{tabular}\n"
      ],
      "text/markdown": [
       "\n",
       "Sepal.Length | Sepal.Width | Petal.Length | Petal.Width | Species | \n",
       "|---|---|---|---|---|---|\n",
       "| -0.8976739  |  1.01560199 | -1.335752   | -1.311052   | setosa      | \n",
       "| -1.1392005  | -0.13153881 | -1.335752   | -1.311052   | setosa      | \n",
       "| -1.3807271  |  0.32731751 | -1.392399   | -1.311052   | setosa      | \n",
       "| -1.5014904  |  0.09788935 | -1.279104   | -1.311052   | setosa      | \n",
       "| -1.0184372  |  1.24503015 | -1.335752   | -1.311052   | setosa      | \n",
       "| -0.5353840  |  1.93331463 | -1.165809   | -1.048667   | setosa      | \n",
       "\n",
       "\n"
      ],
      "text/plain": [
       "  Sepal.Length Sepal.Width Petal.Length Petal.Width Species\n",
       "1 -0.8976739    1.01560199 -1.335752    -1.311052   setosa \n",
       "2 -1.1392005   -0.13153881 -1.335752    -1.311052   setosa \n",
       "3 -1.3807271    0.32731751 -1.392399    -1.311052   setosa \n",
       "4 -1.5014904    0.09788935 -1.279104    -1.311052   setosa \n",
       "5 -1.0184372    1.24503015 -1.335752    -1.311052   setosa \n",
       "6 -0.5353840    1.93331463 -1.165809    -1.048667   setosa "
      ]
     },
     "metadata": {},
     "output_type": "display_data"
    }
   ],
   "source": [
    "head(iris %>>% setHyperPars(cpm, multiplex.selected.cpo = \"scale\"))"
   ]
  },
  {
   "cell_type": "code",
   "execution_count": 98,
   "metadata": {},
   "outputs": [
    {
     "data": {
      "text/html": [
       "<table>\n",
       "<thead><tr><th scope=col>Sepal.Length</th><th scope=col>Sepal.Width</th><th scope=col>Petal.Length</th><th scope=col>Petal.Width</th><th scope=col>Species</th></tr></thead>\n",
       "<tbody>\n",
       "\t<tr><td>0.8613268</td><td>1.1296201</td><td>0.3362663</td><td>0.140405 </td><td>setosa   </td></tr>\n",
       "\t<tr><td>0.8275493</td><td>0.9682458</td><td>0.3362663</td><td>0.140405 </td><td>setosa   </td></tr>\n",
       "\t<tr><td>0.7937718</td><td>1.0327956</td><td>0.3122473</td><td>0.140405 </td><td>setosa   </td></tr>\n",
       "\t<tr><td>0.7768830</td><td>1.0005207</td><td>0.3602853</td><td>0.140405 </td><td>setosa   </td></tr>\n",
       "\t<tr><td>0.8444380</td><td>1.1618950</td><td>0.3362663</td><td>0.140405 </td><td>setosa   </td></tr>\n",
       "\t<tr><td>0.9119931</td><td>1.2587196</td><td>0.4083234</td><td>0.280810 </td><td>setosa   </td></tr>\n",
       "</tbody>\n",
       "</table>\n"
      ],
      "text/latex": [
       "\\begin{tabular}{r|lllll}\n",
       " Sepal.Length & Sepal.Width & Petal.Length & Petal.Width & Species\\\\\n",
       "\\hline\n",
       "\t 0.8613268 & 1.1296201 & 0.3362663 & 0.140405  & setosa   \\\\\n",
       "\t 0.8275493 & 0.9682458 & 0.3362663 & 0.140405  & setosa   \\\\\n",
       "\t 0.7937718 & 1.0327956 & 0.3122473 & 0.140405  & setosa   \\\\\n",
       "\t 0.7768830 & 1.0005207 & 0.3602853 & 0.140405  & setosa   \\\\\n",
       "\t 0.8444380 & 1.1618950 & 0.3362663 & 0.140405  & setosa   \\\\\n",
       "\t 0.9119931 & 1.2587196 & 0.4083234 & 0.280810  & setosa   \\\\\n",
       "\\end{tabular}\n"
      ],
      "text/markdown": [
       "\n",
       "Sepal.Length | Sepal.Width | Petal.Length | Petal.Width | Species | \n",
       "|---|---|---|---|---|---|\n",
       "| 0.8613268 | 1.1296201 | 0.3362663 | 0.140405  | setosa    | \n",
       "| 0.8275493 | 0.9682458 | 0.3362663 | 0.140405  | setosa    | \n",
       "| 0.7937718 | 1.0327956 | 0.3122473 | 0.140405  | setosa    | \n",
       "| 0.7768830 | 1.0005207 | 0.3602853 | 0.140405  | setosa    | \n",
       "| 0.8444380 | 1.1618950 | 0.3362663 | 0.140405  | setosa    | \n",
       "| 0.9119931 | 1.2587196 | 0.4083234 | 0.280810  | setosa    | \n",
       "\n",
       "\n"
      ],
      "text/plain": [
       "  Sepal.Length Sepal.Width Petal.Length Petal.Width Species\n",
       "1 0.8613268    1.1296201   0.3362663    0.140405    setosa \n",
       "2 0.8275493    0.9682458   0.3362663    0.140405    setosa \n",
       "3 0.7937718    1.0327956   0.3122473    0.140405    setosa \n",
       "4 0.7768830    1.0005207   0.3602853    0.140405    setosa \n",
       "5 0.8444380    1.1618950   0.3362663    0.140405    setosa \n",
       "6 0.9119931    1.2587196   0.4083234    0.280810    setosa "
      ]
     },
     "metadata": {},
     "output_type": "display_data"
    }
   ],
   "source": [
    "# every CPO's Hyperparameters are exported\n",
    "head(iris %>>% setHyperPars(cpm, multiplex.selected.cpo = \"scale\", multiplex.scale.center = FALSE))"
   ]
  },
  {
   "cell_type": "code",
   "execution_count": 100,
   "metadata": {},
   "outputs": [
    {
     "data": {
      "text/html": [
       "<table>\n",
       "<thead><tr><th scope=col>Species</th><th scope=col>PC1</th><th scope=col>PC2</th><th scope=col>PC3</th><th scope=col>PC4</th></tr></thead>\n",
       "<tbody>\n",
       "\t<tr><td>setosa      </td><td>-5.912747   </td><td>2.302033    </td><td> 0.007401536</td><td> 0.003087706</td></tr>\n",
       "\t<tr><td>setosa      </td><td>-5.572482   </td><td>1.971826    </td><td> 0.244592251</td><td> 0.097552888</td></tr>\n",
       "\t<tr><td>setosa      </td><td>-5.446977   </td><td>2.095206    </td><td> 0.015029262</td><td> 0.018013331</td></tr>\n",
       "\t<tr><td>setosa      </td><td>-5.436459   </td><td>1.870382    </td><td> 0.020504880</td><td>-0.078491501</td></tr>\n",
       "\t<tr><td>setosa      </td><td>-5.875645   </td><td>2.328290    </td><td>-0.110338269</td><td>-0.060719326</td></tr>\n",
       "\t<tr><td>setosa      </td><td>-6.477598   </td><td>2.324650    </td><td>-0.237202487</td><td>-0.021419633</td></tr>\n",
       "</tbody>\n",
       "</table>\n"
      ],
      "text/latex": [
       "\\begin{tabular}{r|lllll}\n",
       " Species & PC1 & PC2 & PC3 & PC4\\\\\n",
       "\\hline\n",
       "\t setosa       & -5.912747    & 2.302033     &  0.007401536 &  0.003087706\\\\\n",
       "\t setosa       & -5.572482    & 1.971826     &  0.244592251 &  0.097552888\\\\\n",
       "\t setosa       & -5.446977    & 2.095206     &  0.015029262 &  0.018013331\\\\\n",
       "\t setosa       & -5.436459    & 1.870382     &  0.020504880 & -0.078491501\\\\\n",
       "\t setosa       & -5.875645    & 2.328290     & -0.110338269 & -0.060719326\\\\\n",
       "\t setosa       & -6.477598    & 2.324650     & -0.237202487 & -0.021419633\\\\\n",
       "\\end{tabular}\n"
      ],
      "text/markdown": [
       "\n",
       "Species | PC1 | PC2 | PC3 | PC4 | \n",
       "|---|---|---|---|---|---|\n",
       "| setosa       | -5.912747    | 2.302033     |  0.007401536 |  0.003087706 | \n",
       "| setosa       | -5.572482    | 1.971826     |  0.244592251 |  0.097552888 | \n",
       "| setosa       | -5.446977    | 2.095206     |  0.015029262 |  0.018013331 | \n",
       "| setosa       | -5.436459    | 1.870382     |  0.020504880 | -0.078491501 | \n",
       "| setosa       | -5.875645    | 2.328290     | -0.110338269 | -0.060719326 | \n",
       "| setosa       | -6.477598    | 2.324650     | -0.237202487 | -0.021419633 | \n",
       "\n",
       "\n"
      ],
      "text/plain": [
       "  Species PC1       PC2      PC3          PC4         \n",
       "1 setosa  -5.912747 2.302033  0.007401536  0.003087706\n",
       "2 setosa  -5.572482 1.971826  0.244592251  0.097552888\n",
       "3 setosa  -5.446977 2.095206  0.015029262  0.018013331\n",
       "4 setosa  -5.436459 1.870382  0.020504880 -0.078491501\n",
       "5 setosa  -5.875645 2.328290 -0.110338269 -0.060719326\n",
       "6 setosa  -6.477598 2.324650 -0.237202487 -0.021419633"
      ]
     },
     "metadata": {},
     "output_type": "display_data"
    }
   ],
   "source": [
    "head(iris %>>% setHyperPars(cpm, multiplex.selected.cpo = \"pca\"))"
   ]
  },
  {
   "cell_type": "markdown",
   "metadata": {},
   "source": [
    "## Meta-CPO\n",
    "A CPO that builds data-dependent CPO networks. This is a generalized CPO-Multiplexer that takes a function which decides (from the data, and from user-specified hyperparameters) what CPO operation to perform. Besides optional arguments, the used CPO's Hyperparameters are exported as well. This is a generalization of `cpoMultiplex`; however, `requires` of the involved parameters are not adjusted, since this is impossible in principle."
   ]
  },
  {
   "cell_type": "code",
   "execution_count": 102,
   "metadata": {},
   "outputs": [],
   "source": [
    "s.and.p = cpoMeta(logical.param: logical,\n",
    ".export = list(cpoScale(id = \"scale\"), \n",
    "  cpoPca(id = \"pca\")),\n",
    "cpo.build = function(data, target, logical.param, scale, pca) {\n",
    "  if (logical.param || mean(data[[1]]) > 10) {\n",
    "    scale %>>% pca\n",
    "  } else {\n",
    "    pca %>>% scale\n",
    "  }\n",
    "})"
   ]
  },
  {
   "cell_type": "code",
   "execution_count": 103,
   "metadata": {},
   "outputs": [
    {
     "data": {
      "text/plain": [
       "Retrafo chain of 1 elements:\n",
       "meta(scale.center = TRUE, scale.scale = TRUE)\n",
       "\n",
       "                      Type len  Def Constr Req Tunable Trafo\n",
       "meta.logical.param logical   -    -      -   -    TRUE     -\n",
       "meta.scale.center  logical   - TRUE      -   -    TRUE     -\n",
       "meta.scale.scale   logical   - TRUE      -   -    TRUE     -"
      ]
     },
     "metadata": {},
     "output_type": "display_data"
    }
   ],
   "source": [
    " summary(s.and.p())"
   ]
  },
  {
   "cell_type": "markdown",
   "metadata": {},
   "source": [
    "The resulting CPO `s.and.p` performs scaling and PCA, with the order depending on the parameter `logical.param` and on whether the mean of the data's first column exceeds 10. If either of those is true, the data will be first scaled, then PCA'd, otherwise the order is reversed.\n",
    "The all CPOs listed in `.export` are passed to the `cpo.build`."
   ]
  },
  {
   "cell_type": "markdown",
   "metadata": {},
   "source": [
    "## CBind CPO\n",
    "`cbind` other CPOs as operation. The `cbinder` makes it possible to build DAGs of CPOs that perform different operations on data and paste the results next to each other."
   ]
  },
  {
   "cell_type": "code",
   "execution_count": 104,
   "metadata": {},
   "outputs": [],
   "source": [
    "scale = cpoScale(id = \"scale\")\n",
    "scale.pca = scale %>>% cpoPca()\n",
    "cbinder = cpoCbind(scaled = scale, pcad = scale.pca, original = NULLCPO)"
   ]
  },
  {
   "cell_type": "code",
   "execution_count": 106,
   "metadata": {},
   "outputs": [
    {
     "data": {},
     "metadata": {},
     "output_type": "display_data"
    }
   ],
   "source": [
    "# cpoCbind recognises that \"scale.scale\" happens before \"pca.pca\" but is also fed to the\n",
    "# result directly. The summary draws a (crude) ascii-art graph.\n",
    "summary(cbinder)"
   ]
  },
  {
   "cell_type": "code",
   "execution_count": 107,
   "metadata": {},
   "outputs": [
    {
     "data": {
      "text/html": [
       "<table>\n",
       "<thead><tr><th scope=col>scaled.Sepal.Length</th><th scope=col>scaled.Sepal.Width</th><th scope=col>scaled.Petal.Length</th><th scope=col>scaled.Petal.Width</th><th scope=col>scaled.Species</th><th scope=col>pcad.Species</th><th scope=col>pcad.PC1</th><th scope=col>pcad.PC2</th><th scope=col>pcad.PC3</th><th scope=col>pcad.PC4</th><th scope=col>original.Sepal.Length</th><th scope=col>original.Sepal.Width</th><th scope=col>original.Petal.Length</th><th scope=col>original.Petal.Width</th><th scope=col>original.Species</th></tr></thead>\n",
       "<tbody>\n",
       "\t<tr><td>-0.8976739  </td><td> 1.01560199 </td><td>-1.335752   </td><td>-1.311052   </td><td>setosa      </td><td>setosa      </td><td>-2.257141   </td><td>-0.4784238  </td><td> 0.12727962 </td><td> 0.024087508</td><td>5.1         </td><td>3.5         </td><td>1.4         </td><td>0.2         </td><td>setosa      </td></tr>\n",
       "\t<tr><td>-1.1392005  </td><td>-0.13153881 </td><td>-1.335752   </td><td>-1.311052   </td><td>setosa      </td><td>setosa      </td><td>-2.074013   </td><td> 0.6718827  </td><td> 0.23382552 </td><td> 0.102662845</td><td>4.9         </td><td>3.0         </td><td>1.4         </td><td>0.2         </td><td>setosa      </td></tr>\n",
       "\t<tr><td>-1.3807271  </td><td> 0.32731751 </td><td>-1.392399   </td><td>-1.311052   </td><td>setosa      </td><td>setosa      </td><td>-2.356335   </td><td> 0.3407664  </td><td>-0.04405390 </td><td> 0.028282305</td><td>4.7         </td><td>3.2         </td><td>1.3         </td><td>0.2         </td><td>setosa      </td></tr>\n",
       "\t<tr><td>-1.5014904  </td><td> 0.09788935 </td><td>-1.279104   </td><td>-1.311052   </td><td>setosa      </td><td>setosa      </td><td>-2.291707   </td><td> 0.5953999  </td><td>-0.09098530 </td><td>-0.065735340</td><td>4.6         </td><td>3.1         </td><td>1.5         </td><td>0.2         </td><td>setosa      </td></tr>\n",
       "\t<tr><td>-1.0184372  </td><td> 1.24503015 </td><td>-1.335752   </td><td>-1.311052   </td><td>setosa      </td><td>setosa      </td><td>-2.381863   </td><td>-0.6446757  </td><td>-0.01568565 </td><td>-0.035802870</td><td>5.0         </td><td>3.6         </td><td>1.4         </td><td>0.2         </td><td>setosa      </td></tr>\n",
       "\t<tr><td>-0.5353840  </td><td> 1.93331463 </td><td>-1.165809   </td><td>-1.048667   </td><td>setosa      </td><td>setosa      </td><td>-2.068701   </td><td>-1.4842053  </td><td>-0.02687825 </td><td> 0.006586116</td><td>5.4         </td><td>3.9         </td><td>1.7         </td><td>0.4         </td><td>setosa      </td></tr>\n",
       "</tbody>\n",
       "</table>\n"
      ],
      "text/latex": [
       "\\begin{tabular}{r|lllllllllllllll}\n",
       " scaled.Sepal.Length & scaled.Sepal.Width & scaled.Petal.Length & scaled.Petal.Width & scaled.Species & pcad.Species & pcad.PC1 & pcad.PC2 & pcad.PC3 & pcad.PC4 & original.Sepal.Length & original.Sepal.Width & original.Petal.Length & original.Petal.Width & original.Species\\\\\n",
       "\\hline\n",
       "\t -0.8976739   &  1.01560199  & -1.335752    & -1.311052    & setosa       & setosa       & -2.257141    & -0.4784238   &  0.12727962  &  0.024087508 & 5.1          & 3.5          & 1.4          & 0.2          & setosa      \\\\\n",
       "\t -1.1392005   & -0.13153881  & -1.335752    & -1.311052    & setosa       & setosa       & -2.074013    &  0.6718827   &  0.23382552  &  0.102662845 & 4.9          & 3.0          & 1.4          & 0.2          & setosa      \\\\\n",
       "\t -1.3807271   &  0.32731751  & -1.392399    & -1.311052    & setosa       & setosa       & -2.356335    &  0.3407664   & -0.04405390  &  0.028282305 & 4.7          & 3.2          & 1.3          & 0.2          & setosa      \\\\\n",
       "\t -1.5014904   &  0.09788935  & -1.279104    & -1.311052    & setosa       & setosa       & -2.291707    &  0.5953999   & -0.09098530  & -0.065735340 & 4.6          & 3.1          & 1.5          & 0.2          & setosa      \\\\\n",
       "\t -1.0184372   &  1.24503015  & -1.335752    & -1.311052    & setosa       & setosa       & -2.381863    & -0.6446757   & -0.01568565  & -0.035802870 & 5.0          & 3.6          & 1.4          & 0.2          & setosa      \\\\\n",
       "\t -0.5353840   &  1.93331463  & -1.165809    & -1.048667    & setosa       & setosa       & -2.068701    & -1.4842053   & -0.02687825  &  0.006586116 & 5.4          & 3.9          & 1.7          & 0.4          & setosa      \\\\\n",
       "\\end{tabular}\n"
      ],
      "text/markdown": [
       "\n",
       "scaled.Sepal.Length | scaled.Sepal.Width | scaled.Petal.Length | scaled.Petal.Width | scaled.Species | pcad.Species | pcad.PC1 | pcad.PC2 | pcad.PC3 | pcad.PC4 | original.Sepal.Length | original.Sepal.Width | original.Petal.Length | original.Petal.Width | original.Species | \n",
       "|---|---|---|---|---|---|\n",
       "| -0.8976739   |  1.01560199  | -1.335752    | -1.311052    | setosa       | setosa       | -2.257141    | -0.4784238   |  0.12727962  |  0.024087508 | 5.1          | 3.5          | 1.4          | 0.2          | setosa       | \n",
       "| -1.1392005   | -0.13153881  | -1.335752    | -1.311052    | setosa       | setosa       | -2.074013    |  0.6718827   |  0.23382552  |  0.102662845 | 4.9          | 3.0          | 1.4          | 0.2          | setosa       | \n",
       "| -1.3807271   |  0.32731751  | -1.392399    | -1.311052    | setosa       | setosa       | -2.356335    |  0.3407664   | -0.04405390  |  0.028282305 | 4.7          | 3.2          | 1.3          | 0.2          | setosa       | \n",
       "| -1.5014904   |  0.09788935  | -1.279104    | -1.311052    | setosa       | setosa       | -2.291707    |  0.5953999   | -0.09098530  | -0.065735340 | 4.6          | 3.1          | 1.5          | 0.2          | setosa       | \n",
       "| -1.0184372   |  1.24503015  | -1.335752    | -1.311052    | setosa       | setosa       | -2.381863    | -0.6446757   | -0.01568565  | -0.035802870 | 5.0          | 3.6          | 1.4          | 0.2          | setosa       | \n",
       "| -0.5353840   |  1.93331463  | -1.165809    | -1.048667    | setosa       | setosa       | -2.068701    | -1.4842053   | -0.02687825  |  0.006586116 | 5.4          | 3.9          | 1.7          | 0.4          | setosa       | \n",
       "\n",
       "\n"
      ],
      "text/plain": [
       "  scaled.Sepal.Length scaled.Sepal.Width scaled.Petal.Length scaled.Petal.Width\n",
       "1 -0.8976739           1.01560199        -1.335752           -1.311052         \n",
       "2 -1.1392005          -0.13153881        -1.335752           -1.311052         \n",
       "3 -1.3807271           0.32731751        -1.392399           -1.311052         \n",
       "4 -1.5014904           0.09788935        -1.279104           -1.311052         \n",
       "5 -1.0184372           1.24503015        -1.335752           -1.311052         \n",
       "6 -0.5353840           1.93331463        -1.165809           -1.048667         \n",
       "  scaled.Species pcad.Species pcad.PC1  pcad.PC2   pcad.PC3    pcad.PC4    \n",
       "1 setosa         setosa       -2.257141 -0.4784238  0.12727962  0.024087508\n",
       "2 setosa         setosa       -2.074013  0.6718827  0.23382552  0.102662845\n",
       "3 setosa         setosa       -2.356335  0.3407664 -0.04405390  0.028282305\n",
       "4 setosa         setosa       -2.291707  0.5953999 -0.09098530 -0.065735340\n",
       "5 setosa         setosa       -2.381863 -0.6446757 -0.01568565 -0.035802870\n",
       "6 setosa         setosa       -2.068701 -1.4842053 -0.02687825  0.006586116\n",
       "  original.Sepal.Length original.Sepal.Width original.Petal.Length\n",
       "1 5.1                   3.5                  1.4                  \n",
       "2 4.9                   3.0                  1.4                  \n",
       "3 4.7                   3.2                  1.3                  \n",
       "4 4.6                   3.1                  1.5                  \n",
       "5 5.0                   3.6                  1.4                  \n",
       "6 5.4                   3.9                  1.7                  \n",
       "  original.Petal.Width original.Species\n",
       "1 0.2                  setosa          \n",
       "2 0.2                  setosa          \n",
       "3 0.2                  setosa          \n",
       "4 0.2                  setosa          \n",
       "5 0.2                  setosa          \n",
       "6 0.4                  setosa          "
      ]
     },
     "metadata": {},
     "output_type": "display_data"
    }
   ],
   "source": [
    "head(iris %>>% cbinder)"
   ]
  },
  {
   "cell_type": "code",
   "execution_count": 108,
   "metadata": {},
   "outputs": [
    {
     "data": {},
     "metadata": {},
     "output_type": "display_data"
    },
    {
     "data": {
      "text/html": [
       "<table>\n",
       "<thead><tr><th scope=col>scaled.Sepal.Length</th><th scope=col>scaled.Sepal.Width</th><th scope=col>scaled.Petal.Length</th><th scope=col>scaled.Petal.Width</th><th scope=col>scaled.Species</th><th scope=col>pcad.Species</th><th scope=col>pcad.PC1</th><th scope=col>pcad.PC2</th><th scope=col>pcad.PC3</th><th scope=col>pcad.PC4</th><th scope=col>original.Sepal.Length</th><th scope=col>original.Sepal.Width</th><th scope=col>original.Petal.Length</th><th scope=col>original.Petal.Width</th><th scope=col>original.Species</th></tr></thead>\n",
       "<tbody>\n",
       "\t<tr><td>-0.8976739  </td><td> 1.01560199 </td><td>-1.335752   </td><td>-1.311052   </td><td>setosa      </td><td>setosa      </td><td>-2.257141   </td><td>-0.4784238  </td><td> 0.12727962 </td><td> 0.024087508</td><td>5.1         </td><td>3.5         </td><td>1.4         </td><td>0.2         </td><td>setosa      </td></tr>\n",
       "\t<tr><td>-1.1392005  </td><td>-0.13153881 </td><td>-1.335752   </td><td>-1.311052   </td><td>setosa      </td><td>setosa      </td><td>-2.074013   </td><td> 0.6718827  </td><td> 0.23382552 </td><td> 0.102662845</td><td>4.9         </td><td>3.0         </td><td>1.4         </td><td>0.2         </td><td>setosa      </td></tr>\n",
       "\t<tr><td>-1.3807271  </td><td> 0.32731751 </td><td>-1.392399   </td><td>-1.311052   </td><td>setosa      </td><td>setosa      </td><td>-2.356335   </td><td> 0.3407664  </td><td>-0.04405390 </td><td> 0.028282305</td><td>4.7         </td><td>3.2         </td><td>1.3         </td><td>0.2         </td><td>setosa      </td></tr>\n",
       "\t<tr><td>-1.5014904  </td><td> 0.09788935 </td><td>-1.279104   </td><td>-1.311052   </td><td>setosa      </td><td>setosa      </td><td>-2.291707   </td><td> 0.5953999  </td><td>-0.09098530 </td><td>-0.065735340</td><td>4.6         </td><td>3.1         </td><td>1.5         </td><td>0.2         </td><td>setosa      </td></tr>\n",
       "\t<tr><td>-1.0184372  </td><td> 1.24503015 </td><td>-1.335752   </td><td>-1.311052   </td><td>setosa      </td><td>setosa      </td><td>-2.381863   </td><td>-0.6446757  </td><td>-0.01568565 </td><td>-0.035802870</td><td>5.0         </td><td>3.6         </td><td>1.4         </td><td>0.2         </td><td>setosa      </td></tr>\n",
       "\t<tr><td>-0.5353840  </td><td> 1.93331463 </td><td>-1.165809   </td><td>-1.048667   </td><td>setosa      </td><td>setosa      </td><td>-2.068701   </td><td>-1.4842053  </td><td>-0.02687825 </td><td> 0.006586116</td><td>5.4         </td><td>3.9         </td><td>1.7         </td><td>0.4         </td><td>setosa      </td></tr>\n",
       "</tbody>\n",
       "</table>\n"
      ],
      "text/latex": [
       "\\begin{tabular}{r|lllllllllllllll}\n",
       " scaled.Sepal.Length & scaled.Sepal.Width & scaled.Petal.Length & scaled.Petal.Width & scaled.Species & pcad.Species & pcad.PC1 & pcad.PC2 & pcad.PC3 & pcad.PC4 & original.Sepal.Length & original.Sepal.Width & original.Petal.Length & original.Petal.Width & original.Species\\\\\n",
       "\\hline\n",
       "\t -0.8976739   &  1.01560199  & -1.335752    & -1.311052    & setosa       & setosa       & -2.257141    & -0.4784238   &  0.12727962  &  0.024087508 & 5.1          & 3.5          & 1.4          & 0.2          & setosa      \\\\\n",
       "\t -1.1392005   & -0.13153881  & -1.335752    & -1.311052    & setosa       & setosa       & -2.074013    &  0.6718827   &  0.23382552  &  0.102662845 & 4.9          & 3.0          & 1.4          & 0.2          & setosa      \\\\\n",
       "\t -1.3807271   &  0.32731751  & -1.392399    & -1.311052    & setosa       & setosa       & -2.356335    &  0.3407664   & -0.04405390  &  0.028282305 & 4.7          & 3.2          & 1.3          & 0.2          & setosa      \\\\\n",
       "\t -1.5014904   &  0.09788935  & -1.279104    & -1.311052    & setosa       & setosa       & -2.291707    &  0.5953999   & -0.09098530  & -0.065735340 & 4.6          & 3.1          & 1.5          & 0.2          & setosa      \\\\\n",
       "\t -1.0184372   &  1.24503015  & -1.335752    & -1.311052    & setosa       & setosa       & -2.381863    & -0.6446757   & -0.01568565  & -0.035802870 & 5.0          & 3.6          & 1.4          & 0.2          & setosa      \\\\\n",
       "\t -0.5353840   &  1.93331463  & -1.165809    & -1.048667    & setosa       & setosa       & -2.068701    & -1.4842053   & -0.02687825  &  0.006586116 & 5.4          & 3.9          & 1.7          & 0.4          & setosa      \\\\\n",
       "\\end{tabular}\n"
      ],
      "text/markdown": [
       "\n",
       "scaled.Sepal.Length | scaled.Sepal.Width | scaled.Petal.Length | scaled.Petal.Width | scaled.Species | pcad.Species | pcad.PC1 | pcad.PC2 | pcad.PC3 | pcad.PC4 | original.Sepal.Length | original.Sepal.Width | original.Petal.Length | original.Petal.Width | original.Species | \n",
       "|---|---|---|---|---|---|\n",
       "| -0.8976739   |  1.01560199  | -1.335752    | -1.311052    | setosa       | setosa       | -2.257141    | -0.4784238   |  0.12727962  |  0.024087508 | 5.1          | 3.5          | 1.4          | 0.2          | setosa       | \n",
       "| -1.1392005   | -0.13153881  | -1.335752    | -1.311052    | setosa       | setosa       | -2.074013    |  0.6718827   |  0.23382552  |  0.102662845 | 4.9          | 3.0          | 1.4          | 0.2          | setosa       | \n",
       "| -1.3807271   |  0.32731751  | -1.392399    | -1.311052    | setosa       | setosa       | -2.356335    |  0.3407664   | -0.04405390  |  0.028282305 | 4.7          | 3.2          | 1.3          | 0.2          | setosa       | \n",
       "| -1.5014904   |  0.09788935  | -1.279104    | -1.311052    | setosa       | setosa       | -2.291707    |  0.5953999   | -0.09098530  | -0.065735340 | 4.6          | 3.1          | 1.5          | 0.2          | setosa       | \n",
       "| -1.0184372   |  1.24503015  | -1.335752    | -1.311052    | setosa       | setosa       | -2.381863    | -0.6446757   | -0.01568565  | -0.035802870 | 5.0          | 3.6          | 1.4          | 0.2          | setosa       | \n",
       "| -0.5353840   |  1.93331463  | -1.165809    | -1.048667    | setosa       | setosa       | -2.068701    | -1.4842053   | -0.02687825  |  0.006586116 | 5.4          | 3.9          | 1.7          | 0.4          | setosa       | \n",
       "\n",
       "\n"
      ],
      "text/plain": [
       "  scaled.Sepal.Length scaled.Sepal.Width scaled.Petal.Length scaled.Petal.Width\n",
       "1 -0.8976739           1.01560199        -1.335752           -1.311052         \n",
       "2 -1.1392005          -0.13153881        -1.335752           -1.311052         \n",
       "3 -1.3807271           0.32731751        -1.392399           -1.311052         \n",
       "4 -1.5014904           0.09788935        -1.279104           -1.311052         \n",
       "5 -1.0184372           1.24503015        -1.335752           -1.311052         \n",
       "6 -0.5353840           1.93331463        -1.165809           -1.048667         \n",
       "  scaled.Species pcad.Species pcad.PC1  pcad.PC2   pcad.PC3    pcad.PC4    \n",
       "1 setosa         setosa       -2.257141 -0.4784238  0.12727962  0.024087508\n",
       "2 setosa         setosa       -2.074013  0.6718827  0.23382552  0.102662845\n",
       "3 setosa         setosa       -2.356335  0.3407664 -0.04405390  0.028282305\n",
       "4 setosa         setosa       -2.291707  0.5953999 -0.09098530 -0.065735340\n",
       "5 setosa         setosa       -2.381863 -0.6446757 -0.01568565 -0.035802870\n",
       "6 setosa         setosa       -2.068701 -1.4842053 -0.02687825  0.006586116\n",
       "  original.Sepal.Length original.Sepal.Width original.Petal.Length\n",
       "1 5.1                   3.5                  1.4                  \n",
       "2 4.9                   3.0                  1.4                  \n",
       "3 4.7                   3.2                  1.3                  \n",
       "4 4.6                   3.1                  1.5                  \n",
       "5 5.0                   3.6                  1.4                  \n",
       "6 5.4                   3.9                  1.7                  \n",
       "  original.Petal.Width original.Species\n",
       "1 0.2                  setosa          \n",
       "2 0.2                  setosa          \n",
       "3 0.2                  setosa          \n",
       "4 0.2                  setosa          \n",
       "5 0.2                  setosa          \n",
       "6 0.4                  setosa          "
      ]
     },
     "metadata": {},
     "output_type": "display_data"
    }
   ],
   "source": [
    "# the unnecessary copies of \"Species\" are unfortunate. Remove them with cpoSelect:\n",
    "selector = mlr:::cpoSelect(type = \"numeric\")\n",
    "cbinder.select = cpoCbind(scaled = selector %>>% scale, pcad = selector %>>% scale.pca, original = NULLCPO)\n",
    "cbinder.select\n",
    "head(iris %>>% cbinder)"
   ]
  },
  {
   "cell_type": "code",
   "execution_count": 109,
   "metadata": {},
   "outputs": [
    {
     "data": {
      "text/html": [
       "<table>\n",
       "<thead><tr><th scope=col>Species</th><th scope=col>scaled.Sepal.Length</th><th scope=col>scaled.Sepal.Width</th><th scope=col>scaled.Petal.Length</th><th scope=col>scaled.Petal.Width</th><th scope=col>pcad.PC1</th><th scope=col>pcad.PC2</th><th scope=col>pcad.PC3</th><th scope=col>pcad.PC4</th><th scope=col>original.Sepal.Length</th><th scope=col>original.Sepal.Width</th><th scope=col>original.Petal.Length</th><th scope=col>original.Petal.Width</th></tr></thead>\n",
       "<tbody>\n",
       "\t<tr><td>setosa      </td><td>-0.8976739  </td><td> 1.01560199 </td><td>-1.335752   </td><td>-1.311052   </td><td>-2.257141   </td><td>-0.4784238  </td><td> 0.12727962 </td><td> 0.024087508</td><td>5.1         </td><td>3.5         </td><td>1.4         </td><td>0.2         </td></tr>\n",
       "\t<tr><td>setosa      </td><td>-1.1392005  </td><td>-0.13153881 </td><td>-1.335752   </td><td>-1.311052   </td><td>-2.074013   </td><td> 0.6718827  </td><td> 0.23382552 </td><td> 0.102662845</td><td>4.9         </td><td>3.0         </td><td>1.4         </td><td>0.2         </td></tr>\n",
       "\t<tr><td>setosa      </td><td>-1.3807271  </td><td> 0.32731751 </td><td>-1.392399   </td><td>-1.311052   </td><td>-2.356335   </td><td> 0.3407664  </td><td>-0.04405390 </td><td> 0.028282305</td><td>4.7         </td><td>3.2         </td><td>1.3         </td><td>0.2         </td></tr>\n",
       "\t<tr><td>setosa      </td><td>-1.5014904  </td><td> 0.09788935 </td><td>-1.279104   </td><td>-1.311052   </td><td>-2.291707   </td><td> 0.5953999  </td><td>-0.09098530 </td><td>-0.065735340</td><td>4.6         </td><td>3.1         </td><td>1.5         </td><td>0.2         </td></tr>\n",
       "\t<tr><td>setosa      </td><td>-1.0184372  </td><td> 1.24503015 </td><td>-1.335752   </td><td>-1.311052   </td><td>-2.381863   </td><td>-0.6446757  </td><td>-0.01568565 </td><td>-0.035802870</td><td>5.0         </td><td>3.6         </td><td>1.4         </td><td>0.2         </td></tr>\n",
       "\t<tr><td>setosa      </td><td>-0.5353840  </td><td> 1.93331463 </td><td>-1.165809   </td><td>-1.048667   </td><td>-2.068701   </td><td>-1.4842053  </td><td>-0.02687825 </td><td> 0.006586116</td><td>5.4         </td><td>3.9         </td><td>1.7         </td><td>0.4         </td></tr>\n",
       "</tbody>\n",
       "</table>\n"
      ],
      "text/latex": [
       "\\begin{tabular}{r|lllllllllllll}\n",
       " Species & scaled.Sepal.Length & scaled.Sepal.Width & scaled.Petal.Length & scaled.Petal.Width & pcad.PC1 & pcad.PC2 & pcad.PC3 & pcad.PC4 & original.Sepal.Length & original.Sepal.Width & original.Petal.Length & original.Petal.Width\\\\\n",
       "\\hline\n",
       "\t setosa       & -0.8976739   &  1.01560199  & -1.335752    & -1.311052    & -2.257141    & -0.4784238   &  0.12727962  &  0.024087508 & 5.1          & 3.5          & 1.4          & 0.2         \\\\\n",
       "\t setosa       & -1.1392005   & -0.13153881  & -1.335752    & -1.311052    & -2.074013    &  0.6718827   &  0.23382552  &  0.102662845 & 4.9          & 3.0          & 1.4          & 0.2         \\\\\n",
       "\t setosa       & -1.3807271   &  0.32731751  & -1.392399    & -1.311052    & -2.356335    &  0.3407664   & -0.04405390  &  0.028282305 & 4.7          & 3.2          & 1.3          & 0.2         \\\\\n",
       "\t setosa       & -1.5014904   &  0.09788935  & -1.279104    & -1.311052    & -2.291707    &  0.5953999   & -0.09098530  & -0.065735340 & 4.6          & 3.1          & 1.5          & 0.2         \\\\\n",
       "\t setosa       & -1.0184372   &  1.24503015  & -1.335752    & -1.311052    & -2.381863    & -0.6446757   & -0.01568565  & -0.035802870 & 5.0          & 3.6          & 1.4          & 0.2         \\\\\n",
       "\t setosa       & -0.5353840   &  1.93331463  & -1.165809    & -1.048667    & -2.068701    & -1.4842053   & -0.02687825  &  0.006586116 & 5.4          & 3.9          & 1.7          & 0.4         \\\\\n",
       "\\end{tabular}\n"
      ],
      "text/markdown": [
       "\n",
       "Species | scaled.Sepal.Length | scaled.Sepal.Width | scaled.Petal.Length | scaled.Petal.Width | pcad.PC1 | pcad.PC2 | pcad.PC3 | pcad.PC4 | original.Sepal.Length | original.Sepal.Width | original.Petal.Length | original.Petal.Width | \n",
       "|---|---|---|---|---|---|\n",
       "| setosa       | -0.8976739   |  1.01560199  | -1.335752    | -1.311052    | -2.257141    | -0.4784238   |  0.12727962  |  0.024087508 | 5.1          | 3.5          | 1.4          | 0.2          | \n",
       "| setosa       | -1.1392005   | -0.13153881  | -1.335752    | -1.311052    | -2.074013    |  0.6718827   |  0.23382552  |  0.102662845 | 4.9          | 3.0          | 1.4          | 0.2          | \n",
       "| setosa       | -1.3807271   |  0.32731751  | -1.392399    | -1.311052    | -2.356335    |  0.3407664   | -0.04405390  |  0.028282305 | 4.7          | 3.2          | 1.3          | 0.2          | \n",
       "| setosa       | -1.5014904   |  0.09788935  | -1.279104    | -1.311052    | -2.291707    |  0.5953999   | -0.09098530  | -0.065735340 | 4.6          | 3.1          | 1.5          | 0.2          | \n",
       "| setosa       | -1.0184372   |  1.24503015  | -1.335752    | -1.311052    | -2.381863    | -0.6446757   | -0.01568565  | -0.035802870 | 5.0          | 3.6          | 1.4          | 0.2          | \n",
       "| setosa       | -0.5353840   |  1.93331463  | -1.165809    | -1.048667    | -2.068701    | -1.4842053   | -0.02687825  |  0.006586116 | 5.4          | 3.9          | 1.7          | 0.4          | \n",
       "\n",
       "\n"
      ],
      "text/plain": [
       "  Species scaled.Sepal.Length scaled.Sepal.Width scaled.Petal.Length\n",
       "1 setosa  -0.8976739           1.01560199        -1.335752          \n",
       "2 setosa  -1.1392005          -0.13153881        -1.335752          \n",
       "3 setosa  -1.3807271           0.32731751        -1.392399          \n",
       "4 setosa  -1.5014904           0.09788935        -1.279104          \n",
       "5 setosa  -1.0184372           1.24503015        -1.335752          \n",
       "6 setosa  -0.5353840           1.93331463        -1.165809          \n",
       "  scaled.Petal.Width pcad.PC1  pcad.PC2   pcad.PC3    pcad.PC4    \n",
       "1 -1.311052          -2.257141 -0.4784238  0.12727962  0.024087508\n",
       "2 -1.311052          -2.074013  0.6718827  0.23382552  0.102662845\n",
       "3 -1.311052          -2.356335  0.3407664 -0.04405390  0.028282305\n",
       "4 -1.311052          -2.291707  0.5953999 -0.09098530 -0.065735340\n",
       "5 -1.311052          -2.381863 -0.6446757 -0.01568565 -0.035802870\n",
       "6 -1.048667          -2.068701 -1.4842053 -0.02687825  0.006586116\n",
       "  original.Sepal.Length original.Sepal.Width original.Petal.Length\n",
       "1 5.1                   3.5                  1.4                  \n",
       "2 4.9                   3.0                  1.4                  \n",
       "3 4.7                   3.2                  1.3                  \n",
       "4 4.6                   3.1                  1.5                  \n",
       "5 5.0                   3.6                  1.4                  \n",
       "6 5.4                   3.9                  1.7                  \n",
       "  original.Petal.Width\n",
       "1 0.2                 \n",
       "2 0.2                 \n",
       "3 0.2                 \n",
       "4 0.2                 \n",
       "5 0.2                 \n",
       "6 0.4                 "
      ]
     },
     "metadata": {},
     "output_type": "display_data"
    }
   ],
   "source": [
    "# alternatively, we apply the cbinder only to numerical data\n",
    "head(iris %>>% cpoApply(cbinder, affect.type = \"numeric\"))"
   ]
  },
  {
   "cell_type": "markdown",
   "metadata": {},
   "source": [
    "# Builtin CPOs"
   ]
  },
  {
   "cell_type": "markdown",
   "metadata": {},
   "source": [
    "## Listing CPOs\n",
    "Builtin CPOs can be listed with `listCPO()`."
   ]
  },
  {
   "cell_type": "code",
   "execution_count": 110,
   "metadata": {
    "scrolled": false
   },
   "outputs": [
    {
     "data": {
      "text/html": [
       "<table>\n",
       "<thead><tr><th></th><th scope=col>name</th><th scope=col>cponame</th><th scope=col>category</th><th scope=col>subcategory</th><th scope=col>description</th></tr></thead>\n",
       "<tbody>\n",
       "\t<tr><th scope=row>18</th><td>cpoDropConstants                                                                                 </td><td>dropconst                                                                                        </td><td>data                                                                                             </td><td>cleanup                                                                                          </td><td>Drop constant or near-constant Features.                                                         </td></tr>\n",
       "\t<tr><th scope=row>19</th><td>cpoFixFactors                                                                                    </td><td>fixfactors                                                                                       </td><td>data                                                                                             </td><td>cleanup                                                                                          </td><td>Clean up Factorial Features.                                                                     </td></tr>\n",
       "\t<tr><th scope=row>12</th><td>cpoCollapseFact                                                                                  </td><td>collapse.fact                                                                                    </td><td>data                                                                                             </td><td>factor data preprocessing                                                                        </td><td>Combine rare factors.                                                                            </td></tr>\n",
       "\t<tr><th scope=row>13</th><td>cpoCollapseFact                                                                                  </td><td>collapse.fact                                                                                    </td><td>data                                                                                             </td><td>feature conversion                                                                               </td><td>Convert Numerics to Ordered by binning.                                                          </td></tr>\n",
       "\t<tr><th scope=row>14</th><td>cpoCollapseFact                                                                                  </td><td>collapse.fact                                                                                    </td><td>data                                                                                             </td><td>feature conversion                                                                               </td><td>Convert all Features to Numerics using as.numeric.                                               </td></tr>\n",
       "\t<tr><th scope=row>16</th><td>cpoDummyEncode                                                                                   </td><td>dummyencode                                                                                      </td><td>data                                                                                             </td><td>feature conversion                                                                               </td><td>Convert factorial columns to numeric columns by dummy encoding them                              </td></tr>\n",
       "\t<tr><th scope=row>10</th><td>cpoImpactEncodeClassif                                                                           </td><td>impact.encode.classif                                                                            </td><td>data                                                                                             </td><td>feature conversion                                                                               </td><td>Convert factorial columns in classification tasks to numeric columns by impact encoding them     </td></tr>\n",
       "\t<tr><th scope=row>11</th><td>cpoImpactEncodeRegr                                                                              </td><td>impact.encode.regr                                                                               </td><td>data                                                                                             </td><td>feature conversion                                                                               </td><td>Convert factorial columns in regression tasks to numeric columns by impact encoding them         </td></tr>\n",
       "\t<tr><th scope=row>9</th><td>cpoProbEncode                                                                                    </td><td>prob.encode                                                                                      </td><td>data                                                                                             </td><td>feature conversion                                                                               </td><td>Convert factorial columns in classification tasks to numeric columns by probability encoding them</td></tr>\n",
       "\t<tr><th scope=row>17</th><td>cpoSelect                                                                                        </td><td>select                                                                                           </td><td>data                                                                                             </td><td>feature selection                                                                                </td><td>Select features from a data set by type, column name, or column index.                           </td></tr>\n",
       "\t<tr><th scope=row>5</th><td>cpoPca                                                                                           </td><td>pca                                                                                              </td><td>data                                                                                             </td><td>general data preprocessing                                                                       </td><td>Apply an arbitrary function column-wise.                                                         </td></tr>\n",
       "\t<tr><th scope=row>21</th><td>cpoSelect                                                                                        </td><td>select                                                                                           </td><td>data                                                                                             </td><td>general                                                                                          </td><td>.                                                                                                </td></tr>\n",
       "\t<tr><th scope=row>4</th><td>cpoPca                                                                                           </td><td>pca                                                                                              </td><td>data                                                                                             </td><td>numeric data preprocessing                                                                       </td><td>Perform Principal Component Analysis (PCA) using stats::prcomp.                                  </td></tr>\n",
       "\t<tr><th scope=row>15</th><td>cpoScale                                                                                         </td><td>scale                                                                                            </td><td>data                                                                                             </td><td>numeric data preprocessing                                                                       </td><td>Center and / or scale the data using base::scale.                                                </td></tr>\n",
       "\t<tr><th scope=row>7</th><td>cpoScaleMaxAbs                                                                                   </td><td>maxabs.scale                                                                                     </td><td>data                                                                                             </td><td>numeric data preprocessing                                                                       </td><td>Scale numeric columns to get a specific maximum absolute value.                                  </td></tr>\n",
       "\t<tr><th scope=row>6</th><td>cpoScaleRange                                                                                    </td><td>range.scale                                                                                      </td><td>data                                                                                             </td><td>numeric data preprocessing                                                                       </td><td>Scale numeric columns to lie in a given range.                                                   </td></tr>\n",
       "\t<tr><th scope=row>8</th><td>cpoSpatialSign                                                                                   </td><td>spatial.sign                                                                                     </td><td>data                                                                                             </td><td>numeric data preprocessing                                                                       </td><td>Scale numeric rows to given length.                                                              </td></tr>\n",
       "\t<tr><th scope=row>22</th><td>cpoFilterFeatures                                                                                </td><td>filterFeatures                                                                                   </td><td>featurefilter                                                                                    </td><td>general                                                                                          </td><td>Filter features using a provided method.                                                         </td></tr>\n",
       "\t<tr><th scope=row>38</th><td>cpoFilterAnova                                                                                   </td><td>anova.test                                                                                       </td><td>featurefilter                                                                                    </td><td>specialised                                                                                      </td><td>Filter features using analysis of variance.                                                      </td></tr>\n",
       "\t<tr><th scope=row>24</th><td>cpoFilterCarscore                                                                                </td><td>carscore                                                                                         </td><td>featurefilter                                                                                    </td><td>specialised                                                                                      </td><td>Filter features using correlation-adjusted marginal correlation.                                 </td></tr>\n",
       "\t<tr><th scope=row>34</th><td>cpoFilterChiSquared                                                                              </td><td>chi.squared                                                                                      </td><td>featurefilter                                                                                    </td><td>specialised                                                                                      </td><td>Filter features using chi-squared test.                                                          </td></tr>\n",
       "\t<tr><th scope=row>32</th><td>cpoFilterGainRatio                                                                               </td><td>gain.ratio                                                                                       </td><td>featurefilter                                                                                    </td><td>specialised                                                                                      </td><td>Filter features using entropy-based information gain ratio                                       </td></tr>\n",
       "\t<tr><th scope=row>31</th><td>cpoFilterInformationGain                                                                         </td><td>information.gain                                                                                 </td><td>featurefilter                                                                                    </td><td>specialised                                                                                      </td><td>Filter features using entropy-based information gain.                                            </td></tr>\n",
       "\t<tr><th scope=row>39</th><td>cpoFilterKruskal                                                                                 </td><td>kruskal.test                                                                                     </td><td>featurefilter                                                                                    </td><td>specialised                                                                                      </td><td>Filter features using the Kruskal-Wallis rank sum test.                                          </td></tr>\n",
       "\t<tr><th scope=row>29</th><td>cpoFilterLinearCorrelation                                                                       </td><td>linear.correlation                                                                               </td><td>featurefilter                                                                                    </td><td>specialised                                                                                      </td><td>Filter features using Pearson correlation.                                                       </td></tr>\n",
       "\t<tr><th scope=row>23</th><td>cpoFilterMrmr                                                                                    </td><td>mrmr                                                                                             </td><td>featurefilter                                                                                    </td><td>specialised                                                                                      </td><td>Filter features using 'minimum redundancy, maximum relevance'.                                   </td></tr>\n",
       "\t<tr><th scope=row>36</th><td>cpoFilterOneR                                                                                    </td><td>oneR                                                                                             </td><td>featurefilter                                                                                    </td><td>specialised                                                                                      </td><td>Filter features using the OneR learner.                                                          </td></tr>\n",
       "\t<tr><th scope=row>41</th><td>cpoFilterPermutationImportance                                                                   </td><td>permutation.importance                                                                           </td><td>featurefilter                                                                                    </td><td>specialised                                                                                      </td><td>Filter features using predictiveness loss upon permutation of a variable.                        </td></tr>\n",
       "\t<tr><th scope=row>30</th><td>cpoFilterRankCorrelation                                                                         </td><td>rank.correlation                                                                                 </td><td>featurefilter                                                                                    </td><td>specialised                                                                                      </td><td>Filter features using Spearman correlation.                                                      </td></tr>\n",
       "\t<tr><th scope=row>35</th><td>cpoFilterRelief                                                                                  </td><td>relief                                                                                           </td><td>featurefilter                                                                                    </td><td>specialised                                                                                      </td><td>Filter features using the ReliefF algorithm.                                                     </td></tr>\n",
       "\t<tr><th scope=row>27</th><td>cpoFilterRfCImportance                                                                           </td><td>cforest.importance                                                                               </td><td>featurefilter                                                                                    </td><td>specialised                                                                                      </td><td>Filter features using party::cforest variable importance.                                        </td></tr>\n",
       "\t<tr><th scope=row>28</th><td>cpoFilterRfImportance                                                                            </td><td>randomForest.importance                                                                          </td><td>featurefilter                                                                                    </td><td>specialised                                                                                      </td><td>Filter features using randomForest variable importance.                                          </td></tr>\n",
       "\t<tr><th scope=row>25</th><td>cpoFilterRfSRCImportance                                                                         </td><td>randomForestSRC.rfsrc                                                                            </td><td>featurefilter                                                                                    </td><td>specialised                                                                                      </td><td>Filter features using randomForestSRC.rfsrc.                                                     </td></tr>\n",
       "\t<tr><th scope=row>26</th><td>cpoFilterRfSRCMinDepth                                                                           </td><td>randomForestSRC.var.select                                                                       </td><td>featurefilter                                                                                    </td><td>specialised                                                                                      </td><td>Filter features using randomForestSRC minimal depth.                                             </td></tr>\n",
       "\t<tr><th scope=row>33</th><td>cpoFilterSymmetricalUncertainty                                                                  </td><td>symmetrical.uncertainty                                                                          </td><td>featurefilter                                                                                    </td><td>specialised                                                                                      </td><td>Filter features using entropy-based symmetrical uncertainty                                      </td></tr>\n",
       "\t<tr><th scope=row>37</th><td>cpoFilterUnivariate                                                                              </td><td>univariate.model.score                                                                           </td><td>featurefilter                                                                                    </td><td>specialised                                                                                      </td><td>Filter features using the predictiveness using a given learner.                                  </td></tr>\n",
       "\t<tr><th scope=row>40</th><td>cpoFilterVariance                                                                                </td><td>variance                                                                                         </td><td>featurefilter                                                                                    </td><td>specialised                                                                                      </td><td>Filter features using feature variance.                                                          </td></tr>\n",
       "\t<tr><th scope=row>42</th><td>cpoImpute                                                                                        </td><td>impute                                                                                           </td><td>imputation                                                                                       </td><td>general                                                                                          </td><td>General imputation CPO that uses mlr::impute.                                                    </td></tr>\n",
       "\t<tr><th scope=row>43</th><td>cpoImputeAll                                                                                     </td><td>impute                                                                                           </td><td>imputation                                                                                       </td><td>general                                                                                          </td><td>General imputation CPO that uses mlr::impute and checks that all columns were imputed.           </td></tr>\n",
       "\t<tr><th scope=row>44</th><td>cpoImputeConstant                                                                                </td><td>impute.constant                                                                                  </td><td>imputation                                                                                       </td><td>specialised                                                                                      </td><td>Imputation using a constant value.                                                               </td></tr>\n",
       "\t<tr><th scope=row>52</th><td>cpoImputeHist                                                                                    </td><td>impute.hist                                                                                      </td><td>imputation                                                                                       </td><td>specialised                                                                                      </td><td>Imputation using random values with probabilities approximating the data.                        </td></tr>\n",
       "\t<tr><th scope=row>53</th><td>cpoImputeLearner                                                                                 </td><td>impute.learner                                                                                   </td><td>imputation                                                                                       </td><td>specialised                                                                                      </td><td>Imputation using the response of a classification or regression learner.                         </td></tr>\n",
       "\t<tr><th scope=row>49</th><td>cpoImputeMax                                                                                     </td><td>impute.max                                                                                       </td><td>imputation                                                                                       </td><td>specialised                                                                                      </td><td>Imputation using constant values shifted above the maximum.                                      </td></tr>\n",
       "\t<tr><th scope=row>46</th><td>cpoImputeMean                                                                                    </td><td>impute.mean                                                                                      </td><td>imputation                                                                                       </td><td>specialised                                                                                      </td><td>Imputation using the mean.                                                                       </td></tr>\n",
       "\t<tr><th scope=row>45</th><td>cpoImputeMedian                                                                                  </td><td>impute.median                                                                                    </td><td>imputation                                                                                       </td><td>specialised                                                                                      </td><td>Imputation using the median.                                                                     </td></tr>\n",
       "\t<tr><th scope=row>48</th><td>cpoImputeMin                                                                                     </td><td>impute.min                                                                                       </td><td>imputation                                                                                       </td><td>specialised                                                                                      </td><td>Imputation using constant values shifted below the minimum.                                      </td></tr>\n",
       "\t<tr><th scope=row>47</th><td>cpoImputeMode                                                                                    </td><td>impute.mode                                                                                      </td><td>imputation                                                                                       </td><td>specialised                                                                                      </td><td>Imputation using the mode.                                                                       </td></tr>\n",
       "\t<tr><th scope=row>51</th><td>cpoImputeNormal                                                                                  </td><td>impute.normal                                                                                    </td><td>imputation                                                                                       </td><td>specialised                                                                                      </td><td>Imputation using normally distributed random values.                                             </td></tr>\n",
       "\t<tr><th scope=row>50</th><td>cpoImputeUniform                                                                                 </td><td>impute.uniform                                                                                   </td><td>imputation                                                                                       </td><td>specialised                                                                                      </td><td>Imputation using uniformly distributed random values.                                            </td></tr>\n",
       "\t<tr><th scope=row>2</th><td>cpoApply                                                                                         </td><td>apply                                                                                            </td><td>meta                                                                                             </td><td>                                                                                                 </td><td>Apply a freely chosen CPOs, without exporting its hyperparameters.                               </td></tr>\n",
       "\t<tr><th scope=row>3</th><td>cpoCbind                                                                                         </td><td>cbind                                                                                            </td><td>meta                                                                                             </td><td>                                                                                                 </td><td>Combine multiple CPO operations by joining their outputs column-wise.                            </td></tr>\n",
       "\t<tr><th scope=row>1</th><td>cpoMultiplex                                                                                     </td><td>multiplex                                                                                        </td><td>meta                                                                                             </td><td>                                                                                                 </td><td>Apply one of a given set of CPOs, each having their hyperparameters exported.                    </td></tr>\n",
       "\t<tr><th scope=row>20</th><td>cpoMissingIndicators                                                                             </td><td>missingindicators                                                                                </td><td>tools                                                                                            </td><td>imputation                                                                                       </td><td>Generate factorial columns indicating whether data was NA.                                       </td></tr>\n",
       "</tbody>\n",
       "</table>\n"
      ],
      "text/latex": [
       "\\begin{tabular}{r|lllll}\n",
       "  & name & cponame & category & subcategory & description\\\\\n",
       "\\hline\n",
       "\t18 & cpoDropConstants                                                                                  & dropconst                                                                                         & data                                                                                              & cleanup                                                                                           & Drop constant or near-constant Features.                                                         \\\\\n",
       "\t19 & cpoFixFactors                                                                                     & fixfactors                                                                                        & data                                                                                              & cleanup                                                                                           & Clean up Factorial Features.                                                                     \\\\\n",
       "\t12 & cpoCollapseFact                                                                                   & collapse.fact                                                                                     & data                                                                                              & factor data preprocessing                                                                         & Combine rare factors.                                                                            \\\\\n",
       "\t13 & cpoCollapseFact                                                                                   & collapse.fact                                                                                     & data                                                                                              & feature conversion                                                                                & Convert Numerics to Ordered by binning.                                                          \\\\\n",
       "\t14 & cpoCollapseFact                                                                                   & collapse.fact                                                                                     & data                                                                                              & feature conversion                                                                                & Convert all Features to Numerics using as.numeric.                                               \\\\\n",
       "\t16 & cpoDummyEncode                                                                                    & dummyencode                                                                                       & data                                                                                              & feature conversion                                                                                & Convert factorial columns to numeric columns by dummy encoding them                              \\\\\n",
       "\t10 & cpoImpactEncodeClassif                                                                            & impact.encode.classif                                                                             & data                                                                                              & feature conversion                                                                                & Convert factorial columns in classification tasks to numeric columns by impact encoding them     \\\\\n",
       "\t11 & cpoImpactEncodeRegr                                                                               & impact.encode.regr                                                                                & data                                                                                              & feature conversion                                                                                & Convert factorial columns in regression tasks to numeric columns by impact encoding them         \\\\\n",
       "\t9 & cpoProbEncode                                                                                     & prob.encode                                                                                       & data                                                                                              & feature conversion                                                                                & Convert factorial columns in classification tasks to numeric columns by probability encoding them\\\\\n",
       "\t17 & cpoSelect                                                                                         & select                                                                                            & data                                                                                              & feature selection                                                                                 & Select features from a data set by type, column name, or column index.                           \\\\\n",
       "\t5 & cpoPca                                                                                            & pca                                                                                               & data                                                                                              & general data preprocessing                                                                        & Apply an arbitrary function column-wise.                                                         \\\\\n",
       "\t21 & cpoSelect                                                                                         & select                                                                                            & data                                                                                              & general                                                                                           & .                                                                                                \\\\\n",
       "\t4 & cpoPca                                                                                            & pca                                                                                               & data                                                                                              & numeric data preprocessing                                                                        & Perform Principal Component Analysis (PCA) using stats::prcomp.                                  \\\\\n",
       "\t15 & cpoScale                                                                                          & scale                                                                                             & data                                                                                              & numeric data preprocessing                                                                        & Center and / or scale the data using base::scale.                                                \\\\\n",
       "\t7 & cpoScaleMaxAbs                                                                                    & maxabs.scale                                                                                      & data                                                                                              & numeric data preprocessing                                                                        & Scale numeric columns to get a specific maximum absolute value.                                  \\\\\n",
       "\t6 & cpoScaleRange                                                                                     & range.scale                                                                                       & data                                                                                              & numeric data preprocessing                                                                        & Scale numeric columns to lie in a given range.                                                   \\\\\n",
       "\t8 & cpoSpatialSign                                                                                    & spatial.sign                                                                                      & data                                                                                              & numeric data preprocessing                                                                        & Scale numeric rows to given length.                                                              \\\\\n",
       "\t22 & cpoFilterFeatures                                                                                 & filterFeatures                                                                                    & featurefilter                                                                                     & general                                                                                           & Filter features using a provided method.                                                         \\\\\n",
       "\t38 & cpoFilterAnova                                                                                    & anova.test                                                                                        & featurefilter                                                                                     & specialised                                                                                       & Filter features using analysis of variance.                                                      \\\\\n",
       "\t24 & cpoFilterCarscore                                                                                 & carscore                                                                                          & featurefilter                                                                                     & specialised                                                                                       & Filter features using correlation-adjusted marginal correlation.                                 \\\\\n",
       "\t34 & cpoFilterChiSquared                                                                               & chi.squared                                                                                       & featurefilter                                                                                     & specialised                                                                                       & Filter features using chi-squared test.                                                          \\\\\n",
       "\t32 & cpoFilterGainRatio                                                                                & gain.ratio                                                                                        & featurefilter                                                                                     & specialised                                                                                       & Filter features using entropy-based information gain ratio                                       \\\\\n",
       "\t31 & cpoFilterInformationGain                                                                          & information.gain                                                                                  & featurefilter                                                                                     & specialised                                                                                       & Filter features using entropy-based information gain.                                            \\\\\n",
       "\t39 & cpoFilterKruskal                                                                                  & kruskal.test                                                                                      & featurefilter                                                                                     & specialised                                                                                       & Filter features using the Kruskal-Wallis rank sum test.                                          \\\\\n",
       "\t29 & cpoFilterLinearCorrelation                                                                        & linear.correlation                                                                                & featurefilter                                                                                     & specialised                                                                                       & Filter features using Pearson correlation.                                                       \\\\\n",
       "\t23 & cpoFilterMrmr                                                                                     & mrmr                                                                                              & featurefilter                                                                                     & specialised                                                                                       & Filter features using 'minimum redundancy, maximum relevance'.                                   \\\\\n",
       "\t36 & cpoFilterOneR                                                                                     & oneR                                                                                              & featurefilter                                                                                     & specialised                                                                                       & Filter features using the OneR learner.                                                          \\\\\n",
       "\t41 & cpoFilterPermutationImportance                                                                    & permutation.importance                                                                            & featurefilter                                                                                     & specialised                                                                                       & Filter features using predictiveness loss upon permutation of a variable.                        \\\\\n",
       "\t30 & cpoFilterRankCorrelation                                                                          & rank.correlation                                                                                  & featurefilter                                                                                     & specialised                                                                                       & Filter features using Spearman correlation.                                                      \\\\\n",
       "\t35 & cpoFilterRelief                                                                                   & relief                                                                                            & featurefilter                                                                                     & specialised                                                                                       & Filter features using the ReliefF algorithm.                                                     \\\\\n",
       "\t27 & cpoFilterRfCImportance                                                                            & cforest.importance                                                                                & featurefilter                                                                                     & specialised                                                                                       & Filter features using party::cforest variable importance.                                        \\\\\n",
       "\t28 & cpoFilterRfImportance                                                                             & randomForest.importance                                                                           & featurefilter                                                                                     & specialised                                                                                       & Filter features using randomForest variable importance.                                          \\\\\n",
       "\t25 & cpoFilterRfSRCImportance                                                                          & randomForestSRC.rfsrc                                                                             & featurefilter                                                                                     & specialised                                                                                       & Filter features using randomForestSRC.rfsrc.                                                     \\\\\n",
       "\t26 & cpoFilterRfSRCMinDepth                                                                            & randomForestSRC.var.select                                                                        & featurefilter                                                                                     & specialised                                                                                       & Filter features using randomForestSRC minimal depth.                                             \\\\\n",
       "\t33 & cpoFilterSymmetricalUncertainty                                                                   & symmetrical.uncertainty                                                                           & featurefilter                                                                                     & specialised                                                                                       & Filter features using entropy-based symmetrical uncertainty                                      \\\\\n",
       "\t37 & cpoFilterUnivariate                                                                               & univariate.model.score                                                                            & featurefilter                                                                                     & specialised                                                                                       & Filter features using the predictiveness using a given learner.                                  \\\\\n",
       "\t40 & cpoFilterVariance                                                                                 & variance                                                                                          & featurefilter                                                                                     & specialised                                                                                       & Filter features using feature variance.                                                          \\\\\n",
       "\t42 & cpoImpute                                                                                         & impute                                                                                            & imputation                                                                                        & general                                                                                           & General imputation CPO that uses mlr::impute.                                                    \\\\\n",
       "\t43 & cpoImputeAll                                                                                      & impute                                                                                            & imputation                                                                                        & general                                                                                           & General imputation CPO that uses mlr::impute and checks that all columns were imputed.           \\\\\n",
       "\t44 & cpoImputeConstant                                                                                 & impute.constant                                                                                   & imputation                                                                                        & specialised                                                                                       & Imputation using a constant value.                                                               \\\\\n",
       "\t52 & cpoImputeHist                                                                                     & impute.hist                                                                                       & imputation                                                                                        & specialised                                                                                       & Imputation using random values with probabilities approximating the data.                        \\\\\n",
       "\t53 & cpoImputeLearner                                                                                  & impute.learner                                                                                    & imputation                                                                                        & specialised                                                                                       & Imputation using the response of a classification or regression learner.                         \\\\\n",
       "\t49 & cpoImputeMax                                                                                      & impute.max                                                                                        & imputation                                                                                        & specialised                                                                                       & Imputation using constant values shifted above the maximum.                                      \\\\\n",
       "\t46 & cpoImputeMean                                                                                     & impute.mean                                                                                       & imputation                                                                                        & specialised                                                                                       & Imputation using the mean.                                                                       \\\\\n",
       "\t45 & cpoImputeMedian                                                                                   & impute.median                                                                                     & imputation                                                                                        & specialised                                                                                       & Imputation using the median.                                                                     \\\\\n",
       "\t48 & cpoImputeMin                                                                                      & impute.min                                                                                        & imputation                                                                                        & specialised                                                                                       & Imputation using constant values shifted below the minimum.                                      \\\\\n",
       "\t47 & cpoImputeMode                                                                                     & impute.mode                                                                                       & imputation                                                                                        & specialised                                                                                       & Imputation using the mode.                                                                       \\\\\n",
       "\t51 & cpoImputeNormal                                                                                   & impute.normal                                                                                     & imputation                                                                                        & specialised                                                                                       & Imputation using normally distributed random values.                                             \\\\\n",
       "\t50 & cpoImputeUniform                                                                                  & impute.uniform                                                                                    & imputation                                                                                        & specialised                                                                                       & Imputation using uniformly distributed random values.                                            \\\\\n",
       "\t2 & cpoApply                                                                                          & apply                                                                                             & meta                                                                                              &                                                                                                   & Apply a freely chosen CPOs, without exporting its hyperparameters.                               \\\\\n",
       "\t3 & cpoCbind                                                                                          & cbind                                                                                             & meta                                                                                              &                                                                                                   & Combine multiple CPO operations by joining their outputs column-wise.                            \\\\\n",
       "\t1 & cpoMultiplex                                                                                      & multiplex                                                                                         & meta                                                                                              &                                                                                                   & Apply one of a given set of CPOs, each having their hyperparameters exported.                    \\\\\n",
       "\t20 & cpoMissingIndicators                                                                              & missingindicators                                                                                 & tools                                                                                             & imputation                                                                                        & Generate factorial columns indicating whether data was NA.                                       \\\\\n",
       "\\end{tabular}\n"
      ],
      "text/markdown": [
       "\n",
       "| <!--/--> | name | cponame | category | subcategory | description | \n",
       "|---|---|---|---|---|---|---|---|---|---|---|---|---|---|---|---|---|---|---|---|---|---|---|---|---|---|---|---|---|---|---|---|---|---|---|---|---|---|---|---|---|---|---|---|---|---|---|---|---|---|---|---|---|\n",
       "| 18 | cpoDropConstants                                                                                  | dropconst                                                                                         | data                                                                                              | cleanup                                                                                           | Drop constant or near-constant Features.                                                          | \n",
       "| 19 | cpoFixFactors                                                                                     | fixfactors                                                                                        | data                                                                                              | cleanup                                                                                           | Clean up Factorial Features.                                                                      | \n",
       "| 12 | cpoCollapseFact                                                                                   | collapse.fact                                                                                     | data                                                                                              | factor data preprocessing                                                                         | Combine rare factors.                                                                             | \n",
       "| 13 | cpoCollapseFact                                                                                   | collapse.fact                                                                                     | data                                                                                              | feature conversion                                                                                | Convert Numerics to Ordered by binning.                                                           | \n",
       "| 14 | cpoCollapseFact                                                                                   | collapse.fact                                                                                     | data                                                                                              | feature conversion                                                                                | Convert all Features to Numerics using as.numeric.                                                | \n",
       "| 16 | cpoDummyEncode                                                                                    | dummyencode                                                                                       | data                                                                                              | feature conversion                                                                                | Convert factorial columns to numeric columns by dummy encoding them                               | \n",
       "| 10 | cpoImpactEncodeClassif                                                                            | impact.encode.classif                                                                             | data                                                                                              | feature conversion                                                                                | Convert factorial columns in classification tasks to numeric columns by impact encoding them      | \n",
       "| 11 | cpoImpactEncodeRegr                                                                               | impact.encode.regr                                                                                | data                                                                                              | feature conversion                                                                                | Convert factorial columns in regression tasks to numeric columns by impact encoding them          | \n",
       "| 9 | cpoProbEncode                                                                                     | prob.encode                                                                                       | data                                                                                              | feature conversion                                                                                | Convert factorial columns in classification tasks to numeric columns by probability encoding them | \n",
       "| 17 | cpoSelect                                                                                         | select                                                                                            | data                                                                                              | feature selection                                                                                 | Select features from a data set by type, column name, or column index.                            | \n",
       "| 5 | cpoPca                                                                                            | pca                                                                                               | data                                                                                              | general data preprocessing                                                                        | Apply an arbitrary function column-wise.                                                          | \n",
       "| 21 | cpoSelect                                                                                         | select                                                                                            | data                                                                                              | general                                                                                           | .                                                                                                 | \n",
       "| 4 | cpoPca                                                                                            | pca                                                                                               | data                                                                                              | numeric data preprocessing                                                                        | Perform Principal Component Analysis (PCA) using stats::prcomp.                                   | \n",
       "| 15 | cpoScale                                                                                          | scale                                                                                             | data                                                                                              | numeric data preprocessing                                                                        | Center and / or scale the data using base::scale.                                                 | \n",
       "| 7 | cpoScaleMaxAbs                                                                                    | maxabs.scale                                                                                      | data                                                                                              | numeric data preprocessing                                                                        | Scale numeric columns to get a specific maximum absolute value.                                   | \n",
       "| 6 | cpoScaleRange                                                                                     | range.scale                                                                                       | data                                                                                              | numeric data preprocessing                                                                        | Scale numeric columns to lie in a given range.                                                    | \n",
       "| 8 | cpoSpatialSign                                                                                    | spatial.sign                                                                                      | data                                                                                              | numeric data preprocessing                                                                        | Scale numeric rows to given length.                                                               | \n",
       "| 22 | cpoFilterFeatures                                                                                 | filterFeatures                                                                                    | featurefilter                                                                                     | general                                                                                           | Filter features using a provided method.                                                          | \n",
       "| 38 | cpoFilterAnova                                                                                    | anova.test                                                                                        | featurefilter                                                                                     | specialised                                                                                       | Filter features using analysis of variance.                                                       | \n",
       "| 24 | cpoFilterCarscore                                                                                 | carscore                                                                                          | featurefilter                                                                                     | specialised                                                                                       | Filter features using correlation-adjusted marginal correlation.                                  | \n",
       "| 34 | cpoFilterChiSquared                                                                               | chi.squared                                                                                       | featurefilter                                                                                     | specialised                                                                                       | Filter features using chi-squared test.                                                           | \n",
       "| 32 | cpoFilterGainRatio                                                                                | gain.ratio                                                                                        | featurefilter                                                                                     | specialised                                                                                       | Filter features using entropy-based information gain ratio                                        | \n",
       "| 31 | cpoFilterInformationGain                                                                          | information.gain                                                                                  | featurefilter                                                                                     | specialised                                                                                       | Filter features using entropy-based information gain.                                             | \n",
       "| 39 | cpoFilterKruskal                                                                                  | kruskal.test                                                                                      | featurefilter                                                                                     | specialised                                                                                       | Filter features using the Kruskal-Wallis rank sum test.                                           | \n",
       "| 29 | cpoFilterLinearCorrelation                                                                        | linear.correlation                                                                                | featurefilter                                                                                     | specialised                                                                                       | Filter features using Pearson correlation.                                                        | \n",
       "| 23 | cpoFilterMrmr                                                                                     | mrmr                                                                                              | featurefilter                                                                                     | specialised                                                                                       | Filter features using 'minimum redundancy, maximum relevance'.                                    | \n",
       "| 36 | cpoFilterOneR                                                                                     | oneR                                                                                              | featurefilter                                                                                     | specialised                                                                                       | Filter features using the OneR learner.                                                           | \n",
       "| 41 | cpoFilterPermutationImportance                                                                    | permutation.importance                                                                            | featurefilter                                                                                     | specialised                                                                                       | Filter features using predictiveness loss upon permutation of a variable.                         | \n",
       "| 30 | cpoFilterRankCorrelation                                                                          | rank.correlation                                                                                  | featurefilter                                                                                     | specialised                                                                                       | Filter features using Spearman correlation.                                                       | \n",
       "| 35 | cpoFilterRelief                                                                                   | relief                                                                                            | featurefilter                                                                                     | specialised                                                                                       | Filter features using the ReliefF algorithm.                                                      | \n",
       "| 27 | cpoFilterRfCImportance                                                                            | cforest.importance                                                                                | featurefilter                                                                                     | specialised                                                                                       | Filter features using party::cforest variable importance.                                         | \n",
       "| 28 | cpoFilterRfImportance                                                                             | randomForest.importance                                                                           | featurefilter                                                                                     | specialised                                                                                       | Filter features using randomForest variable importance.                                           | \n",
       "| 25 | cpoFilterRfSRCImportance                                                                          | randomForestSRC.rfsrc                                                                             | featurefilter                                                                                     | specialised                                                                                       | Filter features using randomForestSRC.rfsrc.                                                      | \n",
       "| 26 | cpoFilterRfSRCMinDepth                                                                            | randomForestSRC.var.select                                                                        | featurefilter                                                                                     | specialised                                                                                       | Filter features using randomForestSRC minimal depth.                                              | \n",
       "| 33 | cpoFilterSymmetricalUncertainty                                                                   | symmetrical.uncertainty                                                                           | featurefilter                                                                                     | specialised                                                                                       | Filter features using entropy-based symmetrical uncertainty                                       | \n",
       "| 37 | cpoFilterUnivariate                                                                               | univariate.model.score                                                                            | featurefilter                                                                                     | specialised                                                                                       | Filter features using the predictiveness using a given learner.                                   | \n",
       "| 40 | cpoFilterVariance                                                                                 | variance                                                                                          | featurefilter                                                                                     | specialised                                                                                       | Filter features using feature variance.                                                           | \n",
       "| 42 | cpoImpute                                                                                         | impute                                                                                            | imputation                                                                                        | general                                                                                           | General imputation CPO that uses mlr::impute.                                                     | \n",
       "| 43 | cpoImputeAll                                                                                      | impute                                                                                            | imputation                                                                                        | general                                                                                           | General imputation CPO that uses mlr::impute and checks that all columns were imputed.            | \n",
       "| 44 | cpoImputeConstant                                                                                 | impute.constant                                                                                   | imputation                                                                                        | specialised                                                                                       | Imputation using a constant value.                                                                | \n",
       "| 52 | cpoImputeHist                                                                                     | impute.hist                                                                                       | imputation                                                                                        | specialised                                                                                       | Imputation using random values with probabilities approximating the data.                         | \n",
       "| 53 | cpoImputeLearner                                                                                  | impute.learner                                                                                    | imputation                                                                                        | specialised                                                                                       | Imputation using the response of a classification or regression learner.                          | \n",
       "| 49 | cpoImputeMax                                                                                      | impute.max                                                                                        | imputation                                                                                        | specialised                                                                                       | Imputation using constant values shifted above the maximum.                                       | \n",
       "| 46 | cpoImputeMean                                                                                     | impute.mean                                                                                       | imputation                                                                                        | specialised                                                                                       | Imputation using the mean.                                                                        | \n",
       "| 45 | cpoImputeMedian                                                                                   | impute.median                                                                                     | imputation                                                                                        | specialised                                                                                       | Imputation using the median.                                                                      | \n",
       "| 48 | cpoImputeMin                                                                                      | impute.min                                                                                        | imputation                                                                                        | specialised                                                                                       | Imputation using constant values shifted below the minimum.                                       | \n",
       "| 47 | cpoImputeMode                                                                                     | impute.mode                                                                                       | imputation                                                                                        | specialised                                                                                       | Imputation using the mode.                                                                        | \n",
       "| 51 | cpoImputeNormal                                                                                   | impute.normal                                                                                     | imputation                                                                                        | specialised                                                                                       | Imputation using normally distributed random values.                                              | \n",
       "| 50 | cpoImputeUniform                                                                                  | impute.uniform                                                                                    | imputation                                                                                        | specialised                                                                                       | Imputation using uniformly distributed random values.                                             | \n",
       "| 2 | cpoApply                                                                                          | apply                                                                                             | meta                                                                                              |                                                                                                   | Apply a freely chosen CPOs, without exporting its hyperparameters.                                | \n",
       "| 3 | cpoCbind                                                                                          | cbind                                                                                             | meta                                                                                              |                                                                                                   | Combine multiple CPO operations by joining their outputs column-wise.                             | \n",
       "| 1 | cpoMultiplex                                                                                      | multiplex                                                                                         | meta                                                                                              |                                                                                                   | Apply one of a given set of CPOs, each having their hyperparameters exported.                     | \n",
       "| 20 | cpoMissingIndicators                                                                              | missingindicators                                                                                 | tools                                                                                             | imputation                                                                                        | Generate factorial columns indicating whether data was NA.                                        | \n",
       "\n",
       "\n"
      ],
      "text/plain": [
       "   name                            cponame                    category     \n",
       "18 cpoDropConstants                dropconst                  data         \n",
       "19 cpoFixFactors                   fixfactors                 data         \n",
       "12 cpoCollapseFact                 collapse.fact              data         \n",
       "13 cpoCollapseFact                 collapse.fact              data         \n",
       "14 cpoCollapseFact                 collapse.fact              data         \n",
       "16 cpoDummyEncode                  dummyencode                data         \n",
       "10 cpoImpactEncodeClassif          impact.encode.classif      data         \n",
       "11 cpoImpactEncodeRegr             impact.encode.regr         data         \n",
       "9  cpoProbEncode                   prob.encode                data         \n",
       "17 cpoSelect                       select                     data         \n",
       "5  cpoPca                          pca                        data         \n",
       "21 cpoSelect                       select                     data         \n",
       "4  cpoPca                          pca                        data         \n",
       "15 cpoScale                        scale                      data         \n",
       "7  cpoScaleMaxAbs                  maxabs.scale               data         \n",
       "6  cpoScaleRange                   range.scale                data         \n",
       "8  cpoSpatialSign                  spatial.sign               data         \n",
       "22 cpoFilterFeatures               filterFeatures             featurefilter\n",
       "38 cpoFilterAnova                  anova.test                 featurefilter\n",
       "24 cpoFilterCarscore               carscore                   featurefilter\n",
       "34 cpoFilterChiSquared             chi.squared                featurefilter\n",
       "32 cpoFilterGainRatio              gain.ratio                 featurefilter\n",
       "31 cpoFilterInformationGain        information.gain           featurefilter\n",
       "39 cpoFilterKruskal                kruskal.test               featurefilter\n",
       "29 cpoFilterLinearCorrelation      linear.correlation         featurefilter\n",
       "23 cpoFilterMrmr                   mrmr                       featurefilter\n",
       "36 cpoFilterOneR                   oneR                       featurefilter\n",
       "41 cpoFilterPermutationImportance  permutation.importance     featurefilter\n",
       "30 cpoFilterRankCorrelation        rank.correlation           featurefilter\n",
       "35 cpoFilterRelief                 relief                     featurefilter\n",
       "27 cpoFilterRfCImportance          cforest.importance         featurefilter\n",
       "28 cpoFilterRfImportance           randomForest.importance    featurefilter\n",
       "25 cpoFilterRfSRCImportance        randomForestSRC.rfsrc      featurefilter\n",
       "26 cpoFilterRfSRCMinDepth          randomForestSRC.var.select featurefilter\n",
       "33 cpoFilterSymmetricalUncertainty symmetrical.uncertainty    featurefilter\n",
       "37 cpoFilterUnivariate             univariate.model.score     featurefilter\n",
       "40 cpoFilterVariance               variance                   featurefilter\n",
       "42 cpoImpute                       impute                     imputation   \n",
       "43 cpoImputeAll                    impute                     imputation   \n",
       "44 cpoImputeConstant               impute.constant            imputation   \n",
       "52 cpoImputeHist                   impute.hist                imputation   \n",
       "53 cpoImputeLearner                impute.learner             imputation   \n",
       "49 cpoImputeMax                    impute.max                 imputation   \n",
       "46 cpoImputeMean                   impute.mean                imputation   \n",
       "45 cpoImputeMedian                 impute.median              imputation   \n",
       "48 cpoImputeMin                    impute.min                 imputation   \n",
       "47 cpoImputeMode                   impute.mode                imputation   \n",
       "51 cpoImputeNormal                 impute.normal              imputation   \n",
       "50 cpoImputeUniform                impute.uniform             imputation   \n",
       "2  cpoApply                        apply                      meta         \n",
       "3  cpoCbind                        cbind                      meta         \n",
       "1  cpoMultiplex                    multiplex                  meta         \n",
       "20 cpoMissingIndicators            missingindicators          tools        \n",
       "   subcategory               \n",
       "18 cleanup                   \n",
       "19 cleanup                   \n",
       "12 factor data preprocessing \n",
       "13 feature conversion        \n",
       "14 feature conversion        \n",
       "16 feature conversion        \n",
       "10 feature conversion        \n",
       "11 feature conversion        \n",
       "9  feature conversion        \n",
       "17 feature selection         \n",
       "5  general data preprocessing\n",
       "21 general                   \n",
       "4  numeric data preprocessing\n",
       "15 numeric data preprocessing\n",
       "7  numeric data preprocessing\n",
       "6  numeric data preprocessing\n",
       "8  numeric data preprocessing\n",
       "22 general                   \n",
       "38 specialised               \n",
       "24 specialised               \n",
       "34 specialised               \n",
       "32 specialised               \n",
       "31 specialised               \n",
       "39 specialised               \n",
       "29 specialised               \n",
       "23 specialised               \n",
       "36 specialised               \n",
       "41 specialised               \n",
       "30 specialised               \n",
       "35 specialised               \n",
       "27 specialised               \n",
       "28 specialised               \n",
       "25 specialised               \n",
       "26 specialised               \n",
       "33 specialised               \n",
       "37 specialised               \n",
       "40 specialised               \n",
       "42 general                   \n",
       "43 general                   \n",
       "44 specialised               \n",
       "52 specialised               \n",
       "53 specialised               \n",
       "49 specialised               \n",
       "46 specialised               \n",
       "45 specialised               \n",
       "48 specialised               \n",
       "47 specialised               \n",
       "51 specialised               \n",
       "50 specialised               \n",
       "2                            \n",
       "3                            \n",
       "1                            \n",
       "20 imputation                \n",
       "   description                                                                                      \n",
       "18 Drop constant or near-constant Features.                                                         \n",
       "19 Clean up Factorial Features.                                                                     \n",
       "12 Combine rare factors.                                                                            \n",
       "13 Convert Numerics to Ordered by binning.                                                          \n",
       "14 Convert all Features to Numerics using as.numeric.                                               \n",
       "16 Convert factorial columns to numeric columns by dummy encoding them                              \n",
       "10 Convert factorial columns in classification tasks to numeric columns by impact encoding them     \n",
       "11 Convert factorial columns in regression tasks to numeric columns by impact encoding them         \n",
       "9  Convert factorial columns in classification tasks to numeric columns by probability encoding them\n",
       "17 Select features from a data set by type, column name, or column index.                           \n",
       "5  Apply an arbitrary function column-wise.                                                         \n",
       "21 .                                                                                                \n",
       "4  Perform Principal Component Analysis (PCA) using stats::prcomp.                                  \n",
       "15 Center and / or scale the data using base::scale.                                                \n",
       "7  Scale numeric columns to get a specific maximum absolute value.                                  \n",
       "6  Scale numeric columns to lie in a given range.                                                   \n",
       "8  Scale numeric rows to given length.                                                              \n",
       "22 Filter features using a provided method.                                                         \n",
       "38 Filter features using analysis of variance.                                                      \n",
       "24 Filter features using correlation-adjusted marginal correlation.                                 \n",
       "34 Filter features using chi-squared test.                                                          \n",
       "32 Filter features using entropy-based information gain ratio                                       \n",
       "31 Filter features using entropy-based information gain.                                            \n",
       "39 Filter features using the Kruskal-Wallis rank sum test.                                          \n",
       "29 Filter features using Pearson correlation.                                                       \n",
       "23 Filter features using 'minimum redundancy, maximum relevance'.                                   \n",
       "36 Filter features using the OneR learner.                                                          \n",
       "41 Filter features using predictiveness loss upon permutation of a variable.                        \n",
       "30 Filter features using Spearman correlation.                                                      \n",
       "35 Filter features using the ReliefF algorithm.                                                     \n",
       "27 Filter features using party::cforest variable importance.                                        \n",
       "28 Filter features using randomForest variable importance.                                          \n",
       "25 Filter features using randomForestSRC.rfsrc.                                                     \n",
       "26 Filter features using randomForestSRC minimal depth.                                             \n",
       "33 Filter features using entropy-based symmetrical uncertainty                                      \n",
       "37 Filter features using the predictiveness using a given learner.                                  \n",
       "40 Filter features using feature variance.                                                          \n",
       "42 General imputation CPO that uses mlr::impute.                                                    \n",
       "43 General imputation CPO that uses mlr::impute and checks that all columns were imputed.           \n",
       "44 Imputation using a constant value.                                                               \n",
       "52 Imputation using random values with probabilities approximating the data.                        \n",
       "53 Imputation using the response of a classification or regression learner.                         \n",
       "49 Imputation using constant values shifted above the maximum.                                      \n",
       "46 Imputation using the mean.                                                                       \n",
       "45 Imputation using the median.                                                                     \n",
       "48 Imputation using constant values shifted below the minimum.                                      \n",
       "47 Imputation using the mode.                                                                       \n",
       "51 Imputation using normally distributed random values.                                             \n",
       "50 Imputation using uniformly distributed random values.                                            \n",
       "2  Apply a freely chosen CPOs, without exporting its hyperparameters.                               \n",
       "3  Combine multiple CPO operations by joining their outputs column-wise.                            \n",
       "1  Apply one of a given set of CPOs, each having their hyperparameters exported.                    \n",
       "20 Generate factorial columns indicating whether data was NA.                                       "
      ]
     },
     "metadata": {},
     "output_type": "display_data"
    }
   ],
   "source": [
    "listCPO()"
   ]
  },
  {
   "cell_type": "markdown",
   "metadata": {},
   "source": [
    "## cpoScale\n",
    "Implements the `base::scale` function."
   ]
  },
  {
   "cell_type": "code",
   "execution_count": 111,
   "metadata": {},
   "outputs": [
    {
     "data": {
      "text/html": [
       "<table>\n",
       "<thead><tr><th scope=col>a</th><th scope=col>b</th></tr></thead>\n",
       "<tbody>\n",
       "\t<tr><td>-1</td><td> 1</td></tr>\n",
       "\t<tr><td> 0</td><td> 0</td></tr>\n",
       "\t<tr><td> 1</td><td>-1</td></tr>\n",
       "</tbody>\n",
       "</table>\n"
      ],
      "text/latex": [
       "\\begin{tabular}{r|ll}\n",
       " a & b\\\\\n",
       "\\hline\n",
       "\t -1 &  1\\\\\n",
       "\t  0 &  0\\\\\n",
       "\t  1 & -1\\\\\n",
       "\\end{tabular}\n"
      ],
      "text/markdown": [
       "\n",
       "a | b | \n",
       "|---|---|---|\n",
       "| -1 |  1 | \n",
       "|  0 |  0 | \n",
       "|  1 | -1 | \n",
       "\n",
       "\n"
      ],
      "text/plain": [
       "  a  b \n",
       "1 -1  1\n",
       "2  0  0\n",
       "3  1 -1"
      ]
     },
     "metadata": {},
     "output_type": "display_data"
    }
   ],
   "source": [
    "df %>>% cpoScale()"
   ]
  },
  {
   "cell_type": "code",
   "execution_count": 112,
   "metadata": {},
   "outputs": [
    {
     "data": {
      "text/html": [
       "<table>\n",
       "<thead><tr><th scope=col>a</th><th scope=col>b</th></tr></thead>\n",
       "<tbody>\n",
       "\t<tr><td>-1 </td><td> 10</td></tr>\n",
       "\t<tr><td> 0 </td><td>  0</td></tr>\n",
       "\t<tr><td> 1 </td><td>-10</td></tr>\n",
       "</tbody>\n",
       "</table>\n"
      ],
      "text/latex": [
       "\\begin{tabular}{r|ll}\n",
       " a & b\\\\\n",
       "\\hline\n",
       "\t -1  &  10\\\\\n",
       "\t  0  &   0\\\\\n",
       "\t  1  & -10\\\\\n",
       "\\end{tabular}\n"
      ],
      "text/markdown": [
       "\n",
       "a | b | \n",
       "|---|---|---|\n",
       "| -1  |  10 | \n",
       "|  0  |   0 | \n",
       "|  1  | -10 | \n",
       "\n",
       "\n"
      ],
      "text/plain": [
       "  a  b  \n",
       "1 -1  10\n",
       "2  0   0\n",
       "3  1 -10"
      ]
     },
     "metadata": {},
     "output_type": "display_data"
    }
   ],
   "source": [
    "df %>>% cpoScale(scale = FALSE)  # center = TRUE"
   ]
  },
  {
   "cell_type": "markdown",
   "metadata": {},
   "source": [
    "## cpoPca\n",
    "Implements `stats::prcomp`. No scaling or centering is performed."
   ]
  },
  {
   "cell_type": "code",
   "execution_count": 113,
   "metadata": {},
   "outputs": [
    {
     "data": {
      "text/html": [
       "<table>\n",
       "<thead><tr><th scope=col>PC1</th><th scope=col>PC2</th></tr></thead>\n",
       "<tbody>\n",
       "\t<tr><td>-10.04988</td><td>0        </td></tr>\n",
       "\t<tr><td>-20.09975</td><td>0        </td></tr>\n",
       "\t<tr><td>-30.14963</td><td>0        </td></tr>\n",
       "</tbody>\n",
       "</table>\n"
      ],
      "text/latex": [
       "\\begin{tabular}{r|ll}\n",
       " PC1 & PC2\\\\\n",
       "\\hline\n",
       "\t -10.04988 & 0        \\\\\n",
       "\t -20.09975 & 0        \\\\\n",
       "\t -30.14963 & 0        \\\\\n",
       "\\end{tabular}\n"
      ],
      "text/markdown": [
       "\n",
       "PC1 | PC2 | \n",
       "|---|---|---|\n",
       "| -10.04988 | 0         | \n",
       "| -20.09975 | 0         | \n",
       "| -30.14963 | 0         | \n",
       "\n",
       "\n"
      ],
      "text/plain": [
       "  PC1       PC2\n",
       "1 -10.04988 0  \n",
       "2 -20.09975 0  \n",
       "3 -30.14963 0  "
      ]
     },
     "metadata": {},
     "output_type": "display_data"
    }
   ],
   "source": [
    "df %>>% cpoPca()"
   ]
  },
  {
   "cell_type": "code",
   "execution_count": 115,
   "metadata": {
    "scrolled": true
   },
   "outputs": [
    {
     "data": {
      "text/html": [
       "<table>\n",
       "<thead><tr><th scope=col>PC1</th><th scope=col>PC2</th></tr></thead>\n",
       "<tbody>\n",
       "\t<tr><td>-10.04988</td><td>0        </td></tr>\n",
       "\t<tr><td>-20.09975</td><td>0        </td></tr>\n",
       "\t<tr><td>-30.14963</td><td>0        </td></tr>\n",
       "</tbody>\n",
       "</table>\n"
      ],
      "text/latex": [
       "\\begin{tabular}{r|ll}\n",
       " PC1 & PC2\\\\\n",
       "\\hline\n",
       "\t -10.04988 & 0        \\\\\n",
       "\t -20.09975 & 0        \\\\\n",
       "\t -30.14963 & 0        \\\\\n",
       "\\end{tabular}\n"
      ],
      "text/markdown": [
       "\n",
       "PC1 | PC2 | \n",
       "|---|---|---|\n",
       "| -10.04988 | 0         | \n",
       "| -20.09975 | 0         | \n",
       "| -30.14963 | 0         | \n",
       "\n",
       "\n"
      ],
      "text/plain": [
       "  PC1       PC2\n",
       "1 -10.04988 0  \n",
       "2 -20.09975 0  \n",
       "3 -30.14963 0  "
      ]
     },
     "metadata": {},
     "output_type": "display_data"
    }
   ],
   "source": [
    "df %>>% cpoPca()"
   ]
  },
  {
   "cell_type": "markdown",
   "metadata": {},
   "source": [
    "## cpoDummyEncode\n",
    "Dummy encoding of factorial variables. Optionally uses the first factor as reference variable."
   ]
  },
  {
   "cell_type": "code",
   "execution_count": 116,
   "metadata": {},
   "outputs": [
    {
     "data": {
      "text/html": [
       "<table>\n",
       "<thead><tr><th scope=col>Sepal.Length</th><th scope=col>Sepal.Width</th><th scope=col>Petal.Length</th><th scope=col>Petal.Width</th><th scope=col>Speciessetosa</th><th scope=col>Speciesversicolor</th><th scope=col>Speciesvirginica</th></tr></thead>\n",
       "<tbody>\n",
       "\t<tr><td>5.1</td><td>3.5</td><td>1.4</td><td>0.2</td><td>1  </td><td>0  </td><td>0  </td></tr>\n",
       "\t<tr><td>4.9</td><td>3.0</td><td>1.4</td><td>0.2</td><td>1  </td><td>0  </td><td>0  </td></tr>\n",
       "\t<tr><td>4.7</td><td>3.2</td><td>1.3</td><td>0.2</td><td>1  </td><td>0  </td><td>0  </td></tr>\n",
       "\t<tr><td>4.6</td><td>3.1</td><td>1.5</td><td>0.2</td><td>1  </td><td>0  </td><td>0  </td></tr>\n",
       "\t<tr><td>5.0</td><td>3.6</td><td>1.4</td><td>0.2</td><td>1  </td><td>0  </td><td>0  </td></tr>\n",
       "\t<tr><td>5.4</td><td>3.9</td><td>1.7</td><td>0.4</td><td>1  </td><td>0  </td><td>0  </td></tr>\n",
       "</tbody>\n",
       "</table>\n"
      ],
      "text/latex": [
       "\\begin{tabular}{r|lllllll}\n",
       " Sepal.Length & Sepal.Width & Petal.Length & Petal.Width & Speciessetosa & Speciesversicolor & Speciesvirginica\\\\\n",
       "\\hline\n",
       "\t 5.1 & 3.5 & 1.4 & 0.2 & 1   & 0   & 0  \\\\\n",
       "\t 4.9 & 3.0 & 1.4 & 0.2 & 1   & 0   & 0  \\\\\n",
       "\t 4.7 & 3.2 & 1.3 & 0.2 & 1   & 0   & 0  \\\\\n",
       "\t 4.6 & 3.1 & 1.5 & 0.2 & 1   & 0   & 0  \\\\\n",
       "\t 5.0 & 3.6 & 1.4 & 0.2 & 1   & 0   & 0  \\\\\n",
       "\t 5.4 & 3.9 & 1.7 & 0.4 & 1   & 0   & 0  \\\\\n",
       "\\end{tabular}\n"
      ],
      "text/markdown": [
       "\n",
       "Sepal.Length | Sepal.Width | Petal.Length | Petal.Width | Speciessetosa | Speciesversicolor | Speciesvirginica | \n",
       "|---|---|---|---|---|---|\n",
       "| 5.1 | 3.5 | 1.4 | 0.2 | 1   | 0   | 0   | \n",
       "| 4.9 | 3.0 | 1.4 | 0.2 | 1   | 0   | 0   | \n",
       "| 4.7 | 3.2 | 1.3 | 0.2 | 1   | 0   | 0   | \n",
       "| 4.6 | 3.1 | 1.5 | 0.2 | 1   | 0   | 0   | \n",
       "| 5.0 | 3.6 | 1.4 | 0.2 | 1   | 0   | 0   | \n",
       "| 5.4 | 3.9 | 1.7 | 0.4 | 1   | 0   | 0   | \n",
       "\n",
       "\n"
      ],
      "text/plain": [
       "  Sepal.Length Sepal.Width Petal.Length Petal.Width Speciessetosa\n",
       "1 5.1          3.5         1.4          0.2         1            \n",
       "2 4.9          3.0         1.4          0.2         1            \n",
       "3 4.7          3.2         1.3          0.2         1            \n",
       "4 4.6          3.1         1.5          0.2         1            \n",
       "5 5.0          3.6         1.4          0.2         1            \n",
       "6 5.4          3.9         1.7          0.4         1            \n",
       "  Speciesversicolor Speciesvirginica\n",
       "1 0                 0               \n",
       "2 0                 0               \n",
       "3 0                 0               \n",
       "4 0                 0               \n",
       "5 0                 0               \n",
       "6 0                 0               "
      ]
     },
     "metadata": {},
     "output_type": "display_data"
    }
   ],
   "source": [
    "head(iris %>>% cpoDummyEncode())"
   ]
  },
  {
   "cell_type": "code",
   "execution_count": 117,
   "metadata": {},
   "outputs": [
    {
     "data": {
      "text/html": [
       "<table>\n",
       "<thead><tr><th scope=col>Sepal.Length</th><th scope=col>Sepal.Width</th><th scope=col>Petal.Length</th><th scope=col>Petal.Width</th><th scope=col>Speciesversicolor</th><th scope=col>Speciesvirginica</th></tr></thead>\n",
       "<tbody>\n",
       "\t<tr><td>5.1</td><td>3.5</td><td>1.4</td><td>0.2</td><td>0  </td><td>0  </td></tr>\n",
       "\t<tr><td>4.9</td><td>3.0</td><td>1.4</td><td>0.2</td><td>0  </td><td>0  </td></tr>\n",
       "\t<tr><td>4.7</td><td>3.2</td><td>1.3</td><td>0.2</td><td>0  </td><td>0  </td></tr>\n",
       "\t<tr><td>4.6</td><td>3.1</td><td>1.5</td><td>0.2</td><td>0  </td><td>0  </td></tr>\n",
       "\t<tr><td>5.0</td><td>3.6</td><td>1.4</td><td>0.2</td><td>0  </td><td>0  </td></tr>\n",
       "\t<tr><td>5.4</td><td>3.9</td><td>1.7</td><td>0.4</td><td>0  </td><td>0  </td></tr>\n",
       "</tbody>\n",
       "</table>\n"
      ],
      "text/latex": [
       "\\begin{tabular}{r|llllll}\n",
       " Sepal.Length & Sepal.Width & Petal.Length & Petal.Width & Speciesversicolor & Speciesvirginica\\\\\n",
       "\\hline\n",
       "\t 5.1 & 3.5 & 1.4 & 0.2 & 0   & 0  \\\\\n",
       "\t 4.9 & 3.0 & 1.4 & 0.2 & 0   & 0  \\\\\n",
       "\t 4.7 & 3.2 & 1.3 & 0.2 & 0   & 0  \\\\\n",
       "\t 4.6 & 3.1 & 1.5 & 0.2 & 0   & 0  \\\\\n",
       "\t 5.0 & 3.6 & 1.4 & 0.2 & 0   & 0  \\\\\n",
       "\t 5.4 & 3.9 & 1.7 & 0.4 & 0   & 0  \\\\\n",
       "\\end{tabular}\n"
      ],
      "text/markdown": [
       "\n",
       "Sepal.Length | Sepal.Width | Petal.Length | Petal.Width | Speciesversicolor | Speciesvirginica | \n",
       "|---|---|---|---|---|---|\n",
       "| 5.1 | 3.5 | 1.4 | 0.2 | 0   | 0   | \n",
       "| 4.9 | 3.0 | 1.4 | 0.2 | 0   | 0   | \n",
       "| 4.7 | 3.2 | 1.3 | 0.2 | 0   | 0   | \n",
       "| 4.6 | 3.1 | 1.5 | 0.2 | 0   | 0   | \n",
       "| 5.0 | 3.6 | 1.4 | 0.2 | 0   | 0   | \n",
       "| 5.4 | 3.9 | 1.7 | 0.4 | 0   | 0   | \n",
       "\n",
       "\n"
      ],
      "text/plain": [
       "  Sepal.Length Sepal.Width Petal.Length Petal.Width Speciesversicolor\n",
       "1 5.1          3.5         1.4          0.2         0                \n",
       "2 4.9          3.0         1.4          0.2         0                \n",
       "3 4.7          3.2         1.3          0.2         0                \n",
       "4 4.6          3.1         1.5          0.2         0                \n",
       "5 5.0          3.6         1.4          0.2         0                \n",
       "6 5.4          3.9         1.7          0.4         0                \n",
       "  Speciesvirginica\n",
       "1 0               \n",
       "2 0               \n",
       "3 0               \n",
       "4 0               \n",
       "5 0               \n",
       "6 0               "
      ]
     },
     "metadata": {},
     "output_type": "display_data"
    }
   ],
   "source": [
    "head(iris %>>% cpoDummyEncode(reference.cat = TRUE))"
   ]
  },
  {
   "cell_type": "markdown",
   "metadata": {},
   "source": [
    "## cpoSelect\n",
    "Select to use only certain columns of a dataset. Select by column index, name, or regex pattern."
   ]
  },
  {
   "cell_type": "code",
   "execution_count": 118,
   "metadata": {},
   "outputs": [
    {
     "data": {
      "text/html": [
       "<table>\n",
       "<thead><tr><th scope=col>Sepal.Width</th><th scope=col>Petal.Width</th></tr></thead>\n",
       "<tbody>\n",
       "\t<tr><td>3.5</td><td>0.2</td></tr>\n",
       "\t<tr><td>3.0</td><td>0.2</td></tr>\n",
       "\t<tr><td>3.2</td><td>0.2</td></tr>\n",
       "\t<tr><td>3.1</td><td>0.2</td></tr>\n",
       "\t<tr><td>3.6</td><td>0.2</td></tr>\n",
       "\t<tr><td>3.9</td><td>0.4</td></tr>\n",
       "</tbody>\n",
       "</table>\n"
      ],
      "text/latex": [
       "\\begin{tabular}{r|ll}\n",
       " Sepal.Width & Petal.Width\\\\\n",
       "\\hline\n",
       "\t 3.5 & 0.2\\\\\n",
       "\t 3.0 & 0.2\\\\\n",
       "\t 3.2 & 0.2\\\\\n",
       "\t 3.1 & 0.2\\\\\n",
       "\t 3.6 & 0.2\\\\\n",
       "\t 3.9 & 0.4\\\\\n",
       "\\end{tabular}\n"
      ],
      "text/markdown": [
       "\n",
       "Sepal.Width | Petal.Width | \n",
       "|---|---|---|---|---|---|\n",
       "| 3.5 | 0.2 | \n",
       "| 3.0 | 0.2 | \n",
       "| 3.2 | 0.2 | \n",
       "| 3.1 | 0.2 | \n",
       "| 3.6 | 0.2 | \n",
       "| 3.9 | 0.4 | \n",
       "\n",
       "\n"
      ],
      "text/plain": [
       "  Sepal.Width Petal.Width\n",
       "1 3.5         0.2        \n",
       "2 3.0         0.2        \n",
       "3 3.2         0.2        \n",
       "4 3.1         0.2        \n",
       "5 3.6         0.2        \n",
       "6 3.9         0.4        "
      ]
     },
     "metadata": {},
     "output_type": "display_data"
    }
   ],
   "source": [
    "head(iris %>>% cpoSelect(pattern = \"Width\"))"
   ]
  },
  {
   "cell_type": "code",
   "execution_count": 119,
   "metadata": {},
   "outputs": [
    {
     "data": {
      "text/html": [
       "<table>\n",
       "<thead><tr><th scope=col>Sepal.Width</th><th scope=col>Petal.Width</th><th scope=col>Species</th></tr></thead>\n",
       "<tbody>\n",
       "\t<tr><td>3.5   </td><td>0.2   </td><td>setosa</td></tr>\n",
       "\t<tr><td>3.0   </td><td>0.2   </td><td>setosa</td></tr>\n",
       "\t<tr><td>3.2   </td><td>0.2   </td><td>setosa</td></tr>\n",
       "\t<tr><td>3.1   </td><td>0.2   </td><td>setosa</td></tr>\n",
       "\t<tr><td>3.6   </td><td>0.2   </td><td>setosa</td></tr>\n",
       "\t<tr><td>3.9   </td><td>0.4   </td><td>setosa</td></tr>\n",
       "</tbody>\n",
       "</table>\n"
      ],
      "text/latex": [
       "\\begin{tabular}{r|lll}\n",
       " Sepal.Width & Petal.Width & Species\\\\\n",
       "\\hline\n",
       "\t 3.5    & 0.2    & setosa\\\\\n",
       "\t 3.0    & 0.2    & setosa\\\\\n",
       "\t 3.2    & 0.2    & setosa\\\\\n",
       "\t 3.1    & 0.2    & setosa\\\\\n",
       "\t 3.6    & 0.2    & setosa\\\\\n",
       "\t 3.9    & 0.4    & setosa\\\\\n",
       "\\end{tabular}\n"
      ],
      "text/markdown": [
       "\n",
       "Sepal.Width | Petal.Width | Species | \n",
       "|---|---|---|---|---|---|\n",
       "| 3.5    | 0.2    | setosa | \n",
       "| 3.0    | 0.2    | setosa | \n",
       "| 3.2    | 0.2    | setosa | \n",
       "| 3.1    | 0.2    | setosa | \n",
       "| 3.6    | 0.2    | setosa | \n",
       "| 3.9    | 0.4    | setosa | \n",
       "\n",
       "\n"
      ],
      "text/plain": [
       "  Sepal.Width Petal.Width Species\n",
       "1 3.5         0.2         setosa \n",
       "2 3.0         0.2         setosa \n",
       "3 3.2         0.2         setosa \n",
       "4 3.1         0.2         setosa \n",
       "5 3.6         0.2         setosa \n",
       "6 3.9         0.4         setosa "
      ]
     },
     "metadata": {},
     "output_type": "display_data"
    }
   ],
   "source": [
    "# selection is additive\n",
    "head(iris %>>% cpoSelect(pattern = \"Width\", type = \"factor\"))"
   ]
  },
  {
   "cell_type": "markdown",
   "metadata": {},
   "source": [
    "## cpoDropConstants\n",
    "Drops constant features or numerics, with variable tolerance"
   ]
  },
  {
   "cell_type": "code",
   "execution_count": 120,
   "metadata": {},
   "outputs": [
    {
     "data": {
      "text/html": [
       "<table>\n",
       "<thead><tr><th scope=col>Sepal.Length</th><th scope=col>Sepal.Width</th><th scope=col>Petal.Length</th><th scope=col>Petal.Width</th></tr></thead>\n",
       "<tbody>\n",
       "\t<tr><td>5.1</td><td>3.5</td><td>1.4</td><td>0.2</td></tr>\n",
       "\t<tr><td>4.9</td><td>3.0</td><td>1.4</td><td>0.2</td></tr>\n",
       "\t<tr><td>4.7</td><td>3.2</td><td>1.3</td><td>0.2</td></tr>\n",
       "\t<tr><td>4.6</td><td>3.1</td><td>1.5</td><td>0.2</td></tr>\n",
       "\t<tr><td>5.0</td><td>3.6</td><td>1.4</td><td>0.2</td></tr>\n",
       "\t<tr><td>5.4</td><td>3.9</td><td>1.7</td><td>0.4</td></tr>\n",
       "</tbody>\n",
       "</table>\n"
      ],
      "text/latex": [
       "\\begin{tabular}{r|llll}\n",
       " Sepal.Length & Sepal.Width & Petal.Length & Petal.Width\\\\\n",
       "\\hline\n",
       "\t 5.1 & 3.5 & 1.4 & 0.2\\\\\n",
       "\t 4.9 & 3.0 & 1.4 & 0.2\\\\\n",
       "\t 4.7 & 3.2 & 1.3 & 0.2\\\\\n",
       "\t 4.6 & 3.1 & 1.5 & 0.2\\\\\n",
       "\t 5.0 & 3.6 & 1.4 & 0.2\\\\\n",
       "\t 5.4 & 3.9 & 1.7 & 0.4\\\\\n",
       "\\end{tabular}\n"
      ],
      "text/markdown": [
       "\n",
       "Sepal.Length | Sepal.Width | Petal.Length | Petal.Width | \n",
       "|---|---|---|---|---|---|\n",
       "| 5.1 | 3.5 | 1.4 | 0.2 | \n",
       "| 4.9 | 3.0 | 1.4 | 0.2 | \n",
       "| 4.7 | 3.2 | 1.3 | 0.2 | \n",
       "| 4.6 | 3.1 | 1.5 | 0.2 | \n",
       "| 5.0 | 3.6 | 1.4 | 0.2 | \n",
       "| 5.4 | 3.9 | 1.7 | 0.4 | \n",
       "\n",
       "\n"
      ],
      "text/plain": [
       "  Sepal.Length Sepal.Width Petal.Length Petal.Width\n",
       "1 5.1          3.5         1.4          0.2        \n",
       "2 4.9          3.0         1.4          0.2        \n",
       "3 4.7          3.2         1.3          0.2        \n",
       "4 4.6          3.1         1.5          0.2        \n",
       "5 5.0          3.6         1.4          0.2        \n",
       "6 5.4          3.9         1.7          0.4        "
      ]
     },
     "metadata": {},
     "output_type": "display_data"
    },
    {
     "data": {
      "text/html": [
       "<table>\n",
       "<thead><tr><th scope=col>Sepal.Length</th><th scope=col>Sepal.Width</th><th scope=col>Petal.Length</th></tr></thead>\n",
       "<tbody>\n",
       "\t<tr><td>5.1</td><td>3.5</td><td>1.4</td></tr>\n",
       "\t<tr><td>4.9</td><td>3.0</td><td>1.4</td></tr>\n",
       "\t<tr><td>4.7</td><td>3.2</td><td>1.3</td></tr>\n",
       "\t<tr><td>4.6</td><td>3.1</td><td>1.5</td></tr>\n",
       "\t<tr><td>5.0</td><td>3.6</td><td>1.4</td></tr>\n",
       "\t<tr><td>5.4</td><td>3.9</td><td>1.7</td></tr>\n",
       "</tbody>\n",
       "</table>\n"
      ],
      "text/latex": [
       "\\begin{tabular}{r|lll}\n",
       " Sepal.Length & Sepal.Width & Petal.Length\\\\\n",
       "\\hline\n",
       "\t 5.1 & 3.5 & 1.4\\\\\n",
       "\t 4.9 & 3.0 & 1.4\\\\\n",
       "\t 4.7 & 3.2 & 1.3\\\\\n",
       "\t 4.6 & 3.1 & 1.5\\\\\n",
       "\t 5.0 & 3.6 & 1.4\\\\\n",
       "\t 5.4 & 3.9 & 1.7\\\\\n",
       "\\end{tabular}\n"
      ],
      "text/markdown": [
       "\n",
       "Sepal.Length | Sepal.Width | Petal.Length | \n",
       "|---|---|---|---|---|---|\n",
       "| 5.1 | 3.5 | 1.4 | \n",
       "| 4.9 | 3.0 | 1.4 | \n",
       "| 4.7 | 3.2 | 1.3 | \n",
       "| 4.6 | 3.1 | 1.5 | \n",
       "| 5.0 | 3.6 | 1.4 | \n",
       "| 5.4 | 3.9 | 1.7 | \n",
       "\n",
       "\n"
      ],
      "text/plain": [
       "  Sepal.Length Sepal.Width Petal.Length\n",
       "1 5.1          3.5         1.4         \n",
       "2 4.9          3.0         1.4         \n",
       "3 4.7          3.2         1.3         \n",
       "4 4.6          3.1         1.5         \n",
       "5 5.0          3.6         1.4         \n",
       "6 5.4          3.9         1.7         "
      ]
     },
     "metadata": {},
     "output_type": "display_data"
    }
   ],
   "source": [
    "head(iris) %>>% cpoDropConstants()  # drops 'species'\n",
    "head(iris) %>>% cpoDropConstants(abs.tol = 0.2)  # also drops 'Petal.Width'"
   ]
  },
  {
   "cell_type": "markdown",
   "metadata": {},
   "source": [
    "## cpoFixFactors\n",
    "Drops unused factors and makes sure prediction data has the same factor levels as training data."
   ]
  },
  {
   "cell_type": "code",
   "execution_count": 121,
   "metadata": {},
   "outputs": [
    {
     "data": {
      "text/html": [
       "<ol class=list-inline>\n",
       "\t<li>'setosa'</li>\n",
       "\t<li>'versicolor'</li>\n",
       "\t<li>'virginica'</li>\n",
       "</ol>\n"
      ],
      "text/latex": [
       "\\begin{enumerate*}\n",
       "\\item 'setosa'\n",
       "\\item 'versicolor'\n",
       "\\item 'virginica'\n",
       "\\end{enumerate*}\n"
      ],
      "text/markdown": [
       "1. 'setosa'\n",
       "2. 'versicolor'\n",
       "3. 'virginica'\n",
       "\n",
       "\n"
      ],
      "text/plain": [
       "[1] \"setosa\"     \"versicolor\" \"virginica\" "
      ]
     },
     "metadata": {},
     "output_type": "display_data"
    }
   ],
   "source": [
    "levels(iris$Species)"
   ]
  },
  {
   "cell_type": "code",
   "execution_count": 122,
   "metadata": {},
   "outputs": [
    {
     "data": {
      "text/html": [
       "'setosa'"
      ],
      "text/latex": [
       "'setosa'"
      ],
      "text/markdown": [
       "'setosa'"
      ],
      "text/plain": [
       "[1] \"setosa\""
      ]
     },
     "metadata": {},
     "output_type": "display_data"
    }
   ],
   "source": [
    "irisfix = head(iris) %>>% cpoFixFactors()  # Species only has level 'setosa' in train\n",
    "levels(irisfix$Species)"
   ]
  },
  {
   "cell_type": "code",
   "execution_count": 123,
   "metadata": {
    "scrolled": true
   },
   "outputs": [
    {
     "data": {
      "text/html": [
       "<table>\n",
       "<thead><tr><th></th><th scope=col>Sepal.Length</th><th scope=col>Sepal.Width</th><th scope=col>Petal.Length</th><th scope=col>Petal.Width</th><th scope=col>Species</th></tr></thead>\n",
       "<tbody>\n",
       "\t<tr><th scope=row>1</th><td>5.1       </td><td>3.5       </td><td>1.4       </td><td>0.2       </td><td>setosa    </td></tr>\n",
       "\t<tr><th scope=row>100</th><td>5.7       </td><td>2.8       </td><td>4.1       </td><td>1.3       </td><td>versicolor</td></tr>\n",
       "\t<tr><th scope=row>140</th><td>6.9       </td><td>3.1       </td><td>5.4       </td><td>2.1       </td><td>virginica </td></tr>\n",
       "</tbody>\n",
       "</table>\n"
      ],
      "text/latex": [
       "\\begin{tabular}{r|lllll}\n",
       "  & Sepal.Length & Sepal.Width & Petal.Length & Petal.Width & Species\\\\\n",
       "\\hline\n",
       "\t1 & 5.1        & 3.5        & 1.4        & 0.2        & setosa    \\\\\n",
       "\t100 & 5.7        & 2.8        & 4.1        & 1.3        & versicolor\\\\\n",
       "\t140 & 6.9        & 3.1        & 5.4        & 2.1        & virginica \\\\\n",
       "\\end{tabular}\n"
      ],
      "text/markdown": [
       "\n",
       "| <!--/--> | Sepal.Length | Sepal.Width | Petal.Length | Petal.Width | Species | \n",
       "|---|---|---|\n",
       "| 1 | 5.1        | 3.5        | 1.4        | 0.2        | setosa     | \n",
       "| 100 | 5.7        | 2.8        | 4.1        | 1.3        | versicolor | \n",
       "| 140 | 6.9        | 3.1        | 5.4        | 2.1        | virginica  | \n",
       "\n",
       "\n"
      ],
      "text/plain": [
       "    Sepal.Length Sepal.Width Petal.Length Petal.Width Species   \n",
       "1   5.1          3.5         1.4          0.2         setosa    \n",
       "100 5.7          2.8         4.1          1.3         versicolor\n",
       "140 6.9          3.1         5.4          2.1         virginica "
      ]
     },
     "metadata": {},
     "output_type": "display_data"
    },
    {
     "data": {
      "text/html": [
       "<table>\n",
       "<thead><tr><th></th><th scope=col>Sepal.Length</th><th scope=col>Sepal.Width</th><th scope=col>Petal.Length</th><th scope=col>Petal.Width</th><th scope=col>Species</th></tr></thead>\n",
       "<tbody>\n",
       "\t<tr><th scope=row>1</th><td>5.1   </td><td>3.5   </td><td>1.4   </td><td>0.2   </td><td>setosa</td></tr>\n",
       "\t<tr><th scope=row>100</th><td>5.7   </td><td>2.8   </td><td>4.1   </td><td>1.3   </td><td>NA    </td></tr>\n",
       "\t<tr><th scope=row>140</th><td>6.9   </td><td>3.1   </td><td>5.4   </td><td>2.1   </td><td>NA    </td></tr>\n",
       "</tbody>\n",
       "</table>\n"
      ],
      "text/latex": [
       "\\begin{tabular}{r|lllll}\n",
       "  & Sepal.Length & Sepal.Width & Petal.Length & Petal.Width & Species\\\\\n",
       "\\hline\n",
       "\t1 & 5.1    & 3.5    & 1.4    & 0.2    & setosa\\\\\n",
       "\t100 & 5.7    & 2.8    & 4.1    & 1.3    & NA    \\\\\n",
       "\t140 & 6.9    & 3.1    & 5.4    & 2.1    & NA    \\\\\n",
       "\\end{tabular}\n"
      ],
      "text/markdown": [
       "\n",
       "| <!--/--> | Sepal.Length | Sepal.Width | Petal.Length | Petal.Width | Species | \n",
       "|---|---|---|\n",
       "| 1 | 5.1    | 3.5    | 1.4    | 0.2    | setosa | \n",
       "| 100 | 5.7    | 2.8    | 4.1    | 1.3    | NA     | \n",
       "| 140 | 6.9    | 3.1    | 5.4    | 2.1    | NA     | \n",
       "\n",
       "\n"
      ],
      "text/plain": [
       "    Sepal.Length Sepal.Width Petal.Length Petal.Width Species\n",
       "1   5.1          3.5         1.4          0.2         setosa \n",
       "100 5.7          2.8         4.1          1.3         NA     \n",
       "140 6.9          3.1         5.4          2.1         NA     "
      ]
     },
     "metadata": {},
     "output_type": "display_data"
    }
   ],
   "source": [
    "rf = retrafo(irisfix)\n",
    "iris[c(1, 100, 140), ]\n",
    "iris[c(1, 100, 140), ] %>>% rf"
   ]
  },
  {
   "cell_type": "markdown",
   "metadata": {},
   "source": [
    "## cpoMissingIndicators\n",
    "Creates columns indicating missing data. Most useful in combination with cpoCbind."
   ]
  },
  {
   "cell_type": "code",
   "execution_count": 124,
   "metadata": {},
   "outputs": [
    {
     "data": {
      "text/html": [
       "<table>\n",
       "<thead><tr><th scope=col>a</th><th scope=col>b</th></tr></thead>\n",
       "<tbody>\n",
       "\t<tr><td>NA </td><td>-10</td></tr>\n",
       "\t<tr><td> 2 </td><td>-20</td></tr>\n",
       "\t<tr><td> 3 </td><td>-30</td></tr>\n",
       "</tbody>\n",
       "</table>\n"
      ],
      "text/latex": [
       "\\begin{tabular}{r|ll}\n",
       " a & b\\\\\n",
       "\\hline\n",
       "\t NA  & -10\\\\\n",
       "\t  2  & -20\\\\\n",
       "\t  3  & -30\\\\\n",
       "\\end{tabular}\n"
      ],
      "text/markdown": [
       "\n",
       "a | b | \n",
       "|---|---|---|\n",
       "| NA  | -10 | \n",
       "|  2  | -20 | \n",
       "|  3  | -30 | \n",
       "\n",
       "\n"
      ],
      "text/plain": [
       "  a  b  \n",
       "1 NA -10\n",
       "2  2 -20\n",
       "3  3 -30"
      ]
     },
     "metadata": {},
     "output_type": "display_data"
    }
   ],
   "source": [
    "impdata = df\n",
    "impdata[[1]][1] = NA\n",
    "impdata"
   ]
  },
  {
   "cell_type": "code",
   "execution_count": 125,
   "metadata": {
    "scrolled": true
   },
   "outputs": [
    {
     "data": {
      "text/html": [
       "<table>\n",
       "<thead><tr><th scope=col>a</th></tr></thead>\n",
       "<tbody>\n",
       "\t<tr><td>TRUE </td></tr>\n",
       "\t<tr><td>FALSE</td></tr>\n",
       "\t<tr><td>FALSE</td></tr>\n",
       "</tbody>\n",
       "</table>\n"
      ],
      "text/latex": [
       "\\begin{tabular}{r|l}\n",
       " a\\\\\n",
       "\\hline\n",
       "\t TRUE \\\\\n",
       "\t FALSE\\\\\n",
       "\t FALSE\\\\\n",
       "\\end{tabular}\n"
      ],
      "text/markdown": [
       "\n",
       "a | \n",
       "|---|---|---|\n",
       "| TRUE  | \n",
       "| FALSE | \n",
       "| FALSE | \n",
       "\n",
       "\n"
      ],
      "text/plain": [
       "  a    \n",
       "1 TRUE \n",
       "2 FALSE\n",
       "3 FALSE"
      ]
     },
     "metadata": {},
     "output_type": "display_data"
    },
    {
     "data": {
      "text/html": [
       "<table>\n",
       "<thead><tr><th scope=col>a</th><th scope=col>b</th><th scope=col>dummy.a</th></tr></thead>\n",
       "<tbody>\n",
       "\t<tr><td>NA   </td><td>-10  </td><td>TRUE </td></tr>\n",
       "\t<tr><td> 2   </td><td>-20  </td><td>FALSE</td></tr>\n",
       "\t<tr><td> 3   </td><td>-30  </td><td>FALSE</td></tr>\n",
       "</tbody>\n",
       "</table>\n"
      ],
      "text/latex": [
       "\\begin{tabular}{r|lll}\n",
       " a & b & dummy.a\\\\\n",
       "\\hline\n",
       "\t NA    & -10   & TRUE \\\\\n",
       "\t  2    & -20   & FALSE\\\\\n",
       "\t  3    & -30   & FALSE\\\\\n",
       "\\end{tabular}\n"
      ],
      "text/markdown": [
       "\n",
       "a | b | dummy.a | \n",
       "|---|---|---|\n",
       "| NA    | -10   | TRUE  | \n",
       "|  2    | -20   | FALSE | \n",
       "|  3    | -30   | FALSE | \n",
       "\n",
       "\n"
      ],
      "text/plain": [
       "  a  b   dummy.a\n",
       "1 NA -10 TRUE   \n",
       "2  2 -20 FALSE  \n",
       "3  3 -30 FALSE  "
      ]
     },
     "metadata": {},
     "output_type": "display_data"
    }
   ],
   "source": [
    "impdata %>>% cpoMissingIndicators()\n",
    "impdata %>>% cpoCbind(NULLCPO, dummy = cpoMissingIndicators())"
   ]
  },
  {
   "cell_type": "markdown",
   "metadata": {},
   "source": [
    "## cpoApplyFun\n",
    "Apply an univariate function to data columns"
   ]
  },
  {
   "cell_type": "code",
   "execution_count": 164,
   "metadata": {},
   "outputs": [
    {
     "data": {
      "text/html": [
       "<table>\n",
       "<thead><tr><th scope=col>Sepal.Length</th><th scope=col>Sepal.Width</th><th scope=col>Petal.Length</th><th scope=col>Petal.Width</th><th scope=col>Species</th></tr></thead>\n",
       "<tbody>\n",
       "\t<tr><td>-7.741682</td><td>-8.129171</td><td>-8.816784</td><td>-9.552786</td><td>setosa   </td></tr>\n",
       "\t<tr><td>-7.786406</td><td>-8.267949</td><td>-8.816784</td><td>-9.552786</td><td>setosa   </td></tr>\n",
       "\t<tr><td>-7.832052</td><td>-8.211146</td><td>-8.859825</td><td>-9.552786</td><td>setosa   </td></tr>\n",
       "\t<tr><td>-7.855239</td><td>-8.239318</td><td>-8.775255</td><td>-9.552786</td><td>setosa   </td></tr>\n",
       "\t<tr><td>-7.763932</td><td>-8.102633</td><td>-8.816784</td><td>-9.552786</td><td>setosa   </td></tr>\n",
       "\t<tr><td>-7.676210</td><td>-8.025158</td><td>-8.696160</td><td>-9.367544</td><td>setosa   </td></tr>\n",
       "</tbody>\n",
       "</table>\n"
      ],
      "text/latex": [
       "\\begin{tabular}{r|lllll}\n",
       " Sepal.Length & Sepal.Width & Petal.Length & Petal.Width & Species\\\\\n",
       "\\hline\n",
       "\t -7.741682 & -8.129171 & -8.816784 & -9.552786 & setosa   \\\\\n",
       "\t -7.786406 & -8.267949 & -8.816784 & -9.552786 & setosa   \\\\\n",
       "\t -7.832052 & -8.211146 & -8.859825 & -9.552786 & setosa   \\\\\n",
       "\t -7.855239 & -8.239318 & -8.775255 & -9.552786 & setosa   \\\\\n",
       "\t -7.763932 & -8.102633 & -8.816784 & -9.552786 & setosa   \\\\\n",
       "\t -7.676210 & -8.025158 & -8.696160 & -9.367544 & setosa   \\\\\n",
       "\\end{tabular}\n"
      ],
      "text/markdown": [
       "\n",
       "Sepal.Length | Sepal.Width | Petal.Length | Petal.Width | Species | \n",
       "|---|---|---|---|---|---|\n",
       "| -7.741682 | -8.129171 | -8.816784 | -9.552786 | setosa    | \n",
       "| -7.786406 | -8.267949 | -8.816784 | -9.552786 | setosa    | \n",
       "| -7.832052 | -8.211146 | -8.859825 | -9.552786 | setosa    | \n",
       "| -7.855239 | -8.239318 | -8.775255 | -9.552786 | setosa    | \n",
       "| -7.763932 | -8.102633 | -8.816784 | -9.552786 | setosa    | \n",
       "| -7.676210 | -8.025158 | -8.696160 | -9.367544 | setosa    | \n",
       "\n",
       "\n"
      ],
      "text/plain": [
       "  Sepal.Length Sepal.Width Petal.Length Petal.Width Species\n",
       "1 -7.741682    -8.129171   -8.816784    -9.552786   setosa \n",
       "2 -7.786406    -8.267949   -8.816784    -9.552786   setosa \n",
       "3 -7.832052    -8.211146   -8.859825    -9.552786   setosa \n",
       "4 -7.855239    -8.239318   -8.775255    -9.552786   setosa \n",
       "5 -7.763932    -8.102633   -8.816784    -9.552786   setosa \n",
       "6 -7.676210    -8.025158   -8.696160    -9.367544   setosa "
      ]
     },
     "metadata": {},
     "output_type": "display_data"
    }
   ],
   "source": [
    "head(iris %>>% cpoApplyFun(function(x) sqrt(x) - 10, affect.type = \"numeric\"))"
   ]
  },
  {
   "cell_type": "markdown",
   "metadata": {},
   "source": [
    "## cpoAsNumeric\n",
    "Convert (non-numeric) features to numeric"
   ]
  },
  {
   "cell_type": "code",
   "execution_count": 166,
   "metadata": {},
   "outputs": [
    {
     "data": {
      "text/html": [
       "<table>\n",
       "<thead><tr><th></th><th scope=col>Sepal.Length</th><th scope=col>Sepal.Width</th><th scope=col>Petal.Length</th><th scope=col>Petal.Width</th><th scope=col>Species</th></tr></thead>\n",
       "<tbody>\n",
       "\t<tr><th scope=row>44</th><td>5.0</td><td>3.5</td><td>1.6</td><td>0.6</td><td>1  </td></tr>\n",
       "\t<tr><th scope=row>118</th><td>7.7</td><td>3.8</td><td>6.7</td><td>2.2</td><td>3  </td></tr>\n",
       "\t<tr><th scope=row>61</th><td>5.0</td><td>2.0</td><td>3.5</td><td>1.0</td><td>2  </td></tr>\n",
       "\t<tr><th scope=row>130</th><td>7.2</td><td>3.0</td><td>5.8</td><td>1.6</td><td>3  </td></tr>\n",
       "\t<tr><th scope=row>138</th><td>6.4</td><td>3.1</td><td>5.5</td><td>1.8</td><td>3  </td></tr>\n",
       "\t<tr><th scope=row>7</th><td>4.6</td><td>3.4</td><td>1.4</td><td>0.3</td><td>1  </td></tr>\n",
       "</tbody>\n",
       "</table>\n"
      ],
      "text/latex": [
       "\\begin{tabular}{r|lllll}\n",
       "  & Sepal.Length & Sepal.Width & Petal.Length & Petal.Width & Species\\\\\n",
       "\\hline\n",
       "\t44 & 5.0 & 3.5 & 1.6 & 0.6 & 1  \\\\\n",
       "\t118 & 7.7 & 3.8 & 6.7 & 2.2 & 3  \\\\\n",
       "\t61 & 5.0 & 2.0 & 3.5 & 1.0 & 2  \\\\\n",
       "\t130 & 7.2 & 3.0 & 5.8 & 1.6 & 3  \\\\\n",
       "\t138 & 6.4 & 3.1 & 5.5 & 1.8 & 3  \\\\\n",
       "\t7 & 4.6 & 3.4 & 1.4 & 0.3 & 1  \\\\\n",
       "\\end{tabular}\n"
      ],
      "text/markdown": [
       "\n",
       "| <!--/--> | Sepal.Length | Sepal.Width | Petal.Length | Petal.Width | Species | \n",
       "|---|---|---|---|---|---|\n",
       "| 44 | 5.0 | 3.5 | 1.6 | 0.6 | 1   | \n",
       "| 118 | 7.7 | 3.8 | 6.7 | 2.2 | 3   | \n",
       "| 61 | 5.0 | 2.0 | 3.5 | 1.0 | 2   | \n",
       "| 130 | 7.2 | 3.0 | 5.8 | 1.6 | 3   | \n",
       "| 138 | 6.4 | 3.1 | 5.5 | 1.8 | 3   | \n",
       "| 7 | 4.6 | 3.4 | 1.4 | 0.3 | 1   | \n",
       "\n",
       "\n"
      ],
      "text/plain": [
       "    Sepal.Length Sepal.Width Petal.Length Petal.Width Species\n",
       "44  5.0          3.5         1.6          0.6         1      \n",
       "118 7.7          3.8         6.7          2.2         3      \n",
       "61  5.0          2.0         3.5          1.0         2      \n",
       "130 7.2          3.0         5.8          1.6         3      \n",
       "138 6.4          3.1         5.5          1.8         3      \n",
       "7   4.6          3.4         1.4          0.3         1      "
      ]
     },
     "metadata": {},
     "output_type": "display_data"
    }
   ],
   "source": [
    "head(iris[sample(nrow(iris), 10), ] %>>% cpoAsNumeric())"
   ]
  },
  {
   "cell_type": "markdown",
   "metadata": {},
   "source": [
    "## cpoCollapseFact\n",
    "Combine low prevalence factors. Set `max.collapsed.class.prevalence` how big the combined factor level may be."
   ]
  },
  {
   "cell_type": "code",
   "execution_count": 180,
   "metadata": {},
   "outputs": [
    {
     "data": {
      "text/html": [
       "<table>\n",
       "<thead><tr><th scope=col>Sepal.Length</th><th scope=col>Sepal.Width</th><th scope=col>Petal.Length</th><th scope=col>Petal.Width</th><th scope=col>Species</th></tr></thead>\n",
       "<tbody>\n",
       "\t<tr><td>5.1   </td><td>3.5   </td><td>1.4   </td><td>0.2   </td><td>a     </td></tr>\n",
       "\t<tr><td>4.9   </td><td>3.0   </td><td>1.4   </td><td>0.2   </td><td>b     </td></tr>\n",
       "\t<tr><td>4.7   </td><td>3.2   </td><td>1.3   </td><td>0.2   </td><td>c     </td></tr>\n",
       "\t<tr><td>4.6   </td><td>3.1   </td><td>1.5   </td><td>0.2   </td><td>b     </td></tr>\n",
       "\t<tr><td>5.0   </td><td>3.6   </td><td>1.4   </td><td>0.2   </td><td>b     </td></tr>\n",
       "\t<tr><td>5.4   </td><td>3.9   </td><td>1.7   </td><td>0.4   </td><td>c     </td></tr>\n",
       "\t<tr><td>4.6   </td><td>3.4   </td><td>1.4   </td><td>0.3   </td><td>b     </td></tr>\n",
       "\t<tr><td>5.0   </td><td>3.4   </td><td>1.5   </td><td>0.2   </td><td>c     </td></tr>\n",
       "\t<tr><td>4.4   </td><td>2.9   </td><td>1.4   </td><td>0.2   </td><td>setosa</td></tr>\n",
       "\t<tr><td>4.9   </td><td>3.1   </td><td>1.5   </td><td>0.1   </td><td>setosa</td></tr>\n",
       "</tbody>\n",
       "</table>\n"
      ],
      "text/latex": [
       "\\begin{tabular}{r|lllll}\n",
       " Sepal.Length & Sepal.Width & Petal.Length & Petal.Width & Species\\\\\n",
       "\\hline\n",
       "\t 5.1    & 3.5    & 1.4    & 0.2    & a     \\\\\n",
       "\t 4.9    & 3.0    & 1.4    & 0.2    & b     \\\\\n",
       "\t 4.7    & 3.2    & 1.3    & 0.2    & c     \\\\\n",
       "\t 4.6    & 3.1    & 1.5    & 0.2    & b     \\\\\n",
       "\t 5.0    & 3.6    & 1.4    & 0.2    & b     \\\\\n",
       "\t 5.4    & 3.9    & 1.7    & 0.4    & c     \\\\\n",
       "\t 4.6    & 3.4    & 1.4    & 0.3    & b     \\\\\n",
       "\t 5.0    & 3.4    & 1.5    & 0.2    & c     \\\\\n",
       "\t 4.4    & 2.9    & 1.4    & 0.2    & setosa\\\\\n",
       "\t 4.9    & 3.1    & 1.5    & 0.1    & setosa\\\\\n",
       "\\end{tabular}\n"
      ],
      "text/markdown": [
       "\n",
       "Sepal.Length | Sepal.Width | Petal.Length | Petal.Width | Species | \n",
       "|---|---|---|---|---|---|---|---|---|---|\n",
       "| 5.1    | 3.5    | 1.4    | 0.2    | a      | \n",
       "| 4.9    | 3.0    | 1.4    | 0.2    | b      | \n",
       "| 4.7    | 3.2    | 1.3    | 0.2    | c      | \n",
       "| 4.6    | 3.1    | 1.5    | 0.2    | b      | \n",
       "| 5.0    | 3.6    | 1.4    | 0.2    | b      | \n",
       "| 5.4    | 3.9    | 1.7    | 0.4    | c      | \n",
       "| 4.6    | 3.4    | 1.4    | 0.3    | b      | \n",
       "| 5.0    | 3.4    | 1.5    | 0.2    | c      | \n",
       "| 4.4    | 2.9    | 1.4    | 0.2    | setosa | \n",
       "| 4.9    | 3.1    | 1.5    | 0.1    | setosa | \n",
       "\n",
       "\n"
      ],
      "text/plain": [
       "   Sepal.Length Sepal.Width Petal.Length Petal.Width Species\n",
       "1  5.1          3.5         1.4          0.2         a      \n",
       "2  4.9          3.0         1.4          0.2         b      \n",
       "3  4.7          3.2         1.3          0.2         c      \n",
       "4  4.6          3.1         1.5          0.2         b      \n",
       "5  5.0          3.6         1.4          0.2         b      \n",
       "6  5.4          3.9         1.7          0.4         c      \n",
       "7  4.6          3.4         1.4          0.3         b      \n",
       "8  5.0          3.4         1.5          0.2         c      \n",
       "9  4.4          2.9         1.4          0.2         setosa \n",
       "10 4.9          3.1         1.5          0.1         setosa "
      ]
     },
     "metadata": {},
     "output_type": "display_data"
    },
    {
     "data": {
      "text/html": [
       "<table>\n",
       "<thead><tr><th scope=col>Sepal.Length</th><th scope=col>Sepal.Width</th><th scope=col>Petal.Length</th><th scope=col>Petal.Width</th><th scope=col>Species</th></tr></thead>\n",
       "<tbody>\n",
       "\t<tr><td>5.1      </td><td>3.5      </td><td>1.4      </td><td>0.2      </td><td>collapsed</td></tr>\n",
       "\t<tr><td>4.9      </td><td>3.0      </td><td>1.4      </td><td>0.2      </td><td>collapsed</td></tr>\n",
       "\t<tr><td>4.7      </td><td>3.2      </td><td>1.3      </td><td>0.2      </td><td>collapsed</td></tr>\n",
       "\t<tr><td>4.6      </td><td>3.1      </td><td>1.5      </td><td>0.2      </td><td>collapsed</td></tr>\n",
       "\t<tr><td>5.0      </td><td>3.6      </td><td>1.4      </td><td>0.2      </td><td>collapsed</td></tr>\n",
       "\t<tr><td>5.4      </td><td>3.9      </td><td>1.7      </td><td>0.4      </td><td>collapsed</td></tr>\n",
       "\t<tr><td>4.6      </td><td>3.4      </td><td>1.4      </td><td>0.3      </td><td>collapsed</td></tr>\n",
       "\t<tr><td>5.0      </td><td>3.4      </td><td>1.5      </td><td>0.2      </td><td>collapsed</td></tr>\n",
       "\t<tr><td>4.4      </td><td>2.9      </td><td>1.4      </td><td>0.2      </td><td>setosa   </td></tr>\n",
       "\t<tr><td>4.9      </td><td>3.1      </td><td>1.5      </td><td>0.1      </td><td>setosa   </td></tr>\n",
       "</tbody>\n",
       "</table>\n"
      ],
      "text/latex": [
       "\\begin{tabular}{r|lllll}\n",
       " Sepal.Length & Sepal.Width & Petal.Length & Petal.Width & Species\\\\\n",
       "\\hline\n",
       "\t 5.1       & 3.5       & 1.4       & 0.2       & collapsed\\\\\n",
       "\t 4.9       & 3.0       & 1.4       & 0.2       & collapsed\\\\\n",
       "\t 4.7       & 3.2       & 1.3       & 0.2       & collapsed\\\\\n",
       "\t 4.6       & 3.1       & 1.5       & 0.2       & collapsed\\\\\n",
       "\t 5.0       & 3.6       & 1.4       & 0.2       & collapsed\\\\\n",
       "\t 5.4       & 3.9       & 1.7       & 0.4       & collapsed\\\\\n",
       "\t 4.6       & 3.4       & 1.4       & 0.3       & collapsed\\\\\n",
       "\t 5.0       & 3.4       & 1.5       & 0.2       & collapsed\\\\\n",
       "\t 4.4       & 2.9       & 1.4       & 0.2       & setosa   \\\\\n",
       "\t 4.9       & 3.1       & 1.5       & 0.1       & setosa   \\\\\n",
       "\\end{tabular}\n"
      ],
      "text/markdown": [
       "\n",
       "Sepal.Length | Sepal.Width | Petal.Length | Petal.Width | Species | \n",
       "|---|---|---|---|---|---|---|---|---|---|\n",
       "| 5.1       | 3.5       | 1.4       | 0.2       | collapsed | \n",
       "| 4.9       | 3.0       | 1.4       | 0.2       | collapsed | \n",
       "| 4.7       | 3.2       | 1.3       | 0.2       | collapsed | \n",
       "| 4.6       | 3.1       | 1.5       | 0.2       | collapsed | \n",
       "| 5.0       | 3.6       | 1.4       | 0.2       | collapsed | \n",
       "| 5.4       | 3.9       | 1.7       | 0.4       | collapsed | \n",
       "| 4.6       | 3.4       | 1.4       | 0.3       | collapsed | \n",
       "| 5.0       | 3.4       | 1.5       | 0.2       | collapsed | \n",
       "| 4.4       | 2.9       | 1.4       | 0.2       | setosa    | \n",
       "| 4.9       | 3.1       | 1.5       | 0.1       | setosa    | \n",
       "\n",
       "\n"
      ],
      "text/plain": [
       "   Sepal.Length Sepal.Width Petal.Length Petal.Width Species  \n",
       "1  5.1          3.5         1.4          0.2         collapsed\n",
       "2  4.9          3.0         1.4          0.2         collapsed\n",
       "3  4.7          3.2         1.3          0.2         collapsed\n",
       "4  4.6          3.1         1.5          0.2         collapsed\n",
       "5  5.0          3.6         1.4          0.2         collapsed\n",
       "6  5.4          3.9         1.7          0.4         collapsed\n",
       "7  4.6          3.4         1.4          0.3         collapsed\n",
       "8  5.0          3.4         1.5          0.2         collapsed\n",
       "9  4.4          2.9         1.4          0.2         setosa   \n",
       "10 4.9          3.1         1.5          0.1         setosa   "
      ]
     },
     "metadata": {},
     "output_type": "display_data"
    }
   ],
   "source": [
    "iris2 = iris\n",
    "iris2$Species = factor(c(\"a\", \"b\", \"c\", \"b\", \"b\", \"c\", \"b\", \"c\",\n",
    "                        as.character(iris2$Species[-(1:8)])))\n",
    "head(iris2, 10)\n",
    "head(iris2 %>>% cpoCollapseFact(max.collapsed.class.prevalence = 0.2), 10)"
   ]
  },
  {
   "cell_type": "markdown",
   "metadata": {},
   "source": [
    "## cpoModelMatrix\n",
    "Specify which columns get used, and how they are transformed, using a `formula`."
   ]
  },
  {
   "cell_type": "code",
   "execution_count": 185,
   "metadata": {},
   "outputs": [
    {
     "data": {
      "text/html": [
       "<table>\n",
       "<thead><tr><th scope=col>Speciessetosa:Petal.Width</th><th scope=col>Speciesversicolor:Petal.Width</th><th scope=col>Speciesvirginica:Petal.Width</th></tr></thead>\n",
       "<tbody>\n",
       "\t<tr><td>0.2</td><td>0  </td><td>0  </td></tr>\n",
       "\t<tr><td>0.2</td><td>0  </td><td>0  </td></tr>\n",
       "\t<tr><td>0.2</td><td>0  </td><td>0  </td></tr>\n",
       "\t<tr><td>0.2</td><td>0  </td><td>0  </td></tr>\n",
       "\t<tr><td>0.2</td><td>0  </td><td>0  </td></tr>\n",
       "\t<tr><td>0.4</td><td>0  </td><td>0  </td></tr>\n",
       "</tbody>\n",
       "</table>\n"
      ],
      "text/latex": [
       "\\begin{tabular}{r|lll}\n",
       " Speciessetosa:Petal.Width & Speciesversicolor:Petal.Width & Speciesvirginica:Petal.Width\\\\\n",
       "\\hline\n",
       "\t 0.2 & 0   & 0  \\\\\n",
       "\t 0.2 & 0   & 0  \\\\\n",
       "\t 0.2 & 0   & 0  \\\\\n",
       "\t 0.2 & 0   & 0  \\\\\n",
       "\t 0.2 & 0   & 0  \\\\\n",
       "\t 0.4 & 0   & 0  \\\\\n",
       "\\end{tabular}\n"
      ],
      "text/markdown": [
       "\n",
       "Speciessetosa:Petal.Width | Speciesversicolor:Petal.Width | Speciesvirginica:Petal.Width | \n",
       "|---|---|---|---|---|---|\n",
       "| 0.2 | 0   | 0   | \n",
       "| 0.2 | 0   | 0   | \n",
       "| 0.2 | 0   | 0   | \n",
       "| 0.2 | 0   | 0   | \n",
       "| 0.2 | 0   | 0   | \n",
       "| 0.4 | 0   | 0   | \n",
       "\n",
       "\n"
      ],
      "text/plain": [
       "  Speciessetosa:Petal.Width Speciesversicolor:Petal.Width\n",
       "1 0.2                       0                            \n",
       "2 0.2                       0                            \n",
       "3 0.2                       0                            \n",
       "4 0.2                       0                            \n",
       "5 0.2                       0                            \n",
       "6 0.4                       0                            \n",
       "  Speciesvirginica:Petal.Width\n",
       "1 0                           \n",
       "2 0                           \n",
       "3 0                           \n",
       "4 0                           \n",
       "5 0                           \n",
       "6 0                           "
      ]
     },
     "metadata": {},
     "output_type": "display_data"
    },
    {
     "data": {
      "text/html": [
       "<table>\n",
       "<thead><tr><th scope=col>Sepal.Length</th><th scope=col>Sepal.Width</th><th scope=col>Petal.Length</th><th scope=col>Petal.Width</th><th scope=col>Speciessetosa</th><th scope=col>Speciesversicolor</th><th scope=col>Speciesvirginica</th><th scope=col>Petal.Width:Speciesversicolor</th><th scope=col>Petal.Width:Speciesvirginica</th></tr></thead>\n",
       "<tbody>\n",
       "\t<tr><td>5.1</td><td>3.5</td><td>1.4</td><td>0.2</td><td>1  </td><td>0  </td><td>0  </td><td>0  </td><td>0  </td></tr>\n",
       "\t<tr><td>4.9</td><td>3.0</td><td>1.4</td><td>0.2</td><td>1  </td><td>0  </td><td>0  </td><td>0  </td><td>0  </td></tr>\n",
       "\t<tr><td>4.7</td><td>3.2</td><td>1.3</td><td>0.2</td><td>1  </td><td>0  </td><td>0  </td><td>0  </td><td>0  </td></tr>\n",
       "\t<tr><td>4.6</td><td>3.1</td><td>1.5</td><td>0.2</td><td>1  </td><td>0  </td><td>0  </td><td>0  </td><td>0  </td></tr>\n",
       "\t<tr><td>5.0</td><td>3.6</td><td>1.4</td><td>0.2</td><td>1  </td><td>0  </td><td>0  </td><td>0  </td><td>0  </td></tr>\n",
       "\t<tr><td>5.4</td><td>3.9</td><td>1.7</td><td>0.4</td><td>1  </td><td>0  </td><td>0  </td><td>0  </td><td>0  </td></tr>\n",
       "</tbody>\n",
       "</table>\n"
      ],
      "text/latex": [
       "\\begin{tabular}{r|lllllllll}\n",
       " Sepal.Length & Sepal.Width & Petal.Length & Petal.Width & Speciessetosa & Speciesversicolor & Speciesvirginica & Petal.Width:Speciesversicolor & Petal.Width:Speciesvirginica\\\\\n",
       "\\hline\n",
       "\t 5.1 & 3.5 & 1.4 & 0.2 & 1   & 0   & 0   & 0   & 0  \\\\\n",
       "\t 4.9 & 3.0 & 1.4 & 0.2 & 1   & 0   & 0   & 0   & 0  \\\\\n",
       "\t 4.7 & 3.2 & 1.3 & 0.2 & 1   & 0   & 0   & 0   & 0  \\\\\n",
       "\t 4.6 & 3.1 & 1.5 & 0.2 & 1   & 0   & 0   & 0   & 0  \\\\\n",
       "\t 5.0 & 3.6 & 1.4 & 0.2 & 1   & 0   & 0   & 0   & 0  \\\\\n",
       "\t 5.4 & 3.9 & 1.7 & 0.4 & 1   & 0   & 0   & 0   & 0  \\\\\n",
       "\\end{tabular}\n"
      ],
      "text/markdown": [
       "\n",
       "Sepal.Length | Sepal.Width | Petal.Length | Petal.Width | Speciessetosa | Speciesversicolor | Speciesvirginica | Petal.Width:Speciesversicolor | Petal.Width:Speciesvirginica | \n",
       "|---|---|---|---|---|---|\n",
       "| 5.1 | 3.5 | 1.4 | 0.2 | 1   | 0   | 0   | 0   | 0   | \n",
       "| 4.9 | 3.0 | 1.4 | 0.2 | 1   | 0   | 0   | 0   | 0   | \n",
       "| 4.7 | 3.2 | 1.3 | 0.2 | 1   | 0   | 0   | 0   | 0   | \n",
       "| 4.6 | 3.1 | 1.5 | 0.2 | 1   | 0   | 0   | 0   | 0   | \n",
       "| 5.0 | 3.6 | 1.4 | 0.2 | 1   | 0   | 0   | 0   | 0   | \n",
       "| 5.4 | 3.9 | 1.7 | 0.4 | 1   | 0   | 0   | 0   | 0   | \n",
       "\n",
       "\n"
      ],
      "text/plain": [
       "  Sepal.Length Sepal.Width Petal.Length Petal.Width Speciessetosa\n",
       "1 5.1          3.5         1.4          0.2         1            \n",
       "2 4.9          3.0         1.4          0.2         1            \n",
       "3 4.7          3.2         1.3          0.2         1            \n",
       "4 4.6          3.1         1.5          0.2         1            \n",
       "5 5.0          3.6         1.4          0.2         1            \n",
       "6 5.4          3.9         1.7          0.4         1            \n",
       "  Speciesversicolor Speciesvirginica Petal.Width:Speciesversicolor\n",
       "1 0                 0                0                            \n",
       "2 0                 0                0                            \n",
       "3 0                 0                0                            \n",
       "4 0                 0                0                            \n",
       "5 0                 0                0                            \n",
       "6 0                 0                0                            \n",
       "  Petal.Width:Speciesvirginica\n",
       "1 0                           \n",
       "2 0                           \n",
       "3 0                           \n",
       "4 0                           \n",
       "5 0                           \n",
       "6 0                           "
      ]
     },
     "metadata": {},
     "output_type": "display_data"
    }
   ],
   "source": [
    "head(iris %>>% cpoModelMatrix(~0 + Species:Petal.Width))\n",
    "# use . + ... to retain originals\n",
    "head(iris %>>% cpoModelMatrix(~0 + . + Species:Petal.Width))"
   ]
  },
  {
   "cell_type": "markdown",
   "metadata": {},
   "source": [
    "## cpoScaleRange\n",
    "scale values to a given range"
   ]
  },
  {
   "cell_type": "code",
   "execution_count": 187,
   "metadata": {},
   "outputs": [
    {
     "data": {
      "text/html": [
       "<table>\n",
       "<thead><tr><th scope=col>Sepal.Length</th><th scope=col>Sepal.Width</th><th scope=col>Petal.Length</th><th scope=col>Petal.Width</th><th scope=col>Species</th></tr></thead>\n",
       "<tbody>\n",
       "\t<tr><td>-0.5555556 </td><td> 0.25000000</td><td>-0.8644068 </td><td>-0.9166667 </td><td>setosa     </td></tr>\n",
       "\t<tr><td>-0.6666667 </td><td>-0.16666667</td><td>-0.8644068 </td><td>-0.9166667 </td><td>setosa     </td></tr>\n",
       "\t<tr><td>-0.7777778 </td><td> 0.00000000</td><td>-0.8983051 </td><td>-0.9166667 </td><td>setosa     </td></tr>\n",
       "\t<tr><td>-0.8333333 </td><td>-0.08333333</td><td>-0.8305085 </td><td>-0.9166667 </td><td>setosa     </td></tr>\n",
       "\t<tr><td>-0.6111111 </td><td> 0.33333333</td><td>-0.8644068 </td><td>-0.9166667 </td><td>setosa     </td></tr>\n",
       "\t<tr><td>-0.3888889 </td><td> 0.58333333</td><td>-0.7627119 </td><td>-0.7500000 </td><td>setosa     </td></tr>\n",
       "</tbody>\n",
       "</table>\n"
      ],
      "text/latex": [
       "\\begin{tabular}{r|lllll}\n",
       " Sepal.Length & Sepal.Width & Petal.Length & Petal.Width & Species\\\\\n",
       "\\hline\n",
       "\t -0.5555556  &  0.25000000 & -0.8644068  & -0.9166667  & setosa     \\\\\n",
       "\t -0.6666667  & -0.16666667 & -0.8644068  & -0.9166667  & setosa     \\\\\n",
       "\t -0.7777778  &  0.00000000 & -0.8983051  & -0.9166667  & setosa     \\\\\n",
       "\t -0.8333333  & -0.08333333 & -0.8305085  & -0.9166667  & setosa     \\\\\n",
       "\t -0.6111111  &  0.33333333 & -0.8644068  & -0.9166667  & setosa     \\\\\n",
       "\t -0.3888889  &  0.58333333 & -0.7627119  & -0.7500000  & setosa     \\\\\n",
       "\\end{tabular}\n"
      ],
      "text/markdown": [
       "\n",
       "Sepal.Length | Sepal.Width | Petal.Length | Petal.Width | Species | \n",
       "|---|---|---|---|---|---|\n",
       "| -0.5555556  |  0.25000000 | -0.8644068  | -0.9166667  | setosa      | \n",
       "| -0.6666667  | -0.16666667 | -0.8644068  | -0.9166667  | setosa      | \n",
       "| -0.7777778  |  0.00000000 | -0.8983051  | -0.9166667  | setosa      | \n",
       "| -0.8333333  | -0.08333333 | -0.8305085  | -0.9166667  | setosa      | \n",
       "| -0.6111111  |  0.33333333 | -0.8644068  | -0.9166667  | setosa      | \n",
       "| -0.3888889  |  0.58333333 | -0.7627119  | -0.7500000  | setosa      | \n",
       "\n",
       "\n"
      ],
      "text/plain": [
       "  Sepal.Length Sepal.Width Petal.Length Petal.Width Species\n",
       "1 -0.5555556    0.25000000 -0.8644068   -0.9166667  setosa \n",
       "2 -0.6666667   -0.16666667 -0.8644068   -0.9166667  setosa \n",
       "3 -0.7777778    0.00000000 -0.8983051   -0.9166667  setosa \n",
       "4 -0.8333333   -0.08333333 -0.8305085   -0.9166667  setosa \n",
       "5 -0.6111111    0.33333333 -0.8644068   -0.9166667  setosa \n",
       "6 -0.3888889    0.58333333 -0.7627119   -0.7500000  setosa "
      ]
     },
     "metadata": {},
     "output_type": "display_data"
    }
   ],
   "source": [
    "head(iris %>>% cpoScaleRange(-1, 1))"
   ]
  },
  {
   "cell_type": "markdown",
   "metadata": {},
   "source": [
    "## cpoScaleMaxAbs\n",
    "Multiply features to set the maximum absolute value."
   ]
  },
  {
   "cell_type": "code",
   "execution_count": 191,
   "metadata": {},
   "outputs": [
    {
     "data": {
      "text/html": [
       "<table>\n",
       "<thead><tr><th scope=col>Sepal.Length</th><th scope=col>Sepal.Width</th><th scope=col>Petal.Length</th><th scope=col>Petal.Width</th><th scope=col>Species</th></tr></thead>\n",
       "<tbody>\n",
       "\t<tr><td>0.06455696</td><td>0.07954545</td><td>0.02028986</td><td>0.008     </td><td>setosa    </td></tr>\n",
       "\t<tr><td>0.06202532</td><td>0.06818182</td><td>0.02028986</td><td>0.008     </td><td>setosa    </td></tr>\n",
       "\t<tr><td>0.05949367</td><td>0.07272727</td><td>0.01884058</td><td>0.008     </td><td>setosa    </td></tr>\n",
       "\t<tr><td>0.05822785</td><td>0.07045455</td><td>0.02173913</td><td>0.008     </td><td>setosa    </td></tr>\n",
       "\t<tr><td>0.06329114</td><td>0.08181818</td><td>0.02028986</td><td>0.008     </td><td>setosa    </td></tr>\n",
       "\t<tr><td>0.06835443</td><td>0.08863636</td><td>0.02463768</td><td>0.016     </td><td>setosa    </td></tr>\n",
       "</tbody>\n",
       "</table>\n"
      ],
      "text/latex": [
       "\\begin{tabular}{r|lllll}\n",
       " Sepal.Length & Sepal.Width & Petal.Length & Petal.Width & Species\\\\\n",
       "\\hline\n",
       "\t 0.06455696 & 0.07954545 & 0.02028986 & 0.008      & setosa    \\\\\n",
       "\t 0.06202532 & 0.06818182 & 0.02028986 & 0.008      & setosa    \\\\\n",
       "\t 0.05949367 & 0.07272727 & 0.01884058 & 0.008      & setosa    \\\\\n",
       "\t 0.05822785 & 0.07045455 & 0.02173913 & 0.008      & setosa    \\\\\n",
       "\t 0.06329114 & 0.08181818 & 0.02028986 & 0.008      & setosa    \\\\\n",
       "\t 0.06835443 & 0.08863636 & 0.02463768 & 0.016      & setosa    \\\\\n",
       "\\end{tabular}\n"
      ],
      "text/markdown": [
       "\n",
       "Sepal.Length | Sepal.Width | Petal.Length | Petal.Width | Species | \n",
       "|---|---|---|---|---|---|\n",
       "| 0.06455696 | 0.07954545 | 0.02028986 | 0.008      | setosa     | \n",
       "| 0.06202532 | 0.06818182 | 0.02028986 | 0.008      | setosa     | \n",
       "| 0.05949367 | 0.07272727 | 0.01884058 | 0.008      | setosa     | \n",
       "| 0.05822785 | 0.07045455 | 0.02173913 | 0.008      | setosa     | \n",
       "| 0.06329114 | 0.08181818 | 0.02028986 | 0.008      | setosa     | \n",
       "| 0.06835443 | 0.08863636 | 0.02463768 | 0.016      | setosa     | \n",
       "\n",
       "\n"
      ],
      "text/plain": [
       "  Sepal.Length Sepal.Width Petal.Length Petal.Width Species\n",
       "1 0.06455696   0.07954545  0.02028986   0.008       setosa \n",
       "2 0.06202532   0.06818182  0.02028986   0.008       setosa \n",
       "3 0.05949367   0.07272727  0.01884058   0.008       setosa \n",
       "4 0.05822785   0.07045455  0.02173913   0.008       setosa \n",
       "5 0.06329114   0.08181818  0.02028986   0.008       setosa \n",
       "6 0.06835443   0.08863636  0.02463768   0.016       setosa "
      ]
     },
     "metadata": {},
     "output_type": "display_data"
    }
   ],
   "source": [
    "head(iris %>>% cpoScaleMaxAbs(0.1))"
   ]
  },
  {
   "cell_type": "markdown",
   "metadata": {},
   "source": [
    "## cpoSpatialSign\n",
    "Normalize values row-wise"
   ]
  },
  {
   "cell_type": "code",
   "execution_count": 192,
   "metadata": {},
   "outputs": [
    {
     "data": {
      "text/html": [
       "<table>\n",
       "<thead><tr><th scope=col>Sepal.Length</th><th scope=col>Sepal.Width</th><th scope=col>Petal.Length</th><th scope=col>Petal.Width</th><th scope=col>Species</th></tr></thead>\n",
       "<tbody>\n",
       "\t<tr><td>0.8037728 </td><td>0.5516088 </td><td>0.2206435 </td><td>0.03152050</td><td>setosa    </td></tr>\n",
       "\t<tr><td>0.8281329 </td><td>0.5070201 </td><td>0.2366094 </td><td>0.03380134</td><td>setosa    </td></tr>\n",
       "\t<tr><td>0.8053331 </td><td>0.5483119 </td><td>0.2227517 </td><td>0.03426949</td><td>setosa    </td></tr>\n",
       "\t<tr><td>0.8000302 </td><td>0.5391508 </td><td>0.2608794 </td><td>0.03478392</td><td>setosa    </td></tr>\n",
       "\t<tr><td>0.7909650 </td><td>0.5694948 </td><td>0.2214702 </td><td>0.03163860</td><td>setosa    </td></tr>\n",
       "\t<tr><td>0.7841750 </td><td>0.5663486 </td><td>0.2468699 </td><td>0.05808704</td><td>setosa    </td></tr>\n",
       "</tbody>\n",
       "</table>\n"
      ],
      "text/latex": [
       "\\begin{tabular}{r|lllll}\n",
       " Sepal.Length & Sepal.Width & Petal.Length & Petal.Width & Species\\\\\n",
       "\\hline\n",
       "\t 0.8037728  & 0.5516088  & 0.2206435  & 0.03152050 & setosa    \\\\\n",
       "\t 0.8281329  & 0.5070201  & 0.2366094  & 0.03380134 & setosa    \\\\\n",
       "\t 0.8053331  & 0.5483119  & 0.2227517  & 0.03426949 & setosa    \\\\\n",
       "\t 0.8000302  & 0.5391508  & 0.2608794  & 0.03478392 & setosa    \\\\\n",
       "\t 0.7909650  & 0.5694948  & 0.2214702  & 0.03163860 & setosa    \\\\\n",
       "\t 0.7841750  & 0.5663486  & 0.2468699  & 0.05808704 & setosa    \\\\\n",
       "\\end{tabular}\n"
      ],
      "text/markdown": [
       "\n",
       "Sepal.Length | Sepal.Width | Petal.Length | Petal.Width | Species | \n",
       "|---|---|---|---|---|---|\n",
       "| 0.8037728  | 0.5516088  | 0.2206435  | 0.03152050 | setosa     | \n",
       "| 0.8281329  | 0.5070201  | 0.2366094  | 0.03380134 | setosa     | \n",
       "| 0.8053331  | 0.5483119  | 0.2227517  | 0.03426949 | setosa     | \n",
       "| 0.8000302  | 0.5391508  | 0.2608794  | 0.03478392 | setosa     | \n",
       "| 0.7909650  | 0.5694948  | 0.2214702  | 0.03163860 | setosa     | \n",
       "| 0.7841750  | 0.5663486  | 0.2468699  | 0.05808704 | setosa     | \n",
       "\n",
       "\n"
      ],
      "text/plain": [
       "  Sepal.Length Sepal.Width Petal.Length Petal.Width Species\n",
       "1 0.8037728    0.5516088   0.2206435    0.03152050  setosa \n",
       "2 0.8281329    0.5070201   0.2366094    0.03380134  setosa \n",
       "3 0.8053331    0.5483119   0.2227517    0.03426949  setosa \n",
       "4 0.8000302    0.5391508   0.2608794    0.03478392  setosa \n",
       "5 0.7909650    0.5694948   0.2214702    0.03163860  setosa \n",
       "6 0.7841750    0.5663486   0.2468699    0.05808704  setosa "
      ]
     },
     "metadata": {},
     "output_type": "display_data"
    }
   ],
   "source": [
    "head(iris %>>% cpoSpatialSign())"
   ]
  },
  {
   "cell_type": "code",
   "execution_count": null,
   "metadata": {
    "collapsed": true
   },
   "outputs": [],
   "source": []
  },
  {
   "cell_type": "markdown",
   "metadata": {},
   "source": [
    "## Imputation\n",
    "There are two *general* and many *specialised* imputation CPOs. The general imputation CPOs have parameters that let them use different imputation methods on different columns. They are a thin wrapper around `mlr`'s `impute()` and `reimpute()` functions. The specialised imputation CPOs each implement exactly one imputation method and are closer to the behaviour of typical CPOs."
   ]
  },
  {
   "cell_type": "markdown",
   "metadata": {},
   "source": [
    "### General Imputation Wrappers\n",
    "`cpoImpute` and `cpoImputeAll` both have parameters very much like `impute()`. The latter assumes that *all* columns of its input is somehow being imputed and can be preprended to a learner to give it the ability to work with missing data. It will, however, throw an error if data is missing after imputation."
   ]
  },
  {
   "cell_type": "code",
   "execution_count": 126,
   "metadata": {},
   "outputs": [
    {
     "data": {
      "text/html": [
       "<table>\n",
       "<thead><tr><th scope=col>a</th><th scope=col>b</th></tr></thead>\n",
       "<tbody>\n",
       "\t<tr><td>2.5</td><td>-10</td></tr>\n",
       "\t<tr><td>2.0</td><td>-20</td></tr>\n",
       "\t<tr><td>3.0</td><td>-30</td></tr>\n",
       "</tbody>\n",
       "</table>\n"
      ],
      "text/latex": [
       "\\begin{tabular}{r|ll}\n",
       " a & b\\\\\n",
       "\\hline\n",
       "\t 2.5 & -10\\\\\n",
       "\t 2.0 & -20\\\\\n",
       "\t 3.0 & -30\\\\\n",
       "\\end{tabular}\n"
      ],
      "text/markdown": [
       "\n",
       "a | b | \n",
       "|---|---|---|\n",
       "| 2.5 | -10 | \n",
       "| 2.0 | -20 | \n",
       "| 3.0 | -30 | \n",
       "\n",
       "\n"
      ],
      "text/plain": [
       "  a   b  \n",
       "1 2.5 -10\n",
       "2 2.0 -20\n",
       "3 3.0 -30"
      ]
     },
     "metadata": {},
     "output_type": "display_data"
    }
   ],
   "source": [
    "impdata %>>% cpoImpute(cols = list(a = imputeMedian()))"
   ]
  },
  {
   "cell_type": "code",
   "execution_count": 127,
   "metadata": {},
   "outputs": [
    {
     "data": {
      "text/html": [
       "<table>\n",
       "<thead><tr><th scope=col>a</th><th scope=col>b</th></tr></thead>\n",
       "<tbody>\n",
       "\t<tr><td>NA </td><td>-10</td></tr>\n",
       "\t<tr><td> 2 </td><td>-20</td></tr>\n",
       "\t<tr><td> 3 </td><td>-30</td></tr>\n",
       "</tbody>\n",
       "</table>\n"
      ],
      "text/latex": [
       "\\begin{tabular}{r|ll}\n",
       " a & b\\\\\n",
       "\\hline\n",
       "\t NA  & -10\\\\\n",
       "\t  2  & -20\\\\\n",
       "\t  3  & -30\\\\\n",
       "\\end{tabular}\n"
      ],
      "text/markdown": [
       "\n",
       "a | b | \n",
       "|---|---|---|\n",
       "| NA  | -10 | \n",
       "|  2  | -20 | \n",
       "|  3  | -30 | \n",
       "\n",
       "\n"
      ],
      "text/plain": [
       "  a  b  \n",
       "1 NA -10\n",
       "2  2 -20\n",
       "3  3 -30"
      ]
     },
     "metadata": {},
     "output_type": "display_data"
    }
   ],
   "source": [
    "impdata %>>% cpoImpute(cols = list(b = imputeMedian()))  # NAs remain\n",
    "#impdata %>>% cpoImputeAll(cols = list(b = imputeMedian()))  # error, since NAs remain"
   ]
  },
  {
   "cell_type": "code",
   "execution_count": 128,
   "metadata": {},
   "outputs": [
    {
     "data": {
      "text/plain": [
       "Model for learner.id=regr.lm.impute; learner.class=CPOLearner\n",
       "Trained on: task.id = missing.task; obs = 3; features = 1\n",
       "Hyperparameters: impute.target.cols=character(0),impute.classes=,impute.cols=a=<ImputeMethod>,impute.dummy.classes=character(0),impute.dummy.cols=character(0),impute.dummy.type=factor,impute.force.dummies=FALSE,impute.impute.new.levels=TRUE,impute.recode.factor.levels=TRUE"
      ]
     },
     "metadata": {},
     "output_type": "display_data"
    }
   ],
   "source": [
    "missing.task = makeRegrTask(\"missing.task\", impdata, target = \"b\")\n",
    "# the following gives an error, since 'cpoImpute' does not make sure all missings are removed\n",
    "# and hence does not add the 'missings' property.\n",
    "#train(cpoImpute(cols = list(a = imputeMedian())) %>>% makeLearner(\"regr.lm\"), missing.task)\n",
    "# instead, the following works:\n",
    "train(cpoImputeAll(cols = list(a = imputeMedian())) %>>% makeLearner(\"regr.lm\"), missing.task)"
   ]
  },
  {
   "cell_type": "markdown",
   "metadata": {},
   "source": [
    "### Specialised Imputation Wrappers\n",
    "There is one for each imputation method."
   ]
  },
  {
   "cell_type": "code",
   "execution_count": 129,
   "metadata": {},
   "outputs": [
    {
     "data": {
      "text/html": [
       "<table>\n",
       "<thead><tr><th scope=col>a</th><th scope=col>b</th></tr></thead>\n",
       "<tbody>\n",
       "\t<tr><td>10 </td><td>-10</td></tr>\n",
       "\t<tr><td> 2 </td><td>-20</td></tr>\n",
       "\t<tr><td> 3 </td><td>-30</td></tr>\n",
       "</tbody>\n",
       "</table>\n"
      ],
      "text/latex": [
       "\\begin{tabular}{r|ll}\n",
       " a & b\\\\\n",
       "\\hline\n",
       "\t 10  & -10\\\\\n",
       "\t  2  & -20\\\\\n",
       "\t  3  & -30\\\\\n",
       "\\end{tabular}\n"
      ],
      "text/markdown": [
       "\n",
       "a | b | \n",
       "|---|---|---|\n",
       "| 10  | -10 | \n",
       "|  2  | -20 | \n",
       "|  3  | -30 | \n",
       "\n",
       "\n"
      ],
      "text/plain": [
       "  a  b  \n",
       "1 10 -10\n",
       "2  2 -20\n",
       "3  3 -30"
      ]
     },
     "metadata": {},
     "output_type": "display_data"
    }
   ],
   "source": [
    "impdata %>>% cpoImputeConstant(10)"
   ]
  },
  {
   "cell_type": "code",
   "execution_count": 131,
   "metadata": {},
   "outputs": [
    {
     "data": {
      "text/html": [
       "<table>\n",
       "<thead><tr><th scope=col>a</th><th scope=col>b</th></tr></thead>\n",
       "<tbody>\n",
       "\t<tr><td>2.5</td><td>-10</td></tr>\n",
       "\t<tr><td>2.0</td><td>-20</td></tr>\n",
       "\t<tr><td>3.0</td><td>-30</td></tr>\n",
       "</tbody>\n",
       "</table>\n"
      ],
      "text/latex": [
       "\\begin{tabular}{r|ll}\n",
       " a & b\\\\\n",
       "\\hline\n",
       "\t 2.5 & -10\\\\\n",
       "\t 2.0 & -20\\\\\n",
       "\t 3.0 & -30\\\\\n",
       "\\end{tabular}\n"
      ],
      "text/markdown": [
       "\n",
       "a | b | \n",
       "|---|---|---|\n",
       "| 2.5 | -10 | \n",
       "| 2.0 | -20 | \n",
       "| 3.0 | -30 | \n",
       "\n",
       "\n"
      ],
      "text/plain": [
       "  a   b  \n",
       "1 2.5 -10\n",
       "2 2.0 -20\n",
       "3 3.0 -30"
      ]
     },
     "metadata": {},
     "output_type": "display_data"
    }
   ],
   "source": [
    "getTaskData(missing.task %>>% cpoImputeMedian())"
   ]
  },
  {
   "cell_type": "code",
   "execution_count": 132,
   "metadata": {},
   "outputs": [
    {
     "data": {
      "text/html": [
       "<table>\n",
       "<thead><tr><th></th><th scope=col>name</th><th scope=col>description</th></tr></thead>\n",
       "<tbody>\n",
       "\t<tr><th scope=row>44</th><td>cpoImputeConstant                                                        </td><td>Imputation using a constant value.                                       </td></tr>\n",
       "\t<tr><th scope=row>52</th><td>cpoImputeHist                                                            </td><td>Imputation using random values with probabilities approximating the data.</td></tr>\n",
       "\t<tr><th scope=row>53</th><td>cpoImputeLearner                                                         </td><td>Imputation using the response of a classification or regression learner. </td></tr>\n",
       "\t<tr><th scope=row>49</th><td>cpoImputeMax                                                             </td><td>Imputation using constant values shifted above the maximum.              </td></tr>\n",
       "\t<tr><th scope=row>46</th><td>cpoImputeMean                                                            </td><td>Imputation using the mean.                                               </td></tr>\n",
       "\t<tr><th scope=row>45</th><td>cpoImputeMedian                                                          </td><td>Imputation using the median.                                             </td></tr>\n",
       "\t<tr><th scope=row>48</th><td>cpoImputeMin                                                             </td><td>Imputation using constant values shifted below the minimum.              </td></tr>\n",
       "\t<tr><th scope=row>47</th><td>cpoImputeMode                                                            </td><td>Imputation using the mode.                                               </td></tr>\n",
       "\t<tr><th scope=row>51</th><td>cpoImputeNormal                                                          </td><td>Imputation using normally distributed random values.                     </td></tr>\n",
       "\t<tr><th scope=row>50</th><td>cpoImputeUniform                                                         </td><td>Imputation using uniformly distributed random values.                    </td></tr>\n",
       "</tbody>\n",
       "</table>\n"
      ],
      "text/latex": [
       "\\begin{tabular}{r|ll}\n",
       "  & name & description\\\\\n",
       "\\hline\n",
       "\t44 & cpoImputeConstant                                                         & Imputation using a constant value.                                       \\\\\n",
       "\t52 & cpoImputeHist                                                             & Imputation using random values with probabilities approximating the data.\\\\\n",
       "\t53 & cpoImputeLearner                                                          & Imputation using the response of a classification or regression learner. \\\\\n",
       "\t49 & cpoImputeMax                                                              & Imputation using constant values shifted above the maximum.              \\\\\n",
       "\t46 & cpoImputeMean                                                             & Imputation using the mean.                                               \\\\\n",
       "\t45 & cpoImputeMedian                                                           & Imputation using the median.                                             \\\\\n",
       "\t48 & cpoImputeMin                                                              & Imputation using constant values shifted below the minimum.              \\\\\n",
       "\t47 & cpoImputeMode                                                             & Imputation using the mode.                                               \\\\\n",
       "\t51 & cpoImputeNormal                                                           & Imputation using normally distributed random values.                     \\\\\n",
       "\t50 & cpoImputeUniform                                                          & Imputation using uniformly distributed random values.                    \\\\\n",
       "\\end{tabular}\n"
      ],
      "text/markdown": [
       "\n",
       "| <!--/--> | name | description | \n",
       "|---|---|---|---|---|---|---|---|---|---|\n",
       "| 44 | cpoImputeConstant                                                         | Imputation using a constant value.                                        | \n",
       "| 52 | cpoImputeHist                                                             | Imputation using random values with probabilities approximating the data. | \n",
       "| 53 | cpoImputeLearner                                                          | Imputation using the response of a classification or regression learner.  | \n",
       "| 49 | cpoImputeMax                                                              | Imputation using constant values shifted above the maximum.               | \n",
       "| 46 | cpoImputeMean                                                             | Imputation using the mean.                                                | \n",
       "| 45 | cpoImputeMedian                                                           | Imputation using the median.                                              | \n",
       "| 48 | cpoImputeMin                                                              | Imputation using constant values shifted below the minimum.               | \n",
       "| 47 | cpoImputeMode                                                             | Imputation using the mode.                                                | \n",
       "| 51 | cpoImputeNormal                                                           | Imputation using normally distributed random values.                      | \n",
       "| 50 | cpoImputeUniform                                                          | Imputation using uniformly distributed random values.                     | \n",
       "\n",
       "\n"
      ],
      "text/plain": [
       "   name             \n",
       "44 cpoImputeConstant\n",
       "52 cpoImputeHist    \n",
       "53 cpoImputeLearner \n",
       "49 cpoImputeMax     \n",
       "46 cpoImputeMean    \n",
       "45 cpoImputeMedian  \n",
       "48 cpoImputeMin     \n",
       "47 cpoImputeMode    \n",
       "51 cpoImputeNormal  \n",
       "50 cpoImputeUniform \n",
       "   description                                                              \n",
       "44 Imputation using a constant value.                                       \n",
       "52 Imputation using random values with probabilities approximating the data.\n",
       "53 Imputation using the response of a classification or regression learner. \n",
       "49 Imputation using constant values shifted above the maximum.              \n",
       "46 Imputation using the mean.                                               \n",
       "45 Imputation using the median.                                             \n",
       "48 Imputation using constant values shifted below the minimum.              \n",
       "47 Imputation using the mode.                                               \n",
       "51 Imputation using normally distributed random values.                     \n",
       "50 Imputation using uniformly distributed random values.                    "
      ]
     },
     "metadata": {},
     "output_type": "display_data"
    }
   ],
   "source": [
    "# The specialised impute CPOs are:\n",
    "listCPO()[listCPO()$category == \"imputation\" & listCPO()$subcategory == \"specialised\",\n",
    "          c(\"name\", \"description\")]"
   ]
  },
  {
   "cell_type": "markdown",
   "metadata": {},
   "source": [
    "## Feature Filtering\n",
    "There is one *general* and many *specialised* feature filtering CPOs. The general filtering CPO, `cpoFilterFeatures`, is a thin wrapper around `filterFeatures` and takes the filtering method as its argument. The specialised CPOs each call a specific filtering method.\n",
    "\n",
    "Most arguments of `filterFeatures` are reflected in the CPOs. The exceptions being:\n",
    "1. for `filterFeatures`, the filter method arguments are given in a list `filter.args`, instead of in `...`\n",
    "2. The argument `fval` was dropped for the specialised filter CPOs.\n",
    "3. The argument `mandatory.feat` was dropped. Use `affect.*` parameters to prevent features from being filtered."
   ]
  },
  {
   "cell_type": "code",
   "execution_count": 133,
   "metadata": {},
   "outputs": [
    {
     "data": {
      "text/html": [
       "<table>\n",
       "<thead><tr><th scope=col>Sepal.Length</th><th scope=col>Petal.Length</th><th scope=col>Species</th></tr></thead>\n",
       "<tbody>\n",
       "\t<tr><td>5.1   </td><td>1.4   </td><td>setosa</td></tr>\n",
       "\t<tr><td>4.9   </td><td>1.4   </td><td>setosa</td></tr>\n",
       "\t<tr><td>4.7   </td><td>1.3   </td><td>setosa</td></tr>\n",
       "\t<tr><td>4.6   </td><td>1.5   </td><td>setosa</td></tr>\n",
       "\t<tr><td>5.0   </td><td>1.4   </td><td>setosa</td></tr>\n",
       "\t<tr><td>5.4   </td><td>1.7   </td><td>setosa</td></tr>\n",
       "</tbody>\n",
       "</table>\n"
      ],
      "text/latex": [
       "\\begin{tabular}{r|lll}\n",
       " Sepal.Length & Petal.Length & Species\\\\\n",
       "\\hline\n",
       "\t 5.1    & 1.4    & setosa\\\\\n",
       "\t 4.9    & 1.4    & setosa\\\\\n",
       "\t 4.7    & 1.3    & setosa\\\\\n",
       "\t 4.6    & 1.5    & setosa\\\\\n",
       "\t 5.0    & 1.4    & setosa\\\\\n",
       "\t 5.4    & 1.7    & setosa\\\\\n",
       "\\end{tabular}\n"
      ],
      "text/markdown": [
       "\n",
       "Sepal.Length | Petal.Length | Species | \n",
       "|---|---|---|---|---|---|\n",
       "| 5.1    | 1.4    | setosa | \n",
       "| 4.9    | 1.4    | setosa | \n",
       "| 4.7    | 1.3    | setosa | \n",
       "| 4.6    | 1.5    | setosa | \n",
       "| 5.0    | 1.4    | setosa | \n",
       "| 5.4    | 1.7    | setosa | \n",
       "\n",
       "\n"
      ],
      "text/plain": [
       "  Sepal.Length Petal.Length Species\n",
       "1 5.1          1.4          setosa \n",
       "2 4.9          1.4          setosa \n",
       "3 4.7          1.3          setosa \n",
       "4 4.6          1.5          setosa \n",
       "5 5.0          1.4          setosa \n",
       "6 5.4          1.7          setosa "
      ]
     },
     "metadata": {},
     "output_type": "display_data"
    }
   ],
   "source": [
    "head(getTaskData(iris.task %>>% cpoFilterFeatures(method = \"variance\", perc = 0.5)))"
   ]
  },
  {
   "cell_type": "code",
   "execution_count": 134,
   "metadata": {},
   "outputs": [
    {
     "data": {
      "text/html": [
       "<table>\n",
       "<thead><tr><th scope=col>Sepal.Length</th><th scope=col>Petal.Length</th><th scope=col>Species</th></tr></thead>\n",
       "<tbody>\n",
       "\t<tr><td>5.1   </td><td>1.4   </td><td>setosa</td></tr>\n",
       "\t<tr><td>4.9   </td><td>1.4   </td><td>setosa</td></tr>\n",
       "\t<tr><td>4.7   </td><td>1.3   </td><td>setosa</td></tr>\n",
       "\t<tr><td>4.6   </td><td>1.5   </td><td>setosa</td></tr>\n",
       "\t<tr><td>5.0   </td><td>1.4   </td><td>setosa</td></tr>\n",
       "\t<tr><td>5.4   </td><td>1.7   </td><td>setosa</td></tr>\n",
       "</tbody>\n",
       "</table>\n"
      ],
      "text/latex": [
       "\\begin{tabular}{r|lll}\n",
       " Sepal.Length & Petal.Length & Species\\\\\n",
       "\\hline\n",
       "\t 5.1    & 1.4    & setosa\\\\\n",
       "\t 4.9    & 1.4    & setosa\\\\\n",
       "\t 4.7    & 1.3    & setosa\\\\\n",
       "\t 4.6    & 1.5    & setosa\\\\\n",
       "\t 5.0    & 1.4    & setosa\\\\\n",
       "\t 5.4    & 1.7    & setosa\\\\\n",
       "\\end{tabular}\n"
      ],
      "text/markdown": [
       "\n",
       "Sepal.Length | Petal.Length | Species | \n",
       "|---|---|---|---|---|---|\n",
       "| 5.1    | 1.4    | setosa | \n",
       "| 4.9    | 1.4    | setosa | \n",
       "| 4.7    | 1.3    | setosa | \n",
       "| 4.6    | 1.5    | setosa | \n",
       "| 5.0    | 1.4    | setosa | \n",
       "| 5.4    | 1.7    | setosa | \n",
       "\n",
       "\n"
      ],
      "text/plain": [
       "  Sepal.Length Petal.Length Species\n",
       "1 5.1          1.4          setosa \n",
       "2 4.9          1.4          setosa \n",
       "3 4.7          1.3          setosa \n",
       "4 4.6          1.5          setosa \n",
       "5 5.0          1.4          setosa \n",
       "6 5.4          1.7          setosa "
      ]
     },
     "metadata": {},
     "output_type": "display_data"
    }
   ],
   "source": [
    "head(getTaskData(iris.task %>>% cpoFilterVariance(perc = 0.5)))"
   ]
  },
  {
   "cell_type": "code",
   "execution_count": 135,
   "metadata": {},
   "outputs": [
    {
     "data": {
      "text/html": [
       "<table>\n",
       "<thead><tr><th></th><th scope=col>name</th><th scope=col>description</th></tr></thead>\n",
       "<tbody>\n",
       "\t<tr><th scope=row>38</th><td>cpoFilterAnova                                                           </td><td>Filter features using analysis of variance.                              </td></tr>\n",
       "\t<tr><th scope=row>24</th><td>cpoFilterCarscore                                                        </td><td>Filter features using correlation-adjusted marginal correlation.         </td></tr>\n",
       "\t<tr><th scope=row>34</th><td>cpoFilterChiSquared                                                      </td><td>Filter features using chi-squared test.                                  </td></tr>\n",
       "\t<tr><th scope=row>32</th><td>cpoFilterGainRatio                                                       </td><td>Filter features using entropy-based information gain ratio               </td></tr>\n",
       "\t<tr><th scope=row>31</th><td>cpoFilterInformationGain                                                 </td><td>Filter features using entropy-based information gain.                    </td></tr>\n",
       "\t<tr><th scope=row>39</th><td>cpoFilterKruskal                                                         </td><td>Filter features using the Kruskal-Wallis rank sum test.                  </td></tr>\n",
       "\t<tr><th scope=row>29</th><td>cpoFilterLinearCorrelation                                               </td><td>Filter features using Pearson correlation.                               </td></tr>\n",
       "\t<tr><th scope=row>23</th><td>cpoFilterMrmr                                                            </td><td>Filter features using 'minimum redundancy, maximum relevance'.           </td></tr>\n",
       "\t<tr><th scope=row>36</th><td>cpoFilterOneR                                                            </td><td>Filter features using the OneR learner.                                  </td></tr>\n",
       "\t<tr><th scope=row>41</th><td>cpoFilterPermutationImportance                                           </td><td>Filter features using predictiveness loss upon permutation of a variable.</td></tr>\n",
       "\t<tr><th scope=row>30</th><td>cpoFilterRankCorrelation                                                 </td><td>Filter features using Spearman correlation.                              </td></tr>\n",
       "\t<tr><th scope=row>35</th><td>cpoFilterRelief                                                          </td><td>Filter features using the ReliefF algorithm.                             </td></tr>\n",
       "\t<tr><th scope=row>27</th><td>cpoFilterRfCImportance                                                   </td><td>Filter features using party::cforest variable importance.                </td></tr>\n",
       "\t<tr><th scope=row>28</th><td>cpoFilterRfImportance                                                    </td><td>Filter features using randomForest variable importance.                  </td></tr>\n",
       "\t<tr><th scope=row>25</th><td>cpoFilterRfSRCImportance                                                 </td><td>Filter features using randomForestSRC.rfsrc.                             </td></tr>\n",
       "\t<tr><th scope=row>26</th><td>cpoFilterRfSRCMinDepth                                                   </td><td>Filter features using randomForestSRC minimal depth.                     </td></tr>\n",
       "\t<tr><th scope=row>33</th><td>cpoFilterSymmetricalUncertainty                                          </td><td>Filter features using entropy-based symmetrical uncertainty              </td></tr>\n",
       "\t<tr><th scope=row>37</th><td>cpoFilterUnivariate                                                      </td><td>Filter features using the predictiveness using a given learner.          </td></tr>\n",
       "\t<tr><th scope=row>40</th><td>cpoFilterVariance                                                        </td><td>Filter features using feature variance.                                  </td></tr>\n",
       "</tbody>\n",
       "</table>\n"
      ],
      "text/latex": [
       "\\begin{tabular}{r|ll}\n",
       "  & name & description\\\\\n",
       "\\hline\n",
       "\t38 & cpoFilterAnova                                                            & Filter features using analysis of variance.                              \\\\\n",
       "\t24 & cpoFilterCarscore                                                         & Filter features using correlation-adjusted marginal correlation.         \\\\\n",
       "\t34 & cpoFilterChiSquared                                                       & Filter features using chi-squared test.                                  \\\\\n",
       "\t32 & cpoFilterGainRatio                                                        & Filter features using entropy-based information gain ratio               \\\\\n",
       "\t31 & cpoFilterInformationGain                                                  & Filter features using entropy-based information gain.                    \\\\\n",
       "\t39 & cpoFilterKruskal                                                          & Filter features using the Kruskal-Wallis rank sum test.                  \\\\\n",
       "\t29 & cpoFilterLinearCorrelation                                                & Filter features using Pearson correlation.                               \\\\\n",
       "\t23 & cpoFilterMrmr                                                             & Filter features using 'minimum redundancy, maximum relevance'.           \\\\\n",
       "\t36 & cpoFilterOneR                                                             & Filter features using the OneR learner.                                  \\\\\n",
       "\t41 & cpoFilterPermutationImportance                                            & Filter features using predictiveness loss upon permutation of a variable.\\\\\n",
       "\t30 & cpoFilterRankCorrelation                                                  & Filter features using Spearman correlation.                              \\\\\n",
       "\t35 & cpoFilterRelief                                                           & Filter features using the ReliefF algorithm.                             \\\\\n",
       "\t27 & cpoFilterRfCImportance                                                    & Filter features using party::cforest variable importance.                \\\\\n",
       "\t28 & cpoFilterRfImportance                                                     & Filter features using randomForest variable importance.                  \\\\\n",
       "\t25 & cpoFilterRfSRCImportance                                                  & Filter features using randomForestSRC.rfsrc.                             \\\\\n",
       "\t26 & cpoFilterRfSRCMinDepth                                                    & Filter features using randomForestSRC minimal depth.                     \\\\\n",
       "\t33 & cpoFilterSymmetricalUncertainty                                           & Filter features using entropy-based symmetrical uncertainty              \\\\\n",
       "\t37 & cpoFilterUnivariate                                                       & Filter features using the predictiveness using a given learner.          \\\\\n",
       "\t40 & cpoFilterVariance                                                         & Filter features using feature variance.                                  \\\\\n",
       "\\end{tabular}\n"
      ],
      "text/markdown": [
       "\n",
       "| <!--/--> | name | description | \n",
       "|---|---|---|---|---|---|---|---|---|---|---|---|---|---|---|---|---|---|---|\n",
       "| 38 | cpoFilterAnova                                                            | Filter features using analysis of variance.                               | \n",
       "| 24 | cpoFilterCarscore                                                         | Filter features using correlation-adjusted marginal correlation.          | \n",
       "| 34 | cpoFilterChiSquared                                                       | Filter features using chi-squared test.                                   | \n",
       "| 32 | cpoFilterGainRatio                                                        | Filter features using entropy-based information gain ratio                | \n",
       "| 31 | cpoFilterInformationGain                                                  | Filter features using entropy-based information gain.                     | \n",
       "| 39 | cpoFilterKruskal                                                          | Filter features using the Kruskal-Wallis rank sum test.                   | \n",
       "| 29 | cpoFilterLinearCorrelation                                                | Filter features using Pearson correlation.                                | \n",
       "| 23 | cpoFilterMrmr                                                             | Filter features using 'minimum redundancy, maximum relevance'.            | \n",
       "| 36 | cpoFilterOneR                                                             | Filter features using the OneR learner.                                   | \n",
       "| 41 | cpoFilterPermutationImportance                                            | Filter features using predictiveness loss upon permutation of a variable. | \n",
       "| 30 | cpoFilterRankCorrelation                                                  | Filter features using Spearman correlation.                               | \n",
       "| 35 | cpoFilterRelief                                                           | Filter features using the ReliefF algorithm.                              | \n",
       "| 27 | cpoFilterRfCImportance                                                    | Filter features using party::cforest variable importance.                 | \n",
       "| 28 | cpoFilterRfImportance                                                     | Filter features using randomForest variable importance.                   | \n",
       "| 25 | cpoFilterRfSRCImportance                                                  | Filter features using randomForestSRC.rfsrc.                              | \n",
       "| 26 | cpoFilterRfSRCMinDepth                                                    | Filter features using randomForestSRC minimal depth.                      | \n",
       "| 33 | cpoFilterSymmetricalUncertainty                                           | Filter features using entropy-based symmetrical uncertainty               | \n",
       "| 37 | cpoFilterUnivariate                                                       | Filter features using the predictiveness using a given learner.           | \n",
       "| 40 | cpoFilterVariance                                                         | Filter features using feature variance.                                   | \n",
       "\n",
       "\n"
      ],
      "text/plain": [
       "   name                           \n",
       "38 cpoFilterAnova                 \n",
       "24 cpoFilterCarscore              \n",
       "34 cpoFilterChiSquared            \n",
       "32 cpoFilterGainRatio             \n",
       "31 cpoFilterInformationGain       \n",
       "39 cpoFilterKruskal               \n",
       "29 cpoFilterLinearCorrelation     \n",
       "23 cpoFilterMrmr                  \n",
       "36 cpoFilterOneR                  \n",
       "41 cpoFilterPermutationImportance \n",
       "30 cpoFilterRankCorrelation       \n",
       "35 cpoFilterRelief                \n",
       "27 cpoFilterRfCImportance         \n",
       "28 cpoFilterRfImportance          \n",
       "25 cpoFilterRfSRCImportance       \n",
       "26 cpoFilterRfSRCMinDepth         \n",
       "33 cpoFilterSymmetricalUncertainty\n",
       "37 cpoFilterUnivariate            \n",
       "40 cpoFilterVariance              \n",
       "   description                                                              \n",
       "38 Filter features using analysis of variance.                              \n",
       "24 Filter features using correlation-adjusted marginal correlation.         \n",
       "34 Filter features using chi-squared test.                                  \n",
       "32 Filter features using entropy-based information gain ratio               \n",
       "31 Filter features using entropy-based information gain.                    \n",
       "39 Filter features using the Kruskal-Wallis rank sum test.                  \n",
       "29 Filter features using Pearson correlation.                               \n",
       "23 Filter features using 'minimum redundancy, maximum relevance'.           \n",
       "36 Filter features using the OneR learner.                                  \n",
       "41 Filter features using predictiveness loss upon permutation of a variable.\n",
       "30 Filter features using Spearman correlation.                              \n",
       "35 Filter features using the ReliefF algorithm.                             \n",
       "27 Filter features using party::cforest variable importance.                \n",
       "28 Filter features using randomForest variable importance.                  \n",
       "25 Filter features using randomForestSRC.rfsrc.                             \n",
       "26 Filter features using randomForestSRC minimal depth.                     \n",
       "33 Filter features using entropy-based symmetrical uncertainty              \n",
       "37 Filter features using the predictiveness using a given learner.          \n",
       "40 Filter features using feature variance.                                  "
      ]
     },
     "metadata": {},
     "output_type": "display_data"
    }
   ],
   "source": [
    "# The specialised filter CPOs are:\n",
    "listCPO()[listCPO()$category == \"featurefilter\" & listCPO()$subcategory == \"specialised\",\n",
    "          c(\"name\", \"description\")]"
   ]
  },
  {
   "cell_type": "markdown",
   "metadata": {},
   "source": [
    "# Creating Custom CPOs"
   ]
  },
  {
   "cell_type": "code",
   "execution_count": 155,
   "metadata": {},
   "outputs": [
    {
     "data": {
      "text/html": [
       "<ol class=list-inline>\n",
       "\t<li>'.cpo.name'</li>\n",
       "\t<li>'...'</li>\n",
       "\t<li>'.par.set'</li>\n",
       "\t<li>'.par.vals'</li>\n",
       "\t<li>'.datasplit'</li>\n",
       "\t<li>'.retrafo.format'</li>\n",
       "\t<li>'.export.params'</li>\n",
       "\t<li>'.fix.factors'</li>\n",
       "\t<li>'.properties'</li>\n",
       "\t<li>'.properties.adding'</li>\n",
       "\t<li>'.properties.needed'</li>\n",
       "\t<li>'.properties.target'</li>\n",
       "\t<li>'.packages'</li>\n",
       "\t<li>'cpo.trafo'</li>\n",
       "\t<li>'cpo.retrafo'</li>\n",
       "</ol>\n"
      ],
      "text/latex": [
       "\\begin{enumerate*}\n",
       "\\item '.cpo.name'\n",
       "\\item '...'\n",
       "\\item '.par.set'\n",
       "\\item '.par.vals'\n",
       "\\item '.datasplit'\n",
       "\\item '.retrafo.format'\n",
       "\\item '.export.params'\n",
       "\\item '.fix.factors'\n",
       "\\item '.properties'\n",
       "\\item '.properties.adding'\n",
       "\\item '.properties.needed'\n",
       "\\item '.properties.target'\n",
       "\\item '.packages'\n",
       "\\item 'cpo.trafo'\n",
       "\\item 'cpo.retrafo'\n",
       "\\end{enumerate*}\n"
      ],
      "text/markdown": [
       "1. '.cpo.name'\n",
       "2. '...'\n",
       "3. '.par.set'\n",
       "4. '.par.vals'\n",
       "5. '.datasplit'\n",
       "6. '.retrafo.format'\n",
       "7. '.export.params'\n",
       "8. '.fix.factors'\n",
       "9. '.properties'\n",
       "10. '.properties.adding'\n",
       "11. '.properties.needed'\n",
       "12. '.properties.target'\n",
       "13. '.packages'\n",
       "14. 'cpo.trafo'\n",
       "15. 'cpo.retrafo'\n",
       "\n",
       "\n"
      ],
      "text/plain": [
       " [1] \".cpo.name\"          \"...\"                \".par.set\"          \n",
       " [4] \".par.vals\"          \".datasplit\"         \".retrafo.format\"   \n",
       " [7] \".export.params\"     \".fix.factors\"       \".properties\"       \n",
       "[10] \".properties.adding\" \".properties.needed\" \".properties.target\"\n",
       "[13] \".packages\"          \"cpo.trafo\"          \"cpo.retrafo\"       "
      ]
     },
     "metadata": {},
     "output_type": "display_data"
    }
   ],
   "source": [
    "names(formals(makeCPO))  # see help(makeCPO) for explanation of arguments"
   ]
  },
  {
   "cell_type": "code",
   "execution_count": 142,
   "metadata": {
    "scrolled": true
   },
   "outputs": [
    {
     "data": {
      "text/html": [
       "<table>\n",
       "<thead><tr><th scope=col>Species</th><th scope=col>PC1</th><th scope=col>PC2</th><th scope=col>PC3</th><th scope=col>PC4</th></tr></thead>\n",
       "<tbody>\n",
       "\t<tr><td>setosa      </td><td>-2.684126   </td><td>-0.3193972  </td><td> 0.02791483 </td><td> 0.002262437</td></tr>\n",
       "\t<tr><td>setosa      </td><td>-2.714142   </td><td> 0.1770012  </td><td> 0.21046427 </td><td> 0.099026550</td></tr>\n",
       "\t<tr><td>setosa      </td><td>-2.888991   </td><td> 0.1449494  </td><td>-0.01790026 </td><td> 0.019968390</td></tr>\n",
       "\t<tr><td>setosa      </td><td>-2.745343   </td><td> 0.3182990  </td><td>-0.03155937 </td><td>-0.075575817</td></tr>\n",
       "\t<tr><td>setosa      </td><td>-2.728717   </td><td>-0.3267545  </td><td>-0.09007924 </td><td>-0.061258593</td></tr>\n",
       "\t<tr><td>setosa      </td><td>-2.280860   </td><td>-0.7413304  </td><td>-0.16867766 </td><td>-0.024200858</td></tr>\n",
       "</tbody>\n",
       "</table>\n"
      ],
      "text/latex": [
       "\\begin{tabular}{r|lllll}\n",
       " Species & PC1 & PC2 & PC3 & PC4\\\\\n",
       "\\hline\n",
       "\t setosa       & -2.684126    & -0.3193972   &  0.02791483  &  0.002262437\\\\\n",
       "\t setosa       & -2.714142    &  0.1770012   &  0.21046427  &  0.099026550\\\\\n",
       "\t setosa       & -2.888991    &  0.1449494   & -0.01790026  &  0.019968390\\\\\n",
       "\t setosa       & -2.745343    &  0.3182990   & -0.03155937  & -0.075575817\\\\\n",
       "\t setosa       & -2.728717    & -0.3267545   & -0.09007924  & -0.061258593\\\\\n",
       "\t setosa       & -2.280860    & -0.7413304   & -0.16867766  & -0.024200858\\\\\n",
       "\\end{tabular}\n"
      ],
      "text/markdown": [
       "\n",
       "Species | PC1 | PC2 | PC3 | PC4 | \n",
       "|---|---|---|---|---|---|\n",
       "| setosa       | -2.684126    | -0.3193972   |  0.02791483  |  0.002262437 | \n",
       "| setosa       | -2.714142    |  0.1770012   |  0.21046427  |  0.099026550 | \n",
       "| setosa       | -2.888991    |  0.1449494   | -0.01790026  |  0.019968390 | \n",
       "| setosa       | -2.745343    |  0.3182990   | -0.03155937  | -0.075575817 | \n",
       "| setosa       | -2.728717    | -0.3267545   | -0.09007924  | -0.061258593 | \n",
       "| setosa       | -2.280860    | -0.7413304   | -0.16867766  | -0.024200858 | \n",
       "\n",
       "\n"
      ],
      "text/plain": [
       "  Species PC1       PC2        PC3         PC4         \n",
       "1 setosa  -2.684126 -0.3193972  0.02791483  0.002262437\n",
       "2 setosa  -2.714142  0.1770012  0.21046427  0.099026550\n",
       "3 setosa  -2.888991  0.1449494 -0.01790026  0.019968390\n",
       "4 setosa  -2.745343  0.3182990 -0.03155937 -0.075575817\n",
       "5 setosa  -2.728717 -0.3267545 -0.09007924 -0.061258593\n",
       "6 setosa  -2.280860 -0.7413304 -0.16867766 -0.024200858"
      ]
     },
     "metadata": {},
     "output_type": "display_data"
    }
   ],
   "source": [
    "# an example 'pca' CPO\n",
    "# demonstrates the (object based) \"separate\" CPO API\n",
    "pca = makeCPO(\"pca\",  # name\n",
    "  center = TRUE: logical,  # one logical parameter 'center'\n",
    "  .datasplit= \"numeric\",  # only handle numeric columns\n",
    "  .retrafo.format = \"separate\",  # default, can be omitted\n",
    "  # cpo.trafo is given as a function body. The function head is added\n",
    "  # automatically, containing 'data', 'target', and 'center'\n",
    "  # (since a 'center' parameter was defined)\n",
    "  cpo.trafo = {\n",
    "    pcr = prcomp(as.matrix(data), center = center)\n",
    "    # The following line creates a 'control' object, which will be given\n",
    "    # to retrafo.\n",
    "    control = list(rotation = pcr$rotation, center = pcr$center)\n",
    "    pcr$x  # returning a matrix is ok\n",
    "  # Just like cpo.trafo, cpo.retrafo is a function body, with implicit\n",
    "  # arguments 'data', 'control', and 'center'.\n",
    "  }, cpo.retrafo = {\n",
    "    scale(as.matrix(data), center = control$center, scale = FALSE) %*%\n",
    "      control$rotation\n",
    "  })\n",
    "head(iris %>>% pca())"
   ]
  },
  {
   "cell_type": "code",
   "execution_count": 151,
   "metadata": {},
   "outputs": [
    {
     "data": {
      "text/html": [
       "<table>\n",
       "<thead><tr><th scope=col>Sepal.Length</th><th scope=col>Sepal.Width</th><th scope=col>Petal.Length</th><th scope=col>Petal.Width</th><th scope=col>Species</th></tr></thead>\n",
       "<tbody>\n",
       "\t<tr><td> 0.5206576</td><td> 0.3401105</td><td>-0.3627381</td><td>-0.4082483</td><td>setosa    </td></tr>\n",
       "\t<tr><td>-0.1735525</td><td>-1.1175060</td><td>-0.3627381</td><td>-0.4082483</td><td>setosa    </td></tr>\n",
       "\t<tr><td>-0.8677627</td><td>-0.5344594</td><td>-1.0882144</td><td>-0.4082483</td><td>setosa    </td></tr>\n",
       "\t<tr><td>-1.2148677</td><td>-0.8259827</td><td> 0.3627381</td><td>-0.4082483</td><td>setosa    </td></tr>\n",
       "\t<tr><td> 0.1735525</td><td> 0.6316338</td><td>-0.3627381</td><td>-0.4082483</td><td>setosa    </td></tr>\n",
       "\t<tr><td> 1.5619728</td><td> 1.5062037</td><td> 1.8136906</td><td> 2.0412415</td><td>setosa    </td></tr>\n",
       "</tbody>\n",
       "</table>\n"
      ],
      "text/latex": [
       "\\begin{tabular}{r|lllll}\n",
       " Sepal.Length & Sepal.Width & Petal.Length & Petal.Width & Species\\\\\n",
       "\\hline\n",
       "\t  0.5206576 &  0.3401105 & -0.3627381 & -0.4082483 & setosa    \\\\\n",
       "\t -0.1735525 & -1.1175060 & -0.3627381 & -0.4082483 & setosa    \\\\\n",
       "\t -0.8677627 & -0.5344594 & -1.0882144 & -0.4082483 & setosa    \\\\\n",
       "\t -1.2148677 & -0.8259827 &  0.3627381 & -0.4082483 & setosa    \\\\\n",
       "\t  0.1735525 &  0.6316338 & -0.3627381 & -0.4082483 & setosa    \\\\\n",
       "\t  1.5619728 &  1.5062037 &  1.8136906 &  2.0412415 & setosa    \\\\\n",
       "\\end{tabular}\n"
      ],
      "text/markdown": [
       "\n",
       "Sepal.Length | Sepal.Width | Petal.Length | Petal.Width | Species | \n",
       "|---|---|---|---|---|---|\n",
       "|  0.5206576 |  0.3401105 | -0.3627381 | -0.4082483 | setosa     | \n",
       "| -0.1735525 | -1.1175060 | -0.3627381 | -0.4082483 | setosa     | \n",
       "| -0.8677627 | -0.5344594 | -1.0882144 | -0.4082483 | setosa     | \n",
       "| -1.2148677 | -0.8259827 |  0.3627381 | -0.4082483 | setosa     | \n",
       "|  0.1735525 |  0.6316338 | -0.3627381 | -0.4082483 | setosa     | \n",
       "|  1.5619728 |  1.5062037 |  1.8136906 |  2.0412415 | setosa     | \n",
       "\n",
       "\n"
      ],
      "text/plain": [
       "  Sepal.Length Sepal.Width Petal.Length Petal.Width Species\n",
       "1  0.5206576    0.3401105  -0.3627381   -0.4082483  setosa \n",
       "2 -0.1735525   -1.1175060  -0.3627381   -0.4082483  setosa \n",
       "3 -0.8677627   -0.5344594  -1.0882144   -0.4082483  setosa \n",
       "4 -1.2148677   -0.8259827   0.3627381   -0.4082483  setosa \n",
       "5  0.1735525    0.6316338  -0.3627381   -0.4082483  setosa \n",
       "6  1.5619728    1.5062037   1.8136906    2.0412415  setosa "
      ]
     },
     "metadata": {},
     "output_type": "display_data"
    }
   ],
   "source": [
    "# an example 'scale' CPO\n",
    "# demonstrates the (functional) \"separate\" CPO API\n",
    "scaleC = makeCPO(\"scale\",\n",
    "  .datasplit = \"numeric\",\n",
    "  # .retrafo.format = \"separate\" is implicit\n",
    "  cpo.trafo = function(data, target) {\n",
    "    result = scale(as.matrix(data))\n",
    "    cpo.retrafo = function(data) {\n",
    "      # here we can use the 'result' object generated in cpo.trafo\n",
    "      scale(as.matrix(data), attr(result, \"scaled:center\"),\n",
    "\tattr(result, \"scaled:scale\"))\n",
    "    }\n",
    "    result\n",
    "  }, cpo.retrafo = NULL)\n",
    "head(iris) %>>% scaleC()"
   ]
  },
  {
   "cell_type": "code",
   "execution_count": 147,
   "metadata": {},
   "outputs": [
    {
     "data": {
      "text/html": [
       "<table>\n",
       "<thead><tr><th scope=col>Sepal.Length</th><th scope=col>Sepal.Width</th><th scope=col>Petal.Length</th><th scope=col>Petal.Width</th></tr></thead>\n",
       "<tbody>\n",
       "\t<tr><td>5.1</td><td>3.5</td><td>1.4</td><td>0.2</td></tr>\n",
       "\t<tr><td>4.9</td><td>3.0</td><td>1.4</td><td>0.2</td></tr>\n",
       "\t<tr><td>4.7</td><td>3.2</td><td>1.3</td><td>0.2</td></tr>\n",
       "\t<tr><td>4.6</td><td>3.1</td><td>1.5</td><td>0.2</td></tr>\n",
       "\t<tr><td>5.0</td><td>3.6</td><td>1.4</td><td>0.2</td></tr>\n",
       "\t<tr><td>5.4</td><td>3.9</td><td>1.7</td><td>0.4</td></tr>\n",
       "</tbody>\n",
       "</table>\n"
      ],
      "text/latex": [
       "\\begin{tabular}{r|llll}\n",
       " Sepal.Length & Sepal.Width & Petal.Length & Petal.Width\\\\\n",
       "\\hline\n",
       "\t 5.1 & 3.5 & 1.4 & 0.2\\\\\n",
       "\t 4.9 & 3.0 & 1.4 & 0.2\\\\\n",
       "\t 4.7 & 3.2 & 1.3 & 0.2\\\\\n",
       "\t 4.6 & 3.1 & 1.5 & 0.2\\\\\n",
       "\t 5.0 & 3.6 & 1.4 & 0.2\\\\\n",
       "\t 5.4 & 3.9 & 1.7 & 0.4\\\\\n",
       "\\end{tabular}\n"
      ],
      "text/markdown": [
       "\n",
       "Sepal.Length | Sepal.Width | Petal.Length | Petal.Width | \n",
       "|---|---|---|---|---|---|\n",
       "| 5.1 | 3.5 | 1.4 | 0.2 | \n",
       "| 4.9 | 3.0 | 1.4 | 0.2 | \n",
       "| 4.7 | 3.2 | 1.3 | 0.2 | \n",
       "| 4.6 | 3.1 | 1.5 | 0.2 | \n",
       "| 5.0 | 3.6 | 1.4 | 0.2 | \n",
       "| 5.4 | 3.9 | 1.7 | 0.4 | \n",
       "\n",
       "\n"
      ],
      "text/plain": [
       "  Sepal.Length Sepal.Width Petal.Length Petal.Width\n",
       "1 5.1          3.5         1.4          0.2        \n",
       "2 4.9          3.0         1.4          0.2        \n",
       "3 4.7          3.2         1.3          0.2        \n",
       "4 4.6          3.1         1.5          0.2        \n",
       "5 5.0          3.6         1.4          0.2        \n",
       "6 5.4          3.9         1.7          0.4        "
      ]
     },
     "metadata": {},
     "output_type": "display_data"
    }
   ],
   "source": [
    "# an example constant feature remover CPO\n",
    "# demonstrates the \"combined\" CPO API\n",
    "constFeatRem = makeCPO(\"constFeatRem\",\n",
    "  .datasplit = \"target\",\n",
    "  .retrafo.format = \"combined\",\n",
    "  cpo.trafo = function(data, target) {\n",
    "    cols.keep = names(Filter(function(x) {\n",
    "\tlength(unique(x)) > 1\n",
    "      }, data))\n",
    "    # the following function will do both the trafo and retrafo\n",
    "    result = function(data) {\n",
    "      data[cols.keep]\n",
    "    }\n",
    "    result\n",
    "  }, cpo.retrafo = NULL)\n",
    "head(iris) %>>% constFeatRem()"
   ]
  },
  {
   "cell_type": "code",
   "execution_count": 148,
   "metadata": {},
   "outputs": [
    {
     "data": {
      "text/html": [
       "<table>\n",
       "<thead><tr><th scope=col>Sepal.Length</th><th scope=col>Sepal.Width</th><th scope=col>Petal.Length</th><th scope=col>Petal.Width</th><th scope=col>Species</th></tr></thead>\n",
       "<tbody>\n",
       "\t<tr><td>10.2  </td><td>7.0   </td><td>2.8   </td><td>0.4   </td><td>setosa</td></tr>\n",
       "\t<tr><td> 9.8  </td><td>6.0   </td><td>2.8   </td><td>0.4   </td><td>setosa</td></tr>\n",
       "\t<tr><td> 9.4  </td><td>6.4   </td><td>2.6   </td><td>0.4   </td><td>setosa</td></tr>\n",
       "\t<tr><td> 9.2  </td><td>6.2   </td><td>3.0   </td><td>0.4   </td><td>setosa</td></tr>\n",
       "\t<tr><td>10.0  </td><td>7.2   </td><td>2.8   </td><td>0.4   </td><td>setosa</td></tr>\n",
       "\t<tr><td>10.8  </td><td>7.8   </td><td>3.4   </td><td>0.8   </td><td>setosa</td></tr>\n",
       "</tbody>\n",
       "</table>\n"
      ],
      "text/latex": [
       "\\begin{tabular}{r|lllll}\n",
       " Sepal.Length & Sepal.Width & Petal.Length & Petal.Width & Species\\\\\n",
       "\\hline\n",
       "\t 10.2   & 7.0    & 2.8    & 0.4    & setosa\\\\\n",
       "\t  9.8   & 6.0    & 2.8    & 0.4    & setosa\\\\\n",
       "\t  9.4   & 6.4    & 2.6    & 0.4    & setosa\\\\\n",
       "\t  9.2   & 6.2    & 3.0    & 0.4    & setosa\\\\\n",
       "\t 10.0   & 7.2    & 2.8    & 0.4    & setosa\\\\\n",
       "\t 10.8   & 7.8    & 3.4    & 0.8    & setosa\\\\\n",
       "\\end{tabular}\n"
      ],
      "text/markdown": [
       "\n",
       "Sepal.Length | Sepal.Width | Petal.Length | Petal.Width | Species | \n",
       "|---|---|---|---|---|---|\n",
       "| 10.2   | 7.0    | 2.8    | 0.4    | setosa | \n",
       "|  9.8   | 6.0    | 2.8    | 0.4    | setosa | \n",
       "|  9.4   | 6.4    | 2.6    | 0.4    | setosa | \n",
       "|  9.2   | 6.2    | 3.0    | 0.4    | setosa | \n",
       "| 10.0   | 7.2    | 2.8    | 0.4    | setosa | \n",
       "| 10.8   | 7.8    | 3.4    | 0.8    | setosa | \n",
       "\n",
       "\n"
      ],
      "text/plain": [
       "  Sepal.Length Sepal.Width Petal.Length Petal.Width Species\n",
       "1 10.2         7.0         2.8          0.4         setosa \n",
       "2  9.8         6.0         2.8          0.4         setosa \n",
       "3  9.4         6.4         2.6          0.4         setosa \n",
       "4  9.2         6.2         3.0          0.4         setosa \n",
       "5 10.0         7.2         2.8          0.4         setosa \n",
       "6 10.8         7.8         3.4          0.8         setosa "
      ]
     },
     "metadata": {},
     "output_type": "display_data"
    }
   ],
   "source": [
    "\n",
    "# an example 'square' CPO\n",
    "# demonstrates the \"stateless\" CPO API\n",
    "square = makeCPO(\"scale\",\n",
    "  .datasplit = \"numeric\",\n",
    "  .retrafo.format = \"stateless\",\n",
    "  cpo.trafo = NULL, # optional, we don't need it since trafo & retrafo same\n",
    "  cpo.retrafo = function(data) {\n",
    "    as.matrix(data) * 2\n",
    "  })\n",
    "head(iris) %>>% square()"
   ]
  },
  {
   "cell_type": "code",
   "execution_count": null,
   "metadata": {
    "collapsed": true
   },
   "outputs": [],
   "source": []
  },
  {
   "cell_type": "code",
   "execution_count": null,
   "metadata": {
    "collapsed": true
   },
   "outputs": [],
   "source": []
  },
  {
   "cell_type": "code",
   "execution_count": null,
   "metadata": {
    "collapsed": true
   },
   "outputs": [],
   "source": []
  }
 ],
 "metadata": {
  "kernelspec": {
   "display_name": "R",
   "language": "R",
   "name": "ir"
  },
  "language_info": {
   "codemirror_mode": "r",
   "file_extension": ".r",
   "mimetype": "text/x-r-source",
   "name": "R",
   "pygments_lexer": "r",
   "version": "3.4.0"
  }
 },
 "nbformat": 4,
 "nbformat_minor": 1
}
