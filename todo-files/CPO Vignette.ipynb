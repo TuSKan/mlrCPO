{
 "cells": [
  {
   "cell_type": "markdown",
   "metadata": {},
   "source": [
    "# CPO"
   ]
  },
  {
   "cell_type": "code",
   "execution_count": null,
   "metadata": {
    "collapsed": true
   },
   "outputs": [],
   "source": [
    "library(\"mlrCPO\")"
   ]
  },
  {
   "cell_type": "code",
   "execution_count": null,
   "metadata": {
    "collapsed": true
   },
   "outputs": [],
   "source": [
    "df = data.frame(a = 1:3, b = -(1:3) * 10)"
   ]
  },
  {
   "cell_type": "markdown",
   "metadata": {},
   "source": [
    "**CPO**s are first-class objects in R that represent data manipulation. They can be combined to form networks of operation, they can be attached to `mlr` `Learner`s, and they have tunable Hyperparameters that influence their behaviour."
   ]
  },
  {
   "cell_type": "markdown",
   "metadata": {},
   "source": [
    "# Lifecycle of a CPO"
   ]
  },
  {
   "cell_type": "markdown",
   "metadata": {},
   "source": [
    "## CPO Constructor"
   ]
  },
  {
   "cell_type": "code",
   "execution_count": null,
   "metadata": {
    "collapsed": true
   },
   "outputs": [],
   "source": [
    "print(cpoPca)  # example CPOConstructor"
   ]
  },
  {
   "cell_type": "code",
   "execution_count": null,
   "metadata": {
    "collapsed": true
   },
   "outputs": [],
   "source": [
    "class(cpoPca)"
   ]
  },
  {
   "cell_type": "markdown",
   "metadata": {},
   "source": [
    "CPO constructors have parameters that\n",
    "* set the CPO Hyperparameters\n",
    "* set the CPO ID (default NULL)\n",
    "* resetrict the data columns a CPO operates on (`affect.*` parameters)"
   ]
  },
  {
   "cell_type": "code",
   "execution_count": null,
   "metadata": {
    "collapsed": true
   },
   "outputs": [],
   "source": [
    "names(formals(cpoPca))"
   ]
  },
  {
   "cell_type": "markdown",
   "metadata": {},
   "source": [
    "## CPO"
   ]
  },
  {
   "cell_type": "code",
   "execution_count": null,
   "metadata": {
    "collapsed": true
   },
   "outputs": [],
   "source": [
    "(cpo = cpoScale()) # construct CPO with default Hyperparameter values"
   ]
  },
  {
   "cell_type": "code",
   "execution_count": null,
   "metadata": {
    "collapsed": true
   },
   "outputs": [],
   "source": [
    "class(cpo)  # CPOs that are not compound are \"CPOPrimitive\""
   ]
  },
  {
   "cell_type": "code",
   "execution_count": null,
   "metadata": {
    "collapsed": true
   },
   "outputs": [],
   "source": [
    "summary(cpo)  # detailed printing"
   ]
  },
  {
   "cell_type": "code",
   "execution_count": null,
   "metadata": {
    "collapsed": true
   },
   "outputs": [],
   "source": [
    "# Functions that work on CPOs:\n",
    "getParamSet(cpo)"
   ]
  },
  {
   "cell_type": "code",
   "execution_count": null,
   "metadata": {
    "collapsed": true
   },
   "outputs": [],
   "source": [
    "getHyperPars(cpo)"
   ]
  },
  {
   "cell_type": "code",
   "execution_count": null,
   "metadata": {
    "collapsed": true
   },
   "outputs": [],
   "source": [
    "setHyperPars(cpo, scale.center = FALSE)"
   ]
  },
  {
   "cell_type": "code",
   "execution_count": null,
   "metadata": {
    "collapsed": true
   },
   "outputs": [],
   "source": [
    "getCPOId(cpo)"
   ]
  },
  {
   "cell_type": "code",
   "execution_count": null,
   "metadata": {
    "collapsed": true
   },
   "outputs": [],
   "source": [
    "setCPOId(cpo, \"MYID\")"
   ]
  },
  {
   "cell_type": "code",
   "execution_count": null,
   "metadata": {
    "collapsed": true
   },
   "outputs": [],
   "source": [
    "getCPOName(cpo)\n",
    "getCPOName(setCPOId(cpo, \"MYID\"))  # the name includes the ID"
   ]
  },
  {
   "cell_type": "code",
   "execution_count": null,
   "metadata": {
    "collapsed": true
   },
   "outputs": [],
   "source": [
    "getCPOAffect(cpo)  # empty, since no affect set\n",
    "getCPOAffect(cpoPca(affect.pattern = \"Width$\"))"
   ]
  },
  {
   "cell_type": "code",
   "execution_count": null,
   "metadata": {
    "collapsed": true
   },
   "outputs": [],
   "source": [
    "getCPOProperties(cpo)  # see properties explanation below"
   ]
  },
  {
   "cell_type": "code",
   "execution_count": null,
   "metadata": {
    "collapsed": true
   },
   "outputs": [],
   "source": [
    "# these are internals\n",
    "getCPOKind(cpo)  # trafo, retrafo, inverter\n",
    "getCPOBound(cpo)  # databound, targetbound, both"
   ]
  },
  {
   "cell_type": "markdown",
   "metadata": {},
   "source": [
    "### Exporting Parameters\n",
    "Sometimes when using many CPOs, their hyperparameters may get messy. CPO enables the user to control which hyperparameter get exported. The parameter \"export\" can be one of \"export.default\", \"export.set\", \"export.unset\", \"export.default.set\", \"export.default.unset\", \"export.all\", \"export.none\". \"all\" and \"none\" do what one expects; \"default\" exports the \"recommended\" parameters; \"set\" and \"unset\" export the values that have not been set, or only the values that were set (and are not left as default). \"default.set\" and \"default.unset\" work as \"set\" and \"unset\", but restricted to the default exported parameters."
   ]
  },
  {
   "cell_type": "code",
   "execution_count": null,
   "metadata": {
    "collapsed": true,
    "scrolled": true
   },
   "outputs": [],
   "source": [
    "(sc = cpoScale())\n",
    "getParamSet(sc)\n",
    "cat(\"---\\n\")\n",
    "(sc = cpoScale(export = \"export.none\"))\n",
    "getParamSet(sc)\n",
    "cat(\"---\\n\")\n",
    "(sc = cpoScale(scale = FALSE, export = \"export.unset\"))\n",
    "getParamSet(sc)"
   ]
  },
  {
   "cell_type": "markdown",
   "metadata": {},
   "source": [
    "### CPO Application using `%>>%` or `applyCPO`\n",
    "`CPO`s can be applied to `data.frame` and `Task` objects."
   ]
  },
  {
   "cell_type": "code",
   "execution_count": null,
   "metadata": {
    "collapsed": true,
    "scrolled": true
   },
   "outputs": [],
   "source": [
    "head(iris) %>>% cpoPca()\n",
    "# head(getTaskData(applyCPO(cpoPca(), iris.task)))"
   ]
  },
  {
   "cell_type": "markdown",
   "metadata": {},
   "source": [
    "### CPO Composition using `%>>%` or `composeCPO`\n",
    "`CPO` composition results in a new CPO which mostly behaves like a primitive CPO. Exceptions are:\n",
    "* Compound CPOs have no `id`\n",
    "* Affect of compound CPOs cannot be retrieved"
   ]
  },
  {
   "cell_type": "code",
   "execution_count": null,
   "metadata": {
    "collapsed": true
   },
   "outputs": [],
   "source": [
    "scale1 = cpoScale()\n",
    "scale2 = cpoScale()\n",
    "# scale1 %>>% scale2  # error! parameters 'center' and 'scale' occur in both\n",
    "compound = setCPOId(scale1, \"scale1\") %>>% setCPOId(scale2, \"scale2\")\n",
    "composeCPO(setCPOId(scale1, \"scale1\"), setCPOId(scale2, \"scale2\"))  # same"
   ]
  },
  {
   "cell_type": "code",
   "execution_count": null,
   "metadata": {
    "collapsed": true
   },
   "outputs": [],
   "source": [
    "class(compound)"
   ]
  },
  {
   "cell_type": "code",
   "execution_count": null,
   "metadata": {
    "collapsed": true
   },
   "outputs": [],
   "source": [
    "summary(compound)"
   ]
  },
  {
   "cell_type": "code",
   "execution_count": null,
   "metadata": {
    "collapsed": true
   },
   "outputs": [],
   "source": [
    "getCPOName(compound)"
   ]
  },
  {
   "cell_type": "code",
   "execution_count": null,
   "metadata": {
    "collapsed": true
   },
   "outputs": [],
   "source": [
    "as.character(try(getCPOId(compound)))  # error: no ID for compound CPOs\n",
    "as.character(try(getCPOAffect(compound)))  # error: no affect for compound CPOs"
   ]
  },
  {
   "cell_type": "code",
   "execution_count": null,
   "metadata": {
    "collapsed": true
   },
   "outputs": [],
   "source": [
    "getParamSet(compound)"
   ]
  },
  {
   "cell_type": "code",
   "execution_count": null,
   "metadata": {
    "collapsed": true
   },
   "outputs": [],
   "source": [
    "getHyperPars(compound)"
   ]
  },
  {
   "cell_type": "code",
   "execution_count": null,
   "metadata": {
    "collapsed": true
   },
   "outputs": [],
   "source": [
    "setHyperPars(compound, scale1.center = TRUE, scale2.center = FALSE)"
   ]
  },
  {
   "cell_type": "markdown",
   "metadata": {},
   "source": [
    "### Compound CPO decomposition, CPO chaining"
   ]
  },
  {
   "cell_type": "code",
   "execution_count": null,
   "metadata": {
    "collapsed": true
   },
   "outputs": [],
   "source": [
    "as.list(compound)"
   ]
  },
  {
   "cell_type": "code",
   "execution_count": null,
   "metadata": {
    "collapsed": true
   },
   "outputs": [],
   "source": [
    "chainCPO(as.list(compound))  # chainCPO: list CPO -> CPO"
   ]
  },
  {
   "cell_type": "markdown",
   "metadata": {},
   "source": [
    "### CPO - Learner attachment using `%>>%` or `attachCPO`"
   ]
  },
  {
   "cell_type": "code",
   "execution_count": null,
   "metadata": {
    "collapsed": true
   },
   "outputs": [],
   "source": [
    "lrn = makeLearner(\"classif.logreg\")"
   ]
  },
  {
   "cell_type": "code",
   "execution_count": null,
   "metadata": {
    "collapsed": true
   },
   "outputs": [],
   "source": [
    "(cpolrn = cpo %>>% lrn)  # the new learner has the CPO hyperparameters"
   ]
  },
  {
   "cell_type": "code",
   "execution_count": null,
   "metadata": {
    "collapsed": true
   },
   "outputs": [],
   "source": [
    "attachCPO(compound, lrn)  # attaching compound CPO"
   ]
  },
  {
   "cell_type": "code",
   "execution_count": null,
   "metadata": {
    "collapsed": true
   },
   "outputs": [],
   "source": [
    "# CPO learner decomposition\n",
    "getLearnerCPO(cpolrn)  # the CPO\n",
    "getLearnerBare(cpolrn)  # the Learner"
   ]
  },
  {
   "cell_type": "markdown",
   "metadata": {},
   "source": [
    "## Retrafo\n",
    "CPOs perform data-dependent operation. However, when this operation becomes part of a machine-learning process, the operation on predict-data must depend only on the training data.\n",
    "\n",
    "The `Retrafo` object represents the re-application of a trained CPO"
   ]
  },
  {
   "cell_type": "code",
   "execution_count": null,
   "metadata": {
    "collapsed": true
   },
   "outputs": [],
   "source": [
    "transformed = iris %>>% cpo\n",
    "head(transformed)"
   ]
  },
  {
   "cell_type": "code",
   "execution_count": null,
   "metadata": {
    "collapsed": true
   },
   "outputs": [],
   "source": [
    "retrafo(transformed)"
   ]
  },
  {
   "cell_type": "code",
   "execution_count": null,
   "metadata": {
    "collapsed": true
   },
   "outputs": [],
   "source": [
    "# retrafos are stored as attributes\n",
    "attributes(transformed)"
   ]
  },
  {
   "cell_type": "markdown",
   "metadata": {},
   "source": [
    "### Retrafo Inspection\n",
    "`Retrafo` objects can be inspected using `getRetrafoState`. The state contains the hyperparameters, the `control` object (CPO dependent data representing the data information needed to re-apply the operation), and information about the `Task` / `data.frame` layout used for training (column names, column types) in `data$shapeinfo.input` and `data$shapeinfo.output`.\n",
    "\n",
    "The state can be manipulated and used to create new `Retrafo`s, using `makeRetrafoFromState`."
   ]
  },
  {
   "cell_type": "code",
   "execution_count": null,
   "metadata": {
    "collapsed": true
   },
   "outputs": [],
   "source": [
    "(state = getRetrafoState(retrafo(iris %>>% cpoScale())))"
   ]
  },
  {
   "cell_type": "code",
   "execution_count": null,
   "metadata": {
    "collapsed": true
   },
   "outputs": [],
   "source": [
    "state$control$center[1] = 1000  # will now subtract 1000 from the first column\n",
    "new.retrafo = makeRetrafoFromState(cpoScale, state)\n",
    "head(iris %>>% new.retrafo)"
   ]
  },
  {
   "cell_type": "markdown",
   "metadata": {},
   "source": [
    "### Application of Retrafo using `%>>%`, `applyCPO`, or `predict`"
   ]
  },
  {
   "cell_type": "code",
   "execution_count": null,
   "metadata": {
    "collapsed": true
   },
   "outputs": [],
   "source": [
    "head(iris) %>>% retrafo(transformed)\n",
    "# should give the same as head(transformed), since the same data was used.\n",
    "# same:\n",
    "invisible(applyCPO(retrafo(transformed), head(iris)))\n",
    "invisible(predict(retrafo(transformed), head(iris)))"
   ]
  },
  {
   "cell_type": "markdown",
   "metadata": {},
   "source": [
    "### Retrafos from CPO Learners"
   ]
  },
  {
   "cell_type": "code",
   "execution_count": null,
   "metadata": {
    "collapsed": true
   },
   "outputs": [],
   "source": [
    "cpomodel = train(cpolrn, pid.task)"
   ]
  },
  {
   "cell_type": "code",
   "execution_count": null,
   "metadata": {
    "collapsed": true
   },
   "outputs": [],
   "source": [
    "retrafo(cpomodel)"
   ]
  },
  {
   "cell_type": "code",
   "execution_count": null,
   "metadata": {
    "collapsed": true
   },
   "outputs": [],
   "source": [
    "head(getTaskData(pid.task %>>% retrafo(cpomodel)))\n",
    "# this is what the model would see, if we predict() it with the model"
   ]
  },
  {
   "cell_type": "markdown",
   "metadata": {},
   "source": [
    "### Retrafos are automatically chained when applying CPOs (!!!)\n",
    "When executing `data %>>% CPO`, the result has an associated `Retrafo` object. When applying another `CPO`, the `Retrafo` will be the chained operation. This is to make `data %>>% CPO1 %>>% CPO2` the way one expects it to work."
   ]
  },
  {
   "cell_type": "code",
   "execution_count": null,
   "metadata": {
    "collapsed": true
   },
   "outputs": [],
   "source": [
    "data = head(iris) %>>% pca\n",
    "retrafo(data)"
   ]
  },
  {
   "cell_type": "code",
   "execution_count": null,
   "metadata": {
    "collapsed": true
   },
   "outputs": [],
   "source": [
    "data2 = data %>>% cpoScale()\n",
    "# retrafo(data2) is the same as retrafo(data %>>% pca %>>% scale)\n",
    "retrafo(data2)"
   ]
  },
  {
   "cell_type": "code",
   "execution_count": null,
   "metadata": {
    "collapsed": true
   },
   "outputs": [],
   "source": [
    "# to interrupt this chain, set retrafo to NULL\n",
    "retrafo(data) = NULL\n",
    "data2 = data %>>% cpoScale()\n",
    "retrafo(data2)"
   ]
  },
  {
   "cell_type": "markdown",
   "metadata": {},
   "source": [
    "### Retrafo Composition, Decomposition, Chaining"
   ]
  },
  {
   "cell_type": "code",
   "execution_count": null,
   "metadata": {
    "collapsed": true
   },
   "outputs": [],
   "source": [
    "compound.retrafo = retrafo(head(iris) %>>% compound)\n",
    "compound.retrafo"
   ]
  },
  {
   "cell_type": "code",
   "execution_count": null,
   "metadata": {
    "collapsed": true
   },
   "outputs": [],
   "source": [
    "(retrafolist = as.list(compound.retrafo))"
   ]
  },
  {
   "cell_type": "code",
   "execution_count": null,
   "metadata": {
    "collapsed": true
   },
   "outputs": [],
   "source": [
    "retrafolist[[1]] %>>% retrafolist[[2]]"
   ]
  },
  {
   "cell_type": "code",
   "execution_count": null,
   "metadata": {
    "collapsed": true
   },
   "outputs": [],
   "source": [
    "chainCPO(retrafolist)"
   ]
  },
  {
   "cell_type": "markdown",
   "metadata": {},
   "source": [
    "## Inverter\n",
    "Inverters represent the operation of inverting transformations done to prediction columns. They are not usually exposed outside of `Learner` objects, but can be retrieved when retransformed data is tagged using `tagInverse`.\n",
    "\n",
    "Inverters are currently not fully functional."
   ]
  },
  {
   "cell_type": "code",
   "execution_count": null,
   "metadata": {
    "collapsed": true
   },
   "outputs": [],
   "source": [
    "# there is currently no example targetbound cpo\n",
    "logtransform = makeCPOTargetOp(\"logtransform\", .data.dependent = FALSE,\n",
    "                               .stateless = TRUE, .type = \"regr\",\n",
    "  cpo.trafo = {\n",
    "    target[[1]] = log(target[[1]])\n",
    "    target\n",
    "  }, cpo.retrafo = { print(match.call()) })\n"
   ]
  },
  {
   "cell_type": "code",
   "execution_count": null,
   "metadata": {
    "collapsed": true
   },
   "outputs": [],
   "source": [
    "log.retrafo = retrafo(bh.task %>>% logtransform())  # get a target-bound retrafo\n",
    "getCPOKind(log.retrafo)  # logtransform is *stateless*, so it is a retrafo *and* an inverter\n",
    "getCPOBound(log.retrafo)"
   ]
  },
  {
   "cell_type": "code",
   "execution_count": null,
   "metadata": {
    "collapsed": true
   },
   "outputs": [],
   "source": [
    "inverter(bh.task %>>% log.retrafo)"
   ]
  },
  {
   "cell_type": "code",
   "execution_count": null,
   "metadata": {
    "collapsed": true
   },
   "outputs": [],
   "source": [
    "#inverter(tagInvert(bh.task) %>>% log.retrafo)\n",
    "# currently not implemented :-/"
   ]
  },
  {
   "cell_type": "markdown",
   "metadata": {},
   "source": [
    "Inverting is done with the `invert` function."
   ]
  },
  {
   "cell_type": "code",
   "execution_count": null,
   "metadata": {
    "collapsed": true
   },
   "outputs": [],
   "source": [
    "log.bh = bh.task %>>% logtransform()\n",
    "log.prediction = predict(train(\"regr.lm\", log.bh), log.bh)"
   ]
  },
  {
   "cell_type": "code",
   "execution_count": null,
   "metadata": {
    "collapsed": true
   },
   "outputs": [],
   "source": [
    "# invert(retrafo(log.bh), log.prediction)  # not implemented :-/\n",
    "# invert(retrafo(log.bh), log.prediction$data[\"response\"])  # not implemented :-/\n"
   ]
  },
  {
   "cell_type": "markdown",
   "metadata": {},
   "source": [
    "# CPO Properties\n",
    "CPOs contain information about the kind of data they can work with, and what kind of data they produce. `getCPOProperties` returns a list with the slots `properties`, `properties.data`, `properties.needed`, `properties.adding`, indicating the kind of data a CPO can handle, the kind of data it needs the data receiver (e.g. attached learner) to have, and the properties it adds to a given learner. An example is a CPO that converts factors to numerics: The receiving learner needs to handle numerics, so `properties.needed = \"numerics\"`, but it *adds* the ability to handle factors (since they are converted), so `properties.adding = c(\"factors\", \"ordered\")`. `properties.data` is only different from `properties` if `affect.*` parameters are given. In that case, `properties.data` determines what properties the selected subset of columns must have."
   ]
  },
  {
   "cell_type": "code",
   "execution_count": null,
   "metadata": {
    "collapsed": true
   },
   "outputs": [],
   "source": [
    "getCPOProperties(cpoDummyEncode())"
   ]
  },
  {
   "cell_type": "code",
   "execution_count": null,
   "metadata": {
    "collapsed": true
   },
   "outputs": [],
   "source": [
    "train(\"classif.geoDA\", bc.task)  # gives an error"
   ]
  },
  {
   "cell_type": "code",
   "execution_count": null,
   "metadata": {
    "collapsed": true
   },
   "outputs": [],
   "source": [
    "train(cpoDummyEncode(reference.cat = TRUE) %>>% makeLearner(\"classif.geoDA\"), bc.task)"
   ]
  },
  {
   "cell_type": "code",
   "execution_count": null,
   "metadata": {
    "collapsed": true
   },
   "outputs": [],
   "source": [
    "getLearnerProperties(\"classif.geoDA\")"
   ]
  },
  {
   "cell_type": "code",
   "execution_count": null,
   "metadata": {
    "collapsed": true
   },
   "outputs": [],
   "source": [
    "getLearnerProperties(cpoDummyEncode(TRUE) %>>% makeLearner(\"classif.geoDA\"))"
   ]
  },
  {
   "cell_type": "markdown",
   "metadata": {},
   "source": [
    "# Special CPOs"
   ]
  },
  {
   "cell_type": "markdown",
   "metadata": {},
   "source": [
    "## NULLCPO\n",
    "`NULLCPO` is the neutral element of `%>>%`. It is returned by some functions when no other CPO or Retrafo is present."
   ]
  },
  {
   "cell_type": "code",
   "execution_count": null,
   "metadata": {
    "collapsed": true
   },
   "outputs": [],
   "source": [
    "NULLCPO"
   ]
  },
  {
   "cell_type": "code",
   "execution_count": null,
   "metadata": {
    "collapsed": true
   },
   "outputs": [],
   "source": [
    "is.nullcpo(NULLCPO)"
   ]
  },
  {
   "cell_type": "code",
   "execution_count": null,
   "metadata": {
    "collapsed": true
   },
   "outputs": [],
   "source": [
    "NULLCPO %>>% cpoScale()"
   ]
  },
  {
   "cell_type": "code",
   "execution_count": null,
   "metadata": {
    "collapsed": true
   },
   "outputs": [],
   "source": [
    "NULLCPO %>>% NULLCPO"
   ]
  },
  {
   "cell_type": "code",
   "execution_count": null,
   "metadata": {
    "collapsed": true
   },
   "outputs": [],
   "source": [
    "print(as.list(NULLCPO))"
   ]
  },
  {
   "cell_type": "code",
   "execution_count": null,
   "metadata": {
    "collapsed": true
   },
   "outputs": [],
   "source": [
    "chainCPO(list())"
   ]
  },
  {
   "cell_type": "markdown",
   "metadata": {},
   "source": [
    "## CPO Applicator\n",
    "A simple CPO with one parameter which gets applied to the data as CPO. This is different from a multiplexer in that its parameter is free and can take any value that behaves like a CPO. On the downside, this does not expose the argument's parameters to the outside."
   ]
  },
  {
   "cell_type": "code",
   "execution_count": null,
   "metadata": {
    "collapsed": true
   },
   "outputs": [],
   "source": [
    "cpa = cpoApply()\n",
    "summary(cpa)"
   ]
  },
  {
   "cell_type": "code",
   "execution_count": null,
   "metadata": {
    "collapsed": true
   },
   "outputs": [],
   "source": [
    "head(iris %>>% setHyperPars(cpa, apply.cpo = cpoScale()))"
   ]
  },
  {
   "cell_type": "code",
   "execution_count": null,
   "metadata": {
    "collapsed": true
   },
   "outputs": [],
   "source": [
    "head(iris %>>% setHyperPars(cpa, apply.cpo = cpoPca()))"
   ]
  },
  {
   "cell_type": "code",
   "execution_count": null,
   "metadata": {
    "collapsed": true
   },
   "outputs": [],
   "source": [
    "# attaching the cpo applicator to a learner gives this learner a \"cpo\" hyperparameter\n",
    "# that can be set to any CPO.\n",
    "getParamSet(cpoApply() %>>% makeLearner(\"classif.logreg\"))"
   ]
  },
  {
   "cell_type": "markdown",
   "metadata": {},
   "source": [
    "## CPO Multiplexer\n",
    "Combine many CPOs into one, with an extra `selected.cpo` parameter that chooses between them."
   ]
  },
  {
   "cell_type": "code",
   "execution_count": null,
   "metadata": {
    "collapsed": true
   },
   "outputs": [],
   "source": [
    "cpm = cpoMultiplex(list(cpoScale, cpoPca))\n",
    "summary(cpm)"
   ]
  },
  {
   "cell_type": "code",
   "execution_count": null,
   "metadata": {
    "collapsed": true
   },
   "outputs": [],
   "source": [
    "head(iris %>>% setHyperPars(cpm, multiplex.selected.cpo = \"scale\"))"
   ]
  },
  {
   "cell_type": "code",
   "execution_count": null,
   "metadata": {
    "collapsed": true
   },
   "outputs": [],
   "source": [
    "# every CPO's Hyperparameters are exported\n",
    "head(iris %>>% setHyperPars(cpm, multiplex.selected.cpo = \"scale\", multiplex.scale.center = FALSE))"
   ]
  },
  {
   "cell_type": "code",
   "execution_count": null,
   "metadata": {
    "collapsed": true
   },
   "outputs": [],
   "source": [
    "head(iris %>>% setHyperPars(cpm, multiplex.selected.cpo = \"pca\"))"
   ]
  },
  {
   "cell_type": "markdown",
   "metadata": {},
   "source": [
    "## Meta-CPO\n",
    "A CPO that builds data-dependent CPO networks. This is a generalized CPO-Multiplexer that takes a function which decides (from the data, and from user-specified hyperparameters) what CPO operation to perform. Besides optional arguments, the used CPO's Hyperparameters are exported as well. This is a generalization of `cpoMultiplex`; however, `requires` of the involved parameters are not adjusted, since this is impossible in principle."
   ]
  },
  {
   "cell_type": "code",
   "execution_count": null,
   "metadata": {
    "collapsed": true
   },
   "outputs": [],
   "source": [
    "s.and.p = cpoMeta(logical.param: logical,\n",
    ".export = list(cpoScale(id = \"scale\"), \n",
    "  cpoPca(id = \"pca\")),\n",
    "cpo.build = function(data, target, logical.param, scale, pca) {\n",
    "  if (logical.param || mean(data[[1]]) > 10) {\n",
    "    scale %>>% pca\n",
    "  } else {\n",
    "    pca %>>% scale\n",
    "  }\n",
    "})"
   ]
  },
  {
   "cell_type": "code",
   "execution_count": null,
   "metadata": {
    "collapsed": true
   },
   "outputs": [],
   "source": [
    " summary(s.and.p())"
   ]
  },
  {
   "cell_type": "markdown",
   "metadata": {},
   "source": [
    "The resulting CPO `s.and.p` performs scaling and PCA, with the order depending on the parameter `logical.param` and on whether the mean of the data's first column exceeds 10. If either of those is true, the data will be first scaled, then PCA'd, otherwise the order is reversed.\n",
    "The all CPOs listed in `.export` are passed to the `cpo.build`."
   ]
  },
  {
   "cell_type": "markdown",
   "metadata": {},
   "source": [
    "## CBind CPO\n",
    "`cbind` other CPOs as operation. The `cbinder` makes it possible to build DAGs of CPOs that perform different operations on data and paste the results next to each other."
   ]
  },
  {
   "cell_type": "code",
   "execution_count": null,
   "metadata": {
    "collapsed": true
   },
   "outputs": [],
   "source": [
    "scale = cpoScale(id = \"scale\")\n",
    "scale.pca = scale %>>% cpoPca()\n",
    "cbinder = cpoCbind(scaled = scale, pcad = scale.pca, original = NULLCPO)"
   ]
  },
  {
   "cell_type": "code",
   "execution_count": null,
   "metadata": {
    "collapsed": true
   },
   "outputs": [],
   "source": [
    "# cpoCbind recognises that \"scale.scale\" happens before \"pca.pca\" but is also fed to the\n",
    "# result directly. The summary draws a (crude) ascii-art graph.\n",
    "summary(cbinder)"
   ]
  },
  {
   "cell_type": "code",
   "execution_count": null,
   "metadata": {
    "collapsed": true
   },
   "outputs": [],
   "source": [
    "head(iris %>>% cbinder)"
   ]
  },
  {
   "cell_type": "code",
   "execution_count": null,
   "metadata": {
    "collapsed": true
   },
   "outputs": [],
   "source": [
    "# the unnecessary copies of \"Species\" are unfortunate. Remove them with cpoSelect:\n",
    "selector = mlr:::cpoSelect(type = \"numeric\")\n",
    "cbinder.select = cpoCbind(scaled = selector %>>% scale, pcad = selector %>>% scale.pca, original = NULLCPO)\n",
    "cbinder.select\n",
    "head(iris %>>% cbinder)"
   ]
  },
  {
   "cell_type": "code",
   "execution_count": null,
   "metadata": {
    "collapsed": true
   },
   "outputs": [],
   "source": [
    "# alternatively, we apply the cbinder only to numerical data\n",
    "head(iris %>>% cpoApply(cbinder, affect.type = \"numeric\"))"
   ]
  },
  {
   "cell_type": "markdown",
   "metadata": {},
   "source": [
    "# Builtin CPOs"
   ]
  },
  {
   "cell_type": "markdown",
   "metadata": {},
   "source": [
    "## Listing CPOs\n",
    "Builtin CPOs can be listed with `listCPO()`."
   ]
  },
  {
   "cell_type": "code",
   "execution_count": null,
   "metadata": {
    "collapsed": true,
    "scrolled": false
   },
   "outputs": [],
   "source": [
    "listCPO()"
   ]
  },
  {
   "cell_type": "markdown",
   "metadata": {},
   "source": [
    "## cpoScale\n",
    "Implements the `base::scale` function."
   ]
  },
  {
   "cell_type": "code",
   "execution_count": null,
   "metadata": {
    "collapsed": true
   },
   "outputs": [],
   "source": [
    "df %>>% cpoScale()"
   ]
  },
  {
   "cell_type": "code",
   "execution_count": null,
   "metadata": {
    "collapsed": true
   },
   "outputs": [],
   "source": [
    "df %>>% cpoScale(scale = FALSE)  # center = TRUE"
   ]
  },
  {
   "cell_type": "markdown",
   "metadata": {},
   "source": [
    "## cpoPca\n",
    "Implements `stats::prcomp`. No scaling or centering is performed."
   ]
  },
  {
   "cell_type": "code",
   "execution_count": null,
   "metadata": {
    "collapsed": true
   },
   "outputs": [],
   "source": [
    "df %>>% cpoPca()"
   ]
  },
  {
   "cell_type": "code",
   "execution_count": null,
   "metadata": {
    "collapsed": true,
    "scrolled": true
   },
   "outputs": [],
   "source": [
    "df %>>% cpoPca()"
   ]
  },
  {
   "cell_type": "markdown",
   "metadata": {},
   "source": [
    "## cpoDummyEncode\n",
    "Dummy encoding of factorial variables. Optionally uses the first factor as reference variable."
   ]
  },
  {
   "cell_type": "code",
   "execution_count": null,
   "metadata": {
    "collapsed": true
   },
   "outputs": [],
   "source": [
    "head(iris %>>% cpoDummyEncode())"
   ]
  },
  {
   "cell_type": "code",
   "execution_count": null,
   "metadata": {
    "collapsed": true
   },
   "outputs": [],
   "source": [
    "head(iris %>>% cpoDummyEncode(reference.cat = TRUE))"
   ]
  },
  {
   "cell_type": "markdown",
   "metadata": {},
   "source": [
    "## cpoSelect\n",
    "Select to use only certain columns of a dataset. Select by column index, name, or regex pattern."
   ]
  },
  {
   "cell_type": "code",
   "execution_count": null,
   "metadata": {
    "collapsed": true
   },
   "outputs": [],
   "source": [
    "head(iris %>>% cpoSelect(pattern = \"Width\"))"
   ]
  },
  {
   "cell_type": "code",
   "execution_count": null,
   "metadata": {
    "collapsed": true
   },
   "outputs": [],
   "source": [
    "# selection is additive\n",
    "head(iris %>>% cpoSelect(pattern = \"Width\", type = \"factor\"))"
   ]
  },
  {
   "cell_type": "markdown",
   "metadata": {},
   "source": [
    "## cpoDropConstants\n",
    "Drops constant features or numerics, with variable tolerance"
   ]
  },
  {
   "cell_type": "code",
   "execution_count": null,
   "metadata": {
    "collapsed": true
   },
   "outputs": [],
   "source": [
    "head(iris) %>>% cpoDropConstants()  # drops 'species'\n",
    "head(iris) %>>% cpoDropConstants(abs.tol = 0.2)  # also drops 'Petal.Width'"
   ]
  },
  {
   "cell_type": "markdown",
   "metadata": {},
   "source": [
    "## cpoFixFactors\n",
    "Drops unused factors and makes sure prediction data has the same factor levels as training data."
   ]
  },
  {
   "cell_type": "code",
   "execution_count": null,
   "metadata": {
    "collapsed": true
   },
   "outputs": [],
   "source": [
    "levels(iris$Species)"
   ]
  },
  {
   "cell_type": "code",
   "execution_count": null,
   "metadata": {
    "collapsed": true
   },
   "outputs": [],
   "source": [
    "irisfix = head(iris) %>>% cpoFixFactors()  # Species only has level 'setosa' in train\n",
    "levels(irisfix$Species)"
   ]
  },
  {
   "cell_type": "code",
   "execution_count": null,
   "metadata": {
    "collapsed": true,
    "scrolled": true
   },
   "outputs": [],
   "source": [
    "rf = retrafo(irisfix)\n",
    "iris[c(1, 100, 140), ]\n",
    "iris[c(1, 100, 140), ] %>>% rf"
   ]
  },
  {
   "cell_type": "markdown",
   "metadata": {},
   "source": [
    "## cpoMissingIndicators\n",
    "Creates columns indicating missing data. Most useful in combination with cpoCbind."
   ]
  },
  {
   "cell_type": "code",
   "execution_count": null,
   "metadata": {
    "collapsed": true
   },
   "outputs": [],
   "source": [
    "impdata = df\n",
    "impdata[[1]][1] = NA\n",
    "impdata"
   ]
  },
  {
   "cell_type": "code",
   "execution_count": null,
   "metadata": {
    "collapsed": true,
    "scrolled": true
   },
   "outputs": [],
   "source": [
    "impdata %>>% cpoMissingIndicators()\n",
    "impdata %>>% cpoCbind(NULLCPO, dummy = cpoMissingIndicators())"
   ]
  },
  {
   "cell_type": "markdown",
   "metadata": {},
   "source": [
    "## cpoApplyFun\n",
    "Apply an univariate function to data columns"
   ]
  },
  {
   "cell_type": "code",
   "execution_count": null,
   "metadata": {
    "collapsed": true
   },
   "outputs": [],
   "source": [
    "head(iris %>>% cpoApplyFun(function(x) sqrt(x) - 10, affect.type = \"numeric\"))"
   ]
  },
  {
   "cell_type": "markdown",
   "metadata": {},
   "source": [
    "## cpoAsNumeric\n",
    "Convert (non-numeric) features to numeric"
   ]
  },
  {
   "cell_type": "code",
   "execution_count": null,
   "metadata": {
    "collapsed": true
   },
   "outputs": [],
   "source": [
    "head(iris[sample(nrow(iris), 10), ] %>>% cpoAsNumeric())"
   ]
  },
  {
   "cell_type": "markdown",
   "metadata": {},
   "source": [
    "## cpoCollapseFact\n",
    "Combine low prevalence factors. Set `max.collapsed.class.prevalence` how big the combined factor level may be."
   ]
  },
  {
   "cell_type": "code",
   "execution_count": null,
   "metadata": {
    "collapsed": true
   },
   "outputs": [],
   "source": [
    "iris2 = iris\n",
    "iris2$Species = factor(c(\"a\", \"b\", \"c\", \"b\", \"b\", \"c\", \"b\", \"c\",\n",
    "                        as.character(iris2$Species[-(1:8)])))\n",
    "head(iris2, 10)\n",
    "head(iris2 %>>% cpoCollapseFact(max.collapsed.class.prevalence = 0.2), 10)"
   ]
  },
  {
   "cell_type": "markdown",
   "metadata": {},
   "source": [
    "## cpoModelMatrix\n",
    "Specify which columns get used, and how they are transformed, using a `formula`."
   ]
  },
  {
   "cell_type": "code",
   "execution_count": null,
   "metadata": {
    "collapsed": true
   },
   "outputs": [],
   "source": [
    "head(iris %>>% cpoModelMatrix(~0 + Species:Petal.Width))\n",
    "# use . + ... to retain originals\n",
    "head(iris %>>% cpoModelMatrix(~0 + . + Species:Petal.Width))"
   ]
  },
  {
   "cell_type": "markdown",
   "metadata": {},
   "source": [
    "## cpoScaleRange\n",
    "scale values to a given range"
   ]
  },
  {
   "cell_type": "code",
   "execution_count": null,
   "metadata": {
    "collapsed": true
   },
   "outputs": [],
   "source": [
    "head(iris %>>% cpoScaleRange(-1, 1))"
   ]
  },
  {
   "cell_type": "markdown",
   "metadata": {},
   "source": [
    "## cpoScaleMaxAbs\n",
    "Multiply features to set the maximum absolute value."
   ]
  },
  {
   "cell_type": "code",
   "execution_count": null,
   "metadata": {
    "collapsed": true
   },
   "outputs": [],
   "source": [
    "head(iris %>>% cpoScaleMaxAbs(0.1))"
   ]
  },
  {
   "cell_type": "markdown",
   "metadata": {},
   "source": [
    "## cpoSpatialSign\n",
    "Normalize values row-wise"
   ]
  },
  {
   "cell_type": "code",
   "execution_count": null,
   "metadata": {
    "collapsed": true
   },
   "outputs": [],
   "source": [
    "head(iris %>>% cpoSpatialSign())"
   ]
  },
  {
   "cell_type": "code",
   "execution_count": null,
   "metadata": {
    "collapsed": true
   },
   "outputs": [],
   "source": []
  },
  {
   "cell_type": "markdown",
   "metadata": {},
   "source": [
    "## Imputation\n",
    "There are two *general* and many *specialised* imputation CPOs. The general imputation CPOs have parameters that let them use different imputation methods on different columns. They are a thin wrapper around `mlr`'s `impute()` and `reimpute()` functions. The specialised imputation CPOs each implement exactly one imputation method and are closer to the behaviour of typical CPOs."
   ]
  },
  {
   "cell_type": "markdown",
   "metadata": {},
   "source": [
    "### General Imputation Wrappers\n",
    "`cpoImpute` and `cpoImputeAll` both have parameters very much like `impute()`. The latter assumes that *all* columns of its input is somehow being imputed and can be preprended to a learner to give it the ability to work with missing data. It will, however, throw an error if data is missing after imputation."
   ]
  },
  {
   "cell_type": "code",
   "execution_count": null,
   "metadata": {
    "collapsed": true
   },
   "outputs": [],
   "source": [
    "impdata %>>% cpoImpute(cols = list(a = imputeMedian()))"
   ]
  },
  {
   "cell_type": "code",
   "execution_count": null,
   "metadata": {
    "collapsed": true
   },
   "outputs": [],
   "source": [
    "impdata %>>% cpoImpute(cols = list(b = imputeMedian()))  # NAs remain\n",
    "#impdata %>>% cpoImputeAll(cols = list(b = imputeMedian()))  # error, since NAs remain"
   ]
  },
  {
   "cell_type": "code",
   "execution_count": null,
   "metadata": {
    "collapsed": true
   },
   "outputs": [],
   "source": [
    "missing.task = makeRegrTask(\"missing.task\", impdata, target = \"b\")\n",
    "# the following gives an error, since 'cpoImpute' does not make sure all missings are removed\n",
    "# and hence does not add the 'missings' property.\n",
    "#train(cpoImpute(cols = list(a = imputeMedian())) %>>% makeLearner(\"regr.lm\"), missing.task)\n",
    "# instead, the following works:\n",
    "train(cpoImputeAll(cols = list(a = imputeMedian())) %>>% makeLearner(\"regr.lm\"), missing.task)"
   ]
  },
  {
   "cell_type": "markdown",
   "metadata": {},
   "source": [
    "### Specialised Imputation Wrappers\n",
    "There is one for each imputation method."
   ]
  },
  {
   "cell_type": "code",
   "execution_count": null,
   "metadata": {
    "collapsed": true
   },
   "outputs": [],
   "source": [
    "impdata %>>% cpoImputeConstant(10)"
   ]
  },
  {
   "cell_type": "code",
   "execution_count": null,
   "metadata": {
    "collapsed": true
   },
   "outputs": [],
   "source": [
    "getTaskData(missing.task %>>% cpoImputeMedian())"
   ]
  },
  {
   "cell_type": "code",
   "execution_count": null,
   "metadata": {
    "collapsed": true
   },
   "outputs": [],
   "source": [
    "# The specialised impute CPOs are:\n",
    "listCPO()[listCPO()$category == \"imputation\" & listCPO()$subcategory == \"specialised\",\n",
    "          c(\"name\", \"description\")]"
   ]
  },
  {
   "cell_type": "markdown",
   "metadata": {},
   "source": [
    "## Feature Filtering\n",
    "There is one *general* and many *specialised* feature filtering CPOs. The general filtering CPO, `cpoFilterFeatures`, is a thin wrapper around `filterFeatures` and takes the filtering method as its argument. The specialised CPOs each call a specific filtering method.\n",
    "\n",
    "Most arguments of `filterFeatures` are reflected in the CPOs. The exceptions being:\n",
    "1. for `filterFeatures`, the filter method arguments are given in a list `filter.args`, instead of in `...`\n",
    "2. The argument `fval` was dropped for the specialised filter CPOs.\n",
    "3. The argument `mandatory.feat` was dropped. Use `affect.*` parameters to prevent features from being filtered."
   ]
  },
  {
   "cell_type": "code",
   "execution_count": null,
   "metadata": {
    "collapsed": true
   },
   "outputs": [],
   "source": [
    "head(getTaskData(iris.task %>>% cpoFilterFeatures(method = \"variance\", perc = 0.5)))"
   ]
  },
  {
   "cell_type": "code",
   "execution_count": null,
   "metadata": {
    "collapsed": true
   },
   "outputs": [],
   "source": [
    "head(getTaskData(iris.task %>>% cpoFilterVariance(perc = 0.5)))"
   ]
  },
  {
   "cell_type": "code",
   "execution_count": null,
   "metadata": {
    "collapsed": true
   },
   "outputs": [],
   "source": [
    "# The specialised filter CPOs are:\n",
    "listCPO()[listCPO()$category == \"featurefilter\" & listCPO()$subcategory == \"specialised\",\n",
    "          c(\"name\", \"description\")]"
   ]
  },
  {
   "cell_type": "markdown",
   "metadata": {},
   "source": [
    "# Creating Custom CPOs"
   ]
  },
  {
   "cell_type": "code",
   "execution_count": null,
   "metadata": {
    "collapsed": true
   },
   "outputs": [],
   "source": [
    "names(formals(makeCPO))  # see help(makeCPO) for explanation of arguments"
   ]
  },
  {
   "cell_type": "code",
   "execution_count": null,
   "metadata": {
    "collapsed": true,
    "scrolled": true
   },
   "outputs": [],
   "source": [
    "# an example 'pca' CPO\n",
    "# demonstrates the (object based) \"separate\" CPO API\n",
    "pca = makeCPO(\"pca\",  # name\n",
    "  center = TRUE: logical,  # one logical parameter 'center'\n",
    "  .datasplit= \"numeric\",  # only handle numeric columns\n",
    "  .retrafo.format = \"separate\",  # default, can be omitted\n",
    "  # cpo.trafo is given as a function body. The function head is added\n",
    "  # automatically, containing 'data', 'target', and 'center'\n",
    "  # (since a 'center' parameter was defined)\n",
    "  cpo.trafo = {\n",
    "    pcr = prcomp(as.matrix(data), center = center)\n",
    "    # The following line creates a 'control' object, which will be given\n",
    "    # to retrafo.\n",
    "    control = list(rotation = pcr$rotation, center = pcr$center)\n",
    "    pcr$x  # returning a matrix is ok\n",
    "  # Just like cpo.trafo, cpo.retrafo is a function body, with implicit\n",
    "  # arguments 'data', 'control', and 'center'.\n",
    "  }, cpo.retrafo = {\n",
    "    scale(as.matrix(data), center = control$center, scale = FALSE) %*%\n",
    "      control$rotation\n",
    "  })\n",
    "head(iris %>>% pca())"
   ]
  },
  {
   "cell_type": "code",
   "execution_count": null,
   "metadata": {
    "collapsed": true
   },
   "outputs": [],
   "source": [
    "# an example 'scale' CPO\n",
    "# demonstrates the (functional) \"separate\" CPO API\n",
    "scaleC = makeCPO(\"scale\",\n",
    "  .datasplit = \"numeric\",\n",
    "  # .retrafo.format = \"separate\" is implicit\n",
    "  cpo.trafo = function(data, target) {\n",
    "    result = scale(as.matrix(data))\n",
    "    cpo.retrafo = function(data) {\n",
    "      # here we can use the 'result' object generated in cpo.trafo\n",
    "      scale(as.matrix(data), attr(result, \"scaled:center\"),\n",
    "    attr(result, \"scaled:scale\"))\n",
    "    }\n",
    "    result\n",
    "  }, cpo.retrafo = NULL)\n",
    "head(iris) %>>% scaleC()"
   ]
  },
  {
   "cell_type": "code",
   "execution_count": null,
   "metadata": {
    "collapsed": true
   },
   "outputs": [],
   "source": [
    "# an example constant feature remover CPO\n",
    "# demonstrates the \"combined\" CPO API\n",
    "constFeatRem = makeCPO(\"constFeatRem\",\n",
    "  .datasplit = \"target\",\n",
    "  .retrafo.format = \"combined\",\n",
    "  cpo.trafo = function(data, target) {\n",
    "    cols.keep = names(Filter(function(x) {\n",
    "    length(unique(x)) > 1\n",
    "      }, data))\n",
    "    # the following function will do both the trafo and retrafo\n",
    "    result = function(data) {\n",
    "      data[cols.keep]\n",
    "    }\n",
    "    result\n",
    "  }, cpo.retrafo = NULL)\n",
    "head(iris) %>>% constFeatRem()"
   ]
  },
  {
   "cell_type": "code",
   "execution_count": null,
   "metadata": {
    "collapsed": true
   },
   "outputs": [],
   "source": [
    "\n",
    "# an example 'square' CPO\n",
    "# demonstrates the \"stateless\" CPO API\n",
    "square = makeCPO(\"square\",\n",
    "  .datasplit = \"numeric\",\n",
    "  .retrafo.format = \"stateless\",\n",
    "  cpo.trafo = NULL, # optional, we don't need it since trafo & retrafo same\n",
    "  cpo.retrafo = function(data) {\n",
    "    as.matrix(data) ^ 2\n",
    "  })\n",
    "head(iris) %>>% square()"
   ]
  },
  {
   "cell_type": "markdown",
   "metadata": {
    "collapsed": true
   },
   "source": [
    "# Tuning CPO\n",
    "CPOs export their parameters when attached to a learner. Tuning of CPO-Learners works exactly as tuning for ordinary Learners."
   ]
  },
  {
   "cell_type": "code",
   "execution_count": null,
   "metadata": {
    "collapsed": true
   },
   "outputs": [],
   "source": [
    "(clrn = cpoModelMatrix() %>>% makeLearner(\"classif.logreg\"))\n",
    "getParamSet(clrn)"
   ]
  },
  {
   "cell_type": "code",
   "execution_count": null,
   "metadata": {
    "collapsed": true
   },
   "outputs": [],
   "source": [
    "ps = makeParamSet(\n",
    "    makeDiscreteParam(\n",
    "        \"model.matrix.formula\",\n",
    "        values = list(first = ~0 + ., second = ~0 + .^2, third = ~0 + .^3)))"
   ]
  },
  {
   "cell_type": "code",
   "execution_count": null,
   "metadata": {
    "collapsed": true
   },
   "outputs": [],
   "source": [
    "tuneParams(clrn, pid.task, cv5, par.set = ps,\n",
    "           control = makeTuneControlGrid(),\n",
    "           show.info=TRUE)"
   ]
  },
  {
   "cell_type": "markdown",
   "metadata": {},
   "source": [
    "Tuning of CPOs and tuning of Learners can happen at the same time."
   ]
  },
  {
   "cell_type": "code",
   "execution_count": null,
   "metadata": {
    "collapsed": true
   },
   "outputs": [],
   "source": [
    "tlrn = cpoModelMatrix() %>>%\n",
    "       cpoApply() %>>%\n",
    "       cpoFilterGainRatio() %>>%\n",
    "       makeLearner(\"classif.ctree\")\n",
    "sprintf(\"Parameters: %s\", paste(names(getParamSet(tlrn)$pars), collapse=\", \"))\n",
    "ps2 = makeParamSet(\n",
    "    makeDiscreteParam(\n",
    "        \"model.matrix.formula\",\n",
    "        values = list(first = ~0 + ., second = ~0 + .^2)),\n",
    "    makeDiscreteParam(\n",
    "        \"apply.cpo\",\n",
    "        values = list(nopca = NULLCPO,\n",
    "                      onlypca = cpoPca(),\n",
    "                      addpca = cpoCbind(NULLCPO, cpoPca()))),\n",
    "    makeDiscreteParam(\n",
    "        \"gain.ratio.perc\",\n",
    "        values = list(0.333, 0.667, 1.0)),\n",
    "    makeDiscreteParam(\"teststat\", values = c(\"quad\", \"max\")))\n",
    "    "
   ]
  },
  {
   "cell_type": "code",
   "execution_count": null,
   "metadata": {
    "collapsed": true,
    "scrolled": false
   },
   "outputs": [],
   "source": [
    "# commit a70edb1f makes output unbearably ugly, so suppress it here\n",
    "suppressMessages(suppressWarnings(tuneParams(tlrn, pid.task, cv5, par.set = ps2,\n",
    "           control = makeTuneControlGrid(),\n",
    "           show.info=FALSE)))"
   ]
  },
  {
   "cell_type": "code",
   "execution_count": null,
   "metadata": {
    "collapsed": true
   },
   "outputs": [],
   "source": []
  }
 ],
 "metadata": {
  "kernelspec": {
   "display_name": "R",
   "language": "R",
   "name": "ir"
  },
  "language_info": {
   "codemirror_mode": "r",
   "file_extension": ".r",
   "mimetype": "text/x-r-source",
   "name": "R",
   "pygments_lexer": "r",
   "version": "3.4.1"
  }
 },
 "nbformat": 4,
 "nbformat_minor": 1
}
