{
 "cells": [
  {
   "cell_type": "markdown",
   "metadata": {},
   "source": [
    "# CPO"
   ]
  },
  {
   "cell_type": "code",
   "execution_count": 106,
   "metadata": {
    "collapsed": true
   },
   "outputs": [],
   "source": [
    "library(\"mlr\")"
   ]
  },
  {
   "cell_type": "code",
   "execution_count": 107,
   "metadata": {
    "collapsed": false
   },
   "outputs": [],
   "source": [
    "df = data.frame(a = 1:3, b = -(1:3) * 10)"
   ]
  },
  {
   "cell_type": "markdown",
   "metadata": {},
   "source": [
    "**CPO**s are first-class objects in R that represent data manipulation. They can be combined to form networks of operation, they can be attached to `mlr` `Learner`s, and they have tunable Hyperparameters that influence their behaviour."
   ]
  },
  {
   "cell_type": "markdown",
   "metadata": {},
   "source": [
    "# Lifecycle of a CPO"
   ]
  },
  {
   "cell_type": "markdown",
   "metadata": {},
   "source": [
    "## CPO Constructor"
   ]
  },
  {
   "cell_type": "code",
   "execution_count": 108,
   "metadata": {
    "collapsed": true
   },
   "outputs": [
    {
     "name": "stdout",
     "output_type": "stream",
     "text": [
      "<<CPO pca(center = TRUE, scale = FALSE)>>\n"
     ]
    }
   ],
   "source": [
    "print(cpoPca)  # example CPOConstructor"
   ]
  },
  {
   "cell_type": "code",
   "execution_count": 109,
   "metadata": {
    "collapsed": true
   },
   "outputs": [
    {
     "data": {
      "text/html": [
       "<ol class=list-inline>\n",
       "\t<li>'CPOS3Constructor'</li>\n",
       "\t<li>'CPOConstructor'</li>\n",
       "\t<li>'function'</li>\n",
       "</ol>\n"
      ],
      "text/latex": [
       "\\begin{enumerate*}\n",
       "\\item 'CPOS3Constructor'\n",
       "\\item 'CPOConstructor'\n",
       "\\item 'function'\n",
       "\\end{enumerate*}\n"
      ],
      "text/markdown": [
       "1. 'CPOS3Constructor'\n",
       "2. 'CPOConstructor'\n",
       "3. 'function'\n",
       "\n",
       "\n"
      ],
      "text/plain": [
       "[1] \"CPOS3Constructor\" \"CPOConstructor\"   \"function\"        "
      ]
     },
     "metadata": {},
     "output_type": "display_data"
    }
   ],
   "source": [
    "class(cpoPca)"
   ]
  },
  {
   "cell_type": "markdown",
   "metadata": {},
   "source": [
    "CPO constructors have parameters that\n",
    "* set the CPO Hyperparameters\n",
    "* set the CPO ID (default NULL)\n",
    "* resetrict the data columns a CPO operates on (`affect.*` parameters)"
   ]
  },
  {
   "cell_type": "code",
   "execution_count": 110,
   "metadata": {
    "collapsed": true
   },
   "outputs": [
    {
     "data": {
      "text/html": [
       "<ol class=list-inline>\n",
       "\t<li>'center'</li>\n",
       "\t<li>'scale'</li>\n",
       "\t<li>'id'</li>\n",
       "\t<li>'affect.type'</li>\n",
       "\t<li>'affect.index'</li>\n",
       "\t<li>'affect.names'</li>\n",
       "\t<li>'affect.pattern'</li>\n",
       "\t<li>'affect.invert'</li>\n",
       "\t<li>'affect.pattern.ignore.case'</li>\n",
       "\t<li>'affect.pattern.perl'</li>\n",
       "\t<li>'affect.pattern.fixed'</li>\n",
       "</ol>\n"
      ],
      "text/latex": [
       "\\begin{enumerate*}\n",
       "\\item 'center'\n",
       "\\item 'scale'\n",
       "\\item 'id'\n",
       "\\item 'affect.type'\n",
       "\\item 'affect.index'\n",
       "\\item 'affect.names'\n",
       "\\item 'affect.pattern'\n",
       "\\item 'affect.invert'\n",
       "\\item 'affect.pattern.ignore.case'\n",
       "\\item 'affect.pattern.perl'\n",
       "\\item 'affect.pattern.fixed'\n",
       "\\end{enumerate*}\n"
      ],
      "text/markdown": [
       "1. 'center'\n",
       "2. 'scale'\n",
       "3. 'id'\n",
       "4. 'affect.type'\n",
       "5. 'affect.index'\n",
       "6. 'affect.names'\n",
       "7. 'affect.pattern'\n",
       "8. 'affect.invert'\n",
       "9. 'affect.pattern.ignore.case'\n",
       "10. 'affect.pattern.perl'\n",
       "11. 'affect.pattern.fixed'\n",
       "\n",
       "\n"
      ],
      "text/plain": [
       " [1] \"center\"                     \"scale\"                     \n",
       " [3] \"id\"                         \"affect.type\"               \n",
       " [5] \"affect.index\"               \"affect.names\"              \n",
       " [7] \"affect.pattern\"             \"affect.invert\"             \n",
       " [9] \"affect.pattern.ignore.case\" \"affect.pattern.perl\"       \n",
       "[11] \"affect.pattern.fixed\"      "
      ]
     },
     "metadata": {},
     "output_type": "display_data"
    }
   ],
   "source": [
    "names(formals(cpoPca))"
   ]
  },
  {
   "cell_type": "markdown",
   "metadata": {},
   "source": [
    "## CPO"
   ]
  },
  {
   "cell_type": "code",
   "execution_count": 111,
   "metadata": {
    "collapsed": true
   },
   "outputs": [
    {
     "data": {
      "text/plain": [
       "pca(center = TRUE, scale = FALSE)"
      ]
     },
     "metadata": {},
     "output_type": "display_data"
    }
   ],
   "source": [
    "(cpo = cpoPca()) # construct CPO with default Hyperparameter values"
   ]
  },
  {
   "cell_type": "code",
   "execution_count": 112,
   "metadata": {
    "collapsed": true
   },
   "outputs": [
    {
     "data": {
      "text/html": [
       "<ol class=list-inline>\n",
       "\t<li>'CPOS3Primitive'</li>\n",
       "\t<li>'CPOPrimitive'</li>\n",
       "\t<li>'CPOS3'</li>\n",
       "\t<li>'CPO'</li>\n",
       "</ol>\n"
      ],
      "text/latex": [
       "\\begin{enumerate*}\n",
       "\\item 'CPOS3Primitive'\n",
       "\\item 'CPOPrimitive'\n",
       "\\item 'CPOS3'\n",
       "\\item 'CPO'\n",
       "\\end{enumerate*}\n"
      ],
      "text/markdown": [
       "1. 'CPOS3Primitive'\n",
       "2. 'CPOPrimitive'\n",
       "3. 'CPOS3'\n",
       "4. 'CPO'\n",
       "\n",
       "\n"
      ],
      "text/plain": [
       "[1] \"CPOS3Primitive\" \"CPOPrimitive\"   \"CPOS3\"          \"CPO\"           "
      ]
     },
     "metadata": {},
     "output_type": "display_data"
    }
   ],
   "source": [
    "class(cpo)  # CPOs that are not compound are \"CPOPrimitive\""
   ]
  },
  {
   "cell_type": "code",
   "execution_count": 113,
   "metadata": {
    "collapsed": true
   },
   "outputs": [
    {
     "data": {
      "text/plain": [
       "Retrafo chain of 1 elements:\n",
       "pca(center = TRUE, scale = FALSE)\n",
       "\n",
       "          Type len   Def Constr Req Tunable Trafo\n",
       "center logical   -  TRUE      -   -    TRUE     -\n",
       "scale  logical   - FALSE      -   -    TRUE     -"
      ]
     },
     "metadata": {},
     "output_type": "display_data"
    }
   ],
   "source": [
    "summary(cpo)  # detailed printing"
   ]
  },
  {
   "cell_type": "code",
   "execution_count": 114,
   "metadata": {
    "collapsed": true
   },
   "outputs": [
    {
     "data": {
      "text/plain": [
       "          Type len   Def Constr Req Tunable Trafo\n",
       "center logical   -  TRUE      -   -    TRUE     -\n",
       "scale  logical   - FALSE      -   -    TRUE     -"
      ]
     },
     "metadata": {},
     "output_type": "display_data"
    }
   ],
   "source": [
    "# Functions that work on CPOs:\n",
    "getParamSet(cpo)"
   ]
  },
  {
   "cell_type": "code",
   "execution_count": 115,
   "metadata": {
    "collapsed": true
   },
   "outputs": [
    {
     "data": {
      "text/html": [
       "<dl>\n",
       "\t<dt>$center</dt>\n",
       "\t\t<dd>TRUE</dd>\n",
       "\t<dt>$scale</dt>\n",
       "\t\t<dd>FALSE</dd>\n",
       "</dl>\n"
      ],
      "text/latex": [
       "\\begin{description}\n",
       "\\item[\\$center] TRUE\n",
       "\\item[\\$scale] FALSE\n",
       "\\end{description}\n"
      ],
      "text/markdown": [
       "$center\n",
       ":   TRUE\n",
       "$scale\n",
       ":   FALSE\n",
       "\n",
       "\n"
      ],
      "text/plain": [
       "$center\n",
       "[1] TRUE\n",
       "\n",
       "$scale\n",
       "[1] FALSE\n"
      ]
     },
     "metadata": {},
     "output_type": "display_data"
    }
   ],
   "source": [
    "getHyperPars(cpo)"
   ]
  },
  {
   "cell_type": "code",
   "execution_count": 116,
   "metadata": {
    "collapsed": true
   },
   "outputs": [
    {
     "data": {
      "text/plain": [
       "pca(center = FALSE, scale = FALSE)"
      ]
     },
     "metadata": {},
     "output_type": "display_data"
    }
   ],
   "source": [
    "setHyperPars(cpo, center = FALSE)"
   ]
  },
  {
   "cell_type": "code",
   "execution_count": 117,
   "metadata": {
    "collapsed": true
   },
   "outputs": [
    {
     "data": {
      "text/plain": [
       "NULL"
      ]
     },
     "metadata": {},
     "output_type": "display_data"
    }
   ],
   "source": [
    "getCPOId(cpo)"
   ]
  },
  {
   "cell_type": "code",
   "execution_count": 118,
   "metadata": {
    "collapsed": true
   },
   "outputs": [
    {
     "data": {
      "text/plain": [
       "pca.MYID(MYID.center = TRUE, MYID.scale = FALSE)"
      ]
     },
     "metadata": {},
     "output_type": "display_data"
    }
   ],
   "source": [
    "setCPOId(cpo, \"MYID\")"
   ]
  },
  {
   "cell_type": "code",
   "execution_count": 119,
   "metadata": {
    "collapsed": true
   },
   "outputs": [
    {
     "data": {
      "text/html": [
       "'pca'"
      ],
      "text/latex": [
       "'pca'"
      ],
      "text/markdown": [
       "'pca'"
      ],
      "text/plain": [
       "[1] \"pca\""
      ]
     },
     "metadata": {},
     "output_type": "display_data"
    },
    {
     "data": {
      "text/html": [
       "'pca.MYID'"
      ],
      "text/latex": [
       "'pca.MYID'"
      ],
      "text/markdown": [
       "'pca.MYID'"
      ],
      "text/plain": [
       "[1] \"pca.MYID\""
      ]
     },
     "metadata": {},
     "output_type": "display_data"
    }
   ],
   "source": [
    "getCPOName(cpo)\n",
    "getCPOName(setCPOId(cpo, \"MYID\"))  # the name includes the ID"
   ]
  },
  {
   "cell_type": "code",
   "execution_count": 120,
   "metadata": {
    "collapsed": true
   },
   "outputs": [
    {
     "data": {
      "text/html": [
       "<dl>\n",
       "</dl>\n"
      ],
      "text/latex": [
       "\\begin{description}\n",
       "\\end{description}\n"
      ],
      "text/markdown": [
       "\n",
       "\n"
      ],
      "text/plain": [
       "named list()"
      ]
     },
     "metadata": {},
     "output_type": "display_data"
    },
    {
     "data": {
      "text/html": [
       "<strong>$pattern</strong> = 'Width$'"
      ],
      "text/latex": [
       "\\textbf{\\$pattern} = 'Width\\$'"
      ],
      "text/markdown": [
       "**$pattern** = 'Width$'"
      ],
      "text/plain": [
       "$pattern\n",
       "[1] \"Width$\"\n"
      ]
     },
     "metadata": {},
     "output_type": "display_data"
    }
   ],
   "source": [
    "getCPOAffect(cpo)  # empty, since no affect set\n",
    "getCPOAffect(cpoPca(affect.pattern = \"Width$\"))"
   ]
  },
  {
   "cell_type": "code",
   "execution_count": 121,
   "metadata": {
    "collapsed": true
   },
   "outputs": [
    {
     "data": {
      "text/html": [
       "<dl>\n",
       "\t<dt>$properties</dt>\n",
       "\t\t<dd><ol class=list-inline>\n",
       "\t<li>'numerics'</li>\n",
       "\t<li>'factors'</li>\n",
       "\t<li>'ordered'</li>\n",
       "\t<li>'missings'</li>\n",
       "\t<li>'prob'</li>\n",
       "\t<li>'se'</li>\n",
       "\t<li>'cluster'</li>\n",
       "\t<li>'classif'</li>\n",
       "\t<li>'multilabel'</li>\n",
       "\t<li>'regr'</li>\n",
       "\t<li>'surv'</li>\n",
       "\t<li>'oneclass'</li>\n",
       "\t<li>'twoclass'</li>\n",
       "\t<li>'multiclass'</li>\n",
       "\t<li>'lcens'</li>\n",
       "\t<li>'rcens'</li>\n",
       "\t<li>'icens'</li>\n",
       "</ol>\n",
       "</dd>\n",
       "\t<dt>$properties.data</dt>\n",
       "\t\t<dd><ol class=list-inline>\n",
       "\t<li>'numerics'</li>\n",
       "\t<li>'factors'</li>\n",
       "\t<li>'ordered'</li>\n",
       "\t<li>'missings'</li>\n",
       "\t<li>'prob'</li>\n",
       "\t<li>'se'</li>\n",
       "\t<li>'cluster'</li>\n",
       "\t<li>'classif'</li>\n",
       "\t<li>'multilabel'</li>\n",
       "\t<li>'regr'</li>\n",
       "\t<li>'surv'</li>\n",
       "\t<li>'oneclass'</li>\n",
       "\t<li>'twoclass'</li>\n",
       "\t<li>'multiclass'</li>\n",
       "\t<li>'lcens'</li>\n",
       "\t<li>'rcens'</li>\n",
       "\t<li>'icens'</li>\n",
       "</ol>\n",
       "</dd>\n",
       "\t<dt>$properties.adding</dt>\n",
       "\t\t<dd></dd>\n",
       "\t<dt>$properties.needed</dt>\n",
       "\t\t<dd></dd>\n",
       "</dl>\n"
      ],
      "text/latex": [
       "\\begin{description}\n",
       "\\item[\\$properties] \\begin{enumerate*}\n",
       "\\item 'numerics'\n",
       "\\item 'factors'\n",
       "\\item 'ordered'\n",
       "\\item 'missings'\n",
       "\\item 'prob'\n",
       "\\item 'se'\n",
       "\\item 'cluster'\n",
       "\\item 'classif'\n",
       "\\item 'multilabel'\n",
       "\\item 'regr'\n",
       "\\item 'surv'\n",
       "\\item 'oneclass'\n",
       "\\item 'twoclass'\n",
       "\\item 'multiclass'\n",
       "\\item 'lcens'\n",
       "\\item 'rcens'\n",
       "\\item 'icens'\n",
       "\\end{enumerate*}\n",
       "\n",
       "\\item[\\$properties.data] \\begin{enumerate*}\n",
       "\\item 'numerics'\n",
       "\\item 'factors'\n",
       "\\item 'ordered'\n",
       "\\item 'missings'\n",
       "\\item 'prob'\n",
       "\\item 'se'\n",
       "\\item 'cluster'\n",
       "\\item 'classif'\n",
       "\\item 'multilabel'\n",
       "\\item 'regr'\n",
       "\\item 'surv'\n",
       "\\item 'oneclass'\n",
       "\\item 'twoclass'\n",
       "\\item 'multiclass'\n",
       "\\item 'lcens'\n",
       "\\item 'rcens'\n",
       "\\item 'icens'\n",
       "\\end{enumerate*}\n",
       "\n",
       "\\item[\\$properties.adding] \n",
       "\\item[\\$properties.needed] \n",
       "\\end{description}\n"
      ],
      "text/markdown": [
       "$properties\n",
       ":   1. 'numerics'\n",
       "2. 'factors'\n",
       "3. 'ordered'\n",
       "4. 'missings'\n",
       "5. 'prob'\n",
       "6. 'se'\n",
       "7. 'cluster'\n",
       "8. 'classif'\n",
       "9. 'multilabel'\n",
       "10. 'regr'\n",
       "11. 'surv'\n",
       "12. 'oneclass'\n",
       "13. 'twoclass'\n",
       "14. 'multiclass'\n",
       "15. 'lcens'\n",
       "16. 'rcens'\n",
       "17. 'icens'\n",
       "\n",
       "\n",
       "\n",
       "$properties.data\n",
       ":   1. 'numerics'\n",
       "2. 'factors'\n",
       "3. 'ordered'\n",
       "4. 'missings'\n",
       "5. 'prob'\n",
       "6. 'se'\n",
       "7. 'cluster'\n",
       "8. 'classif'\n",
       "9. 'multilabel'\n",
       "10. 'regr'\n",
       "11. 'surv'\n",
       "12. 'oneclass'\n",
       "13. 'twoclass'\n",
       "14. 'multiclass'\n",
       "15. 'lcens'\n",
       "16. 'rcens'\n",
       "17. 'icens'\n",
       "\n",
       "\n",
       "\n",
       "$properties.adding\n",
       ":   \n",
       "$properties.needed\n",
       ":   \n",
       "\n",
       "\n"
      ],
      "text/plain": [
       "$properties\n",
       " [1] \"numerics\"   \"factors\"    \"ordered\"    \"missings\"   \"prob\"      \n",
       " [6] \"se\"         \"cluster\"    \"classif\"    \"multilabel\" \"regr\"      \n",
       "[11] \"surv\"       \"oneclass\"   \"twoclass\"   \"multiclass\" \"lcens\"     \n",
       "[16] \"rcens\"      \"icens\"     \n",
       "\n",
       "$properties.data\n",
       " [1] \"numerics\"   \"factors\"    \"ordered\"    \"missings\"   \"prob\"      \n",
       " [6] \"se\"         \"cluster\"    \"classif\"    \"multilabel\" \"regr\"      \n",
       "[11] \"surv\"       \"oneclass\"   \"twoclass\"   \"multiclass\" \"lcens\"     \n",
       "[16] \"rcens\"      \"icens\"     \n",
       "\n",
       "$properties.adding\n",
       "character(0)\n",
       "\n",
       "$properties.needed\n",
       "character(0)\n"
      ]
     },
     "metadata": {},
     "output_type": "display_data"
    }
   ],
   "source": [
    "getCPOProperties(cpo)  # see properties explanation below"
   ]
  },
  {
   "cell_type": "code",
   "execution_count": 122,
   "metadata": {
    "collapsed": true
   },
   "outputs": [
    {
     "data": {
      "text/html": [
       "'trafo'"
      ],
      "text/latex": [
       "'trafo'"
      ],
      "text/markdown": [
       "'trafo'"
      ],
      "text/plain": [
       "[1] \"trafo\""
      ]
     },
     "metadata": {},
     "output_type": "display_data"
    },
    {
     "data": {
      "text/html": [
       "'databound'"
      ],
      "text/latex": [
       "'databound'"
      ],
      "text/markdown": [
       "'databound'"
      ],
      "text/plain": [
       "[1] \"databound\""
      ]
     },
     "metadata": {},
     "output_type": "display_data"
    }
   ],
   "source": [
    "getCPOKind(cpo)  # trafo, retrafo, inverter\n",
    "getCPOBound(cpo)  # databound, targetbound, both"
   ]
  },
  {
   "cell_type": "markdown",
   "metadata": {},
   "source": [
    "### CPO Application using %>>%\n",
    "`CPO`s can be applied to `data.frame` and `Task` objects."
   ]
  },
  {
   "cell_type": "code",
   "execution_count": 123,
   "metadata": {
    "collapsed": true
   },
   "outputs": [
    {
     "data": {
      "text/html": [
       "<table>\n",
       "<thead><tr><th scope=col>Species</th><th scope=col>PC1</th><th scope=col>PC2</th><th scope=col>PC3</th><th scope=col>PC4</th></tr></thead>\n",
       "<tbody>\n",
       "\t<tr><td>setosa       </td><td>-0.1634147   </td><td> 0.017230444 </td><td>-0.11038321  </td><td>-0.0231625616</td></tr>\n",
       "\t<tr><td>setosa       </td><td> 0.3324970   </td><td>-0.189351624 </td><td>-0.08152883  </td><td> 0.0005612917</td></tr>\n",
       "\t<tr><td>setosa       </td><td> 0.3268659   </td><td> 0.101103375 </td><td>-0.02238439  </td><td> 0.0464537730</td></tr>\n",
       "\t<tr><td>setosa       </td><td> 0.4202367   </td><td> 0.005523981 </td><td> 0.17106514  </td><td>-0.0222757931</td></tr>\n",
       "\t<tr><td>setosa       </td><td>-0.1768684   </td><td> 0.140149101 </td><td>-0.04185224  </td><td>-0.0194870755</td></tr>\n",
       "\t<tr><td>setosa       </td><td>-0.7393165   </td><td>-0.074655279 </td><td> 0.08508352  </td><td> 0.0179103657</td></tr>\n",
       "</tbody>\n",
       "</table>\n"
      ],
      "text/latex": [
       "\\begin{tabular}{r|lllll}\n",
       " Species & PC1 & PC2 & PC3 & PC4\\\\\n",
       "\\hline\n",
       "\t setosa        & -0.1634147    &  0.017230444  & -0.11038321   & -0.0231625616\\\\\n",
       "\t setosa        &  0.3324970    & -0.189351624  & -0.08152883   &  0.0005612917\\\\\n",
       "\t setosa        &  0.3268659    &  0.101103375  & -0.02238439   &  0.0464537730\\\\\n",
       "\t setosa        &  0.4202367    &  0.005523981  &  0.17106514   & -0.0222757931\\\\\n",
       "\t setosa        & -0.1768684    &  0.140149101  & -0.04185224   & -0.0194870755\\\\\n",
       "\t setosa        & -0.7393165    & -0.074655279  &  0.08508352   &  0.0179103657\\\\\n",
       "\\end{tabular}\n"
      ],
      "text/markdown": [
       "\n",
       "Species | PC1 | PC2 | PC3 | PC4 | \n",
       "|---|---|---|---|---|---|\n",
       "| setosa        | -0.1634147    |  0.017230444  | -0.11038321   | -0.0231625616 | \n",
       "| setosa        |  0.3324970    | -0.189351624  | -0.08152883   |  0.0005612917 | \n",
       "| setosa        |  0.3268659    |  0.101103375  | -0.02238439   |  0.0464537730 | \n",
       "| setosa        |  0.4202367    |  0.005523981  |  0.17106514   | -0.0222757931 | \n",
       "| setosa        | -0.1768684    |  0.140149101  | -0.04185224   | -0.0194870755 | \n",
       "| setosa        | -0.7393165    | -0.074655279  |  0.08508352   |  0.0179103657 | \n",
       "\n",
       "\n"
      ],
      "text/plain": [
       "  Species PC1        PC2          PC3         PC4          \n",
       "1 setosa  -0.1634147  0.017230444 -0.11038321 -0.0231625616\n",
       "2 setosa   0.3324970 -0.189351624 -0.08152883  0.0005612917\n",
       "3 setosa   0.3268659  0.101103375 -0.02238439  0.0464537730\n",
       "4 setosa   0.4202367  0.005523981  0.17106514 -0.0222757931\n",
       "5 setosa  -0.1768684  0.140149101 -0.04185224 -0.0194870755\n",
       "6 setosa  -0.7393165 -0.074655279  0.08508352  0.0179103657"
      ]
     },
     "metadata": {},
     "output_type": "display_data"
    },
    {
     "data": {
      "text/html": [
       "<table>\n",
       "<thead><tr><th scope=col>Species</th><th scope=col>PC1</th><th scope=col>PC2</th><th scope=col>PC3</th><th scope=col>PC4</th></tr></thead>\n",
       "<tbody>\n",
       "\t<tr><td>setosa      </td><td>-2.684126   </td><td>-0.3193972  </td><td> 0.02791483 </td><td> 0.002262437</td></tr>\n",
       "\t<tr><td>setosa      </td><td>-2.714142   </td><td> 0.1770012  </td><td> 0.21046427 </td><td> 0.099026550</td></tr>\n",
       "\t<tr><td>setosa      </td><td>-2.888991   </td><td> 0.1449494  </td><td>-0.01790026 </td><td> 0.019968390</td></tr>\n",
       "\t<tr><td>setosa      </td><td>-2.745343   </td><td> 0.3182990  </td><td>-0.03155937 </td><td>-0.075575817</td></tr>\n",
       "\t<tr><td>setosa      </td><td>-2.728717   </td><td>-0.3267545  </td><td>-0.09007924 </td><td>-0.061258593</td></tr>\n",
       "\t<tr><td>setosa      </td><td>-2.280860   </td><td>-0.7413304  </td><td>-0.16867766 </td><td>-0.024200858</td></tr>\n",
       "</tbody>\n",
       "</table>\n"
      ],
      "text/latex": [
       "\\begin{tabular}{r|lllll}\n",
       " Species & PC1 & PC2 & PC3 & PC4\\\\\n",
       "\\hline\n",
       "\t setosa       & -2.684126    & -0.3193972   &  0.02791483  &  0.002262437\\\\\n",
       "\t setosa       & -2.714142    &  0.1770012   &  0.21046427  &  0.099026550\\\\\n",
       "\t setosa       & -2.888991    &  0.1449494   & -0.01790026  &  0.019968390\\\\\n",
       "\t setosa       & -2.745343    &  0.3182990   & -0.03155937  & -0.075575817\\\\\n",
       "\t setosa       & -2.728717    & -0.3267545   & -0.09007924  & -0.061258593\\\\\n",
       "\t setosa       & -2.280860    & -0.7413304   & -0.16867766  & -0.024200858\\\\\n",
       "\\end{tabular}\n"
      ],
      "text/markdown": [
       "\n",
       "Species | PC1 | PC2 | PC3 | PC4 | \n",
       "|---|---|---|---|---|---|\n",
       "| setosa       | -2.684126    | -0.3193972   |  0.02791483  |  0.002262437 | \n",
       "| setosa       | -2.714142    |  0.1770012   |  0.21046427  |  0.099026550 | \n",
       "| setosa       | -2.888991    |  0.1449494   | -0.01790026  |  0.019968390 | \n",
       "| setosa       | -2.745343    |  0.3182990   | -0.03155937  | -0.075575817 | \n",
       "| setosa       | -2.728717    | -0.3267545   | -0.09007924  | -0.061258593 | \n",
       "| setosa       | -2.280860    | -0.7413304   | -0.16867766  | -0.024200858 | \n",
       "\n",
       "\n"
      ],
      "text/plain": [
       "  Species PC1       PC2        PC3         PC4         \n",
       "1 setosa  -2.684126 -0.3193972  0.02791483  0.002262437\n",
       "2 setosa  -2.714142  0.1770012  0.21046427  0.099026550\n",
       "3 setosa  -2.888991  0.1449494 -0.01790026  0.019968390\n",
       "4 setosa  -2.745343  0.3182990 -0.03155937 -0.075575817\n",
       "5 setosa  -2.728717 -0.3267545 -0.09007924 -0.061258593\n",
       "6 setosa  -2.280860 -0.7413304 -0.16867766 -0.024200858"
      ]
     },
     "metadata": {},
     "output_type": "display_data"
    }
   ],
   "source": [
    "head(iris) %>>% cpoPca()\n",
    "head(getTaskData(iris.task %>>% cpoPca()))"
   ]
  },
  {
   "cell_type": "markdown",
   "metadata": {},
   "source": [
    "### CPO Composition using %>>%\n",
    "`CPO` composition results in a new CPO which mostly behaves like a primitive CPO. Exceptions are:\n",
    "* Compound CPOs have no `id`\n",
    "* Affect of compound CPOs cannot be retrieved"
   ]
  },
  {
   "cell_type": "code",
   "execution_count": 124,
   "metadata": {
    "collapsed": false
   },
   "outputs": [],
   "source": [
    "pca = cpoPca(center = FALSE, scale = FALSE)\n",
    "scale = cpoScale()\n",
    "# pca %>>% scale  # error! parameters 'center' and 'scale' occur in both\n",
    "compound = setCPOId(pca, \"pca\") %>>% setCPOId(scale, \"scale\")"
   ]
  },
  {
   "cell_type": "code",
   "execution_count": 125,
   "metadata": {
    "collapsed": true
   },
   "outputs": [
    {
     "data": {
      "text/plain": [
       "(pca.pca >> scale.scale)(pca.center = FALSE, pca.scale = FALSE, scale.center = TRUE, scale.scale = TRUE)"
      ]
     },
     "metadata": {},
     "output_type": "display_data"
    }
   ],
   "source": [
    "compound"
   ]
  },
  {
   "cell_type": "code",
   "execution_count": 126,
   "metadata": {
    "collapsed": true
   },
   "outputs": [
    {
     "data": {
      "text/html": [
       "<ol class=list-inline>\n",
       "\t<li>'CPOS3Tree'</li>\n",
       "\t<li>'CPOS3'</li>\n",
       "\t<li>'CPO'</li>\n",
       "</ol>\n"
      ],
      "text/latex": [
       "\\begin{enumerate*}\n",
       "\\item 'CPOS3Tree'\n",
       "\\item 'CPOS3'\n",
       "\\item 'CPO'\n",
       "\\end{enumerate*}\n"
      ],
      "text/markdown": [
       "1. 'CPOS3Tree'\n",
       "2. 'CPOS3'\n",
       "3. 'CPO'\n",
       "\n",
       "\n"
      ],
      "text/plain": [
       "[1] \"CPOS3Tree\" \"CPOS3\"     \"CPO\"      "
      ]
     },
     "metadata": {},
     "output_type": "display_data"
    }
   ],
   "source": [
    "class(compound)"
   ]
  },
  {
   "cell_type": "code",
   "execution_count": 127,
   "metadata": {
    "collapsed": true
   },
   "outputs": [
    {
     "data": {
      "text/plain": [
       "Retrafo chain of 2 elements:\n",
       "pca.pca(pca.center = FALSE, pca.scale = FALSE)\n",
       "\n",
       "              Type len   Def Constr Req Tunable Trafo\n",
       "pca.center logical   -  TRUE      -   -    TRUE     -\n",
       "pca.scale  logical   - FALSE      -   -    TRUE     -\n",
       "  ====>\n",
       "scale.scale(scale.center = TRUE, scale.scale = TRUE)\n",
       "\n",
       "                Type len  Def Constr Req Tunable Trafo\n",
       "scale.center logical   - TRUE      -   -    TRUE     -\n",
       "scale.scale  logical   - TRUE      -   -    TRUE     -"
      ]
     },
     "metadata": {},
     "output_type": "display_data"
    }
   ],
   "source": [
    "summary(compound)"
   ]
  },
  {
   "cell_type": "code",
   "execution_count": 128,
   "metadata": {
    "collapsed": true
   },
   "outputs": [
    {
     "data": {
      "text/html": [
       "'pca.pca &gt;&gt; scale.scale'"
      ],
      "text/latex": [
       "'pca.pca >> scale.scale'"
      ],
      "text/markdown": [
       "'pca.pca &gt;&gt; scale.scale'"
      ],
      "text/plain": [
       "[1] \"pca.pca >> scale.scale\""
      ]
     },
     "metadata": {},
     "output_type": "display_data"
    }
   ],
   "source": [
    "getCPOName(compound)"
   ]
  },
  {
   "cell_type": "code",
   "execution_count": 129,
   "metadata": {
    "collapsed": true
   },
   "outputs": [
    {
     "ename": "ERROR",
     "evalue": "Error in getCPOId.CPO(compound): Compound CPOs have no IDs.\n",
     "output_type": "error",
     "traceback": [
      "Error in getCPOId.CPO(compound): Compound CPOs have no IDs.\nTraceback:\n",
      "1. getCPOId(compound)",
      "2. getCPOId.CPO(compound)",
      "3. stop(\"Compound CPOs have no IDs.\")"
     ]
    }
   ],
   "source": [
    "getCPOId(compound)  # error: no ID for compound CPOs\n",
    "getCPOAffect(compound)  # error: no affect for compound CPOs"
   ]
  },
  {
   "cell_type": "code",
   "execution_count": 130,
   "metadata": {
    "collapsed": true
   },
   "outputs": [
    {
     "data": {
      "text/plain": [
       "                Type len   Def Constr Req Tunable Trafo\n",
       "pca.center   logical   -  TRUE      -   -    TRUE     -\n",
       "pca.scale    logical   - FALSE      -   -    TRUE     -\n",
       "scale.center logical   -  TRUE      -   -    TRUE     -\n",
       "scale.scale  logical   -  TRUE      -   -    TRUE     -"
      ]
     },
     "metadata": {},
     "output_type": "display_data"
    }
   ],
   "source": [
    "getParamSet(compound)"
   ]
  },
  {
   "cell_type": "code",
   "execution_count": 131,
   "metadata": {
    "collapsed": true
   },
   "outputs": [
    {
     "data": {
      "text/html": [
       "<dl>\n",
       "\t<dt>$pca.center</dt>\n",
       "\t\t<dd>FALSE</dd>\n",
       "\t<dt>$pca.scale</dt>\n",
       "\t\t<dd>FALSE</dd>\n",
       "\t<dt>$scale.center</dt>\n",
       "\t\t<dd>TRUE</dd>\n",
       "\t<dt>$scale.scale</dt>\n",
       "\t\t<dd>TRUE</dd>\n",
       "</dl>\n"
      ],
      "text/latex": [
       "\\begin{description}\n",
       "\\item[\\$pca.center] FALSE\n",
       "\\item[\\$pca.scale] FALSE\n",
       "\\item[\\$scale.center] TRUE\n",
       "\\item[\\$scale.scale] TRUE\n",
       "\\end{description}\n"
      ],
      "text/markdown": [
       "$pca.center\n",
       ":   FALSE\n",
       "$pca.scale\n",
       ":   FALSE\n",
       "$scale.center\n",
       ":   TRUE\n",
       "$scale.scale\n",
       ":   TRUE\n",
       "\n",
       "\n"
      ],
      "text/plain": [
       "$pca.center\n",
       "[1] FALSE\n",
       "\n",
       "$pca.scale\n",
       "[1] FALSE\n",
       "\n",
       "$scale.center\n",
       "[1] TRUE\n",
       "\n",
       "$scale.scale\n",
       "[1] TRUE\n"
      ]
     },
     "metadata": {},
     "output_type": "display_data"
    }
   ],
   "source": [
    "getHyperPars(compound)"
   ]
  },
  {
   "cell_type": "code",
   "execution_count": 132,
   "metadata": {
    "collapsed": true
   },
   "outputs": [
    {
     "data": {
      "text/plain": [
       "(pca.pca >> scale.scale)(pca.center = TRUE, pca.scale = FALSE, scale.center = TRUE, scale.scale = TRUE)"
      ]
     },
     "metadata": {},
     "output_type": "display_data"
    }
   ],
   "source": [
    "setHyperPars(compound, pca.center = TRUE, scale.center = TRUE)"
   ]
  },
  {
   "cell_type": "markdown",
   "metadata": {},
   "source": [
    "### Compound CPO decomposition, CPO chaining"
   ]
  },
  {
   "cell_type": "code",
   "execution_count": 133,
   "metadata": {
    "collapsed": true
   },
   "outputs": [
    {
     "data": {
      "text/plain": [
       "[[1]]\n",
       "pca.pca(pca.center = FALSE, pca.scale = FALSE)\n",
       "\n",
       "[[2]]\n",
       "scale.scale(scale.center = TRUE, scale.scale = TRUE)\n"
      ]
     },
     "metadata": {},
     "output_type": "display_data"
    }
   ],
   "source": [
    "as.list(compound)"
   ]
  },
  {
   "cell_type": "code",
   "execution_count": 134,
   "metadata": {
    "collapsed": true
   },
   "outputs": [
    {
     "data": {
      "text/plain": [
       "(pca.pca >> scale.scale)(pca.center = FALSE, pca.scale = FALSE, scale.center = TRUE, scale.scale = TRUE)"
      ]
     },
     "metadata": {},
     "output_type": "display_data"
    }
   ],
   "source": [
    "chainCPO(as.list(compound))  # chainCPO: list CPO -> CPO"
   ]
  },
  {
   "cell_type": "markdown",
   "metadata": {},
   "source": [
    "### CPO - Learner attachment using %>>%"
   ]
  },
  {
   "cell_type": "code",
   "execution_count": 135,
   "metadata": {
    "collapsed": true
   },
   "outputs": [],
   "source": [
    "lrn = makeLearner(\"classif.logreg\")"
   ]
  },
  {
   "cell_type": "code",
   "execution_count": 136,
   "metadata": {
    "collapsed": true
   },
   "outputs": [
    {
     "data": {
      "text/plain": [
       "Learner classif.logreg.pca from package stats\n",
       "Type: classif\n",
       "Name: ; Short name: \n",
       "Class: CPOS3Learner\n",
       "Properties: numerics,factors,prob,twoclass\n",
       "Predict-Type: response\n",
       "Hyperparameters: model=FALSE,center=TRUE,scale=FALSE\n"
      ]
     },
     "metadata": {},
     "output_type": "display_data"
    }
   ],
   "source": [
    "(cpolrn = cpo %>>% lrn)  # the new learner has the CPO hyperparameters"
   ]
  },
  {
   "cell_type": "code",
   "execution_count": 137,
   "metadata": {
    "collapsed": true
   },
   "outputs": [
    {
     "data": {
      "text/plain": [
       "Learner classif.logreg.scale.pca from package stats\n",
       "Type: classif\n",
       "Name: ; Short name: \n",
       "Class: CPOS3Learner\n",
       "Properties: numerics,factors,prob,twoclass\n",
       "Predict-Type: response\n",
       "Hyperparameters: model=FALSE,pca.center=FALSE,pca.scale=FALSE,scale.center=TRUE,scale.scale=TRUE\n"
      ]
     },
     "metadata": {},
     "output_type": "display_data"
    }
   ],
   "source": [
    "compound %>>% lrn  # attaching compound CPO"
   ]
  },
  {
   "cell_type": "code",
   "execution_count": 138,
   "metadata": {
    "collapsed": true
   },
   "outputs": [
    {
     "data": {
      "text/plain": [
       "pca(center = TRUE, scale = FALSE)"
      ]
     },
     "metadata": {},
     "output_type": "display_data"
    },
    {
     "data": {
      "text/plain": [
       "Learner classif.logreg from package stats\n",
       "Type: classif\n",
       "Name: Logistic Regression; Short name: logreg\n",
       "Class: classif.logreg\n",
       "Properties: twoclass,numerics,factors,prob,weights\n",
       "Predict-Type: response\n",
       "Hyperparameters: model=FALSE\n"
      ]
     },
     "metadata": {},
     "output_type": "display_data"
    }
   ],
   "source": [
    "# CPO learner decomposition\n",
    "getLearnerCPO(cpolrn)  # the CPO\n",
    "getLearnerBare(cpolrn)  # the Learner"
   ]
  },
  {
   "cell_type": "markdown",
   "metadata": {},
   "source": [
    "## Retrafo\n",
    "CPOs perform data-dependent operation. However, when this operation becomes part of a machine-learning process, the operation on predict-data must depend only on the training data.\n",
    "\n",
    "The `Retrafo` object represents the re-application of a trained CPO"
   ]
  },
  {
   "cell_type": "code",
   "execution_count": 139,
   "metadata": {
    "collapsed": true
   },
   "outputs": [
    {
     "data": {
      "text/html": [
       "<table>\n",
       "<thead><tr><th scope=col>Species</th><th scope=col>PC1</th><th scope=col>PC2</th><th scope=col>PC3</th><th scope=col>PC4</th></tr></thead>\n",
       "<tbody>\n",
       "\t<tr><td>setosa      </td><td>-2.684126   </td><td>-0.3193972  </td><td> 0.02791483 </td><td> 0.002262437</td></tr>\n",
       "\t<tr><td>setosa      </td><td>-2.714142   </td><td> 0.1770012  </td><td> 0.21046427 </td><td> 0.099026550</td></tr>\n",
       "\t<tr><td>setosa      </td><td>-2.888991   </td><td> 0.1449494  </td><td>-0.01790026 </td><td> 0.019968390</td></tr>\n",
       "\t<tr><td>setosa      </td><td>-2.745343   </td><td> 0.3182990  </td><td>-0.03155937 </td><td>-0.075575817</td></tr>\n",
       "\t<tr><td>setosa      </td><td>-2.728717   </td><td>-0.3267545  </td><td>-0.09007924 </td><td>-0.061258593</td></tr>\n",
       "\t<tr><td>setosa      </td><td>-2.280860   </td><td>-0.7413304  </td><td>-0.16867766 </td><td>-0.024200858</td></tr>\n",
       "</tbody>\n",
       "</table>\n"
      ],
      "text/latex": [
       "\\begin{tabular}{r|lllll}\n",
       " Species & PC1 & PC2 & PC3 & PC4\\\\\n",
       "\\hline\n",
       "\t setosa       & -2.684126    & -0.3193972   &  0.02791483  &  0.002262437\\\\\n",
       "\t setosa       & -2.714142    &  0.1770012   &  0.21046427  &  0.099026550\\\\\n",
       "\t setosa       & -2.888991    &  0.1449494   & -0.01790026  &  0.019968390\\\\\n",
       "\t setosa       & -2.745343    &  0.3182990   & -0.03155937  & -0.075575817\\\\\n",
       "\t setosa       & -2.728717    & -0.3267545   & -0.09007924  & -0.061258593\\\\\n",
       "\t setosa       & -2.280860    & -0.7413304   & -0.16867766  & -0.024200858\\\\\n",
       "\\end{tabular}\n"
      ],
      "text/markdown": [
       "\n",
       "Species | PC1 | PC2 | PC3 | PC4 | \n",
       "|---|---|---|---|---|---|\n",
       "| setosa       | -2.684126    | -0.3193972   |  0.02791483  |  0.002262437 | \n",
       "| setosa       | -2.714142    |  0.1770012   |  0.21046427  |  0.099026550 | \n",
       "| setosa       | -2.888991    |  0.1449494   | -0.01790026  |  0.019968390 | \n",
       "| setosa       | -2.745343    |  0.3182990   | -0.03155937  | -0.075575817 | \n",
       "| setosa       | -2.728717    | -0.3267545   | -0.09007924  | -0.061258593 | \n",
       "| setosa       | -2.280860    | -0.7413304   | -0.16867766  | -0.024200858 | \n",
       "\n",
       "\n"
      ],
      "text/plain": [
       "  Species PC1       PC2        PC3         PC4         \n",
       "1 setosa  -2.684126 -0.3193972  0.02791483  0.002262437\n",
       "2 setosa  -2.714142  0.1770012  0.21046427  0.099026550\n",
       "3 setosa  -2.888991  0.1449494 -0.01790026  0.019968390\n",
       "4 setosa  -2.745343  0.3182990 -0.03155937 -0.075575817\n",
       "5 setosa  -2.728717 -0.3267545 -0.09007924 -0.061258593\n",
       "6 setosa  -2.280860 -0.7413304 -0.16867766 -0.024200858"
      ]
     },
     "metadata": {},
     "output_type": "display_data"
    }
   ],
   "source": [
    "transformed = iris %>>% cpo\n",
    "head(transformed)"
   ]
  },
  {
   "cell_type": "code",
   "execution_count": 140,
   "metadata": {
    "collapsed": true
   },
   "outputs": [
    {
     "data": {
      "text/plain": [
       "CPO Retrafo chain\n",
       "[RETRAFO pca(center = TRUE, scale = FALSE)]"
      ]
     },
     "metadata": {},
     "output_type": "display_data"
    }
   ],
   "source": [
    "retrafo(transformed)"
   ]
  },
  {
   "cell_type": "code",
   "execution_count": 141,
   "metadata": {
    "collapsed": true
   },
   "outputs": [
    {
     "data": {
      "text/plain": [
       "$names\n",
       "[1] \"Species\" \"PC1\"     \"PC2\"     \"PC3\"     \"PC4\"    \n",
       "\n",
       "$row.names\n",
       "  [1]   1   2   3   4   5   6   7   8   9  10  11  12  13  14  15  16  17  18\n",
       " [19]  19  20  21  22  23  24  25  26  27  28  29  30  31  32  33  34  35  36\n",
       " [37]  37  38  39  40  41  42  43  44  45  46  47  48  49  50  51  52  53  54\n",
       " [55]  55  56  57  58  59  60  61  62  63  64  65  66  67  68  69  70  71  72\n",
       " [73]  73  74  75  76  77  78  79  80  81  82  83  84  85  86  87  88  89  90\n",
       " [91]  91  92  93  94  95  96  97  98  99 100 101 102 103 104 105 106 107 108\n",
       "[109] 109 110 111 112 113 114 115 116 117 118 119 120 121 122 123 124 125 126\n",
       "[127] 127 128 129 130 131 132 133 134 135 136 137 138 139 140 141 142 143 144\n",
       "[145] 145 146 147 148 149 150\n",
       "\n",
       "$class\n",
       "[1] \"data.frame\"\n",
       "\n",
       "$retrafo\n",
       "CPO Retrafo chain\n",
       "[RETRAFO pca(center = TRUE, scale = FALSE)]\n"
      ]
     },
     "metadata": {},
     "output_type": "display_data"
    }
   ],
   "source": [
    "# retrafos are stored as attributes\n",
    "attributes(transformed)"
   ]
  },
  {
   "cell_type": "markdown",
   "metadata": {},
   "source": [
    "### Retrafo Inspection\n",
    "`Retrafo` objects can be inspected using `getRetrafoState`. The state contains the hyperparameters, the `control` object (CPO dependent data representing the data information needed to re-apply the operation), and information about the `Task` / `data.frame` layout used for training (column names, column types) in `data$shapeinfo.input` and `data$shapeinfo.output`.\n",
    "\n",
    "The state can be manipulated and used to create new `Retrafo`s, using `makeRetrafoFromState`."
   ]
  },
  {
   "cell_type": "code",
   "execution_count": 142,
   "metadata": {
    "collapsed": true
   },
   "outputs": [
    {
     "data": {
      "text/plain": [
       "$center\n",
       "[1] TRUE\n",
       "\n",
       "$scale\n",
       "[1] TRUE\n",
       "\n",
       "$control\n",
       "$control$center\n",
       "Sepal.Length  Sepal.Width Petal.Length  Petal.Width \n",
       "    5.843333     3.057333     3.758000     1.199333 \n",
       "\n",
       "$control$scale\n",
       "Sepal.Length  Sepal.Width Petal.Length  Petal.Width \n",
       "   0.8280661    0.4358663    1.7652982    0.7622377 \n",
       "\n",
       "\n",
       "$data\n",
       "$data$shapeinfo.input\n",
       "<ShapeInfo (input) Sepal.Length: num, Sepal.Width: num, Petal.Length: num, Petal.Width: num, Species: fac>\n",
       "\n",
       "$data$shapeinfo.output\n",
       "<ShapeInfo (output)>:\n",
       "numeric:\n",
       "<ShapeInfo Sepal.Length: num, Sepal.Width: num, Petal.Length: num, Petal.Width: num>\n",
       "factor:\n",
       "<ShapeInfo Species: fac>\n",
       "other:\n",
       "<ShapeInfo (empty)>\n",
       "\n"
      ]
     },
     "metadata": {},
     "output_type": "display_data"
    }
   ],
   "source": [
    "(state = getRetrafoState(retrafo(iris %>>% cpoScale())))"
   ]
  },
  {
   "cell_type": "code",
   "execution_count": 143,
   "metadata": {
    "collapsed": true
   },
   "outputs": [
    {
     "data": {
      "text/html": [
       "<table>\n",
       "<thead><tr><th scope=col>Sepal.Length</th><th scope=col>Sepal.Width</th><th scope=col>Petal.Length</th><th scope=col>Petal.Width</th><th scope=col>Species</th></tr></thead>\n",
       "<tbody>\n",
       "\t<tr><td>-1201.474  </td><td> 1.01560199</td><td>-1.335752  </td><td>-1.311052  </td><td>setosa     </td></tr>\n",
       "\t<tr><td>-1201.716  </td><td>-0.13153881</td><td>-1.335752  </td><td>-1.311052  </td><td>setosa     </td></tr>\n",
       "\t<tr><td>-1201.957  </td><td> 0.32731751</td><td>-1.392399  </td><td>-1.311052  </td><td>setosa     </td></tr>\n",
       "\t<tr><td>-1202.078  </td><td> 0.09788935</td><td>-1.279104  </td><td>-1.311052  </td><td>setosa     </td></tr>\n",
       "\t<tr><td>-1201.595  </td><td> 1.24503015</td><td>-1.335752  </td><td>-1.311052  </td><td>setosa     </td></tr>\n",
       "\t<tr><td>-1201.112  </td><td> 1.93331463</td><td>-1.165809  </td><td>-1.048667  </td><td>setosa     </td></tr>\n",
       "</tbody>\n",
       "</table>\n"
      ],
      "text/latex": [
       "\\begin{tabular}{r|lllll}\n",
       " Sepal.Length & Sepal.Width & Petal.Length & Petal.Width & Species\\\\\n",
       "\\hline\n",
       "\t -1201.474   &  1.01560199 & -1.335752   & -1.311052   & setosa     \\\\\n",
       "\t -1201.716   & -0.13153881 & -1.335752   & -1.311052   & setosa     \\\\\n",
       "\t -1201.957   &  0.32731751 & -1.392399   & -1.311052   & setosa     \\\\\n",
       "\t -1202.078   &  0.09788935 & -1.279104   & -1.311052   & setosa     \\\\\n",
       "\t -1201.595   &  1.24503015 & -1.335752   & -1.311052   & setosa     \\\\\n",
       "\t -1201.112   &  1.93331463 & -1.165809   & -1.048667   & setosa     \\\\\n",
       "\\end{tabular}\n"
      ],
      "text/markdown": [
       "\n",
       "Sepal.Length | Sepal.Width | Petal.Length | Petal.Width | Species | \n",
       "|---|---|---|---|---|---|\n",
       "| -1201.474   |  1.01560199 | -1.335752   | -1.311052   | setosa      | \n",
       "| -1201.716   | -0.13153881 | -1.335752   | -1.311052   | setosa      | \n",
       "| -1201.957   |  0.32731751 | -1.392399   | -1.311052   | setosa      | \n",
       "| -1202.078   |  0.09788935 | -1.279104   | -1.311052   | setosa      | \n",
       "| -1201.595   |  1.24503015 | -1.335752   | -1.311052   | setosa      | \n",
       "| -1201.112   |  1.93331463 | -1.165809   | -1.048667   | setosa      | \n",
       "\n",
       "\n"
      ],
      "text/plain": [
       "  Sepal.Length Sepal.Width Petal.Length Petal.Width Species\n",
       "1 -1201.474     1.01560199 -1.335752    -1.311052   setosa \n",
       "2 -1201.716    -0.13153881 -1.335752    -1.311052   setosa \n",
       "3 -1201.957     0.32731751 -1.392399    -1.311052   setosa \n",
       "4 -1202.078     0.09788935 -1.279104    -1.311052   setosa \n",
       "5 -1201.595     1.24503015 -1.335752    -1.311052   setosa \n",
       "6 -1201.112     1.93331463 -1.165809    -1.048667   setosa "
      ]
     },
     "metadata": {},
     "output_type": "display_data"
    }
   ],
   "source": [
    "state$control$center[1] = 1000  # will now subtract 1000 from the first column\n",
    "new.retrafo = makeRetrafoFromState(cpoScale, state)\n",
    "head(iris %>>% new.retrafo)"
   ]
  },
  {
   "cell_type": "markdown",
   "metadata": {},
   "source": [
    "### Application of Retrafo using %>>% or `predict`"
   ]
  },
  {
   "cell_type": "code",
   "execution_count": 144,
   "metadata": {
    "collapsed": true
   },
   "outputs": [
    {
     "data": {
      "text/html": [
       "<table>\n",
       "<thead><tr><th scope=col>Species</th><th scope=col>PC1</th><th scope=col>PC2</th><th scope=col>PC3</th><th scope=col>PC4</th></tr></thead>\n",
       "<tbody>\n",
       "\t<tr><td>setosa      </td><td>-2.684126   </td><td>-0.3193972  </td><td> 0.02791483 </td><td> 0.002262437</td></tr>\n",
       "\t<tr><td>setosa      </td><td>-2.714142   </td><td> 0.1770012  </td><td> 0.21046427 </td><td> 0.099026550</td></tr>\n",
       "\t<tr><td>setosa      </td><td>-2.888991   </td><td> 0.1449494  </td><td>-0.01790026 </td><td> 0.019968390</td></tr>\n",
       "\t<tr><td>setosa      </td><td>-2.745343   </td><td> 0.3182990  </td><td>-0.03155937 </td><td>-0.075575817</td></tr>\n",
       "\t<tr><td>setosa      </td><td>-2.728717   </td><td>-0.3267545  </td><td>-0.09007924 </td><td>-0.061258593</td></tr>\n",
       "\t<tr><td>setosa      </td><td>-2.280860   </td><td>-0.7413304  </td><td>-0.16867766 </td><td>-0.024200858</td></tr>\n",
       "</tbody>\n",
       "</table>\n"
      ],
      "text/latex": [
       "\\begin{tabular}{r|lllll}\n",
       " Species & PC1 & PC2 & PC3 & PC4\\\\\n",
       "\\hline\n",
       "\t setosa       & -2.684126    & -0.3193972   &  0.02791483  &  0.002262437\\\\\n",
       "\t setosa       & -2.714142    &  0.1770012   &  0.21046427  &  0.099026550\\\\\n",
       "\t setosa       & -2.888991    &  0.1449494   & -0.01790026  &  0.019968390\\\\\n",
       "\t setosa       & -2.745343    &  0.3182990   & -0.03155937  & -0.075575817\\\\\n",
       "\t setosa       & -2.728717    & -0.3267545   & -0.09007924  & -0.061258593\\\\\n",
       "\t setosa       & -2.280860    & -0.7413304   & -0.16867766  & -0.024200858\\\\\n",
       "\\end{tabular}\n"
      ],
      "text/markdown": [
       "\n",
       "Species | PC1 | PC2 | PC3 | PC4 | \n",
       "|---|---|---|---|---|---|\n",
       "| setosa       | -2.684126    | -0.3193972   |  0.02791483  |  0.002262437 | \n",
       "| setosa       | -2.714142    |  0.1770012   |  0.21046427  |  0.099026550 | \n",
       "| setosa       | -2.888991    |  0.1449494   | -0.01790026  |  0.019968390 | \n",
       "| setosa       | -2.745343    |  0.3182990   | -0.03155937  | -0.075575817 | \n",
       "| setosa       | -2.728717    | -0.3267545   | -0.09007924  | -0.061258593 | \n",
       "| setosa       | -2.280860    | -0.7413304   | -0.16867766  | -0.024200858 | \n",
       "\n",
       "\n"
      ],
      "text/plain": [
       "  Species PC1       PC2        PC3         PC4         \n",
       "1 setosa  -2.684126 -0.3193972  0.02791483  0.002262437\n",
       "2 setosa  -2.714142  0.1770012  0.21046427  0.099026550\n",
       "3 setosa  -2.888991  0.1449494 -0.01790026  0.019968390\n",
       "4 setosa  -2.745343  0.3182990 -0.03155937 -0.075575817\n",
       "5 setosa  -2.728717 -0.3267545 -0.09007924 -0.061258593\n",
       "6 setosa  -2.280860 -0.7413304 -0.16867766 -0.024200858"
      ]
     },
     "metadata": {},
     "output_type": "display_data"
    }
   ],
   "source": [
    "head(iris) %>>% retrafo(transformed)\n",
    "# should give the same as head(transformed), since the same data was used.\n",
    "# same:\n",
    "invisible(predict(retrafo(transformed), head(iris)))"
   ]
  },
  {
   "cell_type": "markdown",
   "metadata": {},
   "source": [
    "### Retrafos from CPO Learners"
   ]
  },
  {
   "cell_type": "code",
   "execution_count": 145,
   "metadata": {
    "collapsed": false
   },
   "outputs": [],
   "source": [
    "cpomodel = train(cpolrn, pid.task)"
   ]
  },
  {
   "cell_type": "code",
   "execution_count": 146,
   "metadata": {
    "collapsed": true
   },
   "outputs": [
    {
     "data": {
      "text/plain": [
       "CPO Retrafo chain\n",
       "[RETRAFO pca(center = TRUE, scale = FALSE)]"
      ]
     },
     "metadata": {},
     "output_type": "display_data"
    }
   ],
   "source": [
    "retrafo(cpomodel)"
   ]
  },
  {
   "cell_type": "code",
   "execution_count": 147,
   "metadata": {
    "collapsed": true
   },
   "outputs": [
    {
     "data": {
      "text/html": [
       "<table>\n",
       "<thead><tr><th scope=col>diabetes</th><th scope=col>PC1</th><th scope=col>PC2</th><th scope=col>PC3</th><th scope=col>PC4</th><th scope=col>PC5</th><th scope=col>PC6</th><th scope=col>PC7</th><th scope=col>PC8</th></tr></thead>\n",
       "<tbody>\n",
       "\t<tr><td>pos        </td><td>-75.71465  </td><td> 35.950783 </td><td>-7.26078895</td><td>-15.669269 </td><td>-16.506541 </td><td>-3.460442  </td><td>-0.7020470 </td><td>-0.09497708</td></tr>\n",
       "\t<tr><td>neg        </td><td>-82.35827  </td><td>-28.908213 </td><td>-5.49667139</td><td> -9.004554 </td><td> -3.481527 </td><td>-5.590262  </td><td>-2.5720149 </td><td> 0.09153472</td></tr>\n",
       "\t<tr><td>pos        </td><td>-74.63064  </td><td> 67.906496 </td><td>19.46180812</td><td>  5.653056 </td><td> 10.300113 </td><td>-7.144367  </td><td> 4.2790670 </td><td>-0.27101062</td></tr>\n",
       "\t<tr><td>neg        </td><td> 11.07742  </td><td>-34.898486 </td><td>-0.05301779</td><td> -1.314873 </td><td>  7.619414 </td><td>-2.583855  </td><td>-0.8098285 </td><td> 0.27330484</td></tr>\n",
       "\t<tr><td>pos        </td><td> 89.74379  </td><td>  2.746937 </td><td>25.21285861</td><td>-18.994237 </td><td> -8.522694 </td><td> 9.486986  </td><td>-3.6264099 </td><td>-1.67434826</td></tr>\n",
       "\t<tr><td>neg        </td><td>-80.97792  </td><td>  3.946887 </td><td> 0.64139494</td><td> 15.117736 </td><td>  8.976962 </td><td>-2.314746  </td><td> 1.5693795 </td><td> 0.16000894</td></tr>\n",
       "</tbody>\n",
       "</table>\n"
      ],
      "text/latex": [
       "\\begin{tabular}{r|lllllllll}\n",
       " diabetes & PC1 & PC2 & PC3 & PC4 & PC5 & PC6 & PC7 & PC8\\\\\n",
       "\\hline\n",
       "\t pos         & -75.71465   &  35.950783  & -7.26078895 & -15.669269  & -16.506541  & -3.460442   & -0.7020470  & -0.09497708\\\\\n",
       "\t neg         & -82.35827   & -28.908213  & -5.49667139 &  -9.004554  &  -3.481527  & -5.590262   & -2.5720149  &  0.09153472\\\\\n",
       "\t pos         & -74.63064   &  67.906496  & 19.46180812 &   5.653056  &  10.300113  & -7.144367   &  4.2790670  & -0.27101062\\\\\n",
       "\t neg         &  11.07742   & -34.898486  & -0.05301779 &  -1.314873  &   7.619414  & -2.583855   & -0.8098285  &  0.27330484\\\\\n",
       "\t pos         &  89.74379   &   2.746937  & 25.21285861 & -18.994237  &  -8.522694  &  9.486986   & -3.6264099  & -1.67434826\\\\\n",
       "\t neg         & -80.97792   &   3.946887  &  0.64139494 &  15.117736  &   8.976962  & -2.314746   &  1.5693795  &  0.16000894\\\\\n",
       "\\end{tabular}\n"
      ],
      "text/markdown": [
       "\n",
       "diabetes | PC1 | PC2 | PC3 | PC4 | PC5 | PC6 | PC7 | PC8 | \n",
       "|---|---|---|---|---|---|\n",
       "| pos         | -75.71465   |  35.950783  | -7.26078895 | -15.669269  | -16.506541  | -3.460442   | -0.7020470  | -0.09497708 | \n",
       "| neg         | -82.35827   | -28.908213  | -5.49667139 |  -9.004554  |  -3.481527  | -5.590262   | -2.5720149  |  0.09153472 | \n",
       "| pos         | -74.63064   |  67.906496  | 19.46180812 |   5.653056  |  10.300113  | -7.144367   |  4.2790670  | -0.27101062 | \n",
       "| neg         |  11.07742   | -34.898486  | -0.05301779 |  -1.314873  |   7.619414  | -2.583855   | -0.8098285  |  0.27330484 | \n",
       "| pos         |  89.74379   |   2.746937  | 25.21285861 | -18.994237  |  -8.522694  |  9.486986   | -3.6264099  | -1.67434826 | \n",
       "| neg         | -80.97792   |   3.946887  |  0.64139494 |  15.117736  |   8.976962  | -2.314746   |  1.5693795  |  0.16000894 | \n",
       "\n",
       "\n"
      ],
      "text/plain": [
       "  diabetes PC1       PC2        PC3         PC4        PC5        PC6      \n",
       "1 pos      -75.71465  35.950783 -7.26078895 -15.669269 -16.506541 -3.460442\n",
       "2 neg      -82.35827 -28.908213 -5.49667139  -9.004554  -3.481527 -5.590262\n",
       "3 pos      -74.63064  67.906496 19.46180812   5.653056  10.300113 -7.144367\n",
       "4 neg       11.07742 -34.898486 -0.05301779  -1.314873   7.619414 -2.583855\n",
       "5 pos       89.74379   2.746937 25.21285861 -18.994237  -8.522694  9.486986\n",
       "6 neg      -80.97792   3.946887  0.64139494  15.117736   8.976962 -2.314746\n",
       "  PC7        PC8        \n",
       "1 -0.7020470 -0.09497708\n",
       "2 -2.5720149  0.09153472\n",
       "3  4.2790670 -0.27101062\n",
       "4 -0.8098285  0.27330484\n",
       "5 -3.6264099 -1.67434826\n",
       "6  1.5693795  0.16000894"
      ]
     },
     "metadata": {},
     "output_type": "display_data"
    }
   ],
   "source": [
    "head(getTaskData(pid.task %>>% retrafo(cpomodel)))\n",
    "# this is what the model would see, if we predict() it with the model"
   ]
  },
  {
   "cell_type": "markdown",
   "metadata": {},
   "source": [
    "### Retrafos are automatically chained when applying CPOs (!!!)\n",
    "When executing `data %>>% CPO`, the result has an associated `Retrafo` object. When applying another `CPO`, the `Retrafo` will be the chained operation. This is to make `data %>>% CPO1 %>>% CPO2` the way one expects it to work."
   ]
  },
  {
   "cell_type": "code",
   "execution_count": 148,
   "metadata": {
    "collapsed": true
   },
   "outputs": [
    {
     "data": {
      "text/plain": [
       "CPO Retrafo chain\n",
       "[RETRAFO pca(center = FALSE, scale = FALSE)]"
      ]
     },
     "metadata": {},
     "output_type": "display_data"
    }
   ],
   "source": [
    "data = head(iris) %>>% pca\n",
    "retrafo(data)"
   ]
  },
  {
   "cell_type": "code",
   "execution_count": 149,
   "metadata": {
    "collapsed": true
   },
   "outputs": [
    {
     "data": {
      "text/plain": [
       "CPO Retrafo chain\n",
       "[RETRAFO pca(center = FALSE, scale = FALSE)]=>[RETRAFO scale(center = TRUE, scale = TRUE)]"
      ]
     },
     "metadata": {},
     "output_type": "display_data"
    }
   ],
   "source": [
    "data2 = data %>>% scale\n",
    "# retrafo(data2) is the same as retrafo(data %>>% pca %>>% scale)\n",
    "retrafo(data2)"
   ]
  },
  {
   "cell_type": "code",
   "execution_count": 150,
   "metadata": {
    "collapsed": true
   },
   "outputs": [
    {
     "data": {
      "text/plain": [
       "CPO Retrafo chain\n",
       "[RETRAFO scale(center = TRUE, scale = TRUE)]"
      ]
     },
     "metadata": {},
     "output_type": "display_data"
    }
   ],
   "source": [
    "# to interrupt this chain, set retrafo to NULL\n",
    "retrafo(data) = NULL\n",
    "data2 = data %>>% scale\n",
    "retrafo(data2)"
   ]
  },
  {
   "cell_type": "markdown",
   "metadata": {},
   "source": [
    "### Retrafo Composition, Decomposition, Chaining"
   ]
  },
  {
   "cell_type": "code",
   "execution_count": 151,
   "metadata": {
    "collapsed": true
   },
   "outputs": [
    {
     "data": {
      "text/plain": [
       "CPO Retrafo chain\n",
       "[RETRAFO pca(center = FALSE, scale = FALSE)]=>[RETRAFO scale(center = TRUE, scale = TRUE)]"
      ]
     },
     "metadata": {},
     "output_type": "display_data"
    }
   ],
   "source": [
    "compound.retrafo = retrafo(head(iris) %>>% compound)\n",
    "compound.retrafo"
   ]
  },
  {
   "cell_type": "code",
   "execution_count": 152,
   "metadata": {
    "collapsed": true
   },
   "outputs": [
    {
     "data": {
      "text/plain": [
       "[[1]]\n",
       "CPO Retrafo chain\n",
       "[RETRAFO pca(center = FALSE, scale = FALSE)]\n",
       "\n",
       "[[2]]\n",
       "CPO Retrafo chain\n",
       "[RETRAFO scale(center = TRUE, scale = TRUE)]\n"
      ]
     },
     "metadata": {},
     "output_type": "display_data"
    }
   ],
   "source": [
    "(retrafolist = as.list(compound.retrafo))"
   ]
  },
  {
   "cell_type": "code",
   "execution_count": 153,
   "metadata": {
    "collapsed": true
   },
   "outputs": [
    {
     "data": {
      "text/plain": [
       "CPO Retrafo chain\n",
       "[RETRAFO pca(center = FALSE, scale = FALSE)]=>[RETRAFO scale(center = TRUE, scale = TRUE)]"
      ]
     },
     "metadata": {},
     "output_type": "display_data"
    }
   ],
   "source": [
    "retrafolist[[1]] %>>% retrafolist[[2]]"
   ]
  },
  {
   "cell_type": "code",
   "execution_count": 154,
   "metadata": {
    "collapsed": true
   },
   "outputs": [
    {
     "data": {
      "text/plain": [
       "CPO Retrafo chain\n",
       "[RETRAFO pca(center = FALSE, scale = FALSE)]=>[RETRAFO scale(center = TRUE, scale = TRUE)]"
      ]
     },
     "metadata": {},
     "output_type": "display_data"
    }
   ],
   "source": [
    "chainCPO(retrafolist)"
   ]
  },
  {
   "cell_type": "markdown",
   "metadata": {},
   "source": [
    "## Inverter\n",
    "Inverters represent the operation of inverting transformations done to prediction columns. They are not usually exposed outside of `Learner` objects, but can be retrieved when retransformed data is tagged using `tagInverse`.\n",
    "\n",
    "Inverters are currently not fully functional."
   ]
  },
  {
   "cell_type": "code",
   "execution_count": 155,
   "metadata": {
    "collapsed": false
   },
   "outputs": [],
   "source": [
    "# there is currently no example targetbound cpo\n",
    "logtransform = makeCPOTargetOp(\"logtransform\", .data.dependent = FALSE,\n",
    "                               .stateless = TRUE, .type = \"regr\",\n",
    "  cpo.trafo = {\n",
    "    target[[1]] = log(target[[1]])\n",
    "    target\n",
    "  }, cpo.retrafo = { print(match.call()) })\n"
   ]
  },
  {
   "cell_type": "code",
   "execution_count": 156,
   "metadata": {
    "collapsed": true
   },
   "outputs": [
    {
     "data": {
      "text/html": [
       "<ol class=list-inline>\n",
       "\t<li>'retrafo'</li>\n",
       "\t<li>'inverter'</li>\n",
       "</ol>\n"
      ],
      "text/latex": [
       "\\begin{enumerate*}\n",
       "\\item 'retrafo'\n",
       "\\item 'inverter'\n",
       "\\end{enumerate*}\n"
      ],
      "text/markdown": [
       "1. 'retrafo'\n",
       "2. 'inverter'\n",
       "\n",
       "\n"
      ],
      "text/plain": [
       "[1] \"retrafo\"  \"inverter\""
      ]
     },
     "metadata": {},
     "output_type": "display_data"
    },
    {
     "data": {
      "text/html": [
       "'targetbound'"
      ],
      "text/latex": [
       "'targetbound'"
      ],
      "text/markdown": [
       "'targetbound'"
      ],
      "text/plain": [
       "[1] \"targetbound\""
      ]
     },
     "metadata": {},
     "output_type": "display_data"
    }
   ],
   "source": [
    "log.retrafo = retrafo(bh.task %>>% logtransform())  # get a target-bound retrafo\n",
    "getCPOKind(log.retrafo)  # logtransform is *stateless*, so it is a retrafo *and* an inverter\n",
    "getCPOBound(log.retrafo)"
   ]
  },
  {
   "cell_type": "code",
   "execution_count": 157,
   "metadata": {
    "collapsed": true
   },
   "outputs": [
    {
     "data": {
      "text/plain": [
       "NULLCPO"
      ]
     },
     "metadata": {},
     "output_type": "display_data"
    }
   ],
   "source": [
    "inverter(bh.task %>>% log.retrafo)"
   ]
  },
  {
   "cell_type": "code",
   "execution_count": 158,
   "metadata": {
    "collapsed": false
   },
   "outputs": [],
   "source": [
    "#inverter(tagInvert(bh.task) %>>% log.retrafo)\n",
    "# currently not implemented :-/"
   ]
  },
  {
   "cell_type": "markdown",
   "metadata": {},
   "source": [
    "Inverting is done with the `invert` function."
   ]
  },
  {
   "cell_type": "code",
   "execution_count": 159,
   "metadata": {
    "collapsed": true
   },
   "outputs": [],
   "source": [
    "log.bh = bh.task %>>% logtransform()\n",
    "log.prediction = predict(train(\"regr.lm\", log.bh), log.bh)"
   ]
  },
  {
   "cell_type": "code",
   "execution_count": 160,
   "metadata": {
    "collapsed": false
   },
   "outputs": [],
   "source": [
    "# invert(retrafo(log.bh), log.prediction)  # not implemented :-/\n",
    "# invert(retrafo(log.bh), log.prediction$data[\"response\"])  # not implemented :-/\n"
   ]
  },
  {
   "cell_type": "markdown",
   "metadata": {},
   "source": [
    "# CPO Properties\n",
    "CPOs contain information about the kind of data they can work with, and what kind of data they produce. `getCPOProperties` returns a list with the slots `properties`, `properties.data`, `properties.needed`, `properties.adding`, indicating the kind of data a CPO can handle, the kind of data it needs the data receiver (e.g. attached learner) to have, and the properties it adds to a given learner. An example is a CPO that converts factors to numerics: The receiving learner needs to handle numerics, so `properties.needed = \"numerics\"`, but it *adds* the ability to handle factors (since they are converted), so `properties.adding = c(\"factors\", \"ordered\")`. `properties.data` is only different from `properties` if `affect.*` parameters are given. In that case, `properties.data` determines what properties the selected subset of columns must have."
   ]
  },
  {
   "cell_type": "code",
   "execution_count": 161,
   "metadata": {
    "collapsed": true
   },
   "outputs": [
    {
     "data": {
      "text/html": [
       "<dl>\n",
       "\t<dt>$properties</dt>\n",
       "\t\t<dd><ol class=list-inline>\n",
       "\t<li>'numerics'</li>\n",
       "\t<li>'factors'</li>\n",
       "\t<li>'ordered'</li>\n",
       "\t<li>'missings'</li>\n",
       "\t<li>'prob'</li>\n",
       "\t<li>'se'</li>\n",
       "\t<li>'cluster'</li>\n",
       "\t<li>'classif'</li>\n",
       "\t<li>'multilabel'</li>\n",
       "\t<li>'regr'</li>\n",
       "\t<li>'surv'</li>\n",
       "\t<li>'oneclass'</li>\n",
       "\t<li>'twoclass'</li>\n",
       "\t<li>'multiclass'</li>\n",
       "\t<li>'lcens'</li>\n",
       "\t<li>'rcens'</li>\n",
       "\t<li>'icens'</li>\n",
       "</ol>\n",
       "</dd>\n",
       "\t<dt>$properties.data</dt>\n",
       "\t\t<dd><ol class=list-inline>\n",
       "\t<li>'numerics'</li>\n",
       "\t<li>'factors'</li>\n",
       "\t<li>'ordered'</li>\n",
       "\t<li>'missings'</li>\n",
       "\t<li>'prob'</li>\n",
       "\t<li>'se'</li>\n",
       "\t<li>'cluster'</li>\n",
       "\t<li>'classif'</li>\n",
       "\t<li>'multilabel'</li>\n",
       "\t<li>'regr'</li>\n",
       "\t<li>'surv'</li>\n",
       "\t<li>'oneclass'</li>\n",
       "\t<li>'twoclass'</li>\n",
       "\t<li>'multiclass'</li>\n",
       "\t<li>'lcens'</li>\n",
       "\t<li>'rcens'</li>\n",
       "\t<li>'icens'</li>\n",
       "</ol>\n",
       "</dd>\n",
       "\t<dt>$properties.adding</dt>\n",
       "\t\t<dd><ol class=list-inline>\n",
       "\t<li>'factors'</li>\n",
       "\t<li>'ordered'</li>\n",
       "</ol>\n",
       "</dd>\n",
       "\t<dt>$properties.needed</dt>\n",
       "\t\t<dd>'numerics'</dd>\n",
       "</dl>\n"
      ],
      "text/latex": [
       "\\begin{description}\n",
       "\\item[\\$properties] \\begin{enumerate*}\n",
       "\\item 'numerics'\n",
       "\\item 'factors'\n",
       "\\item 'ordered'\n",
       "\\item 'missings'\n",
       "\\item 'prob'\n",
       "\\item 'se'\n",
       "\\item 'cluster'\n",
       "\\item 'classif'\n",
       "\\item 'multilabel'\n",
       "\\item 'regr'\n",
       "\\item 'surv'\n",
       "\\item 'oneclass'\n",
       "\\item 'twoclass'\n",
       "\\item 'multiclass'\n",
       "\\item 'lcens'\n",
       "\\item 'rcens'\n",
       "\\item 'icens'\n",
       "\\end{enumerate*}\n",
       "\n",
       "\\item[\\$properties.data] \\begin{enumerate*}\n",
       "\\item 'numerics'\n",
       "\\item 'factors'\n",
       "\\item 'ordered'\n",
       "\\item 'missings'\n",
       "\\item 'prob'\n",
       "\\item 'se'\n",
       "\\item 'cluster'\n",
       "\\item 'classif'\n",
       "\\item 'multilabel'\n",
       "\\item 'regr'\n",
       "\\item 'surv'\n",
       "\\item 'oneclass'\n",
       "\\item 'twoclass'\n",
       "\\item 'multiclass'\n",
       "\\item 'lcens'\n",
       "\\item 'rcens'\n",
       "\\item 'icens'\n",
       "\\end{enumerate*}\n",
       "\n",
       "\\item[\\$properties.adding] \\begin{enumerate*}\n",
       "\\item 'factors'\n",
       "\\item 'ordered'\n",
       "\\end{enumerate*}\n",
       "\n",
       "\\item[\\$properties.needed] 'numerics'\n",
       "\\end{description}\n"
      ],
      "text/markdown": [
       "$properties\n",
       ":   1. 'numerics'\n",
       "2. 'factors'\n",
       "3. 'ordered'\n",
       "4. 'missings'\n",
       "5. 'prob'\n",
       "6. 'se'\n",
       "7. 'cluster'\n",
       "8. 'classif'\n",
       "9. 'multilabel'\n",
       "10. 'regr'\n",
       "11. 'surv'\n",
       "12. 'oneclass'\n",
       "13. 'twoclass'\n",
       "14. 'multiclass'\n",
       "15. 'lcens'\n",
       "16. 'rcens'\n",
       "17. 'icens'\n",
       "\n",
       "\n",
       "\n",
       "$properties.data\n",
       ":   1. 'numerics'\n",
       "2. 'factors'\n",
       "3. 'ordered'\n",
       "4. 'missings'\n",
       "5. 'prob'\n",
       "6. 'se'\n",
       "7. 'cluster'\n",
       "8. 'classif'\n",
       "9. 'multilabel'\n",
       "10. 'regr'\n",
       "11. 'surv'\n",
       "12. 'oneclass'\n",
       "13. 'twoclass'\n",
       "14. 'multiclass'\n",
       "15. 'lcens'\n",
       "16. 'rcens'\n",
       "17. 'icens'\n",
       "\n",
       "\n",
       "\n",
       "$properties.adding\n",
       ":   1. 'factors'\n",
       "2. 'ordered'\n",
       "\n",
       "\n",
       "\n",
       "$properties.needed\n",
       ":   'numerics'\n",
       "\n",
       "\n"
      ],
      "text/plain": [
       "$properties\n",
       " [1] \"numerics\"   \"factors\"    \"ordered\"    \"missings\"   \"prob\"      \n",
       " [6] \"se\"         \"cluster\"    \"classif\"    \"multilabel\" \"regr\"      \n",
       "[11] \"surv\"       \"oneclass\"   \"twoclass\"   \"multiclass\" \"lcens\"     \n",
       "[16] \"rcens\"      \"icens\"     \n",
       "\n",
       "$properties.data\n",
       " [1] \"numerics\"   \"factors\"    \"ordered\"    \"missings\"   \"prob\"      \n",
       " [6] \"se\"         \"cluster\"    \"classif\"    \"multilabel\" \"regr\"      \n",
       "[11] \"surv\"       \"oneclass\"   \"twoclass\"   \"multiclass\" \"lcens\"     \n",
       "[16] \"rcens\"      \"icens\"     \n",
       "\n",
       "$properties.adding\n",
       "[1] \"factors\" \"ordered\"\n",
       "\n",
       "$properties.needed\n",
       "[1] \"numerics\"\n"
      ]
     },
     "metadata": {},
     "output_type": "display_data"
    }
   ],
   "source": [
    "getCPOProperties(cpoDummyEncode())"
   ]
  },
  {
   "cell_type": "code",
   "execution_count": 162,
   "metadata": {
    "collapsed": true
   },
   "outputs": [
    {
     "ename": "ERROR",
     "evalue": "Error in checkLearnerBeforeTrain(task, learner, weights): Task 'BreastCancer-example' has factor inputs in 'Cl.thickness, Cell.size, Cell.shape, Marg.adhes...', but learner 'classif.geoDA' does not support that!\n",
     "output_type": "error",
     "traceback": [
      "Error in checkLearnerBeforeTrain(task, learner, weights): Task 'BreastCancer-example' has factor inputs in 'Cl.thickness, Cell.size, Cell.shape, Marg.adhes...', but learner 'classif.geoDA' does not support that!\nTraceback:\n",
      "1. train(\"classif.geoDA\", bc.task)",
      "2. checkLearnerBeforeTrain(task, learner, weights)",
      "3. stopf(\"Task '%s' has factor inputs in '%s', but learner '%s' does not support that!\", \n .     td$id, wrong.cols, learner$id)"
     ]
    }
   ],
   "source": [
    "train(\"classif.geoDA\", bc.task)  # gives an error"
   ]
  },
  {
   "cell_type": "code",
   "execution_count": 163,
   "metadata": {
    "collapsed": true
   },
   "outputs": [
    {
     "data": {
      "text/plain": [
       "Model for learner.id=classif.geoDA.dummyencode; learner.class=CPOS3Learner\n",
       "Trained on: task.id = BreastCancer-example; obs = 683; features = 9\n",
       "Hyperparameters: validation=NULL,reference.cat=TRUE"
      ]
     },
     "metadata": {},
     "output_type": "display_data"
    }
   ],
   "source": [
    "train(cpoDummyEncode(reference.cat = TRUE) %>>% makeLearner(\"classif.geoDA\"), bc.task)"
   ]
  },
  {
   "cell_type": "code",
   "execution_count": 164,
   "metadata": {
    "collapsed": true
   },
   "outputs": [
    {
     "data": {
      "text/html": [
       "<ol class=list-inline>\n",
       "\t<li>'twoclass'</li>\n",
       "\t<li>'multiclass'</li>\n",
       "\t<li>'numerics'</li>\n",
       "</ol>\n"
      ],
      "text/latex": [
       "\\begin{enumerate*}\n",
       "\\item 'twoclass'\n",
       "\\item 'multiclass'\n",
       "\\item 'numerics'\n",
       "\\end{enumerate*}\n"
      ],
      "text/markdown": [
       "1. 'twoclass'\n",
       "2. 'multiclass'\n",
       "3. 'numerics'\n",
       "\n",
       "\n"
      ],
      "text/plain": [
       "[1] \"twoclass\"   \"multiclass\" \"numerics\"  "
      ]
     },
     "metadata": {},
     "output_type": "display_data"
    }
   ],
   "source": [
    "getLearnerProperties(\"classif.geoDA\")"
   ]
  },
  {
   "cell_type": "code",
   "execution_count": 165,
   "metadata": {
    "collapsed": true
   },
   "outputs": [
    {
     "data": {
      "text/html": [
       "<ol class=list-inline>\n",
       "\t<li>'numerics'</li>\n",
       "\t<li>'factors'</li>\n",
       "\t<li>'ordered'</li>\n",
       "\t<li>'twoclass'</li>\n",
       "\t<li>'multiclass'</li>\n",
       "</ol>\n"
      ],
      "text/latex": [
       "\\begin{enumerate*}\n",
       "\\item 'numerics'\n",
       "\\item 'factors'\n",
       "\\item 'ordered'\n",
       "\\item 'twoclass'\n",
       "\\item 'multiclass'\n",
       "\\end{enumerate*}\n"
      ],
      "text/markdown": [
       "1. 'numerics'\n",
       "2. 'factors'\n",
       "3. 'ordered'\n",
       "4. 'twoclass'\n",
       "5. 'multiclass'\n",
       "\n",
       "\n"
      ],
      "text/plain": [
       "[1] \"numerics\"   \"factors\"    \"ordered\"    \"twoclass\"   \"multiclass\""
      ]
     },
     "metadata": {},
     "output_type": "display_data"
    }
   ],
   "source": [
    "getLearnerProperties(cpoDummyEncode(TRUE) %>>% makeLearner(\"classif.geoDA\"))"
   ]
  },
  {
   "cell_type": "markdown",
   "metadata": {},
   "source": [
    "# Special CPOs"
   ]
  },
  {
   "cell_type": "markdown",
   "metadata": {},
   "source": [
    "## NULLCPO\n",
    "`NULLCPO` is the neutral element of `%>>%`. It is returned by some functions when no other CPO or Retrafo is present."
   ]
  },
  {
   "cell_type": "code",
   "execution_count": 166,
   "metadata": {
    "collapsed": true
   },
   "outputs": [
    {
     "data": {
      "text/plain": [
       "NULLCPO"
      ]
     },
     "metadata": {},
     "output_type": "display_data"
    }
   ],
   "source": [
    "NULLCPO"
   ]
  },
  {
   "cell_type": "code",
   "execution_count": 167,
   "metadata": {
    "collapsed": true
   },
   "outputs": [
    {
     "data": {
      "text/html": [
       "TRUE"
      ],
      "text/latex": [
       "TRUE"
      ],
      "text/markdown": [
       "TRUE"
      ],
      "text/plain": [
       "[1] TRUE"
      ]
     },
     "metadata": {},
     "output_type": "display_data"
    }
   ],
   "source": [
    "is.nullcpo(NULLCPO)"
   ]
  },
  {
   "cell_type": "code",
   "execution_count": 168,
   "metadata": {
    "collapsed": true
   },
   "outputs": [
    {
     "data": {
      "text/plain": [
       "scale(center = TRUE, scale = TRUE)"
      ]
     },
     "metadata": {},
     "output_type": "display_data"
    }
   ],
   "source": [
    "NULLCPO %>>% cpoScale()"
   ]
  },
  {
   "cell_type": "code",
   "execution_count": 169,
   "metadata": {
    "collapsed": true
   },
   "outputs": [
    {
     "data": {
      "text/plain": [
       "NULLCPO"
      ]
     },
     "metadata": {},
     "output_type": "display_data"
    }
   ],
   "source": [
    "NULLCPO %>>% NULLCPO"
   ]
  },
  {
   "cell_type": "code",
   "execution_count": 170,
   "metadata": {
    "collapsed": true
   },
   "outputs": [
    {
     "name": "stdout",
     "output_type": "stream",
     "text": [
      "list()\n"
     ]
    }
   ],
   "source": [
    "print(as.list(NULLCPO))"
   ]
  },
  {
   "cell_type": "code",
   "execution_count": 171,
   "metadata": {
    "collapsed": true
   },
   "outputs": [
    {
     "data": {
      "text/plain": [
       "NULLCPO"
      ]
     },
     "metadata": {},
     "output_type": "display_data"
    }
   ],
   "source": [
    "chainCPO(list())"
   ]
  },
  {
   "cell_type": "markdown",
   "metadata": {},
   "source": [
    "## CPO Applicator\n",
    "A simple CPO with one parameter which gets applied to the data as CPO. This is different from a multiplexer in that its parameter is free and can take any value that behaves like a CPO. On the downside, this does not expose the argument's parameters to the outside."
   ]
  },
  {
   "cell_type": "code",
   "execution_count": 172,
   "metadata": {
    "collapsed": true
   },
   "outputs": [
    {
     "data": {
      "text/plain": [
       "Retrafo chain of 1 elements:\n",
       "apply()\n",
       "\n",
       "       Type len Def Constr Req Tunable Trafo\n",
       "cpo untyped   -   -      -   -    TRUE     -"
      ]
     },
     "metadata": {},
     "output_type": "display_data"
    }
   ],
   "source": [
    "cpa = cpoApply()\n",
    "summary(cpa)"
   ]
  },
  {
   "cell_type": "code",
   "execution_count": 173,
   "metadata": {
    "collapsed": true
   },
   "outputs": [
    {
     "ename": "ERROR",
     "evalue": "Error in setHyperPars2(learner, insert(par.vals, args)): object 'cp' not found\n",
     "output_type": "error",
     "traceback": [
      "Error in setHyperPars2(learner, insert(par.vals, args)): object 'cp' not found\nTraceback:\n",
      "1. head(iris) %>>% setHyperPars(cp, cpo = cpoScale())",
      "2. `%>>%.data.frame`(head(iris), setHyperPars(cp, cpo = cpoScale()))",
      "3. `%>>%.Task`(cpo1, cpo2)",
      "4. is.nullcpo(cpo2)",
      "5. \"NULLCPO\" %in% class(cpo)",
      "6. match(x, table, nomatch = 0L)",
      "7. setHyperPars(cp, cpo = cpoScale())",
      "8. setHyperPars2(learner, insert(par.vals, args))"
     ]
    }
   ],
   "source": [
    "head(iris) %>>% setHyperPars(cp, cpo = cpoScale())"
   ]
  },
  {
   "cell_type": "code",
   "execution_count": 174,
   "metadata": {
    "collapsed": true
   },
   "outputs": [
    {
     "ename": "ERROR",
     "evalue": "Error in setHyperPars2(learner, insert(par.vals, args)): object 'cp' not found\n",
     "output_type": "error",
     "traceback": [
      "Error in setHyperPars2(learner, insert(par.vals, args)): object 'cp' not found\nTraceback:\n",
      "1. head(iris) %>>% setHyperPars(cp, cpo = cpoPca())",
      "2. `%>>%.data.frame`(head(iris), setHyperPars(cp, cpo = cpoPca()))",
      "3. `%>>%.Task`(cpo1, cpo2)",
      "4. is.nullcpo(cpo2)",
      "5. \"NULLCPO\" %in% class(cpo)",
      "6. match(x, table, nomatch = 0L)",
      "7. setHyperPars(cp, cpo = cpoPca())",
      "8. setHyperPars2(learner, insert(par.vals, args))"
     ]
    }
   ],
   "source": [
    "head(iris) %>>% setHyperPars(cp, cpo = cpoPca())"
   ]
  },
  {
   "cell_type": "code",
   "execution_count": 175,
   "metadata": {
    "collapsed": true
   },
   "outputs": [
    {
     "data": {
      "text/plain": [
       "         Type len  Def Constr Req Tunable Trafo\n",
       "cpo   untyped   -    -      -   -    TRUE     -\n",
       "model logical   - TRUE      -   -   FALSE     -"
      ]
     },
     "metadata": {},
     "output_type": "display_data"
    }
   ],
   "source": [
    "# attaching the cpo applicator to a learner gives this learner a \"cpo\" hyperparameter\n",
    "# that can be set to any CPO.\n",
    "getParamSet(cpoApply() %>>% makeLearner(\"classif.logreg\"))"
   ]
  },
  {
   "cell_type": "markdown",
   "metadata": {},
   "source": [
    "## CPO Multiplexer\n",
    "Combine many CPOs into one, with an extra `selected.cpo` parameter that chooses between them."
   ]
  },
  {
   "cell_type": "code",
   "execution_count": 176,
   "metadata": {
    "collapsed": true
   },
   "outputs": [
    {
     "data": {
      "text/plain": [
       "Retrafo chain of 1 elements:\n",
       "multiplex(selected.cpo = scale, scale.center = TRUE, scale.scale = TRUE, pca.center = TRUE, pca.scale = FALSE)\n",
       "\n",
       "                 Type len   Def    Constr Req Tunable Trafo\n",
       "selected.cpo discrete   - scale scale,pca   -    TRUE     -\n",
       "scale.center  logical   -  TRUE         -   Y    TRUE     -\n",
       "scale.scale   logical   -  TRUE         -   Y    TRUE     -\n",
       "pca.center    logical   -  TRUE         -   Y    TRUE     -\n",
       "pca.scale     logical   - FALSE         -   Y    TRUE     -"
      ]
     },
     "metadata": {},
     "output_type": "display_data"
    }
   ],
   "source": [
    "cpm = cpoMultiplex(list(cpoScale, cpoPca))\n",
    "summary(cpm)"
   ]
  },
  {
   "cell_type": "code",
   "execution_count": 177,
   "metadata": {
    "collapsed": true
   },
   "outputs": [
    {
     "name": "stderr",
     "output_type": "stream",
     "text": [
      "Warning message in makeTask(type, data, weights, blocking, fixup.data = fixup.data, :\n",
      "“Empty factor levels were dropped for columns: Species”"
     ]
    },
    {
     "data": {
      "text/html": [
       "<table>\n",
       "<thead><tr><th scope=col>Sepal.Length</th><th scope=col>Sepal.Width</th><th scope=col>Petal.Length</th><th scope=col>Petal.Width</th><th scope=col>Species</th></tr></thead>\n",
       "<tbody>\n",
       "\t<tr><td> 0.5206576</td><td> 0.3401105</td><td>-0.3627381</td><td>-0.4082483</td><td>setosa    </td></tr>\n",
       "\t<tr><td>-0.1735525</td><td>-1.1175060</td><td>-0.3627381</td><td>-0.4082483</td><td>setosa    </td></tr>\n",
       "\t<tr><td>-0.8677627</td><td>-0.5344594</td><td>-1.0882144</td><td>-0.4082483</td><td>setosa    </td></tr>\n",
       "\t<tr><td>-1.2148677</td><td>-0.8259827</td><td> 0.3627381</td><td>-0.4082483</td><td>setosa    </td></tr>\n",
       "\t<tr><td> 0.1735525</td><td> 0.6316338</td><td>-0.3627381</td><td>-0.4082483</td><td>setosa    </td></tr>\n",
       "\t<tr><td> 1.5619728</td><td> 1.5062037</td><td> 1.8136906</td><td> 2.0412415</td><td>setosa    </td></tr>\n",
       "</tbody>\n",
       "</table>\n"
      ],
      "text/latex": [
       "\\begin{tabular}{r|lllll}\n",
       " Sepal.Length & Sepal.Width & Petal.Length & Petal.Width & Species\\\\\n",
       "\\hline\n",
       "\t  0.5206576 &  0.3401105 & -0.3627381 & -0.4082483 & setosa    \\\\\n",
       "\t -0.1735525 & -1.1175060 & -0.3627381 & -0.4082483 & setosa    \\\\\n",
       "\t -0.8677627 & -0.5344594 & -1.0882144 & -0.4082483 & setosa    \\\\\n",
       "\t -1.2148677 & -0.8259827 &  0.3627381 & -0.4082483 & setosa    \\\\\n",
       "\t  0.1735525 &  0.6316338 & -0.3627381 & -0.4082483 & setosa    \\\\\n",
       "\t  1.5619728 &  1.5062037 &  1.8136906 &  2.0412415 & setosa    \\\\\n",
       "\\end{tabular}\n"
      ],
      "text/markdown": [
       "\n",
       "Sepal.Length | Sepal.Width | Petal.Length | Petal.Width | Species | \n",
       "|---|---|---|---|---|---|\n",
       "|  0.5206576 |  0.3401105 | -0.3627381 | -0.4082483 | setosa     | \n",
       "| -0.1735525 | -1.1175060 | -0.3627381 | -0.4082483 | setosa     | \n",
       "| -0.8677627 | -0.5344594 | -1.0882144 | -0.4082483 | setosa     | \n",
       "| -1.2148677 | -0.8259827 |  0.3627381 | -0.4082483 | setosa     | \n",
       "|  0.1735525 |  0.6316338 | -0.3627381 | -0.4082483 | setosa     | \n",
       "|  1.5619728 |  1.5062037 |  1.8136906 |  2.0412415 | setosa     | \n",
       "\n",
       "\n"
      ],
      "text/plain": [
       "  Sepal.Length Sepal.Width Petal.Length Petal.Width Species\n",
       "1  0.5206576    0.3401105  -0.3627381   -0.4082483  setosa \n",
       "2 -0.1735525   -1.1175060  -0.3627381   -0.4082483  setosa \n",
       "3 -0.8677627   -0.5344594  -1.0882144   -0.4082483  setosa \n",
       "4 -1.2148677   -0.8259827   0.3627381   -0.4082483  setosa \n",
       "5  0.1735525    0.6316338  -0.3627381   -0.4082483  setosa \n",
       "6  1.5619728    1.5062037   1.8136906    2.0412415  setosa "
      ]
     },
     "metadata": {},
     "output_type": "display_data"
    }
   ],
   "source": [
    "head(iris) %>>% setHyperPars(cpm, selected.cpo = \"scale\")"
   ]
  },
  {
   "cell_type": "code",
   "execution_count": 178,
   "metadata": {
    "collapsed": true
   },
   "outputs": [
    {
     "name": "stderr",
     "output_type": "stream",
     "text": [
      "Warning message in makeTask(type, data, weights, blocking, fixup.data = fixup.data, :\n",
      "“Empty factor levels were dropped for columns: Species”"
     ]
    },
    {
     "data": {
      "text/html": [
       "<table>\n",
       "<thead><tr><th scope=col>Sepal.Length</th><th scope=col>Sepal.Width</th><th scope=col>Petal.Length</th><th scope=col>Petal.Width</th><th scope=col>Species</th></tr></thead>\n",
       "<tbody>\n",
       "\t<tr><td>0.9392090</td><td>0.9403303</td><td>0.8780925</td><td>0.745356 </td><td>setosa   </td></tr>\n",
       "\t<tr><td>0.9023773</td><td>0.8059974</td><td>0.8780925</td><td>0.745356 </td><td>setosa   </td></tr>\n",
       "\t<tr><td>0.8655455</td><td>0.8597306</td><td>0.8153716</td><td>0.745356 </td><td>setosa   </td></tr>\n",
       "\t<tr><td>0.8471297</td><td>0.8328640</td><td>0.9408134</td><td>0.745356 </td><td>setosa   </td></tr>\n",
       "\t<tr><td>0.9207931</td><td>0.9671969</td><td>0.8780925</td><td>0.745356 </td><td>setosa   </td></tr>\n",
       "\t<tr><td>0.9944566</td><td>1.0477967</td><td>1.0662552</td><td>1.490712 </td><td>setosa   </td></tr>\n",
       "</tbody>\n",
       "</table>\n"
      ],
      "text/latex": [
       "\\begin{tabular}{r|lllll}\n",
       " Sepal.Length & Sepal.Width & Petal.Length & Petal.Width & Species\\\\\n",
       "\\hline\n",
       "\t 0.9392090 & 0.9403303 & 0.8780925 & 0.745356  & setosa   \\\\\n",
       "\t 0.9023773 & 0.8059974 & 0.8780925 & 0.745356  & setosa   \\\\\n",
       "\t 0.8655455 & 0.8597306 & 0.8153716 & 0.745356  & setosa   \\\\\n",
       "\t 0.8471297 & 0.8328640 & 0.9408134 & 0.745356  & setosa   \\\\\n",
       "\t 0.9207931 & 0.9671969 & 0.8780925 & 0.745356  & setosa   \\\\\n",
       "\t 0.9944566 & 1.0477967 & 1.0662552 & 1.490712  & setosa   \\\\\n",
       "\\end{tabular}\n"
      ],
      "text/markdown": [
       "\n",
       "Sepal.Length | Sepal.Width | Petal.Length | Petal.Width | Species | \n",
       "|---|---|---|---|---|---|\n",
       "| 0.9392090 | 0.9403303 | 0.8780925 | 0.745356  | setosa    | \n",
       "| 0.9023773 | 0.8059974 | 0.8780925 | 0.745356  | setosa    | \n",
       "| 0.8655455 | 0.8597306 | 0.8153716 | 0.745356  | setosa    | \n",
       "| 0.8471297 | 0.8328640 | 0.9408134 | 0.745356  | setosa    | \n",
       "| 0.9207931 | 0.9671969 | 0.8780925 | 0.745356  | setosa    | \n",
       "| 0.9944566 | 1.0477967 | 1.0662552 | 1.490712  | setosa    | \n",
       "\n",
       "\n"
      ],
      "text/plain": [
       "  Sepal.Length Sepal.Width Petal.Length Petal.Width Species\n",
       "1 0.9392090    0.9403303   0.8780925    0.745356    setosa \n",
       "2 0.9023773    0.8059974   0.8780925    0.745356    setosa \n",
       "3 0.8655455    0.8597306   0.8153716    0.745356    setosa \n",
       "4 0.8471297    0.8328640   0.9408134    0.745356    setosa \n",
       "5 0.9207931    0.9671969   0.8780925    0.745356    setosa \n",
       "6 0.9944566    1.0477967   1.0662552    1.490712    setosa "
      ]
     },
     "metadata": {},
     "output_type": "display_data"
    }
   ],
   "source": [
    "# every CPO's Hyperparameters are exported\n",
    "head(iris) %>>% setHyperPars(cpm, selected.cpo = \"scale\", scale.center = FALSE)"
   ]
  },
  {
   "cell_type": "code",
   "execution_count": 179,
   "metadata": {
    "collapsed": true
   },
   "outputs": [
    {
     "name": "stderr",
     "output_type": "stream",
     "text": [
      "Warning message in makeTask(type, data, weights, blocking, fixup.data = fixup.data, :\n",
      "“Empty factor levels were dropped for columns: Species”"
     ]
    },
    {
     "data": {
      "text/html": [
       "<table>\n",
       "<thead><tr><th scope=col>Species</th><th scope=col>PC1</th><th scope=col>PC2</th><th scope=col>PC3</th><th scope=col>PC4</th></tr></thead>\n",
       "<tbody>\n",
       "\t<tr><td>setosa       </td><td>-0.1634147   </td><td> 0.017230444 </td><td>-0.11038321  </td><td>-0.0231625616</td></tr>\n",
       "\t<tr><td>setosa       </td><td> 0.3324970   </td><td>-0.189351624 </td><td>-0.08152883  </td><td> 0.0005612917</td></tr>\n",
       "\t<tr><td>setosa       </td><td> 0.3268659   </td><td> 0.101103375 </td><td>-0.02238439  </td><td> 0.0464537730</td></tr>\n",
       "\t<tr><td>setosa       </td><td> 0.4202367   </td><td> 0.005523981 </td><td> 0.17106514  </td><td>-0.0222757931</td></tr>\n",
       "\t<tr><td>setosa       </td><td>-0.1768684   </td><td> 0.140149101 </td><td>-0.04185224  </td><td>-0.0194870755</td></tr>\n",
       "\t<tr><td>setosa       </td><td>-0.7393165   </td><td>-0.074655279 </td><td> 0.08508352  </td><td> 0.0179103657</td></tr>\n",
       "</tbody>\n",
       "</table>\n"
      ],
      "text/latex": [
       "\\begin{tabular}{r|lllll}\n",
       " Species & PC1 & PC2 & PC3 & PC4\\\\\n",
       "\\hline\n",
       "\t setosa        & -0.1634147    &  0.017230444  & -0.11038321   & -0.0231625616\\\\\n",
       "\t setosa        &  0.3324970    & -0.189351624  & -0.08152883   &  0.0005612917\\\\\n",
       "\t setosa        &  0.3268659    &  0.101103375  & -0.02238439   &  0.0464537730\\\\\n",
       "\t setosa        &  0.4202367    &  0.005523981  &  0.17106514   & -0.0222757931\\\\\n",
       "\t setosa        & -0.1768684    &  0.140149101  & -0.04185224   & -0.0194870755\\\\\n",
       "\t setosa        & -0.7393165    & -0.074655279  &  0.08508352   &  0.0179103657\\\\\n",
       "\\end{tabular}\n"
      ],
      "text/markdown": [
       "\n",
       "Species | PC1 | PC2 | PC3 | PC4 | \n",
       "|---|---|---|---|---|---|\n",
       "| setosa        | -0.1634147    |  0.017230444  | -0.11038321   | -0.0231625616 | \n",
       "| setosa        |  0.3324970    | -0.189351624  | -0.08152883   |  0.0005612917 | \n",
       "| setosa        |  0.3268659    |  0.101103375  | -0.02238439   |  0.0464537730 | \n",
       "| setosa        |  0.4202367    |  0.005523981  |  0.17106514   | -0.0222757931 | \n",
       "| setosa        | -0.1768684    |  0.140149101  | -0.04185224   | -0.0194870755 | \n",
       "| setosa        | -0.7393165    | -0.074655279  |  0.08508352   |  0.0179103657 | \n",
       "\n",
       "\n"
      ],
      "text/plain": [
       "  Species PC1        PC2          PC3         PC4          \n",
       "1 setosa  -0.1634147  0.017230444 -0.11038321 -0.0231625616\n",
       "2 setosa   0.3324970 -0.189351624 -0.08152883  0.0005612917\n",
       "3 setosa   0.3268659  0.101103375 -0.02238439  0.0464537730\n",
       "4 setosa   0.4202367  0.005523981  0.17106514 -0.0222757931\n",
       "5 setosa  -0.1768684  0.140149101 -0.04185224 -0.0194870755\n",
       "6 setosa  -0.7393165 -0.074655279  0.08508352  0.0179103657"
      ]
     },
     "metadata": {},
     "output_type": "display_data"
    }
   ],
   "source": [
    "head(iris) %>>% setHyperPars(cpm, selected.cpo = \"pca\")"
   ]
  },
  {
   "cell_type": "markdown",
   "metadata": {},
   "source": [
    "## Meta-CPO\n",
    "A CPO that builds data-dependent CPO networks. This is a generalized CPO-Multiplexer that takes a function which decides (from the data, and from user-specified hyperparameters) what CPO operation to perform. Besides optional arguments, the used CPO's Hyperparameters are exported as well. This is a generalization of `cpoMultiplex`; however, `requires` of the involved parameters are not adjusted, since this is impossible in principle."
   ]
  },
  {
   "cell_type": "code",
   "execution_count": 180,
   "metadata": {
    "collapsed": true
   },
   "outputs": [],
   "source": [
    "s.and.p = cpoMeta(logical.param: logical,\n",
    ".export = list(cpoScale(id = \"scale\"), \n",
    "  cpoPca(id = \"pca\", scale = FALSE, center = FALSE)),\n",
    "cpo.build = function(data, target, logical.param, scale, pca) {\n",
    "  if (logical.param || mean(data[[1]]) > 10) {\n",
    "    scale %>>% pca\n",
    "  } else {\n",
    "    pca %>>% scale\n",
    "  }\n",
    "})"
   ]
  },
  {
   "cell_type": "code",
   "execution_count": 181,
   "metadata": {
    "collapsed": true
   },
   "outputs": [
    {
     "data": {
      "text/plain": [
       "Retrafo chain of 1 elements:\n",
       "meta(scale.center = TRUE, scale.scale = TRUE, pca.center = FALSE, pca.scale = FALSE)\n",
       "\n",
       "                 Type len   Def Constr Req Tunable Trafo\n",
       "logical.param logical   -     -      -   -    TRUE     -\n",
       "scale.center  logical   -  TRUE      -   -    TRUE     -\n",
       "scale.scale   logical   -  TRUE      -   -    TRUE     -\n",
       "pca.center    logical   -  TRUE      -   -    TRUE     -\n",
       "pca.scale     logical   - FALSE      -   -    TRUE     -"
      ]
     },
     "metadata": {},
     "output_type": "display_data"
    }
   ],
   "source": [
    " summary(s.and.p())"
   ]
  },
  {
   "cell_type": "markdown",
   "metadata": {},
   "source": [
    "The resulting CPO `s.and.p` performs scaling and PCA, with the order depending on the parameter `logical.param` and on whether the mean of the data's first column exceeds 10. If either of those is true, the data will be first scaled, then PCA'd, otherwise the order is reversed.\n",
    "The all CPOs listed in `.export` are passed to the `cpo.build`."
   ]
  },
  {
   "cell_type": "markdown",
   "metadata": {},
   "source": [
    "## CBind CPO\n",
    "`cbind` other CPOs as operation. The `cbinder` makes it possible to build DAGs of CPOs that perform different operations on data and paste the results next to each other."
   ]
  },
  {
   "cell_type": "code",
   "execution_count": 182,
   "metadata": {
    "collapsed": true
   },
   "outputs": [],
   "source": [
    "scale = cpoScale(id = \"scale\")\n",
    "scale.pca = scale %>>% cpoPca(center = FALSE, scale = FALSE, id = \"pca\")\n",
    "cbinder = cpoCbind(scaled = scale, pcad = scale.pca, original = NULLCPO)"
   ]
  },
  {
   "cell_type": "code",
   "execution_count": 183,
   "metadata": {
    "collapsed": true
   },
   "outputs": [
    {
     "data": {
      "text/plain": [
       "Retrafo chain of 1 elements:\n",
       "cbind(scale.center = TRUE, scale.scale = TRUE, pca.center = FALSE, pca.scale = FALSE, .CPO = <unnamed>=<CPOGraphItem>, <unnamed>=<CPOGraphItem>, <unnamed>=<CPOGraphItem>, <unnamed>=<CPOGraphItem>)\n",
       "O>+   scale.scale(scale.center = TRUE, scale.scale = TRUE)\n",
       "| |  \n",
       "+<O   pca.pca(pca.center = FALSE, pca.scale = FALSE)\n",
       "|  \n",
       "O   CBIND[scaled,pcad,original]\n",
       " \n",
       "\n",
       "                Type len   Def Constr Req Tunable Trafo\n",
       "scale.center logical   -  TRUE      -   -    TRUE     -\n",
       "scale.scale  logical   -  TRUE      -   -    TRUE     -\n",
       "pca.center   logical   -  TRUE      -   -    TRUE     -\n",
       "pca.scale    logical   - FALSE      -   -    TRUE     -\n",
       ".CPO         untyped   -     -      -   -    TRUE     -\n",
       "O>+   scale.scale(scale.center = TRUE, scale.scale = TRUE)\n",
       "| |  \n",
       "+<O   pca.pca(pca.center = FALSE, pca.scale = FALSE)\n",
       "|  \n",
       "O   CBIND[scaled,pcad,original]\n",
       " "
      ]
     },
     "metadata": {},
     "output_type": "display_data"
    }
   ],
   "source": [
    "# cpoCbind recognises that \"scale.scale\" happens before \"pca.pca\" but is also fed to the\n",
    "# result directly. The summary draws a (crude) ascii-art graph.\n",
    "summary(cbinder)"
   ]
  },
  {
   "cell_type": "code",
   "execution_count": 184,
   "metadata": {
    "collapsed": true
   },
   "outputs": [
    {
     "data": {
      "text/html": [
       "<table>\n",
       "<thead><tr><th scope=col>scaled.Sepal.Length</th><th scope=col>scaled.Sepal.Width</th><th scope=col>scaled.Petal.Length</th><th scope=col>scaled.Petal.Width</th><th scope=col>scaled.Species</th><th scope=col>pcad.Species</th><th scope=col>pcad.PC1</th><th scope=col>pcad.PC2</th><th scope=col>pcad.PC3</th><th scope=col>pcad.PC4</th><th scope=col>original.Sepal.Length</th><th scope=col>original.Sepal.Width</th><th scope=col>original.Petal.Length</th><th scope=col>original.Petal.Width</th><th scope=col>original.Species</th></tr></thead>\n",
       "<tbody>\n",
       "\t<tr><td>-0.8976739  </td><td> 1.01560199 </td><td>-1.335752   </td><td>-1.311052   </td><td>setosa      </td><td>setosa      </td><td>-2.257141   </td><td>-0.4784238  </td><td> 0.12727962 </td><td> 0.024087508</td><td>5.1         </td><td>3.5         </td><td>1.4         </td><td>0.2         </td><td>setosa      </td></tr>\n",
       "\t<tr><td>-1.1392005  </td><td>-0.13153881 </td><td>-1.335752   </td><td>-1.311052   </td><td>setosa      </td><td>setosa      </td><td>-2.074013   </td><td> 0.6718827  </td><td> 0.23382552 </td><td> 0.102662845</td><td>4.9         </td><td>3.0         </td><td>1.4         </td><td>0.2         </td><td>setosa      </td></tr>\n",
       "\t<tr><td>-1.3807271  </td><td> 0.32731751 </td><td>-1.392399   </td><td>-1.311052   </td><td>setosa      </td><td>setosa      </td><td>-2.356335   </td><td> 0.3407664  </td><td>-0.04405390 </td><td> 0.028282305</td><td>4.7         </td><td>3.2         </td><td>1.3         </td><td>0.2         </td><td>setosa      </td></tr>\n",
       "\t<tr><td>-1.5014904  </td><td> 0.09788935 </td><td>-1.279104   </td><td>-1.311052   </td><td>setosa      </td><td>setosa      </td><td>-2.291707   </td><td> 0.5953999  </td><td>-0.09098530 </td><td>-0.065735340</td><td>4.6         </td><td>3.1         </td><td>1.5         </td><td>0.2         </td><td>setosa      </td></tr>\n",
       "\t<tr><td>-1.0184372  </td><td> 1.24503015 </td><td>-1.335752   </td><td>-1.311052   </td><td>setosa      </td><td>setosa      </td><td>-2.381863   </td><td>-0.6446757  </td><td>-0.01568565 </td><td>-0.035802870</td><td>5.0         </td><td>3.6         </td><td>1.4         </td><td>0.2         </td><td>setosa      </td></tr>\n",
       "\t<tr><td>-0.5353840  </td><td> 1.93331463 </td><td>-1.165809   </td><td>-1.048667   </td><td>setosa      </td><td>setosa      </td><td>-2.068701   </td><td>-1.4842053  </td><td>-0.02687825 </td><td> 0.006586116</td><td>5.4         </td><td>3.9         </td><td>1.7         </td><td>0.4         </td><td>setosa      </td></tr>\n",
       "</tbody>\n",
       "</table>\n"
      ],
      "text/latex": [
       "\\begin{tabular}{r|lllllllllllllll}\n",
       " scaled.Sepal.Length & scaled.Sepal.Width & scaled.Petal.Length & scaled.Petal.Width & scaled.Species & pcad.Species & pcad.PC1 & pcad.PC2 & pcad.PC3 & pcad.PC4 & original.Sepal.Length & original.Sepal.Width & original.Petal.Length & original.Petal.Width & original.Species\\\\\n",
       "\\hline\n",
       "\t -0.8976739   &  1.01560199  & -1.335752    & -1.311052    & setosa       & setosa       & -2.257141    & -0.4784238   &  0.12727962  &  0.024087508 & 5.1          & 3.5          & 1.4          & 0.2          & setosa      \\\\\n",
       "\t -1.1392005   & -0.13153881  & -1.335752    & -1.311052    & setosa       & setosa       & -2.074013    &  0.6718827   &  0.23382552  &  0.102662845 & 4.9          & 3.0          & 1.4          & 0.2          & setosa      \\\\\n",
       "\t -1.3807271   &  0.32731751  & -1.392399    & -1.311052    & setosa       & setosa       & -2.356335    &  0.3407664   & -0.04405390  &  0.028282305 & 4.7          & 3.2          & 1.3          & 0.2          & setosa      \\\\\n",
       "\t -1.5014904   &  0.09788935  & -1.279104    & -1.311052    & setosa       & setosa       & -2.291707    &  0.5953999   & -0.09098530  & -0.065735340 & 4.6          & 3.1          & 1.5          & 0.2          & setosa      \\\\\n",
       "\t -1.0184372   &  1.24503015  & -1.335752    & -1.311052    & setosa       & setosa       & -2.381863    & -0.6446757   & -0.01568565  & -0.035802870 & 5.0          & 3.6          & 1.4          & 0.2          & setosa      \\\\\n",
       "\t -0.5353840   &  1.93331463  & -1.165809    & -1.048667    & setosa       & setosa       & -2.068701    & -1.4842053   & -0.02687825  &  0.006586116 & 5.4          & 3.9          & 1.7          & 0.4          & setosa      \\\\\n",
       "\\end{tabular}\n"
      ],
      "text/markdown": [
       "\n",
       "scaled.Sepal.Length | scaled.Sepal.Width | scaled.Petal.Length | scaled.Petal.Width | scaled.Species | pcad.Species | pcad.PC1 | pcad.PC2 | pcad.PC3 | pcad.PC4 | original.Sepal.Length | original.Sepal.Width | original.Petal.Length | original.Petal.Width | original.Species | \n",
       "|---|---|---|---|---|---|\n",
       "| -0.8976739   |  1.01560199  | -1.335752    | -1.311052    | setosa       | setosa       | -2.257141    | -0.4784238   |  0.12727962  |  0.024087508 | 5.1          | 3.5          | 1.4          | 0.2          | setosa       | \n",
       "| -1.1392005   | -0.13153881  | -1.335752    | -1.311052    | setosa       | setosa       | -2.074013    |  0.6718827   |  0.23382552  |  0.102662845 | 4.9          | 3.0          | 1.4          | 0.2          | setosa       | \n",
       "| -1.3807271   |  0.32731751  | -1.392399    | -1.311052    | setosa       | setosa       | -2.356335    |  0.3407664   | -0.04405390  |  0.028282305 | 4.7          | 3.2          | 1.3          | 0.2          | setosa       | \n",
       "| -1.5014904   |  0.09788935  | -1.279104    | -1.311052    | setosa       | setosa       | -2.291707    |  0.5953999   | -0.09098530  | -0.065735340 | 4.6          | 3.1          | 1.5          | 0.2          | setosa       | \n",
       "| -1.0184372   |  1.24503015  | -1.335752    | -1.311052    | setosa       | setosa       | -2.381863    | -0.6446757   | -0.01568565  | -0.035802870 | 5.0          | 3.6          | 1.4          | 0.2          | setosa       | \n",
       "| -0.5353840   |  1.93331463  | -1.165809    | -1.048667    | setosa       | setosa       | -2.068701    | -1.4842053   | -0.02687825  |  0.006586116 | 5.4          | 3.9          | 1.7          | 0.4          | setosa       | \n",
       "\n",
       "\n"
      ],
      "text/plain": [
       "  scaled.Sepal.Length scaled.Sepal.Width scaled.Petal.Length scaled.Petal.Width\n",
       "1 -0.8976739           1.01560199        -1.335752           -1.311052         \n",
       "2 -1.1392005          -0.13153881        -1.335752           -1.311052         \n",
       "3 -1.3807271           0.32731751        -1.392399           -1.311052         \n",
       "4 -1.5014904           0.09788935        -1.279104           -1.311052         \n",
       "5 -1.0184372           1.24503015        -1.335752           -1.311052         \n",
       "6 -0.5353840           1.93331463        -1.165809           -1.048667         \n",
       "  scaled.Species pcad.Species pcad.PC1  pcad.PC2   pcad.PC3    pcad.PC4    \n",
       "1 setosa         setosa       -2.257141 -0.4784238  0.12727962  0.024087508\n",
       "2 setosa         setosa       -2.074013  0.6718827  0.23382552  0.102662845\n",
       "3 setosa         setosa       -2.356335  0.3407664 -0.04405390  0.028282305\n",
       "4 setosa         setosa       -2.291707  0.5953999 -0.09098530 -0.065735340\n",
       "5 setosa         setosa       -2.381863 -0.6446757 -0.01568565 -0.035802870\n",
       "6 setosa         setosa       -2.068701 -1.4842053 -0.02687825  0.006586116\n",
       "  original.Sepal.Length original.Sepal.Width original.Petal.Length\n",
       "1 5.1                   3.5                  1.4                  \n",
       "2 4.9                   3.0                  1.4                  \n",
       "3 4.7                   3.2                  1.3                  \n",
       "4 4.6                   3.1                  1.5                  \n",
       "5 5.0                   3.6                  1.4                  \n",
       "6 5.4                   3.9                  1.7                  \n",
       "  original.Petal.Width original.Species\n",
       "1 0.2                  setosa          \n",
       "2 0.2                  setosa          \n",
       "3 0.2                  setosa          \n",
       "4 0.2                  setosa          \n",
       "5 0.2                  setosa          \n",
       "6 0.4                  setosa          "
      ]
     },
     "metadata": {},
     "output_type": "display_data"
    }
   ],
   "source": [
    "head(iris %>>% cbinder)"
   ]
  },
  {
   "cell_type": "code",
   "execution_count": 185,
   "metadata": {
    "collapsed": true
   },
   "outputs": [
    {
     "data": {
      "text/plain": [
       "cbind(type = numeric, index = integer(0), names = character(0), pattern = <NULL>, pattern.ignore.case = FALSE, pattern.perl = FALSE, pattern.fixed = FALSE, invert = FALSE, scale.center = TRUE, scale.scale = TRUE, pca.center = FALSE, pca.scale = FALSE, .CPO = <unnamed>=<CPOGraphItem>, <unnamed>=<CPOGraphItem>, <unnamed>=<CPOGraphItem>, <unnamed>=<CPOGraphItem>, <unnamed>=<CPOGraphItem>)\n",
       "O     select(type = numeric, index = integer(0), names = character(0), pattern\n",
       "|    = <NULL>, pattern.ignore.case = FALSE, pattern.perl = FALSE,\n",
       "|    pattern.fixed = FALSE, invert = FALSE)\n",
       "|    \n",
       "O>+   scale.scale(scale.center = TRUE, scale.scale = TRUE)\n",
       "| |  \n",
       "+<O   pca.pca(pca.center = FALSE, pca.scale = FALSE)\n",
       "|  \n",
       "O   CBIND[scaled,pcad,original]\n",
       " "
      ]
     },
     "metadata": {},
     "output_type": "display_data"
    },
    {
     "data": {
      "text/html": [
       "<table>\n",
       "<thead><tr><th scope=col>scaled.Sepal.Length</th><th scope=col>scaled.Sepal.Width</th><th scope=col>scaled.Petal.Length</th><th scope=col>scaled.Petal.Width</th><th scope=col>scaled.Species</th><th scope=col>pcad.Species</th><th scope=col>pcad.PC1</th><th scope=col>pcad.PC2</th><th scope=col>pcad.PC3</th><th scope=col>pcad.PC4</th><th scope=col>original.Sepal.Length</th><th scope=col>original.Sepal.Width</th><th scope=col>original.Petal.Length</th><th scope=col>original.Petal.Width</th><th scope=col>original.Species</th></tr></thead>\n",
       "<tbody>\n",
       "\t<tr><td>-0.8976739  </td><td> 1.01560199 </td><td>-1.335752   </td><td>-1.311052   </td><td>setosa      </td><td>setosa      </td><td>-2.257141   </td><td>-0.4784238  </td><td> 0.12727962 </td><td> 0.024087508</td><td>5.1         </td><td>3.5         </td><td>1.4         </td><td>0.2         </td><td>setosa      </td></tr>\n",
       "\t<tr><td>-1.1392005  </td><td>-0.13153881 </td><td>-1.335752   </td><td>-1.311052   </td><td>setosa      </td><td>setosa      </td><td>-2.074013   </td><td> 0.6718827  </td><td> 0.23382552 </td><td> 0.102662845</td><td>4.9         </td><td>3.0         </td><td>1.4         </td><td>0.2         </td><td>setosa      </td></tr>\n",
       "\t<tr><td>-1.3807271  </td><td> 0.32731751 </td><td>-1.392399   </td><td>-1.311052   </td><td>setosa      </td><td>setosa      </td><td>-2.356335   </td><td> 0.3407664  </td><td>-0.04405390 </td><td> 0.028282305</td><td>4.7         </td><td>3.2         </td><td>1.3         </td><td>0.2         </td><td>setosa      </td></tr>\n",
       "\t<tr><td>-1.5014904  </td><td> 0.09788935 </td><td>-1.279104   </td><td>-1.311052   </td><td>setosa      </td><td>setosa      </td><td>-2.291707   </td><td> 0.5953999  </td><td>-0.09098530 </td><td>-0.065735340</td><td>4.6         </td><td>3.1         </td><td>1.5         </td><td>0.2         </td><td>setosa      </td></tr>\n",
       "\t<tr><td>-1.0184372  </td><td> 1.24503015 </td><td>-1.335752   </td><td>-1.311052   </td><td>setosa      </td><td>setosa      </td><td>-2.381863   </td><td>-0.6446757  </td><td>-0.01568565 </td><td>-0.035802870</td><td>5.0         </td><td>3.6         </td><td>1.4         </td><td>0.2         </td><td>setosa      </td></tr>\n",
       "\t<tr><td>-0.5353840  </td><td> 1.93331463 </td><td>-1.165809   </td><td>-1.048667   </td><td>setosa      </td><td>setosa      </td><td>-2.068701   </td><td>-1.4842053  </td><td>-0.02687825 </td><td> 0.006586116</td><td>5.4         </td><td>3.9         </td><td>1.7         </td><td>0.4         </td><td>setosa      </td></tr>\n",
       "</tbody>\n",
       "</table>\n"
      ],
      "text/latex": [
       "\\begin{tabular}{r|lllllllllllllll}\n",
       " scaled.Sepal.Length & scaled.Sepal.Width & scaled.Petal.Length & scaled.Petal.Width & scaled.Species & pcad.Species & pcad.PC1 & pcad.PC2 & pcad.PC3 & pcad.PC4 & original.Sepal.Length & original.Sepal.Width & original.Petal.Length & original.Petal.Width & original.Species\\\\\n",
       "\\hline\n",
       "\t -0.8976739   &  1.01560199  & -1.335752    & -1.311052    & setosa       & setosa       & -2.257141    & -0.4784238   &  0.12727962  &  0.024087508 & 5.1          & 3.5          & 1.4          & 0.2          & setosa      \\\\\n",
       "\t -1.1392005   & -0.13153881  & -1.335752    & -1.311052    & setosa       & setosa       & -2.074013    &  0.6718827   &  0.23382552  &  0.102662845 & 4.9          & 3.0          & 1.4          & 0.2          & setosa      \\\\\n",
       "\t -1.3807271   &  0.32731751  & -1.392399    & -1.311052    & setosa       & setosa       & -2.356335    &  0.3407664   & -0.04405390  &  0.028282305 & 4.7          & 3.2          & 1.3          & 0.2          & setosa      \\\\\n",
       "\t -1.5014904   &  0.09788935  & -1.279104    & -1.311052    & setosa       & setosa       & -2.291707    &  0.5953999   & -0.09098530  & -0.065735340 & 4.6          & 3.1          & 1.5          & 0.2          & setosa      \\\\\n",
       "\t -1.0184372   &  1.24503015  & -1.335752    & -1.311052    & setosa       & setosa       & -2.381863    & -0.6446757   & -0.01568565  & -0.035802870 & 5.0          & 3.6          & 1.4          & 0.2          & setosa      \\\\\n",
       "\t -0.5353840   &  1.93331463  & -1.165809    & -1.048667    & setosa       & setosa       & -2.068701    & -1.4842053   & -0.02687825  &  0.006586116 & 5.4          & 3.9          & 1.7          & 0.4          & setosa      \\\\\n",
       "\\end{tabular}\n"
      ],
      "text/markdown": [
       "\n",
       "scaled.Sepal.Length | scaled.Sepal.Width | scaled.Petal.Length | scaled.Petal.Width | scaled.Species | pcad.Species | pcad.PC1 | pcad.PC2 | pcad.PC3 | pcad.PC4 | original.Sepal.Length | original.Sepal.Width | original.Petal.Length | original.Petal.Width | original.Species | \n",
       "|---|---|---|---|---|---|\n",
       "| -0.8976739   |  1.01560199  | -1.335752    | -1.311052    | setosa       | setosa       | -2.257141    | -0.4784238   |  0.12727962  |  0.024087508 | 5.1          | 3.5          | 1.4          | 0.2          | setosa       | \n",
       "| -1.1392005   | -0.13153881  | -1.335752    | -1.311052    | setosa       | setosa       | -2.074013    |  0.6718827   |  0.23382552  |  0.102662845 | 4.9          | 3.0          | 1.4          | 0.2          | setosa       | \n",
       "| -1.3807271   |  0.32731751  | -1.392399    | -1.311052    | setosa       | setosa       | -2.356335    |  0.3407664   | -0.04405390  |  0.028282305 | 4.7          | 3.2          | 1.3          | 0.2          | setosa       | \n",
       "| -1.5014904   |  0.09788935  | -1.279104    | -1.311052    | setosa       | setosa       | -2.291707    |  0.5953999   | -0.09098530  | -0.065735340 | 4.6          | 3.1          | 1.5          | 0.2          | setosa       | \n",
       "| -1.0184372   |  1.24503015  | -1.335752    | -1.311052    | setosa       | setosa       | -2.381863    | -0.6446757   | -0.01568565  | -0.035802870 | 5.0          | 3.6          | 1.4          | 0.2          | setosa       | \n",
       "| -0.5353840   |  1.93331463  | -1.165809    | -1.048667    | setosa       | setosa       | -2.068701    | -1.4842053   | -0.02687825  |  0.006586116 | 5.4          | 3.9          | 1.7          | 0.4          | setosa       | \n",
       "\n",
       "\n"
      ],
      "text/plain": [
       "  scaled.Sepal.Length scaled.Sepal.Width scaled.Petal.Length scaled.Petal.Width\n",
       "1 -0.8976739           1.01560199        -1.335752           -1.311052         \n",
       "2 -1.1392005          -0.13153881        -1.335752           -1.311052         \n",
       "3 -1.3807271           0.32731751        -1.392399           -1.311052         \n",
       "4 -1.5014904           0.09788935        -1.279104           -1.311052         \n",
       "5 -1.0184372           1.24503015        -1.335752           -1.311052         \n",
       "6 -0.5353840           1.93331463        -1.165809           -1.048667         \n",
       "  scaled.Species pcad.Species pcad.PC1  pcad.PC2   pcad.PC3    pcad.PC4    \n",
       "1 setosa         setosa       -2.257141 -0.4784238  0.12727962  0.024087508\n",
       "2 setosa         setosa       -2.074013  0.6718827  0.23382552  0.102662845\n",
       "3 setosa         setosa       -2.356335  0.3407664 -0.04405390  0.028282305\n",
       "4 setosa         setosa       -2.291707  0.5953999 -0.09098530 -0.065735340\n",
       "5 setosa         setosa       -2.381863 -0.6446757 -0.01568565 -0.035802870\n",
       "6 setosa         setosa       -2.068701 -1.4842053 -0.02687825  0.006586116\n",
       "  original.Sepal.Length original.Sepal.Width original.Petal.Length\n",
       "1 5.1                   3.5                  1.4                  \n",
       "2 4.9                   3.0                  1.4                  \n",
       "3 4.7                   3.2                  1.3                  \n",
       "4 4.6                   3.1                  1.5                  \n",
       "5 5.0                   3.6                  1.4                  \n",
       "6 5.4                   3.9                  1.7                  \n",
       "  original.Petal.Width original.Species\n",
       "1 0.2                  setosa          \n",
       "2 0.2                  setosa          \n",
       "3 0.2                  setosa          \n",
       "4 0.2                  setosa          \n",
       "5 0.2                  setosa          \n",
       "6 0.4                  setosa          "
      ]
     },
     "metadata": {},
     "output_type": "display_data"
    }
   ],
   "source": [
    "# the unnecessary copies of \"Species\" are unfortunate. Remove them with cpoSelect:\n",
    "selector = mlr:::cpoSelect(type = \"numeric\")\n",
    "cbinder.select = cpoCbind(scaled = selector %>>% scale, pcad = selector %>>% scale.pca, original = NULLCPO)\n",
    "cbinder.select\n",
    "head(iris %>>% cbinder)"
   ]
  },
  {
   "cell_type": "code",
   "execution_count": 186,
   "metadata": {
    "collapsed": true
   },
   "outputs": [
    {
     "data": {
      "text/html": [
       "<table>\n",
       "<thead><tr><th scope=col>Species</th><th scope=col>scaled.Sepal.Length</th><th scope=col>scaled.Sepal.Width</th><th scope=col>scaled.Petal.Length</th><th scope=col>scaled.Petal.Width</th><th scope=col>pcad.PC1</th><th scope=col>pcad.PC2</th><th scope=col>pcad.PC3</th><th scope=col>pcad.PC4</th><th scope=col>original.Sepal.Length</th><th scope=col>original.Sepal.Width</th><th scope=col>original.Petal.Length</th><th scope=col>original.Petal.Width</th></tr></thead>\n",
       "<tbody>\n",
       "\t<tr><td>setosa      </td><td>-0.8976739  </td><td> 1.01560199 </td><td>-1.335752   </td><td>-1.311052   </td><td>-2.257141   </td><td>-0.4784238  </td><td> 0.12727962 </td><td> 0.024087508</td><td>5.1         </td><td>3.5         </td><td>1.4         </td><td>0.2         </td></tr>\n",
       "\t<tr><td>setosa      </td><td>-1.1392005  </td><td>-0.13153881 </td><td>-1.335752   </td><td>-1.311052   </td><td>-2.074013   </td><td> 0.6718827  </td><td> 0.23382552 </td><td> 0.102662845</td><td>4.9         </td><td>3.0         </td><td>1.4         </td><td>0.2         </td></tr>\n",
       "\t<tr><td>setosa      </td><td>-1.3807271  </td><td> 0.32731751 </td><td>-1.392399   </td><td>-1.311052   </td><td>-2.356335   </td><td> 0.3407664  </td><td>-0.04405390 </td><td> 0.028282305</td><td>4.7         </td><td>3.2         </td><td>1.3         </td><td>0.2         </td></tr>\n",
       "\t<tr><td>setosa      </td><td>-1.5014904  </td><td> 0.09788935 </td><td>-1.279104   </td><td>-1.311052   </td><td>-2.291707   </td><td> 0.5953999  </td><td>-0.09098530 </td><td>-0.065735340</td><td>4.6         </td><td>3.1         </td><td>1.5         </td><td>0.2         </td></tr>\n",
       "\t<tr><td>setosa      </td><td>-1.0184372  </td><td> 1.24503015 </td><td>-1.335752   </td><td>-1.311052   </td><td>-2.381863   </td><td>-0.6446757  </td><td>-0.01568565 </td><td>-0.035802870</td><td>5.0         </td><td>3.6         </td><td>1.4         </td><td>0.2         </td></tr>\n",
       "\t<tr><td>setosa      </td><td>-0.5353840  </td><td> 1.93331463 </td><td>-1.165809   </td><td>-1.048667   </td><td>-2.068701   </td><td>-1.4842053  </td><td>-0.02687825 </td><td> 0.006586116</td><td>5.4         </td><td>3.9         </td><td>1.7         </td><td>0.4         </td></tr>\n",
       "</tbody>\n",
       "</table>\n"
      ],
      "text/latex": [
       "\\begin{tabular}{r|lllllllllllll}\n",
       " Species & scaled.Sepal.Length & scaled.Sepal.Width & scaled.Petal.Length & scaled.Petal.Width & pcad.PC1 & pcad.PC2 & pcad.PC3 & pcad.PC4 & original.Sepal.Length & original.Sepal.Width & original.Petal.Length & original.Petal.Width\\\\\n",
       "\\hline\n",
       "\t setosa       & -0.8976739   &  1.01560199  & -1.335752    & -1.311052    & -2.257141    & -0.4784238   &  0.12727962  &  0.024087508 & 5.1          & 3.5          & 1.4          & 0.2         \\\\\n",
       "\t setosa       & -1.1392005   & -0.13153881  & -1.335752    & -1.311052    & -2.074013    &  0.6718827   &  0.23382552  &  0.102662845 & 4.9          & 3.0          & 1.4          & 0.2         \\\\\n",
       "\t setosa       & -1.3807271   &  0.32731751  & -1.392399    & -1.311052    & -2.356335    &  0.3407664   & -0.04405390  &  0.028282305 & 4.7          & 3.2          & 1.3          & 0.2         \\\\\n",
       "\t setosa       & -1.5014904   &  0.09788935  & -1.279104    & -1.311052    & -2.291707    &  0.5953999   & -0.09098530  & -0.065735340 & 4.6          & 3.1          & 1.5          & 0.2         \\\\\n",
       "\t setosa       & -1.0184372   &  1.24503015  & -1.335752    & -1.311052    & -2.381863    & -0.6446757   & -0.01568565  & -0.035802870 & 5.0          & 3.6          & 1.4          & 0.2         \\\\\n",
       "\t setosa       & -0.5353840   &  1.93331463  & -1.165809    & -1.048667    & -2.068701    & -1.4842053   & -0.02687825  &  0.006586116 & 5.4          & 3.9          & 1.7          & 0.4         \\\\\n",
       "\\end{tabular}\n"
      ],
      "text/markdown": [
       "\n",
       "Species | scaled.Sepal.Length | scaled.Sepal.Width | scaled.Petal.Length | scaled.Petal.Width | pcad.PC1 | pcad.PC2 | pcad.PC3 | pcad.PC4 | original.Sepal.Length | original.Sepal.Width | original.Petal.Length | original.Petal.Width | \n",
       "|---|---|---|---|---|---|\n",
       "| setosa       | -0.8976739   |  1.01560199  | -1.335752    | -1.311052    | -2.257141    | -0.4784238   |  0.12727962  |  0.024087508 | 5.1          | 3.5          | 1.4          | 0.2          | \n",
       "| setosa       | -1.1392005   | -0.13153881  | -1.335752    | -1.311052    | -2.074013    |  0.6718827   |  0.23382552  |  0.102662845 | 4.9          | 3.0          | 1.4          | 0.2          | \n",
       "| setosa       | -1.3807271   |  0.32731751  | -1.392399    | -1.311052    | -2.356335    |  0.3407664   | -0.04405390  |  0.028282305 | 4.7          | 3.2          | 1.3          | 0.2          | \n",
       "| setosa       | -1.5014904   |  0.09788935  | -1.279104    | -1.311052    | -2.291707    |  0.5953999   | -0.09098530  | -0.065735340 | 4.6          | 3.1          | 1.5          | 0.2          | \n",
       "| setosa       | -1.0184372   |  1.24503015  | -1.335752    | -1.311052    | -2.381863    | -0.6446757   | -0.01568565  | -0.035802870 | 5.0          | 3.6          | 1.4          | 0.2          | \n",
       "| setosa       | -0.5353840   |  1.93331463  | -1.165809    | -1.048667    | -2.068701    | -1.4842053   | -0.02687825  |  0.006586116 | 5.4          | 3.9          | 1.7          | 0.4          | \n",
       "\n",
       "\n"
      ],
      "text/plain": [
       "  Species scaled.Sepal.Length scaled.Sepal.Width scaled.Petal.Length\n",
       "1 setosa  -0.8976739           1.01560199        -1.335752          \n",
       "2 setosa  -1.1392005          -0.13153881        -1.335752          \n",
       "3 setosa  -1.3807271           0.32731751        -1.392399          \n",
       "4 setosa  -1.5014904           0.09788935        -1.279104          \n",
       "5 setosa  -1.0184372           1.24503015        -1.335752          \n",
       "6 setosa  -0.5353840           1.93331463        -1.165809          \n",
       "  scaled.Petal.Width pcad.PC1  pcad.PC2   pcad.PC3    pcad.PC4    \n",
       "1 -1.311052          -2.257141 -0.4784238  0.12727962  0.024087508\n",
       "2 -1.311052          -2.074013  0.6718827  0.23382552  0.102662845\n",
       "3 -1.311052          -2.356335  0.3407664 -0.04405390  0.028282305\n",
       "4 -1.311052          -2.291707  0.5953999 -0.09098530 -0.065735340\n",
       "5 -1.311052          -2.381863 -0.6446757 -0.01568565 -0.035802870\n",
       "6 -1.048667          -2.068701 -1.4842053 -0.02687825  0.006586116\n",
       "  original.Sepal.Length original.Sepal.Width original.Petal.Length\n",
       "1 5.1                   3.5                  1.4                  \n",
       "2 4.9                   3.0                  1.4                  \n",
       "3 4.7                   3.2                  1.3                  \n",
       "4 4.6                   3.1                  1.5                  \n",
       "5 5.0                   3.6                  1.4                  \n",
       "6 5.4                   3.9                  1.7                  \n",
       "  original.Petal.Width\n",
       "1 0.2                 \n",
       "2 0.2                 \n",
       "3 0.2                 \n",
       "4 0.2                 \n",
       "5 0.2                 \n",
       "6 0.4                 "
      ]
     },
     "metadata": {},
     "output_type": "display_data"
    }
   ],
   "source": [
    "# alternatively, we apply the cbinder only to numerical data\n",
    "head(iris %>>% cpoApply(cbinder, affect.type = \"numeric\"))"
   ]
  },
  {
   "cell_type": "markdown",
   "metadata": {},
   "source": [
    "# Builtin CPOs"
   ]
  },
  {
   "cell_type": "markdown",
   "metadata": {},
   "source": [
    "## cpoScale\n",
    "Implements the `base::scale` function."
   ]
  },
  {
   "cell_type": "code",
   "execution_count": 187,
   "metadata": {
    "collapsed": true
   },
   "outputs": [
    {
     "data": {
      "text/html": [
       "<table>\n",
       "<thead><tr><th scope=col>a</th><th scope=col>b</th></tr></thead>\n",
       "<tbody>\n",
       "\t<tr><td>-1</td><td> 1</td></tr>\n",
       "\t<tr><td> 0</td><td> 0</td></tr>\n",
       "\t<tr><td> 1</td><td>-1</td></tr>\n",
       "</tbody>\n",
       "</table>\n"
      ],
      "text/latex": [
       "\\begin{tabular}{r|ll}\n",
       " a & b\\\\\n",
       "\\hline\n",
       "\t -1 &  1\\\\\n",
       "\t  0 &  0\\\\\n",
       "\t  1 & -1\\\\\n",
       "\\end{tabular}\n"
      ],
      "text/markdown": [
       "\n",
       "a | b | \n",
       "|---|---|---|\n",
       "| -1 |  1 | \n",
       "|  0 |  0 | \n",
       "|  1 | -1 | \n",
       "\n",
       "\n"
      ],
      "text/plain": [
       "  a  b \n",
       "1 -1  1\n",
       "2  0  0\n",
       "3  1 -1"
      ]
     },
     "metadata": {},
     "output_type": "display_data"
    }
   ],
   "source": [
    "df %>>% cpoScale()"
   ]
  },
  {
   "cell_type": "code",
   "execution_count": 188,
   "metadata": {
    "collapsed": true
   },
   "outputs": [
    {
     "data": {
      "text/html": [
       "<table>\n",
       "<thead><tr><th scope=col>a</th><th scope=col>b</th></tr></thead>\n",
       "<tbody>\n",
       "\t<tr><td>-1 </td><td> 10</td></tr>\n",
       "\t<tr><td> 0 </td><td>  0</td></tr>\n",
       "\t<tr><td> 1 </td><td>-10</td></tr>\n",
       "</tbody>\n",
       "</table>\n"
      ],
      "text/latex": [
       "\\begin{tabular}{r|ll}\n",
       " a & b\\\\\n",
       "\\hline\n",
       "\t -1  &  10\\\\\n",
       "\t  0  &   0\\\\\n",
       "\t  1  & -10\\\\\n",
       "\\end{tabular}\n"
      ],
      "text/markdown": [
       "\n",
       "a | b | \n",
       "|---|---|---|\n",
       "| -1  |  10 | \n",
       "|  0  |   0 | \n",
       "|  1  | -10 | \n",
       "\n",
       "\n"
      ],
      "text/plain": [
       "  a  b  \n",
       "1 -1  10\n",
       "2  0   0\n",
       "3  1 -10"
      ]
     },
     "metadata": {},
     "output_type": "display_data"
    }
   ],
   "source": [
    "df %>>% cpoScale(scale = FALSE)  # center = TRUE"
   ]
  },
  {
   "cell_type": "markdown",
   "metadata": {},
   "source": [
    "## cpoPca\n",
    "Implements `stats::prcomp`."
   ]
  },
  {
   "cell_type": "code",
   "execution_count": 189,
   "metadata": {
    "collapsed": true
   },
   "outputs": [
    {
     "data": {
      "text/html": [
       "<table>\n",
       "<thead><tr><th scope=col>PC1</th><th scope=col>PC2</th></tr></thead>\n",
       "<tbody>\n",
       "\t<tr><td>-10.04988    </td><td> 4.440892e-16</td></tr>\n",
       "\t<tr><td>  0.00000    </td><td> 0.000000e+00</td></tr>\n",
       "\t<tr><td> 10.04988    </td><td>-4.440892e-16</td></tr>\n",
       "</tbody>\n",
       "</table>\n"
      ],
      "text/latex": [
       "\\begin{tabular}{r|ll}\n",
       " PC1 & PC2\\\\\n",
       "\\hline\n",
       "\t -10.04988     &  4.440892e-16\\\\\n",
       "\t   0.00000     &  0.000000e+00\\\\\n",
       "\t  10.04988     & -4.440892e-16\\\\\n",
       "\\end{tabular}\n"
      ],
      "text/markdown": [
       "\n",
       "PC1 | PC2 | \n",
       "|---|---|---|\n",
       "| -10.04988     |  4.440892e-16 | \n",
       "|   0.00000     |  0.000000e+00 | \n",
       "|  10.04988     | -4.440892e-16 | \n",
       "\n",
       "\n"
      ],
      "text/plain": [
       "  PC1       PC2          \n",
       "1 -10.04988  4.440892e-16\n",
       "2   0.00000  0.000000e+00\n",
       "3  10.04988 -4.440892e-16"
      ]
     },
     "metadata": {},
     "output_type": "display_data"
    }
   ],
   "source": [
    "df %>>% cpoPca()"
   ]
  },
  {
   "cell_type": "code",
   "execution_count": 190,
   "metadata": {
    "collapsed": true
   },
   "outputs": [
    {
     "data": {
      "text/html": [
       "<table>\n",
       "<thead><tr><th scope=col>PC1</th><th scope=col>PC2</th></tr></thead>\n",
       "<tbody>\n",
       "\t<tr><td>-1.414214    </td><td> 1.110223e-16</td></tr>\n",
       "\t<tr><td> 0.000000    </td><td> 0.000000e+00</td></tr>\n",
       "\t<tr><td> 1.414214    </td><td>-1.110223e-16</td></tr>\n",
       "</tbody>\n",
       "</table>\n"
      ],
      "text/latex": [
       "\\begin{tabular}{r|ll}\n",
       " PC1 & PC2\\\\\n",
       "\\hline\n",
       "\t -1.414214     &  1.110223e-16\\\\\n",
       "\t  0.000000     &  0.000000e+00\\\\\n",
       "\t  1.414214     & -1.110223e-16\\\\\n",
       "\\end{tabular}\n"
      ],
      "text/markdown": [
       "\n",
       "PC1 | PC2 | \n",
       "|---|---|---|\n",
       "| -1.414214     |  1.110223e-16 | \n",
       "|  0.000000     |  0.000000e+00 | \n",
       "|  1.414214     | -1.110223e-16 | \n",
       "\n",
       "\n"
      ],
      "text/plain": [
       "  PC1       PC2          \n",
       "1 -1.414214  1.110223e-16\n",
       "2  0.000000  0.000000e+00\n",
       "3  1.414214 -1.110223e-16"
      ]
     },
     "metadata": {},
     "output_type": "display_data"
    }
   ],
   "source": [
    "df %>>% cpoPca(scale = TRUE)"
   ]
  },
  {
   "cell_type": "markdown",
   "metadata": {},
   "source": [
    "## cpoDummyEncode\n",
    "Dummy encoding of factorial variables. Optionally uses the first factor as reference variable."
   ]
  },
  {
   "cell_type": "code",
   "execution_count": 191,
   "metadata": {
    "collapsed": true
   },
   "outputs": [
    {
     "data": {
      "text/html": [
       "<table>\n",
       "<thead><tr><th scope=col>Sepal.Length</th><th scope=col>Sepal.Width</th><th scope=col>Petal.Length</th><th scope=col>Petal.Width</th><th scope=col>Speciessetosa</th><th scope=col>Speciesversicolor</th><th scope=col>Speciesvirginica</th></tr></thead>\n",
       "<tbody>\n",
       "\t<tr><td>5.1</td><td>3.5</td><td>1.4</td><td>0.2</td><td>1  </td><td>0  </td><td>0  </td></tr>\n",
       "\t<tr><td>4.9</td><td>3.0</td><td>1.4</td><td>0.2</td><td>1  </td><td>0  </td><td>0  </td></tr>\n",
       "\t<tr><td>4.7</td><td>3.2</td><td>1.3</td><td>0.2</td><td>1  </td><td>0  </td><td>0  </td></tr>\n",
       "\t<tr><td>4.6</td><td>3.1</td><td>1.5</td><td>0.2</td><td>1  </td><td>0  </td><td>0  </td></tr>\n",
       "\t<tr><td>5.0</td><td>3.6</td><td>1.4</td><td>0.2</td><td>1  </td><td>0  </td><td>0  </td></tr>\n",
       "\t<tr><td>5.4</td><td>3.9</td><td>1.7</td><td>0.4</td><td>1  </td><td>0  </td><td>0  </td></tr>\n",
       "</tbody>\n",
       "</table>\n"
      ],
      "text/latex": [
       "\\begin{tabular}{r|lllllll}\n",
       " Sepal.Length & Sepal.Width & Petal.Length & Petal.Width & Speciessetosa & Speciesversicolor & Speciesvirginica\\\\\n",
       "\\hline\n",
       "\t 5.1 & 3.5 & 1.4 & 0.2 & 1   & 0   & 0  \\\\\n",
       "\t 4.9 & 3.0 & 1.4 & 0.2 & 1   & 0   & 0  \\\\\n",
       "\t 4.7 & 3.2 & 1.3 & 0.2 & 1   & 0   & 0  \\\\\n",
       "\t 4.6 & 3.1 & 1.5 & 0.2 & 1   & 0   & 0  \\\\\n",
       "\t 5.0 & 3.6 & 1.4 & 0.2 & 1   & 0   & 0  \\\\\n",
       "\t 5.4 & 3.9 & 1.7 & 0.4 & 1   & 0   & 0  \\\\\n",
       "\\end{tabular}\n"
      ],
      "text/markdown": [
       "\n",
       "Sepal.Length | Sepal.Width | Petal.Length | Petal.Width | Speciessetosa | Speciesversicolor | Speciesvirginica | \n",
       "|---|---|---|---|---|---|\n",
       "| 5.1 | 3.5 | 1.4 | 0.2 | 1   | 0   | 0   | \n",
       "| 4.9 | 3.0 | 1.4 | 0.2 | 1   | 0   | 0   | \n",
       "| 4.7 | 3.2 | 1.3 | 0.2 | 1   | 0   | 0   | \n",
       "| 4.6 | 3.1 | 1.5 | 0.2 | 1   | 0   | 0   | \n",
       "| 5.0 | 3.6 | 1.4 | 0.2 | 1   | 0   | 0   | \n",
       "| 5.4 | 3.9 | 1.7 | 0.4 | 1   | 0   | 0   | \n",
       "\n",
       "\n"
      ],
      "text/plain": [
       "  Sepal.Length Sepal.Width Petal.Length Petal.Width Speciessetosa\n",
       "1 5.1          3.5         1.4          0.2         1            \n",
       "2 4.9          3.0         1.4          0.2         1            \n",
       "3 4.7          3.2         1.3          0.2         1            \n",
       "4 4.6          3.1         1.5          0.2         1            \n",
       "5 5.0          3.6         1.4          0.2         1            \n",
       "6 5.4          3.9         1.7          0.4         1            \n",
       "  Speciesversicolor Speciesvirginica\n",
       "1 0                 0               \n",
       "2 0                 0               \n",
       "3 0                 0               \n",
       "4 0                 0               \n",
       "5 0                 0               \n",
       "6 0                 0               "
      ]
     },
     "metadata": {},
     "output_type": "display_data"
    }
   ],
   "source": [
    "head(iris %>>% cpoDummyEncode())"
   ]
  },
  {
   "cell_type": "code",
   "execution_count": 192,
   "metadata": {
    "collapsed": true
   },
   "outputs": [
    {
     "data": {
      "text/html": [
       "<table>\n",
       "<thead><tr><th scope=col>Sepal.Length</th><th scope=col>Sepal.Width</th><th scope=col>Petal.Length</th><th scope=col>Petal.Width</th><th scope=col>Speciesversicolor</th><th scope=col>Speciesvirginica</th></tr></thead>\n",
       "<tbody>\n",
       "\t<tr><td>5.1</td><td>3.5</td><td>1.4</td><td>0.2</td><td>0  </td><td>0  </td></tr>\n",
       "\t<tr><td>4.9</td><td>3.0</td><td>1.4</td><td>0.2</td><td>0  </td><td>0  </td></tr>\n",
       "\t<tr><td>4.7</td><td>3.2</td><td>1.3</td><td>0.2</td><td>0  </td><td>0  </td></tr>\n",
       "\t<tr><td>4.6</td><td>3.1</td><td>1.5</td><td>0.2</td><td>0  </td><td>0  </td></tr>\n",
       "\t<tr><td>5.0</td><td>3.6</td><td>1.4</td><td>0.2</td><td>0  </td><td>0  </td></tr>\n",
       "\t<tr><td>5.4</td><td>3.9</td><td>1.7</td><td>0.4</td><td>0  </td><td>0  </td></tr>\n",
       "</tbody>\n",
       "</table>\n"
      ],
      "text/latex": [
       "\\begin{tabular}{r|llllll}\n",
       " Sepal.Length & Sepal.Width & Petal.Length & Petal.Width & Speciesversicolor & Speciesvirginica\\\\\n",
       "\\hline\n",
       "\t 5.1 & 3.5 & 1.4 & 0.2 & 0   & 0  \\\\\n",
       "\t 4.9 & 3.0 & 1.4 & 0.2 & 0   & 0  \\\\\n",
       "\t 4.7 & 3.2 & 1.3 & 0.2 & 0   & 0  \\\\\n",
       "\t 4.6 & 3.1 & 1.5 & 0.2 & 0   & 0  \\\\\n",
       "\t 5.0 & 3.6 & 1.4 & 0.2 & 0   & 0  \\\\\n",
       "\t 5.4 & 3.9 & 1.7 & 0.4 & 0   & 0  \\\\\n",
       "\\end{tabular}\n"
      ],
      "text/markdown": [
       "\n",
       "Sepal.Length | Sepal.Width | Petal.Length | Petal.Width | Speciesversicolor | Speciesvirginica | \n",
       "|---|---|---|---|---|---|\n",
       "| 5.1 | 3.5 | 1.4 | 0.2 | 0   | 0   | \n",
       "| 4.9 | 3.0 | 1.4 | 0.2 | 0   | 0   | \n",
       "| 4.7 | 3.2 | 1.3 | 0.2 | 0   | 0   | \n",
       "| 4.6 | 3.1 | 1.5 | 0.2 | 0   | 0   | \n",
       "| 5.0 | 3.6 | 1.4 | 0.2 | 0   | 0   | \n",
       "| 5.4 | 3.9 | 1.7 | 0.4 | 0   | 0   | \n",
       "\n",
       "\n"
      ],
      "text/plain": [
       "  Sepal.Length Sepal.Width Petal.Length Petal.Width Speciesversicolor\n",
       "1 5.1          3.5         1.4          0.2         0                \n",
       "2 4.9          3.0         1.4          0.2         0                \n",
       "3 4.7          3.2         1.3          0.2         0                \n",
       "4 4.6          3.1         1.5          0.2         0                \n",
       "5 5.0          3.6         1.4          0.2         0                \n",
       "6 5.4          3.9         1.7          0.4         0                \n",
       "  Speciesvirginica\n",
       "1 0               \n",
       "2 0               \n",
       "3 0               \n",
       "4 0               \n",
       "5 0               \n",
       "6 0               "
      ]
     },
     "metadata": {},
     "output_type": "display_data"
    }
   ],
   "source": [
    "head(iris %>>% cpoDummyEncode(reference.cat = TRUE))"
   ]
  },
  {
   "cell_type": "markdown",
   "metadata": {},
   "source": [
    "## cpoSelect\n",
    "Select to use only certain columns of a dataset. Select by column index, name, or regex pattern."
   ]
  },
  {
   "cell_type": "code",
   "execution_count": 193,
   "metadata": {
    "collapsed": true
   },
   "outputs": [
    {
     "data": {
      "text/html": [
       "<table>\n",
       "<thead><tr><th scope=col>Sepal.Width</th><th scope=col>Petal.Width</th></tr></thead>\n",
       "<tbody>\n",
       "\t<tr><td>3.5</td><td>0.2</td></tr>\n",
       "\t<tr><td>3.0</td><td>0.2</td></tr>\n",
       "\t<tr><td>3.2</td><td>0.2</td></tr>\n",
       "\t<tr><td>3.1</td><td>0.2</td></tr>\n",
       "\t<tr><td>3.6</td><td>0.2</td></tr>\n",
       "\t<tr><td>3.9</td><td>0.4</td></tr>\n",
       "</tbody>\n",
       "</table>\n"
      ],
      "text/latex": [
       "\\begin{tabular}{r|ll}\n",
       " Sepal.Width & Petal.Width\\\\\n",
       "\\hline\n",
       "\t 3.5 & 0.2\\\\\n",
       "\t 3.0 & 0.2\\\\\n",
       "\t 3.2 & 0.2\\\\\n",
       "\t 3.1 & 0.2\\\\\n",
       "\t 3.6 & 0.2\\\\\n",
       "\t 3.9 & 0.4\\\\\n",
       "\\end{tabular}\n"
      ],
      "text/markdown": [
       "\n",
       "Sepal.Width | Petal.Width | \n",
       "|---|---|---|---|---|---|\n",
       "| 3.5 | 0.2 | \n",
       "| 3.0 | 0.2 | \n",
       "| 3.2 | 0.2 | \n",
       "| 3.1 | 0.2 | \n",
       "| 3.6 | 0.2 | \n",
       "| 3.9 | 0.4 | \n",
       "\n",
       "\n"
      ],
      "text/plain": [
       "  Sepal.Width Petal.Width\n",
       "1 3.5         0.2        \n",
       "2 3.0         0.2        \n",
       "3 3.2         0.2        \n",
       "4 3.1         0.2        \n",
       "5 3.6         0.2        \n",
       "6 3.9         0.4        "
      ]
     },
     "metadata": {},
     "output_type": "display_data"
    }
   ],
   "source": [
    "head(iris %>>% cpoSelect(pattern = \"Width\"))"
   ]
  },
  {
   "cell_type": "code",
   "execution_count": 194,
   "metadata": {
    "collapsed": true
   },
   "outputs": [
    {
     "data": {
      "text/html": [
       "<table>\n",
       "<thead><tr><th scope=col>Sepal.Width</th><th scope=col>Petal.Width</th><th scope=col>Species</th></tr></thead>\n",
       "<tbody>\n",
       "\t<tr><td>3.5   </td><td>0.2   </td><td>setosa</td></tr>\n",
       "\t<tr><td>3.0   </td><td>0.2   </td><td>setosa</td></tr>\n",
       "\t<tr><td>3.2   </td><td>0.2   </td><td>setosa</td></tr>\n",
       "\t<tr><td>3.1   </td><td>0.2   </td><td>setosa</td></tr>\n",
       "\t<tr><td>3.6   </td><td>0.2   </td><td>setosa</td></tr>\n",
       "\t<tr><td>3.9   </td><td>0.4   </td><td>setosa</td></tr>\n",
       "</tbody>\n",
       "</table>\n"
      ],
      "text/latex": [
       "\\begin{tabular}{r|lll}\n",
       " Sepal.Width & Petal.Width & Species\\\\\n",
       "\\hline\n",
       "\t 3.5    & 0.2    & setosa\\\\\n",
       "\t 3.0    & 0.2    & setosa\\\\\n",
       "\t 3.2    & 0.2    & setosa\\\\\n",
       "\t 3.1    & 0.2    & setosa\\\\\n",
       "\t 3.6    & 0.2    & setosa\\\\\n",
       "\t 3.9    & 0.4    & setosa\\\\\n",
       "\\end{tabular}\n"
      ],
      "text/markdown": [
       "\n",
       "Sepal.Width | Petal.Width | Species | \n",
       "|---|---|---|---|---|---|\n",
       "| 3.5    | 0.2    | setosa | \n",
       "| 3.0    | 0.2    | setosa | \n",
       "| 3.2    | 0.2    | setosa | \n",
       "| 3.1    | 0.2    | setosa | \n",
       "| 3.6    | 0.2    | setosa | \n",
       "| 3.9    | 0.4    | setosa | \n",
       "\n",
       "\n"
      ],
      "text/plain": [
       "  Sepal.Width Petal.Width Species\n",
       "1 3.5         0.2         setosa \n",
       "2 3.0         0.2         setosa \n",
       "3 3.2         0.2         setosa \n",
       "4 3.1         0.2         setosa \n",
       "5 3.6         0.2         setosa \n",
       "6 3.9         0.4         setosa "
      ]
     },
     "metadata": {},
     "output_type": "display_data"
    }
   ],
   "source": [
    "# selection is additive\n",
    "head(iris %>>% cpoSelect(pattern = \"Width\", type = \"factor\"))"
   ]
  },
  {
   "cell_type": "markdown",
   "metadata": {},
   "source": [
    "# Creating Custom CPOs\n",
    "I will write this up some other time."
   ]
  },
  {
   "cell_type": "code",
   "execution_count": null,
   "metadata": {
    "collapsed": false
   },
   "outputs": [],
   "source": []
  }
 ],
 "metadata": {
  "kernelspec": {
   "display_name": "R",
   "language": "R",
   "name": "ir"
  },
  "language_info": {
   "codemirror_mode": "r",
   "file_extension": ".r",
   "mimetype": "text/x-r-source",
   "name": "R",
   "pygments_lexer": "r",
   "version": "3.3.3"
  }
 },
 "nbformat": 4,
 "nbformat_minor": 0
}
