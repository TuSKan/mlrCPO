{
 "cells": [
  {
   "cell_type": "code",
   "execution_count": 1,
   "metadata": {
    "collapsed": false
   },
   "outputs": [
    {
     "name": "stderr",
     "output_type": "stream",
     "text": [
      "Loading required package: ParamHelpers\n"
     ]
    }
   ],
   "source": [
    "library(\"mlr\")"
   ]
  },
  {
   "cell_type": "code",
   "execution_count": 6,
   "metadata": {
    "collapsed": true
   },
   "outputs": [],
   "source": [
    "d = iris\n",
    "task = iris.task\n",
    "pipe1 = cpoScale() %>>% cpoSelect(index = 3:4) \n",
    "pipe2 = pipe1 %>>% makeLearner(\"classif.rpart\")"
   ]
  },
  {
   "cell_type": "code",
   "execution_count": 10,
   "metadata": {
    "collapsed": false
   },
   "outputs": [
    {
     "data": {
      "text/html": [
       "<table>\n",
       "<thead><tr><th scope=col>Petal.Length</th><th scope=col>Petal.Width</th></tr></thead>\n",
       "<tbody>\n",
       "\t<tr><td>-1.335752</td><td>-1.311052</td></tr>\n",
       "\t<tr><td>-1.335752</td><td>-1.311052</td></tr>\n",
       "\t<tr><td>-1.392399</td><td>-1.311052</td></tr>\n",
       "\t<tr><td>-1.279104</td><td>-1.311052</td></tr>\n",
       "\t<tr><td>-1.335752</td><td>-1.311052</td></tr>\n",
       "\t<tr><td>-1.165809</td><td>-1.048667</td></tr>\n",
       "</tbody>\n",
       "</table>\n"
      ],
      "text/latex": [
       "\\begin{tabular}{r|ll}\n",
       " Petal.Length & Petal.Width\\\\\n",
       "\\hline\n",
       "\t -1.335752 & -1.311052\\\\\n",
       "\t -1.335752 & -1.311052\\\\\n",
       "\t -1.392399 & -1.311052\\\\\n",
       "\t -1.279104 & -1.311052\\\\\n",
       "\t -1.335752 & -1.311052\\\\\n",
       "\t -1.165809 & -1.048667\\\\\n",
       "\\end{tabular}\n"
      ],
      "text/markdown": [
       "\n",
       "Petal.Length | Petal.Width | \n",
       "|---|---|---|---|---|---|\n",
       "| -1.335752 | -1.311052 | \n",
       "| -1.335752 | -1.311052 | \n",
       "| -1.392399 | -1.311052 | \n",
       "| -1.279104 | -1.311052 | \n",
       "| -1.335752 | -1.311052 | \n",
       "| -1.165809 | -1.048667 | \n",
       "\n",
       "\n"
      ],
      "text/plain": [
       "  Petal.Length Petal.Width\n",
       "1 -1.335752    -1.311052  \n",
       "2 -1.335752    -1.311052  \n",
       "3 -1.392399    -1.311052  \n",
       "4 -1.279104    -1.311052  \n",
       "5 -1.335752    -1.311052  \n",
       "6 -1.165809    -1.048667  "
      ]
     },
     "metadata": {},
     "output_type": "display_data"
    }
   ],
   "source": [
    "head(d %>>% pipe1)"
   ]
  },
  {
   "cell_type": "code",
   "execution_count": 12,
   "metadata": {
    "collapsed": false
   },
   "outputs": [
    {
     "data": {},
     "metadata": {},
     "output_type": "display_data"
    }
   ],
   "source": [
    "train(pipe2, task)"
   ]
  },
  {
   "cell_type": "code",
   "execution_count": 15,
   "metadata": {
    "collapsed": false
   },
   "outputs": [
    {
     "name": "stderr",
     "output_type": "stream",
     "text": [
      "[Resample] cross-validation iter 1: mmce.test.mean=0.08\n",
      "[Resample] cross-validation iter 2: mmce.test.mean=0.0533\n",
      "[Resample] Aggr. Result: mmce.test.mean=0.0667\n"
     ]
    },
    {
     "data": {
      "text/plain": [
       "Resample Result\n",
       "Task: iris-example\n",
       "Learner: classif.rpart.select.scale\n",
       "Aggr perf: mmce.test.mean=0.0667\n",
       "Runtime: 0.125342"
      ]
     },
     "metadata": {},
     "output_type": "display_data"
    }
   ],
   "source": [
    "crossval(pipe2, task, iters = 2)"
   ]
  },
  {
   "cell_type": "code",
   "execution_count": 39,
   "metadata": {
    "collapsed": true
   },
   "outputs": [],
   "source": [
    "df = iris\n",
    "df[[1]][1] = NA\n",
    "df[[3]][10] = NA\n",
    "df[[2]][5] = NA\n",
    "dft = makeClassifTask('df', df, target = \"Species\")"
   ]
  },
  {
   "cell_type": "code",
   "execution_count": 35,
   "metadata": {
    "collapsed": false
   },
   "outputs": [
    {
     "data": {
      "text/plain": [
       "                         Type len          Def         Constr Req Tunable Trafo\n",
       "target.cols           untyped   - character(0)              -   -    TRUE     -\n",
       "classes               untyped   -                           -   -    TRUE     -\n",
       "cols                  untyped   -                           -   -    TRUE     -\n",
       "dummy.classes         untyped   - character(0)              -   -    TRUE     -\n",
       "dummy.cols            untyped   - character(0)              -   -    TRUE     -\n",
       "dummy.type           discrete   -       factor numeric,factor   -    TRUE     -\n",
       "force.dummies         logical   -        FALSE              -   -    TRUE     -\n",
       "impute.new.levels     logical   -         TRUE              -   -    TRUE     -\n",
       "recode.factor.levels  logical   -         TRUE              -   -    TRUE     -"
      ]
     },
     "metadata": {},
     "output_type": "display_data"
    }
   ],
   "source": [
    "getParamSet(cpoImputeAll())"
   ]
  },
  {
   "cell_type": "code",
   "execution_count": 33,
   "metadata": {
    "collapsed": true
   },
   "outputs": [
    {
     "data": {
      "text/html": [
       "<table>\n",
       "<thead><tr><th scope=col>Sepal.Length</th><th scope=col>Sepal.Width</th><th scope=col>Petal.Length</th><th scope=col>Petal.Width</th><th scope=col>Species</th></tr></thead>\n",
       "<tbody>\n",
       "\t<tr><td>5.848322</td><td>3.500000</td><td>1.400000</td><td>0.2     </td><td>setosa  </td></tr>\n",
       "\t<tr><td>4.900000</td><td>3.000000</td><td>1.400000</td><td>0.2     </td><td>setosa  </td></tr>\n",
       "\t<tr><td>4.700000</td><td>3.200000</td><td>1.300000</td><td>0.2     </td><td>setosa  </td></tr>\n",
       "\t<tr><td>4.600000</td><td>3.100000</td><td>1.500000</td><td>0.2     </td><td>setosa  </td></tr>\n",
       "\t<tr><td>5.000000</td><td>3.053691</td><td>1.400000</td><td>0.2     </td><td>setosa  </td></tr>\n",
       "\t<tr><td>5.400000</td><td>3.900000</td><td>1.700000</td><td>0.4     </td><td>setosa  </td></tr>\n",
       "\t<tr><td>4.600000</td><td>3.400000</td><td>1.400000</td><td>0.3     </td><td>setosa  </td></tr>\n",
       "\t<tr><td>5.000000</td><td>3.400000</td><td>1.500000</td><td>0.2     </td><td>setosa  </td></tr>\n",
       "\t<tr><td>4.400000</td><td>2.900000</td><td>1.400000</td><td>0.2     </td><td>setosa  </td></tr>\n",
       "\t<tr><td>4.900000</td><td>3.100000</td><td>3.773154</td><td>0.1     </td><td>setosa  </td></tr>\n",
       "\t<tr><td>5.400000</td><td>3.700000</td><td>1.500000</td><td>0.2     </td><td>setosa  </td></tr>\n",
       "\t<tr><td>4.800000</td><td>3.400000</td><td>1.600000</td><td>0.2     </td><td>setosa  </td></tr>\n",
       "\t<tr><td>4.800000</td><td>3.000000</td><td>1.400000</td><td>0.1     </td><td>setosa  </td></tr>\n",
       "\t<tr><td>4.300000</td><td>3.000000</td><td>1.100000</td><td>0.1     </td><td>setosa  </td></tr>\n",
       "\t<tr><td>5.800000</td><td>4.000000</td><td>1.200000</td><td>0.2     </td><td>setosa  </td></tr>\n",
       "\t<tr><td>5.700000</td><td>4.400000</td><td>1.500000</td><td>0.4     </td><td>setosa  </td></tr>\n",
       "\t<tr><td>5.400000</td><td>3.900000</td><td>1.300000</td><td>0.4     </td><td>setosa  </td></tr>\n",
       "\t<tr><td>5.100000</td><td>3.500000</td><td>1.400000</td><td>0.3     </td><td>setosa  </td></tr>\n",
       "\t<tr><td>5.700000</td><td>3.800000</td><td>1.700000</td><td>0.3     </td><td>setosa  </td></tr>\n",
       "\t<tr><td>5.100000</td><td>3.800000</td><td>1.500000</td><td>0.3     </td><td>setosa  </td></tr>\n",
       "\t<tr><td>5.400000</td><td>3.400000</td><td>1.700000</td><td>0.2     </td><td>setosa  </td></tr>\n",
       "\t<tr><td>5.100000</td><td>3.700000</td><td>1.500000</td><td>0.4     </td><td>setosa  </td></tr>\n",
       "\t<tr><td>4.600000</td><td>3.600000</td><td>1.000000</td><td>0.2     </td><td>setosa  </td></tr>\n",
       "\t<tr><td>5.100000</td><td>3.300000</td><td>1.700000</td><td>0.5     </td><td>setosa  </td></tr>\n",
       "\t<tr><td>4.800000</td><td>3.400000</td><td>1.900000</td><td>0.2     </td><td>setosa  </td></tr>\n",
       "\t<tr><td>5.000000</td><td>3.000000</td><td>1.600000</td><td>0.2     </td><td>setosa  </td></tr>\n",
       "\t<tr><td>5.000000</td><td>3.400000</td><td>1.600000</td><td>0.4     </td><td>setosa  </td></tr>\n",
       "\t<tr><td>5.200000</td><td>3.500000</td><td>1.500000</td><td>0.2     </td><td>setosa  </td></tr>\n",
       "\t<tr><td>5.200000</td><td>3.400000</td><td>1.400000</td><td>0.2     </td><td>setosa  </td></tr>\n",
       "\t<tr><td>4.700000</td><td>3.200000</td><td>1.600000</td><td>0.2     </td><td>setosa  </td></tr>\n",
       "\t<tr><td>⋮</td><td>⋮</td><td>⋮</td><td>⋮</td><td>⋮</td></tr>\n",
       "\t<tr><td>6.9      </td><td>3.2      </td><td>5.7      </td><td>2.3      </td><td>virginica</td></tr>\n",
       "\t<tr><td>5.6      </td><td>2.8      </td><td>4.9      </td><td>2.0      </td><td>virginica</td></tr>\n",
       "\t<tr><td>7.7      </td><td>2.8      </td><td>6.7      </td><td>2.0      </td><td>virginica</td></tr>\n",
       "\t<tr><td>6.3      </td><td>2.7      </td><td>4.9      </td><td>1.8      </td><td>virginica</td></tr>\n",
       "\t<tr><td>6.7      </td><td>3.3      </td><td>5.7      </td><td>2.1      </td><td>virginica</td></tr>\n",
       "\t<tr><td>7.2      </td><td>3.2      </td><td>6.0      </td><td>1.8      </td><td>virginica</td></tr>\n",
       "\t<tr><td>6.2      </td><td>2.8      </td><td>4.8      </td><td>1.8      </td><td>virginica</td></tr>\n",
       "\t<tr><td>6.1      </td><td>3.0      </td><td>4.9      </td><td>1.8      </td><td>virginica</td></tr>\n",
       "\t<tr><td>6.4      </td><td>2.8      </td><td>5.6      </td><td>2.1      </td><td>virginica</td></tr>\n",
       "\t<tr><td>7.2      </td><td>3.0      </td><td>5.8      </td><td>1.6      </td><td>virginica</td></tr>\n",
       "\t<tr><td>7.4      </td><td>2.8      </td><td>6.1      </td><td>1.9      </td><td>virginica</td></tr>\n",
       "\t<tr><td>7.9      </td><td>3.8      </td><td>6.4      </td><td>2.0      </td><td>virginica</td></tr>\n",
       "\t<tr><td>6.4      </td><td>2.8      </td><td>5.6      </td><td>2.2      </td><td>virginica</td></tr>\n",
       "\t<tr><td>6.3      </td><td>2.8      </td><td>5.1      </td><td>1.5      </td><td>virginica</td></tr>\n",
       "\t<tr><td>6.1      </td><td>2.6      </td><td>5.6      </td><td>1.4      </td><td>virginica</td></tr>\n",
       "\t<tr><td>7.7      </td><td>3.0      </td><td>6.1      </td><td>2.3      </td><td>virginica</td></tr>\n",
       "\t<tr><td>6.3      </td><td>3.4      </td><td>5.6      </td><td>2.4      </td><td>virginica</td></tr>\n",
       "\t<tr><td>6.4      </td><td>3.1      </td><td>5.5      </td><td>1.8      </td><td>virginica</td></tr>\n",
       "\t<tr><td>6.0      </td><td>3.0      </td><td>4.8      </td><td>1.8      </td><td>virginica</td></tr>\n",
       "\t<tr><td>6.9      </td><td>3.1      </td><td>5.4      </td><td>2.1      </td><td>virginica</td></tr>\n",
       "\t<tr><td>6.7      </td><td>3.1      </td><td>5.6      </td><td>2.4      </td><td>virginica</td></tr>\n",
       "\t<tr><td>6.9      </td><td>3.1      </td><td>5.1      </td><td>2.3      </td><td>virginica</td></tr>\n",
       "\t<tr><td>5.8      </td><td>2.7      </td><td>5.1      </td><td>1.9      </td><td>virginica</td></tr>\n",
       "\t<tr><td>6.8      </td><td>3.2      </td><td>5.9      </td><td>2.3      </td><td>virginica</td></tr>\n",
       "\t<tr><td>6.7      </td><td>3.3      </td><td>5.7      </td><td>2.5      </td><td>virginica</td></tr>\n",
       "\t<tr><td>6.7      </td><td>3.0      </td><td>5.2      </td><td>2.3      </td><td>virginica</td></tr>\n",
       "\t<tr><td>6.3      </td><td>2.5      </td><td>5.0      </td><td>1.9      </td><td>virginica</td></tr>\n",
       "\t<tr><td>6.5      </td><td>3.0      </td><td>5.2      </td><td>2.0      </td><td>virginica</td></tr>\n",
       "\t<tr><td>6.2      </td><td>3.4      </td><td>5.4      </td><td>2.3      </td><td>virginica</td></tr>\n",
       "\t<tr><td>5.9      </td><td>3.0      </td><td>5.1      </td><td>1.8      </td><td>virginica</td></tr>\n",
       "</tbody>\n",
       "</table>\n"
      ],
      "text/latex": [
       "\\begin{tabular}{r|lllll}\n",
       " Sepal.Length & Sepal.Width & Petal.Length & Petal.Width & Species\\\\\n",
       "\\hline\n",
       "\t 5.848322 & 3.500000 & 1.400000 & 0.2      & setosa  \\\\\n",
       "\t 4.900000 & 3.000000 & 1.400000 & 0.2      & setosa  \\\\\n",
       "\t 4.700000 & 3.200000 & 1.300000 & 0.2      & setosa  \\\\\n",
       "\t 4.600000 & 3.100000 & 1.500000 & 0.2      & setosa  \\\\\n",
       "\t 5.000000 & 3.053691 & 1.400000 & 0.2      & setosa  \\\\\n",
       "\t 5.400000 & 3.900000 & 1.700000 & 0.4      & setosa  \\\\\n",
       "\t 4.600000 & 3.400000 & 1.400000 & 0.3      & setosa  \\\\\n",
       "\t 5.000000 & 3.400000 & 1.500000 & 0.2      & setosa  \\\\\n",
       "\t 4.400000 & 2.900000 & 1.400000 & 0.2      & setosa  \\\\\n",
       "\t 4.900000 & 3.100000 & 3.773154 & 0.1      & setosa  \\\\\n",
       "\t 5.400000 & 3.700000 & 1.500000 & 0.2      & setosa  \\\\\n",
       "\t 4.800000 & 3.400000 & 1.600000 & 0.2      & setosa  \\\\\n",
       "\t 4.800000 & 3.000000 & 1.400000 & 0.1      & setosa  \\\\\n",
       "\t 4.300000 & 3.000000 & 1.100000 & 0.1      & setosa  \\\\\n",
       "\t 5.800000 & 4.000000 & 1.200000 & 0.2      & setosa  \\\\\n",
       "\t 5.700000 & 4.400000 & 1.500000 & 0.4      & setosa  \\\\\n",
       "\t 5.400000 & 3.900000 & 1.300000 & 0.4      & setosa  \\\\\n",
       "\t 5.100000 & 3.500000 & 1.400000 & 0.3      & setosa  \\\\\n",
       "\t 5.700000 & 3.800000 & 1.700000 & 0.3      & setosa  \\\\\n",
       "\t 5.100000 & 3.800000 & 1.500000 & 0.3      & setosa  \\\\\n",
       "\t 5.400000 & 3.400000 & 1.700000 & 0.2      & setosa  \\\\\n",
       "\t 5.100000 & 3.700000 & 1.500000 & 0.4      & setosa  \\\\\n",
       "\t 4.600000 & 3.600000 & 1.000000 & 0.2      & setosa  \\\\\n",
       "\t 5.100000 & 3.300000 & 1.700000 & 0.5      & setosa  \\\\\n",
       "\t 4.800000 & 3.400000 & 1.900000 & 0.2      & setosa  \\\\\n",
       "\t 5.000000 & 3.000000 & 1.600000 & 0.2      & setosa  \\\\\n",
       "\t 5.000000 & 3.400000 & 1.600000 & 0.4      & setosa  \\\\\n",
       "\t 5.200000 & 3.500000 & 1.500000 & 0.2      & setosa  \\\\\n",
       "\t 5.200000 & 3.400000 & 1.400000 & 0.2      & setosa  \\\\\n",
       "\t 4.700000 & 3.200000 & 1.600000 & 0.2      & setosa  \\\\\n",
       "\t ⋮ & ⋮ & ⋮ & ⋮ & ⋮\\\\\n",
       "\t 6.9       & 3.2       & 5.7       & 2.3       & virginica\\\\\n",
       "\t 5.6       & 2.8       & 4.9       & 2.0       & virginica\\\\\n",
       "\t 7.7       & 2.8       & 6.7       & 2.0       & virginica\\\\\n",
       "\t 6.3       & 2.7       & 4.9       & 1.8       & virginica\\\\\n",
       "\t 6.7       & 3.3       & 5.7       & 2.1       & virginica\\\\\n",
       "\t 7.2       & 3.2       & 6.0       & 1.8       & virginica\\\\\n",
       "\t 6.2       & 2.8       & 4.8       & 1.8       & virginica\\\\\n",
       "\t 6.1       & 3.0       & 4.9       & 1.8       & virginica\\\\\n",
       "\t 6.4       & 2.8       & 5.6       & 2.1       & virginica\\\\\n",
       "\t 7.2       & 3.0       & 5.8       & 1.6       & virginica\\\\\n",
       "\t 7.4       & 2.8       & 6.1       & 1.9       & virginica\\\\\n",
       "\t 7.9       & 3.8       & 6.4       & 2.0       & virginica\\\\\n",
       "\t 6.4       & 2.8       & 5.6       & 2.2       & virginica\\\\\n",
       "\t 6.3       & 2.8       & 5.1       & 1.5       & virginica\\\\\n",
       "\t 6.1       & 2.6       & 5.6       & 1.4       & virginica\\\\\n",
       "\t 7.7       & 3.0       & 6.1       & 2.3       & virginica\\\\\n",
       "\t 6.3       & 3.4       & 5.6       & 2.4       & virginica\\\\\n",
       "\t 6.4       & 3.1       & 5.5       & 1.8       & virginica\\\\\n",
       "\t 6.0       & 3.0       & 4.8       & 1.8       & virginica\\\\\n",
       "\t 6.9       & 3.1       & 5.4       & 2.1       & virginica\\\\\n",
       "\t 6.7       & 3.1       & 5.6       & 2.4       & virginica\\\\\n",
       "\t 6.9       & 3.1       & 5.1       & 2.3       & virginica\\\\\n",
       "\t 5.8       & 2.7       & 5.1       & 1.9       & virginica\\\\\n",
       "\t 6.8       & 3.2       & 5.9       & 2.3       & virginica\\\\\n",
       "\t 6.7       & 3.3       & 5.7       & 2.5       & virginica\\\\\n",
       "\t 6.7       & 3.0       & 5.2       & 2.3       & virginica\\\\\n",
       "\t 6.3       & 2.5       & 5.0       & 1.9       & virginica\\\\\n",
       "\t 6.5       & 3.0       & 5.2       & 2.0       & virginica\\\\\n",
       "\t 6.2       & 3.4       & 5.4       & 2.3       & virginica\\\\\n",
       "\t 5.9       & 3.0       & 5.1       & 1.8       & virginica\\\\\n",
       "\\end{tabular}\n"
      ],
      "text/markdown": [
       "\n",
       "Sepal.Length | Sepal.Width | Petal.Length | Petal.Width | Species | \n",
       "|---|---|---|---|---|---|---|---|---|---|---|---|---|---|---|---|---|---|---|---|---|---|---|---|---|---|---|---|---|---|---|---|---|---|---|---|---|---|---|---|---|---|---|---|---|---|---|---|---|---|---|---|---|---|---|---|---|---|---|---|---|\n",
       "| 5.848322 | 3.500000 | 1.400000 | 0.2      | setosa   | \n",
       "| 4.900000 | 3.000000 | 1.400000 | 0.2      | setosa   | \n",
       "| 4.700000 | 3.200000 | 1.300000 | 0.2      | setosa   | \n",
       "| 4.600000 | 3.100000 | 1.500000 | 0.2      | setosa   | \n",
       "| 5.000000 | 3.053691 | 1.400000 | 0.2      | setosa   | \n",
       "| 5.400000 | 3.900000 | 1.700000 | 0.4      | setosa   | \n",
       "| 4.600000 | 3.400000 | 1.400000 | 0.3      | setosa   | \n",
       "| 5.000000 | 3.400000 | 1.500000 | 0.2      | setosa   | \n",
       "| 4.400000 | 2.900000 | 1.400000 | 0.2      | setosa   | \n",
       "| 4.900000 | 3.100000 | 3.773154 | 0.1      | setosa   | \n",
       "| 5.400000 | 3.700000 | 1.500000 | 0.2      | setosa   | \n",
       "| 4.800000 | 3.400000 | 1.600000 | 0.2      | setosa   | \n",
       "| 4.800000 | 3.000000 | 1.400000 | 0.1      | setosa   | \n",
       "| 4.300000 | 3.000000 | 1.100000 | 0.1      | setosa   | \n",
       "| 5.800000 | 4.000000 | 1.200000 | 0.2      | setosa   | \n",
       "| 5.700000 | 4.400000 | 1.500000 | 0.4      | setosa   | \n",
       "| 5.400000 | 3.900000 | 1.300000 | 0.4      | setosa   | \n",
       "| 5.100000 | 3.500000 | 1.400000 | 0.3      | setosa   | \n",
       "| 5.700000 | 3.800000 | 1.700000 | 0.3      | setosa   | \n",
       "| 5.100000 | 3.800000 | 1.500000 | 0.3      | setosa   | \n",
       "| 5.400000 | 3.400000 | 1.700000 | 0.2      | setosa   | \n",
       "| 5.100000 | 3.700000 | 1.500000 | 0.4      | setosa   | \n",
       "| 4.600000 | 3.600000 | 1.000000 | 0.2      | setosa   | \n",
       "| 5.100000 | 3.300000 | 1.700000 | 0.5      | setosa   | \n",
       "| 4.800000 | 3.400000 | 1.900000 | 0.2      | setosa   | \n",
       "| 5.000000 | 3.000000 | 1.600000 | 0.2      | setosa   | \n",
       "| 5.000000 | 3.400000 | 1.600000 | 0.4      | setosa   | \n",
       "| 5.200000 | 3.500000 | 1.500000 | 0.2      | setosa   | \n",
       "| 5.200000 | 3.400000 | 1.400000 | 0.2      | setosa   | \n",
       "| 4.700000 | 3.200000 | 1.600000 | 0.2      | setosa   | \n",
       "| ⋮ | ⋮ | ⋮ | ⋮ | ⋮ | \n",
       "| 6.9       | 3.2       | 5.7       | 2.3       | virginica | \n",
       "| 5.6       | 2.8       | 4.9       | 2.0       | virginica | \n",
       "| 7.7       | 2.8       | 6.7       | 2.0       | virginica | \n",
       "| 6.3       | 2.7       | 4.9       | 1.8       | virginica | \n",
       "| 6.7       | 3.3       | 5.7       | 2.1       | virginica | \n",
       "| 7.2       | 3.2       | 6.0       | 1.8       | virginica | \n",
       "| 6.2       | 2.8       | 4.8       | 1.8       | virginica | \n",
       "| 6.1       | 3.0       | 4.9       | 1.8       | virginica | \n",
       "| 6.4       | 2.8       | 5.6       | 2.1       | virginica | \n",
       "| 7.2       | 3.0       | 5.8       | 1.6       | virginica | \n",
       "| 7.4       | 2.8       | 6.1       | 1.9       | virginica | \n",
       "| 7.9       | 3.8       | 6.4       | 2.0       | virginica | \n",
       "| 6.4       | 2.8       | 5.6       | 2.2       | virginica | \n",
       "| 6.3       | 2.8       | 5.1       | 1.5       | virginica | \n",
       "| 6.1       | 2.6       | 5.6       | 1.4       | virginica | \n",
       "| 7.7       | 3.0       | 6.1       | 2.3       | virginica | \n",
       "| 6.3       | 3.4       | 5.6       | 2.4       | virginica | \n",
       "| 6.4       | 3.1       | 5.5       | 1.8       | virginica | \n",
       "| 6.0       | 3.0       | 4.8       | 1.8       | virginica | \n",
       "| 6.9       | 3.1       | 5.4       | 2.1       | virginica | \n",
       "| 6.7       | 3.1       | 5.6       | 2.4       | virginica | \n",
       "| 6.9       | 3.1       | 5.1       | 2.3       | virginica | \n",
       "| 5.8       | 2.7       | 5.1       | 1.9       | virginica | \n",
       "| 6.8       | 3.2       | 5.9       | 2.3       | virginica | \n",
       "| 6.7       | 3.3       | 5.7       | 2.5       | virginica | \n",
       "| 6.7       | 3.0       | 5.2       | 2.3       | virginica | \n",
       "| 6.3       | 2.5       | 5.0       | 1.9       | virginica | \n",
       "| 6.5       | 3.0       | 5.2       | 2.0       | virginica | \n",
       "| 6.2       | 3.4       | 5.4       | 2.3       | virginica | \n",
       "| 5.9       | 3.0       | 5.1       | 1.8       | virginica | \n",
       "\n",
       "\n"
      ],
      "text/plain": [
       "    Sepal.Length Sepal.Width Petal.Length Petal.Width Species  \n",
       "1   5.848322     3.500000    1.400000     0.2         setosa   \n",
       "2   4.900000     3.000000    1.400000     0.2         setosa   \n",
       "3   4.700000     3.200000    1.300000     0.2         setosa   \n",
       "4   4.600000     3.100000    1.500000     0.2         setosa   \n",
       "5   5.000000     3.053691    1.400000     0.2         setosa   \n",
       "6   5.400000     3.900000    1.700000     0.4         setosa   \n",
       "7   4.600000     3.400000    1.400000     0.3         setosa   \n",
       "8   5.000000     3.400000    1.500000     0.2         setosa   \n",
       "9   4.400000     2.900000    1.400000     0.2         setosa   \n",
       "10  4.900000     3.100000    3.773154     0.1         setosa   \n",
       "11  5.400000     3.700000    1.500000     0.2         setosa   \n",
       "12  4.800000     3.400000    1.600000     0.2         setosa   \n",
       "13  4.800000     3.000000    1.400000     0.1         setosa   \n",
       "14  4.300000     3.000000    1.100000     0.1         setosa   \n",
       "15  5.800000     4.000000    1.200000     0.2         setosa   \n",
       "16  5.700000     4.400000    1.500000     0.4         setosa   \n",
       "17  5.400000     3.900000    1.300000     0.4         setosa   \n",
       "18  5.100000     3.500000    1.400000     0.3         setosa   \n",
       "19  5.700000     3.800000    1.700000     0.3         setosa   \n",
       "20  5.100000     3.800000    1.500000     0.3         setosa   \n",
       "21  5.400000     3.400000    1.700000     0.2         setosa   \n",
       "22  5.100000     3.700000    1.500000     0.4         setosa   \n",
       "23  4.600000     3.600000    1.000000     0.2         setosa   \n",
       "24  5.100000     3.300000    1.700000     0.5         setosa   \n",
       "25  4.800000     3.400000    1.900000     0.2         setosa   \n",
       "26  5.000000     3.000000    1.600000     0.2         setosa   \n",
       "27  5.000000     3.400000    1.600000     0.4         setosa   \n",
       "28  5.200000     3.500000    1.500000     0.2         setosa   \n",
       "29  5.200000     3.400000    1.400000     0.2         setosa   \n",
       "30  4.700000     3.200000    1.600000     0.2         setosa   \n",
       "⋮   ⋮            ⋮           ⋮            ⋮           ⋮        \n",
       "121 6.9          3.2         5.7          2.3         virginica\n",
       "122 5.6          2.8         4.9          2.0         virginica\n",
       "123 7.7          2.8         6.7          2.0         virginica\n",
       "124 6.3          2.7         4.9          1.8         virginica\n",
       "125 6.7          3.3         5.7          2.1         virginica\n",
       "126 7.2          3.2         6.0          1.8         virginica\n",
       "127 6.2          2.8         4.8          1.8         virginica\n",
       "128 6.1          3.0         4.9          1.8         virginica\n",
       "129 6.4          2.8         5.6          2.1         virginica\n",
       "130 7.2          3.0         5.8          1.6         virginica\n",
       "131 7.4          2.8         6.1          1.9         virginica\n",
       "132 7.9          3.8         6.4          2.0         virginica\n",
       "133 6.4          2.8         5.6          2.2         virginica\n",
       "134 6.3          2.8         5.1          1.5         virginica\n",
       "135 6.1          2.6         5.6          1.4         virginica\n",
       "136 7.7          3.0         6.1          2.3         virginica\n",
       "137 6.3          3.4         5.6          2.4         virginica\n",
       "138 6.4          3.1         5.5          1.8         virginica\n",
       "139 6.0          3.0         4.8          1.8         virginica\n",
       "140 6.9          3.1         5.4          2.1         virginica\n",
       "141 6.7          3.1         5.6          2.4         virginica\n",
       "142 6.9          3.1         5.1          2.3         virginica\n",
       "143 5.8          2.7         5.1          1.9         virginica\n",
       "144 6.8          3.2         5.9          2.3         virginica\n",
       "145 6.7          3.3         5.7          2.5         virginica\n",
       "146 6.7          3.0         5.2          2.3         virginica\n",
       "147 6.3          2.5         5.0          1.9         virginica\n",
       "148 6.5          3.0         5.2          2.0         virginica\n",
       "149 6.2          3.4         5.4          2.3         virginica\n",
       "150 5.9          3.0         5.1          1.8         virginica"
      ]
     },
     "metadata": {},
     "output_type": "display_data"
    }
   ],
   "source": [
    "df %>>% cpoImputeAll(classes = list(numeric = imputeMean()))"
   ]
  },
  {
   "cell_type": "code",
   "execution_count": 37,
   "metadata": {
    "collapsed": false
   },
   "outputs": [],
   "source": [
    "ps = makeParamSet(makeDiscreteParam(\"classes\", values = list(mean = list(numeric = imputeMean()),\n",
    "                                                        median = list(numeric = imputeMedian()))))"
   ]
  },
  {
   "cell_type": "code",
   "execution_count": 38,
   "metadata": {
    "collapsed": true
   },
   "outputs": [],
   "source": [
    "tc = makeTuneControlGrid()"
   ]
  },
  {
   "cell_type": "code",
   "execution_count": 40,
   "metadata": {
    "collapsed": false
   },
   "outputs": [
    {
     "name": "stderr",
     "output_type": "stream",
     "text": [
      "[Tune] Started tuning learner classif.rpart.impute for parameter set:\n",
      "            Type len Def      Constr Req Tunable Trafo\n",
      "classes discrete   -   - mean,median   -    TRUE     -\n",
      "With control class: TuneControlGrid\n",
      "Imputation value: 1\n",
      "[Tune-x] 1: classes=mean\n",
      "[Tune-y] 1: mmce.test.mean= 0.1; time: 0.0 min\n",
      "[Tune-x] 2: classes=median\n",
      "[Tune-y] 2: mmce.test.mean= 0.1; time: 0.0 min\n",
      "[Tune] Result: classes=median : mmce.test.mean= 0.1\n"
     ]
    }
   ],
   "source": [
    "tp = tuneParams(cpoImputeAll() %>>% makeLearner(\"classif.rpart\"), dft, hout, control = tc, par.set = ps)"
   ]
  },
  {
   "cell_type": "code",
   "execution_count": 43,
   "metadata": {
    "collapsed": false
   },
   "outputs": [
    {
     "data": {
      "text/html": [
       "<table>\n",
       "<thead><tr><th scope=col>classes</th><th scope=col>mmce.test.mean</th><th scope=col>dob</th><th scope=col>eol</th><th scope=col>error.message</th><th scope=col>exec.time</th></tr></thead>\n",
       "<tbody>\n",
       "\t<tr><td>mean  </td><td>0.1   </td><td>1     </td><td>NA    </td><td>NA    </td><td>0.048 </td></tr>\n",
       "\t<tr><td>median</td><td>0.1   </td><td>2     </td><td>NA    </td><td>NA    </td><td>0.060 </td></tr>\n",
       "</tbody>\n",
       "</table>\n"
      ],
      "text/latex": [
       "\\begin{tabular}{r|llllll}\n",
       " classes & mmce.test.mean & dob & eol & error.message & exec.time\\\\\n",
       "\\hline\n",
       "\t mean   & 0.1    & 1      & NA     & NA     & 0.048 \\\\\n",
       "\t median & 0.1    & 2      & NA     & NA     & 0.060 \\\\\n",
       "\\end{tabular}\n"
      ],
      "text/markdown": [
       "\n",
       "classes | mmce.test.mean | dob | eol | error.message | exec.time | \n",
       "|---|---|\n",
       "| mean   | 0.1    | 1      | NA     | NA     | 0.048  | \n",
       "| median | 0.1    | 2      | NA     | NA     | 0.060  | \n",
       "\n",
       "\n"
      ],
      "text/plain": [
       "  classes mmce.test.mean dob eol error.message exec.time\n",
       "1 mean    0.1            1   NA  NA            0.048    \n",
       "2 median  0.1            2   NA  NA            0.060    "
      ]
     },
     "metadata": {},
     "output_type": "display_data"
    }
   ],
   "source": [
    "as.data.frame(tp$opt.path)"
   ]
  },
  {
   "cell_type": "code",
   "execution_count": 47,
   "metadata": {
    "collapsed": false
   },
   "outputs": [],
   "source": [
    "ps = makeParamSet(makeDiscreteParam(\"selected.cpo\", c(\"mean\", \"median\")))"
   ]
  },
  {
   "cell_type": "code",
   "execution_count": 66,
   "metadata": {
    "collapsed": true
   },
   "outputs": [
    {
     "ename": "ERROR",
     "evalue": "Error in (function (..., params = NULL, forbidden = NULL, keys = NULL) : All parameters must have unique names!\n",
     "output_type": "error",
     "traceback": [
      "Error in (function (..., params = NULL, forbidden = NULL, keys = NULL) : All parameters must have unique names!\nTraceback:\n",
      "1. cpoMultiplex(cpos = list(cpoImputeMean(), cpoImputeMedian()))",
      "2. do.call(base::c, lapply(names(constructed), function(n) {\n .     ps = getParamSet(constructed[[n]])\n .     ps$pars = lapply(ps$pars, function(p) {\n .         if (is.null(p$requires)) {\n .             p$requires = substitute(selected.cpo == n, list(n = n))\n .         }\n .         else {\n .             p$requires = substitute((selected.cpo == n) && (otherreq), \n .                 list(n = n, otherreq = p$requires))\n .         }\n .         p\n .     })\n .     ps\n . }))",
      "3. .Primitive(\"c\")(structure(list(pars = structure(list(make.dummy.cols = structure(list(\n .     id = \"make.dummy.cols\", type = \"logical\", len = 1L, lower = NULL, \n .     upper = NULL, values = structure(list(`TRUE` = TRUE, `FALSE` = FALSE), .Names = c(\"TRUE\", \n .     \"FALSE\")), cnames = NULL, allow.inf = FALSE, has.default = TRUE, \n .     default = TRUE, trafo = NULL, requires = selected.cpo == \n .         \"impute.mean\", tunable = TRUE, special.vals = list(), \n .     when = \"train\"), .Names = c(\"id\", \"type\", \"len\", \"lower\", \n . \"upper\", \"values\", \"cnames\", \"allow.inf\", \"has.default\", \"default\", \n . \"trafo\", \"requires\", \"tunable\", \"special.vals\", \"when\"), class = c(\"LearnerParam\", \n . \"Param\")), force.dummies = structure(list(id = \"force.dummies\", \n .     type = \"logical\", len = 1L, lower = NULL, upper = NULL, values = structure(list(\n .         `TRUE` = TRUE, `FALSE` = FALSE), .Names = c(\"TRUE\", \"FALSE\"\n .     )), cnames = NULL, allow.inf = FALSE, has.default = TRUE, \n .     default = FALSE, trafo = NULL, requires = selected.cpo == \n .         \"impute.mean\", tunable = TRUE, special.vals = list(), \n .     when = \"train\"), .Names = c(\"id\", \"type\", \"len\", \"lower\", \n . \"upper\", \"values\", \"cnames\", \"allow.inf\", \"has.default\", \"default\", \n . \"trafo\", \"requires\", \"tunable\", \"special.vals\", \"when\"), class = c(\"LearnerParam\", \n . \"Param\")), impute.new.levels = structure(list(id = \"impute.new.levels\", \n .     type = \"logical\", len = 1L, lower = NULL, upper = NULL, values = structure(list(\n .         `TRUE` = TRUE, `FALSE` = FALSE), .Names = c(\"TRUE\", \"FALSE\"\n .     )), cnames = NULL, allow.inf = FALSE, has.default = TRUE, \n .     default = TRUE, trafo = NULL, requires = selected.cpo == \n .         \"impute.mean\", tunable = TRUE, special.vals = list(), \n .     when = \"train\"), .Names = c(\"id\", \"type\", \"len\", \"lower\", \n . \"upper\", \"values\", \"cnames\", \"allow.inf\", \"has.default\", \"default\", \n . \"trafo\", \"requires\", \"tunable\", \"special.vals\", \"when\"), class = c(\"LearnerParam\", \n . \"Param\")), recode.factor.levels = structure(list(id = \"recode.factor.levels\", \n .     type = \"logical\", len = 1L, lower = NULL, upper = NULL, values = structure(list(\n .         `TRUE` = TRUE, `FALSE` = FALSE), .Names = c(\"TRUE\", \"FALSE\"\n .     )), cnames = NULL, allow.inf = FALSE, has.default = TRUE, \n .     default = TRUE, trafo = NULL, requires = selected.cpo == \n .         \"impute.mean\", tunable = TRUE, special.vals = list(), \n .     when = \"train\"), .Names = c(\"id\", \"type\", \"len\", \"lower\", \n . \"upper\", \"values\", \"cnames\", \"allow.inf\", \"has.default\", \"default\", \n . \"trafo\", \"requires\", \"tunable\", \"special.vals\", \"when\"), class = c(\"LearnerParam\", \n . \"Param\"))), .Names = c(\"make.dummy.cols\", \"force.dummies\", \"impute.new.levels\", \n . \"recode.factor.levels\")), forbidden = NULL), .Names = c(\"pars\", \n . \"forbidden\"), class = c(\"LearnerParamSet\", \"ParamSet\")), structure(list(\n .     pars = structure(list(make.dummy.cols = structure(list(id = \"make.dummy.cols\", \n .         type = \"logical\", len = 1L, lower = NULL, upper = NULL, \n .         values = structure(list(`TRUE` = TRUE, `FALSE` = FALSE), .Names = c(\"TRUE\", \n .         \"FALSE\")), cnames = NULL, allow.inf = FALSE, has.default = TRUE, \n .         default = TRUE, trafo = NULL, requires = selected.cpo == \n .             \"impute.median\", tunable = TRUE, special.vals = list(), \n .         when = \"train\"), .Names = c(\"id\", \"type\", \"len\", \"lower\", \n .     \"upper\", \"values\", \"cnames\", \"allow.inf\", \"has.default\", \n .     \"default\", \"trafo\", \"requires\", \"tunable\", \"special.vals\", \n .     \"when\"), class = c(\"LearnerParam\", \"Param\")), force.dummies = structure(list(\n .         id = \"force.dummies\", type = \"logical\", len = 1L, lower = NULL, \n .         upper = NULL, values = structure(list(`TRUE` = TRUE, \n .             `FALSE` = FALSE), .Names = c(\"TRUE\", \"FALSE\")), cnames = NULL, \n .         allow.inf = FALSE, has.default = TRUE, default = FALSE, \n .         trafo = NULL, requires = selected.cpo == \"impute.median\", \n .         tunable = TRUE, special.vals = list(), when = \"train\"), .Names = c(\"id\", \n .     \"type\", \"len\", \"lower\", \"upper\", \"values\", \"cnames\", \"allow.inf\", \n .     \"has.default\", \"default\", \"trafo\", \"requires\", \"tunable\", \n .     \"special.vals\", \"when\"), class = c(\"LearnerParam\", \"Param\"\n .     )), impute.new.levels = structure(list(id = \"impute.new.levels\", \n .         type = \"logical\", len = 1L, lower = NULL, upper = NULL, \n .         values = structure(list(`TRUE` = TRUE, `FALSE` = FALSE), .Names = c(\"TRUE\", \n .         \"FALSE\")), cnames = NULL, allow.inf = FALSE, has.default = TRUE, \n .         default = TRUE, trafo = NULL, requires = selected.cpo == \n .             \"impute.median\", tunable = TRUE, special.vals = list(), \n .         when = \"train\"), .Names = c(\"id\", \"type\", \"len\", \"lower\", \n .     \"upper\", \"values\", \"cnames\", \"allow.inf\", \"has.default\", \n .     \"default\", \"trafo\", \"requires\", \"tunable\", \"special.vals\", \n .     \"when\"), class = c(\"LearnerParam\", \"Param\")), recode.factor.levels = structure(list(\n .         id = \"recode.factor.levels\", type = \"logical\", len = 1L, \n .         lower = NULL, upper = NULL, values = structure(list(`TRUE` = TRUE, \n .             `FALSE` = FALSE), .Names = c(\"TRUE\", \"FALSE\")), cnames = NULL, \n .         allow.inf = FALSE, has.default = TRUE, default = TRUE, \n .         trafo = NULL, requires = selected.cpo == \"impute.median\", \n .         tunable = TRUE, special.vals = list(), when = \"train\"), .Names = c(\"id\", \n .     \"type\", \"len\", \"lower\", \"upper\", \"values\", \"cnames\", \"allow.inf\", \n .     \"has.default\", \"default\", \"trafo\", \"requires\", \"tunable\", \n .     \"special.vals\", \"when\"), class = c(\"LearnerParam\", \"Param\"\n .     ))), .Names = c(\"make.dummy.cols\", \"force.dummies\", \"impute.new.levels\", \n .     \"recode.factor.levels\")), forbidden = NULL), .Names = c(\"pars\", \n . \"forbidden\"), class = c(\"LearnerParamSet\", \"ParamSet\")))",
      "4. c.ParamSet(structure(list(pars = structure(list(make.dummy.cols = structure(list(\n .     id = \"make.dummy.cols\", type = \"logical\", len = 1L, lower = NULL, \n .     upper = NULL, values = structure(list(`TRUE` = TRUE, `FALSE` = FALSE), .Names = c(\"TRUE\", \n .     \"FALSE\")), cnames = NULL, allow.inf = FALSE, has.default = TRUE, \n .     default = TRUE, trafo = NULL, requires = selected.cpo == \n .         \"impute.mean\", tunable = TRUE, special.vals = list(), \n .     when = \"train\"), .Names = c(\"id\", \"type\", \"len\", \"lower\", \n . \"upper\", \"values\", \"cnames\", \"allow.inf\", \"has.default\", \"default\", \n . \"trafo\", \"requires\", \"tunable\", \"special.vals\", \"when\"), class = c(\"LearnerParam\", \n . \"Param\")), force.dummies = structure(list(id = \"force.dummies\", \n .     type = \"logical\", len = 1L, lower = NULL, upper = NULL, values = structure(list(\n .         `TRUE` = TRUE, `FALSE` = FALSE), .Names = c(\"TRUE\", \"FALSE\"\n .     )), cnames = NULL, allow.inf = FALSE, has.default = TRUE, \n .     default = FALSE, trafo = NULL, requires = selected.cpo == \n .         \"impute.mean\", tunable = TRUE, special.vals = list(), \n .     when = \"train\"), .Names = c(\"id\", \"type\", \"len\", \"lower\", \n . \"upper\", \"values\", \"cnames\", \"allow.inf\", \"has.default\", \"default\", \n . \"trafo\", \"requires\", \"tunable\", \"special.vals\", \"when\"), class = c(\"LearnerParam\", \n . \"Param\")), impute.new.levels = structure(list(id = \"impute.new.levels\", \n .     type = \"logical\", len = 1L, lower = NULL, upper = NULL, values = structure(list(\n .         `TRUE` = TRUE, `FALSE` = FALSE), .Names = c(\"TRUE\", \"FALSE\"\n .     )), cnames = NULL, allow.inf = FALSE, has.default = TRUE, \n .     default = TRUE, trafo = NULL, requires = selected.cpo == \n .         \"impute.mean\", tunable = TRUE, special.vals = list(), \n .     when = \"train\"), .Names = c(\"id\", \"type\", \"len\", \"lower\", \n . \"upper\", \"values\", \"cnames\", \"allow.inf\", \"has.default\", \"default\", \n . \"trafo\", \"requires\", \"tunable\", \"special.vals\", \"when\"), class = c(\"LearnerParam\", \n . \"Param\")), recode.factor.levels = structure(list(id = \"recode.factor.levels\", \n .     type = \"logical\", len = 1L, lower = NULL, upper = NULL, values = structure(list(\n .         `TRUE` = TRUE, `FALSE` = FALSE), .Names = c(\"TRUE\", \"FALSE\"\n .     )), cnames = NULL, allow.inf = FALSE, has.default = TRUE, \n .     default = TRUE, trafo = NULL, requires = selected.cpo == \n .         \"impute.mean\", tunable = TRUE, special.vals = list(), \n .     when = \"train\"), .Names = c(\"id\", \"type\", \"len\", \"lower\", \n . \"upper\", \"values\", \"cnames\", \"allow.inf\", \"has.default\", \"default\", \n . \"trafo\", \"requires\", \"tunable\", \"special.vals\", \"when\"), class = c(\"LearnerParam\", \n . \"Param\"))), .Names = c(\"make.dummy.cols\", \"force.dummies\", \"impute.new.levels\", \n . \"recode.factor.levels\")), forbidden = NULL), .Names = c(\"pars\", \n . \"forbidden\"), class = c(\"LearnerParamSet\", \"ParamSet\")), structure(list(\n .     pars = structure(list(make.dummy.cols = structure(list(id = \"make.dummy.cols\", \n .         type = \"logical\", len = 1L, lower = NULL, upper = NULL, \n .         values = structure(list(`TRUE` = TRUE, `FALSE` = FALSE), .Names = c(\"TRUE\", \n .         \"FALSE\")), cnames = NULL, allow.inf = FALSE, has.default = TRUE, \n .         default = TRUE, trafo = NULL, requires = selected.cpo == \n .             \"impute.median\", tunable = TRUE, special.vals = list(), \n .         when = \"train\"), .Names = c(\"id\", \"type\", \"len\", \"lower\", \n .     \"upper\", \"values\", \"cnames\", \"allow.inf\", \"has.default\", \n .     \"default\", \"trafo\", \"requires\", \"tunable\", \"special.vals\", \n .     \"when\"), class = c(\"LearnerParam\", \"Param\")), force.dummies = structure(list(\n .         id = \"force.dummies\", type = \"logical\", len = 1L, lower = NULL, \n .         upper = NULL, values = structure(list(`TRUE` = TRUE, \n .             `FALSE` = FALSE), .Names = c(\"TRUE\", \"FALSE\")), cnames = NULL, \n .         allow.inf = FALSE, has.default = TRUE, default = FALSE, \n .         trafo = NULL, requires = selected.cpo == \"impute.median\", \n .         tunable = TRUE, special.vals = list(), when = \"train\"), .Names = c(\"id\", \n .     \"type\", \"len\", \"lower\", \"upper\", \"values\", \"cnames\", \"allow.inf\", \n .     \"has.default\", \"default\", \"trafo\", \"requires\", \"tunable\", \n .     \"special.vals\", \"when\"), class = c(\"LearnerParam\", \"Param\"\n .     )), impute.new.levels = structure(list(id = \"impute.new.levels\", \n .         type = \"logical\", len = 1L, lower = NULL, upper = NULL, \n .         values = structure(list(`TRUE` = TRUE, `FALSE` = FALSE), .Names = c(\"TRUE\", \n .         \"FALSE\")), cnames = NULL, allow.inf = FALSE, has.default = TRUE, \n .         default = TRUE, trafo = NULL, requires = selected.cpo == \n .             \"impute.median\", tunable = TRUE, special.vals = list(), \n .         when = \"train\"), .Names = c(\"id\", \"type\", \"len\", \"lower\", \n .     \"upper\", \"values\", \"cnames\", \"allow.inf\", \"has.default\", \n .     \"default\", \"trafo\", \"requires\", \"tunable\", \"special.vals\", \n .     \"when\"), class = c(\"LearnerParam\", \"Param\")), recode.factor.levels = structure(list(\n .         id = \"recode.factor.levels\", type = \"logical\", len = 1L, \n .         lower = NULL, upper = NULL, values = structure(list(`TRUE` = TRUE, \n .             `FALSE` = FALSE), .Names = c(\"TRUE\", \"FALSE\")), cnames = NULL, \n .         allow.inf = FALSE, has.default = TRUE, default = TRUE, \n .         trafo = NULL, requires = selected.cpo == \"impute.median\", \n .         tunable = TRUE, special.vals = list(), when = \"train\"), .Names = c(\"id\", \n .     \"type\", \"len\", \"lower\", \"upper\", \"values\", \"cnames\", \"allow.inf\", \n .     \"has.default\", \"default\", \"trafo\", \"requires\", \"tunable\", \n .     \"special.vals\", \"when\"), class = c(\"LearnerParam\", \"Param\"\n .     ))), .Names = c(\"make.dummy.cols\", \"force.dummies\", \"impute.new.levels\", \n .     \"recode.factor.levels\")), forbidden = NULL), .Names = c(\"pars\", \n . \"forbidden\"), class = c(\"LearnerParamSet\", \"ParamSet\")))",
      "5. do.call(makeParamSet, pars)",
      "6. (function (..., params = NULL, forbidden = NULL, keys = NULL) \n . {\n .     pars = list(...)\n .     if (length(pars) > 0 && !is.null(params)) \n .         stop(\"You can only use one of ... or params!\")\n .     if (!is.null(params)) {\n .         assertList(params, types = \"Param\")\n .         pars = params\n .     }\n .     else {\n .         assertList(pars, types = \"Param\")\n .     }\n .     ns = extractSubList(pars, \"id\")\n .     if (anyDuplicated(ns)) \n .         stop(\"All parameters must have unique names!\")\n .     names(pars) = ns\n .     par.set = makeS3Obj(\"ParamSet\", pars = pars, forbidden = forbidden)\n .     if (length(pars) > 0L) {\n .         if (all(vlapply(pars, inherits, what = \"LearnerParam\"))) {\n .             par.set = addClasses(par.set, classes = \"LearnerParamSet\")\n .             keys = union(keys, c(\"task\", \"n\", \"p\", \"k\", \"type\"))\n .         }\n .         if (!is.null(keys) && (hasExpression(par.set))) \n .             checkExpressionFeasibility(par.set = par.set, keys = keys)\n .     }\n .     return(par.set)\n . })(structure(list(id = \"make.dummy.cols\", type = \"logical\", len = 1L, \n .     lower = NULL, upper = NULL, values = structure(list(`TRUE` = TRUE, \n .         `FALSE` = FALSE), .Names = c(\"TRUE\", \"FALSE\")), cnames = NULL, \n .     allow.inf = FALSE, has.default = TRUE, default = TRUE, trafo = NULL, \n .     requires = selected.cpo == \"impute.mean\", tunable = TRUE, \n .     special.vals = list(), when = \"train\"), .Names = c(\"id\", \n . \"type\", \"len\", \"lower\", \"upper\", \"values\", \"cnames\", \"allow.inf\", \n . \"has.default\", \"default\", \"trafo\", \"requires\", \"tunable\", \"special.vals\", \n . \"when\"), class = c(\"LearnerParam\", \"Param\")), structure(list(\n .     id = \"force.dummies\", type = \"logical\", len = 1L, lower = NULL, \n .     upper = NULL, values = structure(list(`TRUE` = TRUE, `FALSE` = FALSE), .Names = c(\"TRUE\", \n .     \"FALSE\")), cnames = NULL, allow.inf = FALSE, has.default = TRUE, \n .     default = FALSE, trafo = NULL, requires = selected.cpo == \n .         \"impute.mean\", tunable = TRUE, special.vals = list(), \n .     when = \"train\"), .Names = c(\"id\", \"type\", \"len\", \"lower\", \n . \"upper\", \"values\", \"cnames\", \"allow.inf\", \"has.default\", \"default\", \n . \"trafo\", \"requires\", \"tunable\", \"special.vals\", \"when\"), class = c(\"LearnerParam\", \n . \"Param\")), structure(list(id = \"impute.new.levels\", type = \"logical\", \n .     len = 1L, lower = NULL, upper = NULL, values = structure(list(\n .         `TRUE` = TRUE, `FALSE` = FALSE), .Names = c(\"TRUE\", \"FALSE\"\n .     )), cnames = NULL, allow.inf = FALSE, has.default = TRUE, \n .     default = TRUE, trafo = NULL, requires = selected.cpo == \n .         \"impute.mean\", tunable = TRUE, special.vals = list(), \n .     when = \"train\"), .Names = c(\"id\", \"type\", \"len\", \"lower\", \n . \"upper\", \"values\", \"cnames\", \"allow.inf\", \"has.default\", \"default\", \n . \"trafo\", \"requires\", \"tunable\", \"special.vals\", \"when\"), class = c(\"LearnerParam\", \n . \"Param\")), structure(list(id = \"recode.factor.levels\", type = \"logical\", \n .     len = 1L, lower = NULL, upper = NULL, values = structure(list(\n .         `TRUE` = TRUE, `FALSE` = FALSE), .Names = c(\"TRUE\", \"FALSE\"\n .     )), cnames = NULL, allow.inf = FALSE, has.default = TRUE, \n .     default = TRUE, trafo = NULL, requires = selected.cpo == \n .         \"impute.mean\", tunable = TRUE, special.vals = list(), \n .     when = \"train\"), .Names = c(\"id\", \"type\", \"len\", \"lower\", \n . \"upper\", \"values\", \"cnames\", \"allow.inf\", \"has.default\", \"default\", \n . \"trafo\", \"requires\", \"tunable\", \"special.vals\", \"when\"), class = c(\"LearnerParam\", \n . \"Param\")), structure(list(id = \"make.dummy.cols\", type = \"logical\", \n .     len = 1L, lower = NULL, upper = NULL, values = structure(list(\n .         `TRUE` = TRUE, `FALSE` = FALSE), .Names = c(\"TRUE\", \"FALSE\"\n .     )), cnames = NULL, allow.inf = FALSE, has.default = TRUE, \n .     default = TRUE, trafo = NULL, requires = selected.cpo == \n .         \"impute.median\", tunable = TRUE, special.vals = list(), \n .     when = \"train\"), .Names = c(\"id\", \"type\", \"len\", \"lower\", \n . \"upper\", \"values\", \"cnames\", \"allow.inf\", \"has.default\", \"default\", \n . \"trafo\", \"requires\", \"tunable\", \"special.vals\", \"when\"), class = c(\"LearnerParam\", \n . \"Param\")), structure(list(id = \"force.dummies\", type = \"logical\", \n .     len = 1L, lower = NULL, upper = NULL, values = structure(list(\n .         `TRUE` = TRUE, `FALSE` = FALSE), .Names = c(\"TRUE\", \"FALSE\"\n .     )), cnames = NULL, allow.inf = FALSE, has.default = TRUE, \n .     default = FALSE, trafo = NULL, requires = selected.cpo == \n .         \"impute.median\", tunable = TRUE, special.vals = list(), \n .     when = \"train\"), .Names = c(\"id\", \"type\", \"len\", \"lower\", \n . \"upper\", \"values\", \"cnames\", \"allow.inf\", \"has.default\", \"default\", \n . \"trafo\", \"requires\", \"tunable\", \"special.vals\", \"when\"), class = c(\"LearnerParam\", \n . \"Param\")), structure(list(id = \"impute.new.levels\", type = \"logical\", \n .     len = 1L, lower = NULL, upper = NULL, values = structure(list(\n .         `TRUE` = TRUE, `FALSE` = FALSE), .Names = c(\"TRUE\", \"FALSE\"\n .     )), cnames = NULL, allow.inf = FALSE, has.default = TRUE, \n .     default = TRUE, trafo = NULL, requires = selected.cpo == \n .         \"impute.median\", tunable = TRUE, special.vals = list(), \n .     when = \"train\"), .Names = c(\"id\", \"type\", \"len\", \"lower\", \n . \"upper\", \"values\", \"cnames\", \"allow.inf\", \"has.default\", \"default\", \n . \"trafo\", \"requires\", \"tunable\", \"special.vals\", \"when\"), class = c(\"LearnerParam\", \n . \"Param\")), structure(list(id = \"recode.factor.levels\", type = \"logical\", \n .     len = 1L, lower = NULL, upper = NULL, values = structure(list(\n .         `TRUE` = TRUE, `FALSE` = FALSE), .Names = c(\"TRUE\", \"FALSE\"\n .     )), cnames = NULL, allow.inf = FALSE, has.default = TRUE, \n .     default = TRUE, trafo = NULL, requires = selected.cpo == \n .         \"impute.median\", tunable = TRUE, special.vals = list(), \n .     when = \"train\"), .Names = c(\"id\", \"type\", \"len\", \"lower\", \n . \"upper\", \"values\", \"cnames\", \"allow.inf\", \"has.default\", \"default\", \n . \"trafo\", \"requires\", \"tunable\", \"special.vals\", \"when\"), class = c(\"LearnerParam\", \n . \"Param\")))",
      "7. stop(\"All parameters must have unique names!\")"
     ]
    }
   ],
   "source": [
    "mm = cpoMultiplex(cpos = list(cpoImputeMean(),  cpoImputeMedian()))"
   ]
  },
  {
   "cell_type": "code",
   "execution_count": 67,
   "metadata": {
    "collapsed": false
   },
   "outputs": [
    {
     "data": {
      "text/plain": [
       "impute.mean(make.dummy.cols = TRUE, force.dummies = FALSE, impute.new.levels = TRUE, recode.factor.levels = TRUE)"
      ]
     },
     "metadata": {},
     "output_type": "display_data"
    }
   ],
   "source": [
    "cpoImputeMean()"
   ]
  },
  {
   "cell_type": "code",
   "execution_count": 54,
   "metadata": {
    "collapsed": false
   },
   "outputs": [
    {
     "name": "stderr",
     "output_type": "stream",
     "text": [
      "[Tune] Started tuning learner classif.rpart.multiplex for parameter set:\n",
      "                 Type len Def      Constr Req Tunable Trafo\n",
      "selected.cpo discrete   -   - mean,median   -    TRUE     -\n",
      "With control class: TuneControlGrid\n",
      "Imputation value: 1\n",
      "[Tune-x] Setting hyperpars failed: Error in setHyperPars2.Learner(learner, par.vals = par.vals[i]) : \n",
      "  mean is not feasible for parameter 'selected.cpo'!\n",
      "\n",
      "[Tune-x] 1: selected.cpo=mean\n",
      "[Tune-y] 1: mmce.test.mean=  NA; time: 0.0 min\n",
      "[Tune-x] 2: selected.cpo=median\n",
      "[Tune-y] 2: mmce.test.mean=0.06; time: 0.0 min\n",
      "[Tune] Result: selected.cpo=median : mmce.test.mean=0.06\n"
     ]
    }
   ],
   "source": [
    "tp = tuneParams(mm %>>% makeLearner(\"classif.rpart\"), dft, hout, control = tc, par.set = ps)"
   ]
  },
  {
   "cell_type": "code",
   "execution_count": 50,
   "metadata": {
    "collapsed": false
   },
   "outputs": [
    {
     "data": {
      "text/html": [
       "<table>\n",
       "<thead><tr><th scope=col>selected.cpo</th><th scope=col>mmce.test.mean</th><th scope=col>dob</th><th scope=col>eol</th><th scope=col>error.message</th><th scope=col>exec.time</th></tr></thead>\n",
       "<tbody>\n",
       "\t<tr><td>mean  </td><td>0.08  </td><td>1     </td><td>NA    </td><td>NA    </td><td>0.074 </td></tr>\n",
       "\t<tr><td>median</td><td>0.08  </td><td>2     </td><td>NA    </td><td>NA    </td><td>0.072 </td></tr>\n",
       "</tbody>\n",
       "</table>\n"
      ],
      "text/latex": [
       "\\begin{tabular}{r|llllll}\n",
       " selected.cpo & mmce.test.mean & dob & eol & error.message & exec.time\\\\\n",
       "\\hline\n",
       "\t mean   & 0.08   & 1      & NA     & NA     & 0.074 \\\\\n",
       "\t median & 0.08   & 2      & NA     & NA     & 0.072 \\\\\n",
       "\\end{tabular}\n"
      ],
      "text/markdown": [
       "\n",
       "selected.cpo | mmce.test.mean | dob | eol | error.message | exec.time | \n",
       "|---|---|\n",
       "| mean   | 0.08   | 1      | NA     | NA     | 0.074  | \n",
       "| median | 0.08   | 2      | NA     | NA     | 0.072  | \n",
       "\n",
       "\n"
      ],
      "text/plain": [
       "  selected.cpo mmce.test.mean dob eol error.message exec.time\n",
       "1 mean         0.08           1   NA  NA            0.074    \n",
       "2 median       0.08           2   NA  NA            0.072    "
      ]
     },
     "metadata": {},
     "output_type": "display_data"
    }
   ],
   "source": [
    "as.data.frame(tp$opt.path)"
   ]
  },
  {
   "cell_type": "code",
   "execution_count": 53,
   "metadata": {
    "collapsed": false
   },
   "outputs": [
    {
     "data": {
      "text/plain": [
       "Retrafo chain of 1 elements:\n",
       "multiplex(selected.cpo = mean, mean.make.dummy.cols = TRUE, mean.force.dummies = FALSE, mean.impute.new.levels = TRUE, mean.recode.factor.levels = TRUE, median.make.dummy.cols = TRUE, median.force.dummies = FALSE, median.impute.new.levels = TRUE, median.recode.factor.levels = TRUE)\n",
       "\n",
       "                                Type len   Def      Constr Req Tunable Trafo\n",
       "selected.cpo                discrete   -  mean mean,median   -    TRUE     -\n",
       "mean.make.dummy.cols         logical   -  TRUE           -   Y    TRUE     -\n",
       "mean.force.dummies           logical   - FALSE           -   Y    TRUE     -\n",
       "mean.impute.new.levels       logical   -  TRUE           -   Y    TRUE     -\n",
       "mean.recode.factor.levels    logical   -  TRUE           -   Y    TRUE     -\n",
       "median.make.dummy.cols       logical   -  TRUE           -   Y    TRUE     -\n",
       "median.force.dummies         logical   - FALSE           -   Y    TRUE     -\n",
       "median.impute.new.levels     logical   -  TRUE           -   Y    TRUE     -\n",
       "median.recode.factor.levels  logical   -  TRUE           -   Y    TRUE     -"
      ]
     },
     "metadata": {},
     "output_type": "display_data"
    }
   ],
   "source": [
    "summary(mm)"
   ]
  },
  {
   "cell_type": "code",
   "execution_count": 71,
   "metadata": {
    "collapsed": false
   },
   "outputs": [
    {
     "name": "stderr",
     "output_type": "stream",
     "text": [
      "[Tune] Started tuning learner classif.rpart.apply for parameter set:\n",
      "        Type len Def      Constr Req Tunable Trafo\n",
      "cpo discrete   -   - mean,median   -    TRUE     -\n",
      "With control class: TuneControlGrid\n",
      "Imputation value: 1\n",
      "[Tune-x] 1: cpo=mean\n",
      "[Tune-y] 1: mmce.test.mean=0.02; time: 0.0 min\n",
      "[Tune-x] 2: cpo=median\n",
      "[Tune-y] 2: mmce.test.mean=0.02; time: 0.0 min\n",
      "[Tune] Result: cpo=mean : mmce.test.mean=0.02\n"
     ]
    }
   ],
   "source": [
    "ps = makeParamSet(makeDiscreteParam(\"cpo\", list(mean = cpoImputeMean(FALSE), median = cpoImputeMedian(FALSE))))\n",
    "\n",
    "tp = tuneParams(cpoApply() %>>% makeLearner(\"classif.rpart\"), dft, hout, control = tc, par.set = ps)"
   ]
  },
  {
   "cell_type": "code",
   "execution_count": 79,
   "metadata": {
    "collapsed": false
   },
   "outputs": [
    {
     "data": {
      "text/html": [
       "<table>\n",
       "<thead><tr><th scope=col>Sepal.Length</th><th scope=col>Sepal.Width</th><th scope=col>Petal.Length</th><th scope=col>Petal.Width</th><th scope=col>Sepal.Length.dummy</th><th scope=col>Sepal.Width.dummy</th><th scope=col>Petal.Length.dummy</th><th scope=col>Species</th></tr></thead>\n",
       "<tbody>\n",
       "\t<tr><td>5.848322</td><td>3.500000</td><td>1.400000</td><td>0.2     </td><td>TRUE    </td><td>FALSE   </td><td>FALSE   </td><td>setosa  </td></tr>\n",
       "\t<tr><td>4.900000</td><td>3.000000</td><td>1.400000</td><td>0.2     </td><td>FALSE   </td><td>FALSE   </td><td>FALSE   </td><td>setosa  </td></tr>\n",
       "\t<tr><td>4.700000</td><td>3.200000</td><td>1.300000</td><td>0.2     </td><td>FALSE   </td><td>FALSE   </td><td>FALSE   </td><td>setosa  </td></tr>\n",
       "\t<tr><td>4.600000</td><td>3.100000</td><td>1.500000</td><td>0.2     </td><td>FALSE   </td><td>FALSE   </td><td>FALSE   </td><td>setosa  </td></tr>\n",
       "\t<tr><td>5.000000</td><td>3.053691</td><td>1.400000</td><td>0.2     </td><td>FALSE   </td><td>TRUE    </td><td>FALSE   </td><td>setosa  </td></tr>\n",
       "\t<tr><td>5.400000</td><td>3.900000</td><td>1.700000</td><td>0.4     </td><td>FALSE   </td><td>FALSE   </td><td>FALSE   </td><td>setosa  </td></tr>\n",
       "\t<tr><td>4.600000</td><td>3.400000</td><td>1.400000</td><td>0.3     </td><td>FALSE   </td><td>FALSE   </td><td>FALSE   </td><td>setosa  </td></tr>\n",
       "\t<tr><td>5.000000</td><td>3.400000</td><td>1.500000</td><td>0.2     </td><td>FALSE   </td><td>FALSE   </td><td>FALSE   </td><td>setosa  </td></tr>\n",
       "\t<tr><td>4.400000</td><td>2.900000</td><td>1.400000</td><td>0.2     </td><td>FALSE   </td><td>FALSE   </td><td>FALSE   </td><td>setosa  </td></tr>\n",
       "\t<tr><td>4.900000</td><td>3.100000</td><td>3.773154</td><td>0.1     </td><td>FALSE   </td><td>FALSE   </td><td>TRUE    </td><td>setosa  </td></tr>\n",
       "</tbody>\n",
       "</table>\n"
      ],
      "text/latex": [
       "\\begin{tabular}{r|llllllll}\n",
       " Sepal.Length & Sepal.Width & Petal.Length & Petal.Width & Sepal.Length.dummy & Sepal.Width.dummy & Petal.Length.dummy & Species\\\\\n",
       "\\hline\n",
       "\t 5.848322 & 3.500000 & 1.400000 & 0.2      & TRUE     & FALSE    & FALSE    & setosa  \\\\\n",
       "\t 4.900000 & 3.000000 & 1.400000 & 0.2      & FALSE    & FALSE    & FALSE    & setosa  \\\\\n",
       "\t 4.700000 & 3.200000 & 1.300000 & 0.2      & FALSE    & FALSE    & FALSE    & setosa  \\\\\n",
       "\t 4.600000 & 3.100000 & 1.500000 & 0.2      & FALSE    & FALSE    & FALSE    & setosa  \\\\\n",
       "\t 5.000000 & 3.053691 & 1.400000 & 0.2      & FALSE    & TRUE     & FALSE    & setosa  \\\\\n",
       "\t 5.400000 & 3.900000 & 1.700000 & 0.4      & FALSE    & FALSE    & FALSE    & setosa  \\\\\n",
       "\t 4.600000 & 3.400000 & 1.400000 & 0.3      & FALSE    & FALSE    & FALSE    & setosa  \\\\\n",
       "\t 5.000000 & 3.400000 & 1.500000 & 0.2      & FALSE    & FALSE    & FALSE    & setosa  \\\\\n",
       "\t 4.400000 & 2.900000 & 1.400000 & 0.2      & FALSE    & FALSE    & FALSE    & setosa  \\\\\n",
       "\t 4.900000 & 3.100000 & 3.773154 & 0.1      & FALSE    & FALSE    & TRUE     & setosa  \\\\\n",
       "\\end{tabular}\n"
      ],
      "text/markdown": [
       "\n",
       "Sepal.Length | Sepal.Width | Petal.Length | Petal.Width | Sepal.Length.dummy | Sepal.Width.dummy | Petal.Length.dummy | Species | \n",
       "|---|---|---|---|---|---|---|---|---|---|\n",
       "| 5.848322 | 3.500000 | 1.400000 | 0.2      | TRUE     | FALSE    | FALSE    | setosa   | \n",
       "| 4.900000 | 3.000000 | 1.400000 | 0.2      | FALSE    | FALSE    | FALSE    | setosa   | \n",
       "| 4.700000 | 3.200000 | 1.300000 | 0.2      | FALSE    | FALSE    | FALSE    | setosa   | \n",
       "| 4.600000 | 3.100000 | 1.500000 | 0.2      | FALSE    | FALSE    | FALSE    | setosa   | \n",
       "| 5.000000 | 3.053691 | 1.400000 | 0.2      | FALSE    | TRUE     | FALSE    | setosa   | \n",
       "| 5.400000 | 3.900000 | 1.700000 | 0.4      | FALSE    | FALSE    | FALSE    | setosa   | \n",
       "| 4.600000 | 3.400000 | 1.400000 | 0.3      | FALSE    | FALSE    | FALSE    | setosa   | \n",
       "| 5.000000 | 3.400000 | 1.500000 | 0.2      | FALSE    | FALSE    | FALSE    | setosa   | \n",
       "| 4.400000 | 2.900000 | 1.400000 | 0.2      | FALSE    | FALSE    | FALSE    | setosa   | \n",
       "| 4.900000 | 3.100000 | 3.773154 | 0.1      | FALSE    | FALSE    | TRUE     | setosa   | \n",
       "\n",
       "\n"
      ],
      "text/plain": [
       "   Sepal.Length Sepal.Width Petal.Length Petal.Width Sepal.Length.dummy\n",
       "1  5.848322     3.500000    1.400000     0.2         TRUE              \n",
       "2  4.900000     3.000000    1.400000     0.2         FALSE             \n",
       "3  4.700000     3.200000    1.300000     0.2         FALSE             \n",
       "4  4.600000     3.100000    1.500000     0.2         FALSE             \n",
       "5  5.000000     3.053691    1.400000     0.2         FALSE             \n",
       "6  5.400000     3.900000    1.700000     0.4         FALSE             \n",
       "7  4.600000     3.400000    1.400000     0.3         FALSE             \n",
       "8  5.000000     3.400000    1.500000     0.2         FALSE             \n",
       "9  4.400000     2.900000    1.400000     0.2         FALSE             \n",
       "10 4.900000     3.100000    3.773154     0.1         FALSE             \n",
       "   Sepal.Width.dummy Petal.Length.dummy Species\n",
       "1  FALSE             FALSE              setosa \n",
       "2  FALSE             FALSE              setosa \n",
       "3  FALSE             FALSE              setosa \n",
       "4  FALSE             FALSE              setosa \n",
       "5  TRUE              FALSE              setosa \n",
       "6  FALSE             FALSE              setosa \n",
       "7  FALSE             FALSE              setosa \n",
       "8  FALSE             FALSE              setosa \n",
       "9  FALSE             FALSE              setosa \n",
       "10 FALSE             TRUE               setosa "
      ]
     },
     "metadata": {},
     "output_type": "display_data"
    }
   ],
   "source": [
    "head(getTaskData(dft %>>% cpoImputeMean(TRUE)), 10)"
   ]
  },
  {
   "cell_type": "code",
   "execution_count": null,
   "metadata": {
    "collapsed": true
   },
   "outputs": [],
   "source": []
  }
 ],
 "metadata": {
  "kernelspec": {
   "display_name": "R",
   "language": "R",
   "name": "ir"
  },
  "language_info": {
   "codemirror_mode": "r",
   "file_extension": ".r",
   "mimetype": "text/x-r-source",
   "name": "R",
   "pygments_lexer": "r",
   "version": "3.3.3"
  }
 },
 "nbformat": 4,
 "nbformat_minor": 0
}
